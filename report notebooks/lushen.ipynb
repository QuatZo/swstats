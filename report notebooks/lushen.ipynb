{
 "cells": [
  {
   "cell_type": "markdown",
   "metadata": {},
   "source": [
    "# Setting Up"
   ]
  },
  {
   "cell_type": "code",
   "execution_count": 1,
   "metadata": {
    "scrolled": false
   },
   "outputs": [
    {
     "name": "stdout",
     "output_type": "stream",
     "text": [
      "Index(['Monster', 'Level', 'Type', 'Stars', 'HP', 'Attack', 'Defense', 'Speed',\n",
      "       'Resistance', 'Accuracy', 'Crit Rate', 'Crit Dmg', 'Avg Eff', 'Eff. HP',\n",
      "       'Eff. HP D-B', 'Sets', 'Skilled Up', 'Acquired', 'Locked',\n",
      "       'Transmogrified', 'HoH', 'HoH Date', 'Fusion', 'Rune #1', 'Rune #2',\n",
      "       'Rune #3', 'Rune #4', 'Rune #5', 'Rune #6', 'Damage'],\n",
      "      dtype='object')\n"
     ]
    },
    {
     "data": {
      "text/html": [
       "<div>\n",
       "<style scoped>\n",
       "    .dataframe tbody tr th:only-of-type {\n",
       "        vertical-align: middle;\n",
       "    }\n",
       "\n",
       "    .dataframe tbody tr th {\n",
       "        vertical-align: top;\n",
       "    }\n",
       "\n",
       "    .dataframe thead th {\n",
       "        text-align: right;\n",
       "    }\n",
       "</style>\n",
       "<table border=\"1\" class=\"dataframe\">\n",
       "  <thead>\n",
       "    <tr style=\"text-align: right;\">\n",
       "      <th></th>\n",
       "      <th>Monster</th>\n",
       "      <th>Level</th>\n",
       "      <th>Type</th>\n",
       "      <th>Stars</th>\n",
       "      <th>HP</th>\n",
       "      <th>Attack</th>\n",
       "      <th>Defense</th>\n",
       "      <th>Speed</th>\n",
       "      <th>Resistance</th>\n",
       "      <th>Accuracy</th>\n",
       "      <th>...</th>\n",
       "      <th>HoH</th>\n",
       "      <th>HoH Date</th>\n",
       "      <th>Fusion</th>\n",
       "      <th>Rune #1</th>\n",
       "      <th>Rune #2</th>\n",
       "      <th>Rune #3</th>\n",
       "      <th>Rune #4</th>\n",
       "      <th>Rune #5</th>\n",
       "      <th>Rune #6</th>\n",
       "      <th>Damage</th>\n",
       "    </tr>\n",
       "    <tr>\n",
       "      <th>ID</th>\n",
       "      <th></th>\n",
       "      <th></th>\n",
       "      <th></th>\n",
       "      <th></th>\n",
       "      <th></th>\n",
       "      <th></th>\n",
       "      <th></th>\n",
       "      <th></th>\n",
       "      <th></th>\n",
       "      <th></th>\n",
       "      <th></th>\n",
       "      <th></th>\n",
       "      <th></th>\n",
       "      <th></th>\n",
       "      <th></th>\n",
       "      <th></th>\n",
       "      <th></th>\n",
       "      <th></th>\n",
       "      <th></th>\n",
       "      <th></th>\n",
       "      <th></th>\n",
       "    </tr>\n",
       "  </thead>\n",
       "  <tbody>\n",
       "    <tr>\n",
       "      <th>804139077</th>\n",
       "      <td>Lushen</td>\n",
       "      <td>40</td>\n",
       "      <td>Attack</td>\n",
       "      <td>6</td>\n",
       "      <td>13460</td>\n",
       "      <td>3008</td>\n",
       "      <td>760</td>\n",
       "      <td>136</td>\n",
       "      <td>15</td>\n",
       "      <td>15</td>\n",
       "      <td>...</td>\n",
       "      <td>False</td>\n",
       "      <td>NaN</td>\n",
       "      <td>False</td>\n",
       "      <td>ATK+</td>\n",
       "      <td>ATK%</td>\n",
       "      <td>DEF+</td>\n",
       "      <td>CDmg%</td>\n",
       "      <td>HP+</td>\n",
       "      <td>ATK%</td>\n",
       "      <td>12297.612105</td>\n",
       "    </tr>\n",
       "    <tr>\n",
       "      <th>11901784322</th>\n",
       "      <td>Lushen</td>\n",
       "      <td>40</td>\n",
       "      <td>Attack</td>\n",
       "      <td>6</td>\n",
       "      <td>19010</td>\n",
       "      <td>3038</td>\n",
       "      <td>645</td>\n",
       "      <td>124</td>\n",
       "      <td>20</td>\n",
       "      <td>0</td>\n",
       "      <td>...</td>\n",
       "      <td>False</td>\n",
       "      <td>NaN</td>\n",
       "      <td>False</td>\n",
       "      <td>ATK+</td>\n",
       "      <td>ATK%</td>\n",
       "      <td>DEF+</td>\n",
       "      <td>CDmg%</td>\n",
       "      <td>HP+</td>\n",
       "      <td>ATK%</td>\n",
       "      <td>12283.400553</td>\n",
       "    </tr>\n",
       "    <tr>\n",
       "      <th>1956753745</th>\n",
       "      <td>Lushen</td>\n",
       "      <td>40</td>\n",
       "      <td>Attack</td>\n",
       "      <td>6</td>\n",
       "      <td>13685</td>\n",
       "      <td>2858</td>\n",
       "      <td>662</td>\n",
       "      <td>151</td>\n",
       "      <td>22</td>\n",
       "      <td>19</td>\n",
       "      <td>...</td>\n",
       "      <td>False</td>\n",
       "      <td>NaN</td>\n",
       "      <td>False</td>\n",
       "      <td>ATK+</td>\n",
       "      <td>ATK%</td>\n",
       "      <td>DEF+</td>\n",
       "      <td>CDmg%</td>\n",
       "      <td>HP+</td>\n",
       "      <td>ATK%</td>\n",
       "      <td>11918.839579</td>\n",
       "    </tr>\n",
       "    <tr>\n",
       "      <th>9493396292</th>\n",
       "      <td>Lushen</td>\n",
       "      <td>40</td>\n",
       "      <td>Attack</td>\n",
       "      <td>6</td>\n",
       "      <td>15640</td>\n",
       "      <td>2813</td>\n",
       "      <td>686</td>\n",
       "      <td>139</td>\n",
       "      <td>15</td>\n",
       "      <td>5</td>\n",
       "      <td>...</td>\n",
       "      <td>False</td>\n",
       "      <td>NaN</td>\n",
       "      <td>False</td>\n",
       "      <td>ATK+</td>\n",
       "      <td>ATK%</td>\n",
       "      <td>DEF+</td>\n",
       "      <td>CDmg%</td>\n",
       "      <td>HP+</td>\n",
       "      <td>ATK%</td>\n",
       "      <td>11903.242347</td>\n",
       "    </tr>\n",
       "    <tr>\n",
       "      <th>5406514872</th>\n",
       "      <td>Lushen</td>\n",
       "      <td>40</td>\n",
       "      <td>Attack</td>\n",
       "      <td>6</td>\n",
       "      <td>13617</td>\n",
       "      <td>2997</td>\n",
       "      <td>629</td>\n",
       "      <td>140</td>\n",
       "      <td>15</td>\n",
       "      <td>10</td>\n",
       "      <td>...</td>\n",
       "      <td>False</td>\n",
       "      <td>NaN</td>\n",
       "      <td>False</td>\n",
       "      <td>ATK+</td>\n",
       "      <td>ATK%</td>\n",
       "      <td>DEF+</td>\n",
       "      <td>CDmg%</td>\n",
       "      <td>HP+</td>\n",
       "      <td>ATK%</td>\n",
       "      <td>11896.152632</td>\n",
       "    </tr>\n",
       "    <tr>\n",
       "      <th>...</th>\n",
       "      <td>...</td>\n",
       "      <td>...</td>\n",
       "      <td>...</td>\n",
       "      <td>...</td>\n",
       "      <td>...</td>\n",
       "      <td>...</td>\n",
       "      <td>...</td>\n",
       "      <td>...</td>\n",
       "      <td>...</td>\n",
       "      <td>...</td>\n",
       "      <td>...</td>\n",
       "      <td>...</td>\n",
       "      <td>...</td>\n",
       "      <td>...</td>\n",
       "      <td>...</td>\n",
       "      <td>...</td>\n",
       "      <td>...</td>\n",
       "      <td>...</td>\n",
       "      <td>...</td>\n",
       "      <td>...</td>\n",
       "      <td>...</td>\n",
       "    </tr>\n",
       "    <tr>\n",
       "      <th>15004361422</th>\n",
       "      <td>Lushen</td>\n",
       "      <td>1</td>\n",
       "      <td>Attack</td>\n",
       "      <td>5</td>\n",
       "      <td>4521</td>\n",
       "      <td>453</td>\n",
       "      <td>372</td>\n",
       "      <td>119</td>\n",
       "      <td>27</td>\n",
       "      <td>10</td>\n",
       "      <td>...</td>\n",
       "      <td>False</td>\n",
       "      <td>NaN</td>\n",
       "      <td>False</td>\n",
       "      <td>NaN</td>\n",
       "      <td>NaN</td>\n",
       "      <td>DEF+</td>\n",
       "      <td>CDmg%</td>\n",
       "      <td>NaN</td>\n",
       "      <td>ATK%</td>\n",
       "      <td>1270.163053</td>\n",
       "    </tr>\n",
       "    <tr>\n",
       "      <th>8918952792</th>\n",
       "      <td>Lushen</td>\n",
       "      <td>32</td>\n",
       "      <td>Attack</td>\n",
       "      <td>5</td>\n",
       "      <td>6465</td>\n",
       "      <td>632</td>\n",
       "      <td>324</td>\n",
       "      <td>103</td>\n",
       "      <td>15</td>\n",
       "      <td>0</td>\n",
       "      <td>...</td>\n",
       "      <td>False</td>\n",
       "      <td>NaN</td>\n",
       "      <td>False</td>\n",
       "      <td>NaN</td>\n",
       "      <td>NaN</td>\n",
       "      <td>NaN</td>\n",
       "      <td>NaN</td>\n",
       "      <td>NaN</td>\n",
       "      <td>NaN</td>\n",
       "      <td>1265.079605</td>\n",
       "    </tr>\n",
       "    <tr>\n",
       "      <th>15089497131</th>\n",
       "      <td>Lushen</td>\n",
       "      <td>30</td>\n",
       "      <td>Attack</td>\n",
       "      <td>4</td>\n",
       "      <td>4995</td>\n",
       "      <td>487</td>\n",
       "      <td>250</td>\n",
       "      <td>103</td>\n",
       "      <td>15</td>\n",
       "      <td>0</td>\n",
       "      <td>...</td>\n",
       "      <td>False</td>\n",
       "      <td>NaN</td>\n",
       "      <td>False</td>\n",
       "      <td>NaN</td>\n",
       "      <td>NaN</td>\n",
       "      <td>NaN</td>\n",
       "      <td>NaN</td>\n",
       "      <td>NaN</td>\n",
       "      <td>NaN</td>\n",
       "      <td>1081.826316</td>\n",
       "    </tr>\n",
       "    <tr>\n",
       "      <th>15115641120</th>\n",
       "      <td>Lushen</td>\n",
       "      <td>28</td>\n",
       "      <td>Attack</td>\n",
       "      <td>4</td>\n",
       "      <td>4815</td>\n",
       "      <td>470</td>\n",
       "      <td>241</td>\n",
       "      <td>103</td>\n",
       "      <td>15</td>\n",
       "      <td>0</td>\n",
       "      <td>...</td>\n",
       "      <td>False</td>\n",
       "      <td>NaN</td>\n",
       "      <td>False</td>\n",
       "      <td>NaN</td>\n",
       "      <td>NaN</td>\n",
       "      <td>NaN</td>\n",
       "      <td>NaN</td>\n",
       "      <td>NaN</td>\n",
       "      <td>NaN</td>\n",
       "      <td>1060.341447</td>\n",
       "    </tr>\n",
       "    <tr>\n",
       "      <th>12938764477</th>\n",
       "      <td>Lushen</td>\n",
       "      <td>13</td>\n",
       "      <td>Attack</td>\n",
       "      <td>4</td>\n",
       "      <td>3660</td>\n",
       "      <td>357</td>\n",
       "      <td>183</td>\n",
       "      <td>103</td>\n",
       "      <td>15</td>\n",
       "      <td>0</td>\n",
       "      <td>...</td>\n",
       "      <td>False</td>\n",
       "      <td>NaN</td>\n",
       "      <td>False</td>\n",
       "      <td>NaN</td>\n",
       "      <td>NaN</td>\n",
       "      <td>NaN</td>\n",
       "      <td>NaN</td>\n",
       "      <td>NaN</td>\n",
       "      <td>NaN</td>\n",
       "      <td>917.530263</td>\n",
       "    </tr>\n",
       "  </tbody>\n",
       "</table>\n",
       "<p>467 rows × 30 columns</p>\n",
       "</div>"
      ],
      "text/plain": [
       "            Monster  Level    Type  Stars     HP  Attack  Defense  Speed  \\\n",
       "ID                                                                         \n",
       "804139077    Lushen     40  Attack      6  13460    3008      760    136   \n",
       "11901784322  Lushen     40  Attack      6  19010    3038      645    124   \n",
       "1956753745   Lushen     40  Attack      6  13685    2858      662    151   \n",
       "9493396292   Lushen     40  Attack      6  15640    2813      686    139   \n",
       "5406514872   Lushen     40  Attack      6  13617    2997      629    140   \n",
       "...             ...    ...     ...    ...    ...     ...      ...    ...   \n",
       "15004361422  Lushen      1  Attack      5   4521     453      372    119   \n",
       "8918952792   Lushen     32  Attack      5   6465     632      324    103   \n",
       "15089497131  Lushen     30  Attack      4   4995     487      250    103   \n",
       "15115641120  Lushen     28  Attack      4   4815     470      241    103   \n",
       "12938764477  Lushen     13  Attack      4   3660     357      183    103   \n",
       "\n",
       "             Resistance  Accuracy  ...    HoH  HoH Date  Fusion  Rune #1  \\\n",
       "ID                                 ...                                     \n",
       "804139077            15        15  ...  False       NaN   False     ATK+   \n",
       "11901784322          20         0  ...  False       NaN   False     ATK+   \n",
       "1956753745           22        19  ...  False       NaN   False     ATK+   \n",
       "9493396292           15         5  ...  False       NaN   False     ATK+   \n",
       "5406514872           15        10  ...  False       NaN   False     ATK+   \n",
       "...                 ...       ...  ...    ...       ...     ...      ...   \n",
       "15004361422          27        10  ...  False       NaN   False      NaN   \n",
       "8918952792           15         0  ...  False       NaN   False      NaN   \n",
       "15089497131          15         0  ...  False       NaN   False      NaN   \n",
       "15115641120          15         0  ...  False       NaN   False      NaN   \n",
       "12938764477          15         0  ...  False       NaN   False      NaN   \n",
       "\n",
       "             Rune #2 Rune #3  Rune #4 Rune #5  Rune #6        Damage  \n",
       "ID                                                                    \n",
       "804139077       ATK%    DEF+    CDmg%     HP+     ATK%  12297.612105  \n",
       "11901784322     ATK%    DEF+    CDmg%     HP+     ATK%  12283.400553  \n",
       "1956753745      ATK%    DEF+    CDmg%     HP+     ATK%  11918.839579  \n",
       "9493396292      ATK%    DEF+    CDmg%     HP+     ATK%  11903.242347  \n",
       "5406514872      ATK%    DEF+    CDmg%     HP+     ATK%  11896.152632  \n",
       "...              ...     ...      ...     ...      ...           ...  \n",
       "15004361422      NaN    DEF+    CDmg%     NaN     ATK%   1270.163053  \n",
       "8918952792       NaN     NaN      NaN     NaN      NaN   1265.079605  \n",
       "15089497131      NaN     NaN      NaN     NaN      NaN   1081.826316  \n",
       "15115641120      NaN     NaN      NaN     NaN      NaN   1060.341447  \n",
       "12938764477      NaN     NaN      NaN     NaN      NaN    917.530263  \n",
       "\n",
       "[467 rows x 30 columns]"
      ]
     },
     "execution_count": 1,
     "metadata": {},
     "output_type": "execute_result"
    }
   ],
   "source": [
    "import pandas as pd\n",
    "import numpy as np\n",
    "import matplotlib.pyplot as plt\n",
    "import matplotlib\n",
    "import seaborn as sns\n",
    "import scipy as stats\n",
    "\n",
    "sns.set(color_codes=True)\n",
    "sns.set_style(\"dark\")\n",
    "sns.set_context(\"poster\")\n",
    "matplotlib.rcParams['text.color'] = 'white'\n",
    "\n",
    "class DamageFormulaNotImplemented(Exception):\n",
    "    pass\n",
    "\n",
    "def damage_formula(dataframe, TOWERS, base_attack, BUFFS, multiplier=1, skillups=0):\n",
    "    DAMAGE_REDUCTION = 1000 / (1140 + 3.5 * 0) # 0 - defense, but ignore def here, if not then set it at 800 or 1000 [most popular]\n",
    "    attribute = df[\"Type\"].unique()[0]\n",
    "    if attribute == \"Attack\":\n",
    "        return (\n",
    "            (dataframe[\"Attack\"] + \n",
    "             base_attack * (TOWERS['ATTACK'] + TOWERS['ATTACK_ELEMENT'])) *\n",
    "            multiplier * (1 + skillups + (dataframe[\"Crit Rate\"] / 100) * (dataframe[\"Crit Dmg\"] / 100 + TOWERS['CRIT_DMG']))\n",
    "        ) * BUFFS['ATTACK'] * DAMAGE_REDUCTION\n",
    "    else:\n",
    "        raise DamageFormulaNotImplemented(f\"Damage formula for {attribute} has not been implemented yet.\")\n",
    "        \n",
    "filename = \"lushen_20200325.csv\"\n",
    "skill = 3 #  not used anywhere, just to know which skill will used to calculate dmg\n",
    "skillups = .3 # +10% +10% +10%\n",
    "multiplier = .68\n",
    "base_attack = 900\n",
    "\n",
    "TOWERS = {\n",
    "    'CRIT_DMG': .25,\n",
    "    'SPEED': .15,\n",
    "    'ATTACK': .20,\n",
    "    'ATTACK_ELEMENT': .21,\n",
    "    'DEFENSE': .20,\n",
    "    'HP': .20,\n",
    "}\n",
    "\n",
    "BUFFS = {\n",
    "    'ATTACK': 1.5,\n",
    "    'SPEED': .3,\n",
    "    'CRIT_RATE': .3,\n",
    "    'DEFENSE': 1.5,\n",
    "}\n",
    "\n",
    "df = pd.read_csv(filename, index_col=\"ID\")\n",
    "df[\"Damage\"] = damage_formula(df, TOWERS, base_attack, BUFFS, multiplier, skillups)\n",
    "print(df.columns)\n",
    "df.sort_values([\"Damage\"], ascending=False, inplace=True)\n",
    "df.fillna(value={'Sets': 'Broken'}, inplace=True)\n",
    "df"
   ]
  },
  {
   "cell_type": "markdown",
   "metadata": {},
   "source": [
    "# Stars Distribution, picking 6*"
   ]
  },
  {
   "cell_type": "code",
   "execution_count": 2,
   "metadata": {},
   "outputs": [
    {
     "name": "stdout",
     "output_type": "stream",
     "text": [
      "(407, 30)\n"
     ]
    },
    {
     "data": {
      "image/png": "[encoded data removed]",
      "text/plain": [
       "<Figure size 720x720 with 1 Axes>"
      ]
     },
     "metadata": {},
     "output_type": "display_data"
    }
   ],
   "source": [
    "fig = plt.figure(figsize=(10, 10))\n",
    "stars = df[\"Stars\"].value_counts()\n",
    "plt.pie(stars, labels=stars.index, autopct='%1.1f%%')\n",
    "plt.savefig(\"lushen_pie_6stars.png\", transparent=True, bbox_inches = \"tight\")\n",
    "df_stars6 = df[(df[\"Stars\"] == 6) & (df[\"Avg Eff\"] > 40)] # pick only 6*\n",
    "print(df_stars6.shape)"
   ]
  },
  {
   "cell_type": "markdown",
   "metadata": {},
   "source": [
    "# Skilled Up"
   ]
  },
  {
   "cell_type": "code",
   "execution_count": 3,
   "metadata": {},
   "outputs": [
    {
     "data": {
      "image/png": "[encoded data removed]",
      "text/plain": [
       "<Figure size 720x720 with 1 Axes>"
      ]
     },
     "metadata": {},
     "output_type": "display_data"
    }
   ],
   "source": [
    "fig = plt.figure(figsize=(10, 10))\n",
    "stars = df_stars6[\"Skilled Up\"].value_counts()\n",
    "plt.pie(stars, labels=stars.index, autopct='%1.1f%%')\n",
    "plt.savefig(\"lushen_pie_skillups.png\", transparent=True, bbox_inches = \"tight\")\n",
    "plt.show()"
   ]
  },
  {
   "cell_type": "markdown",
   "metadata": {},
   "source": [
    "# Transmogrified"
   ]
  },
  {
   "cell_type": "code",
   "execution_count": 4,
   "metadata": {},
   "outputs": [
    {
     "data": {
      "image/png": "[encoded data removed]",
      "text/plain": [
       "<Figure size 720x720 with 1 Axes>"
      ]
     },
     "metadata": {},
     "output_type": "display_data"
    }
   ],
   "source": [
    "fig = plt.figure(figsize=(10, 10))\n",
    "stars = df_stars6[\"Transmogrified\"].value_counts()\n",
    "plt.pie(stars, labels=stars.index, autopct='%1.1f%%')\n",
    "plt.savefig(\"lushen_pie_transmog.png\", transparent=True, bbox_inches = \"tight\")\n",
    "plt.show()"
   ]
  },
  {
   "cell_type": "markdown",
   "metadata": {},
   "source": [
    "# Damage Distribution"
   ]
  },
  {
   "cell_type": "code",
   "execution_count": 5,
   "metadata": {},
   "outputs": [
    {
     "data": {
      "image/png": "[encoded data removed]",
      "text/plain": [
       "<Figure size 720x360 with 1 Axes>"
      ]
     },
     "metadata": {},
     "output_type": "display_data"
    }
   ],
   "source": [
    "fig = plt.figure(figsize=(10, 5))\n",
    "sns.distplot(df_stars6[\"Damage\"], bins=20, kde=False, rug=True).set_xlabel(None)\n",
    "plt.tick_params(labelcolor='white')\n",
    "plt.savefig(\"lushen_dist_dmg.png\", transparent=True, bbox_inches = \"tight\")"
   ]
  },
  {
   "cell_type": "markdown",
   "metadata": {},
   "source": [
    "# Avg. Rune Distribution"
   ]
  },
  {
   "cell_type": "code",
   "execution_count": 6,
   "metadata": {},
   "outputs": [
    {
     "data": {
      "image/png": "[encoded data removed]",
      "text/plain": [
       "<Figure size 720x360 with 1 Axes>"
      ]
     },
     "metadata": {},
     "output_type": "display_data"
    }
   ],
   "source": [
    "fig = plt.figure(figsize=(10, 5))\n",
    "sns.distplot(df_stars6[\"Avg Eff\"], bins=20, kde=False, rug=True).set_xlabel(None)\n",
    "plt.tick_params(labelcolor='white')\n",
    "plt.savefig(\"lushen_dist_eff.png\", transparent=True, bbox_inches = \"tight\")"
   ]
  },
  {
   "cell_type": "markdown",
   "metadata": {},
   "source": [
    "# Sets"
   ]
  },
  {
   "cell_type": "code",
   "execution_count": 7,
   "metadata": {},
   "outputs": [
    {
     "data": {
      "image/png": "[encoded data removed]",
      "text/plain": [
       "<Figure size 1440x360 with 1 Axes>"
      ]
     },
     "metadata": {},
     "output_type": "display_data"
    }
   ],
   "source": [
    "fig = plt.figure(figsize=(20, 5))\n",
    "counts = df_stars6[\"Sets\"].value_counts()\n",
    "counts = counts[counts > 1]\n",
    "x, y = counts.index, counts.values\n",
    "sets = sns.barplot(x=x, y=y)\n",
    "_ = sets.set_xticklabels(sets.get_xticklabels(), rotation=45, horizontalalignment='right')\n",
    "plt.tick_params(labelcolor='white')\n",
    "plt.savefig(\"lushen_dist_sets.png\", transparent=True, bbox_inches = \"tight\")"
   ]
  },
  {
   "cell_type": "markdown",
   "metadata": {},
   "source": [
    "# Damage Distribution for most common set"
   ]
  },
  {
   "cell_type": "code",
   "execution_count": 8,
   "metadata": {},
   "outputs": [
    {
     "name": "stdout",
     "output_type": "stream",
     "text": [
      "Blade + Rage\n"
     ]
    },
    {
     "data": {
      "image/png": "[encoded data removed]",
      "text/plain": [
       "<Figure size 720x360 with 1 Axes>"
      ]
     },
     "metadata": {},
     "output_type": "display_data"
    }
   ],
   "source": [
    "most_common_set = counts.index[0]\n",
    "print(most_common_set)\n",
    "\n",
    "fig = plt.figure(figsize=(10, 5))\n",
    "sns.distplot(df_stars6[\"Damage\"][df_stars6[\"Sets\"] == most_common_set], bins=20, kde=False, rug=True).set_xlabel(None)\n",
    "plt.tick_params(labelcolor='white')\n",
    "plt.savefig(\"lushen_dist_common_set.png\", transparent=True, bbox_inches = \"tight\")"
   ]
  },
  {
   "cell_type": "markdown",
   "metadata": {},
   "source": [
    "# Set for Highest Damage"
   ]
  },
  {
   "cell_type": "code",
   "execution_count": 9,
   "metadata": {},
   "outputs": [
    {
     "name": "stdout",
     "output_type": "stream",
     "text": [
      "Blade + Rage\n"
     ]
    }
   ],
   "source": [
    "highest_damage_set = df_stars6.iloc[:1][\"Sets\"].values[0]\n",
    "print(highest_damage_set)"
   ]
  },
  {
   "cell_type": "markdown",
   "metadata": {},
   "source": [
    "# Damage Distribution for set with Highest Damage"
   ]
  },
  {
   "cell_type": "code",
   "execution_count": 10,
   "metadata": {},
   "outputs": [
    {
     "data": {
      "image/png": "[encoded data removed]",
      "text/plain": [
       "<Figure size 720x360 with 1 Axes>"
      ]
     },
     "metadata": {},
     "output_type": "display_data"
    }
   ],
   "source": [
    "fig = plt.figure(figsize=(10, 5))\n",
    "sns.distplot(df_stars6[\"Damage\"][df_stars6[\"Sets\"] == highest_damage_set], bins=20, kde=False, rug=True).set_xlabel(None)\n",
    "plt.tick_params(labelcolor='white')\n",
    "plt.savefig(\"lushen_dist_damage_set.png\", transparent=True,  bbox_inches = \"tight\")"
   ]
  },
  {
   "cell_type": "markdown",
   "metadata": {},
   "source": [
    "# Speed Distribution"
   ]
  },
  {
   "cell_type": "code",
   "execution_count": 11,
   "metadata": {},
   "outputs": [
    {
     "data": {
      "image/png": "[encoded data removed]",
      "text/plain": [
       "<Figure size 720x360 with 1 Axes>"
      ]
     },
     "metadata": {},
     "output_type": "display_data"
    }
   ],
   "source": [
    "fig = plt.figure(figsize=(10, 5))\n",
    "sns.distplot(df_stars6[\"Speed\"], bins=20, kde=False, rug=True).set_xlabel(None)\n",
    "plt.tick_params(labelcolor='white')\n",
    "plt.savefig(\"lushen_dist_speed.png\", transparent=True,  bbox_inches = \"tight\")"
   ]
  },
  {
   "cell_type": "markdown",
   "metadata": {},
   "source": [
    "# Speed - Damage Relation"
   ]
  },
  {
   "cell_type": "code",
   "execution_count": 12,
   "metadata": {},
   "outputs": [
    {
     "data": {
      "image/png": "[encoded data removed]",
      "text/plain": [
       "<Figure size 360x360 with 1 Axes>"
      ]
     },
     "metadata": {},
     "output_type": "display_data"
    }
   ],
   "source": [
    "sns.lmplot(x=\"Speed\", y=\"Damage\", data=df_stars6)\n",
    "plt.tick_params(labelcolor='white')\n",
    "plt.savefig(\"lushen_rel_spd_dmg.png\", transparent=True,  bbox_inches = \"tight\")"
   ]
  },
  {
   "cell_type": "markdown",
   "metadata": {},
   "source": [
    "# Speed Distribution for TOP 10% Damage"
   ]
  },
  {
   "cell_type": "code",
   "execution_count": 13,
   "metadata": {},
   "outputs": [
    {
     "data": {
      "image/png": "[encoded data removed]",
      "text/plain": [
       "<Figure size 720x360 with 1 Axes>"
      ]
     },
     "metadata": {},
     "output_type": "display_data"
    }
   ],
   "source": [
    "fig = plt.figure(figsize=(10, 5))\n",
    "sns.distplot(df_stars6[\"Speed\"].head(int(df_stars6.shape[0] * .1)), bins=20, kde=False, rug=True).set_xlabel(None)\n",
    "plt.tick_params(labelcolor='white')\n",
    "plt.savefig(\"lushen_dist_speed_top10_percent.png\", transparent=True,  bbox_inches = \"tight\")"
   ]
  },
  {
   "cell_type": "markdown",
   "metadata": {},
   "source": [
    "# Speed - Damage Relation for TOP 10% Damage"
   ]
  },
  {
   "cell_type": "code",
   "execution_count": 14,
   "metadata": {},
   "outputs": [
    {
     "data": {
      "text/plain": [
       "<Figure size 720x360 with 0 Axes>"
      ]
     },
     "metadata": {},
     "output_type": "display_data"
    },
    {
     "data": {
      "image/png": "[encoded data removed]",
      "text/plain": [
       "<Figure size 360x360 with 1 Axes>"
      ]
     },
     "metadata": {},
     "output_type": "display_data"
    }
   ],
   "source": [
    "fig = plt.figure(figsize=(10, 5))\n",
    "sns.lmplot(x=\"Speed\", y=\"Damage\", data=df_stars6.head(int(df_stars6.shape[0] * .1)))\n",
    "plt.tick_params(labelcolor='white')\n",
    "plt.savefig(\"lushen_rel_spd_dmg_top10_percent.png\", transparent=True,  bbox_inches = \"tight\")"
   ]
  },
  {
   "cell_type": "markdown",
   "metadata": {},
   "source": [
    "# Best by Category"
   ]
  },
  {
   "cell_type": "code",
   "execution_count": 15,
   "metadata": {},
   "outputs": [
    {
     "data": {
      "text/html": [
       "<div>\n",
       "<style scoped>\n",
       "    .dataframe tbody tr th:only-of-type {\n",
       "        vertical-align: middle;\n",
       "    }\n",
       "\n",
       "    .dataframe tbody tr th {\n",
       "        vertical-align: top;\n",
       "    }\n",
       "\n",
       "    .dataframe thead th {\n",
       "        text-align: right;\n",
       "    }\n",
       "</style>\n",
       "<table border=\"1\" class=\"dataframe\">\n",
       "  <thead>\n",
       "    <tr style=\"text-align: right;\">\n",
       "      <th></th>\n",
       "      <th>HP</th>\n",
       "      <th>Attack</th>\n",
       "      <th>Defense</th>\n",
       "      <th>Speed</th>\n",
       "      <th>Resistance</th>\n",
       "      <th>Accuracy</th>\n",
       "      <th>Crit Rate</th>\n",
       "      <th>Crit Dmg</th>\n",
       "      <th>Avg Eff</th>\n",
       "      <th>Eff. HP</th>\n",
       "      <th>Eff. HP D-B</th>\n",
       "      <th>Damage</th>\n",
       "    </tr>\n",
       "    <tr>\n",
       "      <th>ID</th>\n",
       "      <th></th>\n",
       "      <th></th>\n",
       "      <th></th>\n",
       "      <th></th>\n",
       "      <th></th>\n",
       "      <th></th>\n",
       "      <th></th>\n",
       "      <th></th>\n",
       "      <th></th>\n",
       "      <th></th>\n",
       "      <th></th>\n",
       "      <th></th>\n",
       "    </tr>\n",
       "  </thead>\n",
       "  <tbody>\n",
       "    <tr>\n",
       "      <th>1</th>\n",
       "      <td>22615</td>\n",
       "      <td>3513</td>\n",
       "      <td>963</td>\n",
       "      <td>232</td>\n",
       "      <td>67</td>\n",
       "      <td>74</td>\n",
       "      <td>127</td>\n",
       "      <td>266</td>\n",
       "      <td>108</td>\n",
       "      <td>80486</td>\n",
       "      <td>51550</td>\n",
       "      <td>12298</td>\n",
       "    </tr>\n",
       "  </tbody>\n",
       "</table>\n",
       "</div>"
      ],
      "text/plain": [
       "       HP Attack Defense Speed Resistance Accuracy Crit Rate Crit Dmg Avg Eff  \\\n",
       "ID                                                                              \n",
       "1   22615   3513     963   232         67       74       127      266     108   \n",
       "\n",
       "   Eff. HP Eff. HP D-B Damage  \n",
       "ID                             \n",
       "1    80486       51550  12298  "
      ]
     },
     "execution_count": 15,
     "metadata": {},
     "output_type": "execute_result"
    }
   ],
   "source": [
    "cols = ['HP', 'Attack', 'Defense', 'Speed', 'Resistance', 'Accuracy', 'Crit Rate', 'Crit Dmg', 'Avg Eff', 'Eff. HP', 'Eff. HP D-B', 'Damage']\n",
    "df_best = pd.DataFrame(columns=[\"ID\"] + cols)\n",
    "df_best.set_index(\"ID\", drop=True, inplace=True)\n",
    "\n",
    "best = list()\n",
    "for column in cols:\n",
    "    best.append(int(round(df.sort_values([column], ascending=False)[column].head(1).values[0])))\n",
    "    \n",
    "df_best.loc[1] = best\n",
    "df_best"
   ]
  },
  {
   "cell_type": "markdown",
   "metadata": {},
   "source": [
    "# First & last Monster"
   ]
  },
  {
   "cell_type": "code",
   "execution_count": 16,
   "metadata": {},
   "outputs": [
    {
     "name": "stdout",
     "output_type": "stream",
     "text": [
      "2014-08-06 13:09:27 2020-02-14 05:49:03\n"
     ]
    }
   ],
   "source": [
    "newest = df_stars6.sort_values([\"Acquired\"], ascending=False)[\"Acquired\"].head(1).values[0]\n",
    "oldest = df_stars6.sort_values([\"Acquired\"], ascending=False)[\"Acquired\"].tail(1).values[0]\n",
    "print(oldest, newest)"
   ]
  },
  {
   "cell_type": "markdown",
   "metadata": {},
   "source": [
    "# Most common Builds"
   ]
  },
  {
   "cell_type": "code",
   "execution_count": 17,
   "metadata": {},
   "outputs": [
    {
     "name": "stdout",
     "output_type": "stream",
     "text": [
      "  Rune #2 Rune #4 Rune #6  Count\n",
      "0    ATK%    ATK%    ATK%      5\n",
      "2    ATK%   CDmg%    ATK%    330\n",
      "3    ATK%   CDmg%     HP%      2\n",
      "4    ATK%  CRate%    ATK%      3\n",
      "7     SPD    ATK%    ATK%      2\n",
      "9     SPD   CDmg%    ATK%     56\n"
     ]
    },
    {
     "data": {
      "image/png": "[encoded data removed]",
      "text/plain": [
       "<Figure size 720x360 with 1 Axes>"
      ]
     },
     "metadata": {},
     "output_type": "display_data"
    }
   ],
   "source": [
    "fig = plt.figure(figsize=(10, 5))\n",
    "\n",
    "builds_count = df_stars6.groupby([\"Rune #2\", \"Rune #4\", \"Rune #6\"]).size().reset_index(name='Count')\n",
    "builds_count = builds_count[builds_count['Count'] > 1] # single builds to drop\n",
    "print(builds_count)\n",
    "builds_count_to_plot = builds_count.set_index([\"Rune #2\", \"Rune #4\", \"Rune #6\"]).T\n",
    "\n",
    "builds_common = sns.barplot(data=builds_count_to_plot)\n",
    "_ = builds_common.set_xticklabels(builds_common.get_xticklabels(), rotation=45, horizontalalignment='right')\n",
    "plt.tick_params(labelcolor='white')\n",
    "plt.savefig(\"lushen_build_common.png\", transparent=True, bbox_inches = \"tight\")"
   ]
  },
  {
   "cell_type": "markdown",
   "metadata": {},
   "source": [
    "# Builds for most common set"
   ]
  },
  {
   "cell_type": "code",
   "execution_count": 18,
   "metadata": {},
   "outputs": [
    {
     "name": "stdout",
     "output_type": "stream",
     "text": [
      "  Rune #2 Rune #4 Rune #6  Count\n",
      "1    ATK%   CDmg%    ATK%     86\n",
      "3     SPD   CDmg%    ATK%      8\n"
     ]
    },
    {
     "data": {
      "image/png": "[encoded data removed]",
      "text/plain": [
       "<Figure size 720x360 with 1 Axes>"
      ]
     },
     "metadata": {},
     "output_type": "display_data"
    }
   ],
   "source": [
    "fig = plt.figure(figsize=(10, 5))\n",
    "builds_count = df_stars6[df_stars6[\"Sets\"] == most_common_set].groupby([\"Rune #2\", \"Rune #4\", \"Rune #6\"]).size().reset_index(name='Count')\n",
    "builds_count = builds_count[builds_count['Count'] > 1] # single builds to drop\n",
    "print(builds_count)\n",
    "builds_count_to_plot = builds_count.set_index([\"Rune #2\", \"Rune #4\", \"Rune #6\"]).T\n",
    "\n",
    "builds_common = sns.barplot(data=builds_count_to_plot)\n",
    "ax = builds_common.set_xticklabels(builds_common.get_xticklabels(), rotation=45, horizontalalignment='right')\n",
    "builds_common.tick_params(labelcolor='white')\n",
    "plt.savefig(\"lushen_build_common_set.png\", transparent=True, bbox_inches = \"tight\")"
   ]
  },
  {
   "cell_type": "markdown",
   "metadata": {},
   "source": [
    "# Most frequent slot 2"
   ]
  },
  {
   "cell_type": "code",
   "execution_count": 19,
   "metadata": {},
   "outputs": [
    {
     "data": {
      "image/png": "[encoded data removed]",
      "text/plain": [
       "<Figure size 720x360 with 1 Axes>"
      ]
     },
     "metadata": {},
     "output_type": "display_data"
    }
   ],
   "source": [
    "fig = plt.figure(figsize=(10, 5))\n",
    "\n",
    "counts_slot2 = df_stars6[\"Rune #2\"].value_counts()\n",
    "counts_slot2 = counts_slot2[counts_slot2 > 1]\n",
    "x, y = counts_slot2.index, counts_slot2.values\n",
    "slot2 = sns.barplot(x=x, y=y)\n",
    "_ = slot2.set_xticklabels(slot2.get_xticklabels(), rotation=45, horizontalalignment='right')\n",
    "plt.tick_params(labelcolor='white')\n",
    "plt.savefig(\"lushen_slot_2.png\", transparent=True, bbox_inches = \"tight\")"
   ]
  },
  {
   "cell_type": "markdown",
   "metadata": {},
   "source": [
    "# Most frequent slot 4"
   ]
  },
  {
   "cell_type": "code",
   "execution_count": 20,
   "metadata": {},
   "outputs": [
    {
     "data": {
      "image/png": "[encoded data removed]",
      "text/plain": [
       "<Figure size 720x360 with 1 Axes>"
      ]
     },
     "metadata": {},
     "output_type": "display_data"
    }
   ],
   "source": [
    "fig = plt.figure(figsize=(10, 5))\n",
    "\n",
    "counts_slot4 = df_stars6[\"Rune #4\"].value_counts()\n",
    "counts_slot4 = counts_slot4[counts_slot4 > 1]\n",
    "x, y = counts_slot4.index, counts_slot4.values\n",
    "slot4 = sns.barplot(x=x, y=y)\n",
    "_ = slot4.set_xticklabels(slot4.get_xticklabels(), rotation=45, horizontalalignment='right')\n",
    "plt.tick_params(labelcolor='white')\n",
    "plt.savefig(\"lushen_slot_4.png\", transparent=True, bbox_inches = \"tight\")"
   ]
  },
  {
   "cell_type": "markdown",
   "metadata": {},
   "source": [
    "# Most frequent slot 6"
   ]
  },
  {
   "cell_type": "code",
   "execution_count": 21,
   "metadata": {},
   "outputs": [
    {
     "data": {
      "image/png": "[encoded data removed]",
      "text/plain": [
       "<Figure size 720x360 with 1 Axes>"
      ]
     },
     "metadata": {},
     "output_type": "display_data"
    }
   ],
   "source": [
    "fig = plt.figure(figsize=(10, 5))\n",
    "\n",
    "counts_slot6 = df_stars6[\"Rune #6\"].value_counts()\n",
    "counts_slot6 = counts_slot6[counts_slot6 > 1]\n",
    "x, y = counts_slot6.index, counts_slot6.values\n",
    "slot6 = sns.barplot(x=x, y=y)\n",
    "_ = slot6.set_xticklabels(slot6.get_xticklabels(), rotation=45, horizontalalignment='right')\n",
    "plt.tick_params(labelcolor='white')\n",
    "plt.savefig(\"lushen_slot_6.png\", transparent=True, bbox_inches = \"tight\")"
   ]
  },
  {
   "cell_type": "code",
   "execution_count": null,
   "metadata": {},
   "outputs": [],
   "source": []
  }
 ],
 "metadata": {
  "kernelspec": {
   "display_name": "Python 3",
   "language": "python",
   "name": "python3"
  },
  "language_info": {
   "codemirror_mode": {
    "name": "ipython",
    "version": 3
   },
   "file_extension": ".py",
   "mimetype": "text/x-python",
   "name": "python",
   "nbconvert_exporter": "python",
   "pygments_lexer": "ipython3",
   "version": "3.7.3"
  }
 },
 "nbformat": 4,
 "nbformat_minor": 4
}
