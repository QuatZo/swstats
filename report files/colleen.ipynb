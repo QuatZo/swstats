{
 "cells": [
  {
   "cell_type": "markdown",
   "metadata": {},
   "source": [
    "# Setting Up"
   ]
  },
  {
   "cell_type": "code",
   "execution_count": 1,
   "metadata": {
    "scrolled": false
   },
   "outputs": [
    {
     "name": "stdout",
     "output_type": "stream",
     "text": [
      "Index(['Level', 'Stars', 'HP', 'Attack', 'Defense', 'Speed', 'Resistance',\n",
      "       'Accuracy', 'Crit Rate', 'Crit Dmg', 'Avg Eff', 'Eff. HP',\n",
      "       'Eff. HP D-B', 'Sets', 'Skilled Up', 'Acquired', 'Locked',\n",
      "       'Transmogrified', 'Rune #1', 'Rune #2', 'Rune #3', 'Rune #4', 'Rune #5',\n",
      "       'Rune #6'],\n",
      "      dtype='object')\n"
     ]
    },
    {
     "data": {
      "text/html": [
       "<div>\n",
       "<style scoped>\n",
       "    .dataframe tbody tr th:only-of-type {\n",
       "        vertical-align: middle;\n",
       "    }\n",
       "\n",
       "    .dataframe tbody tr th {\n",
       "        vertical-align: top;\n",
       "    }\n",
       "\n",
       "    .dataframe thead th {\n",
       "        text-align: right;\n",
       "    }\n",
       "</style>\n",
       "<table border=\"1\" class=\"dataframe\">\n",
       "  <thead>\n",
       "    <tr style=\"text-align: right;\">\n",
       "      <th></th>\n",
       "      <th>Level</th>\n",
       "      <th>Stars</th>\n",
       "      <th>HP</th>\n",
       "      <th>Attack</th>\n",
       "      <th>Defense</th>\n",
       "      <th>Speed</th>\n",
       "      <th>Resistance</th>\n",
       "      <th>Accuracy</th>\n",
       "      <th>Crit Rate</th>\n",
       "      <th>Crit Dmg</th>\n",
       "      <th>...</th>\n",
       "      <th>Skilled Up</th>\n",
       "      <th>Acquired</th>\n",
       "      <th>Locked</th>\n",
       "      <th>Transmogrified</th>\n",
       "      <th>Rune #1</th>\n",
       "      <th>Rune #2</th>\n",
       "      <th>Rune #3</th>\n",
       "      <th>Rune #4</th>\n",
       "      <th>Rune #5</th>\n",
       "      <th>Rune #6</th>\n",
       "    </tr>\n",
       "    <tr>\n",
       "      <th>ID</th>\n",
       "      <th></th>\n",
       "      <th></th>\n",
       "      <th></th>\n",
       "      <th></th>\n",
       "      <th></th>\n",
       "      <th></th>\n",
       "      <th></th>\n",
       "      <th></th>\n",
       "      <th></th>\n",
       "      <th></th>\n",
       "      <th></th>\n",
       "      <th></th>\n",
       "      <th></th>\n",
       "      <th></th>\n",
       "      <th></th>\n",
       "      <th></th>\n",
       "      <th></th>\n",
       "      <th></th>\n",
       "      <th></th>\n",
       "      <th></th>\n",
       "      <th></th>\n",
       "    </tr>\n",
       "  </thead>\n",
       "  <tbody>\n",
       "    <tr>\n",
       "      <th>6715758611</th>\n",
       "      <td>40</td>\n",
       "      <td>6</td>\n",
       "      <td>36081</td>\n",
       "      <td>930</td>\n",
       "      <td>1212</td>\n",
       "      <td>171</td>\n",
       "      <td>40</td>\n",
       "      <td>42</td>\n",
       "      <td>15</td>\n",
       "      <td>60</td>\n",
       "      <td>...</td>\n",
       "      <td>Yes</td>\n",
       "      <td>2016-06-03 01:14:27</td>\n",
       "      <td>No</td>\n",
       "      <td>No</td>\n",
       "      <td>ATK+</td>\n",
       "      <td>DEF%</td>\n",
       "      <td>DEF+</td>\n",
       "      <td>HP%</td>\n",
       "      <td>HP+</td>\n",
       "      <td>HP%</td>\n",
       "    </tr>\n",
       "    <tr>\n",
       "      <th>4727586424</th>\n",
       "      <td>40</td>\n",
       "      <td>6</td>\n",
       "      <td>32818</td>\n",
       "      <td>643</td>\n",
       "      <td>1484</td>\n",
       "      <td>218</td>\n",
       "      <td>58</td>\n",
       "      <td>17</td>\n",
       "      <td>20</td>\n",
       "      <td>56</td>\n",
       "      <td>...</td>\n",
       "      <td>Yes</td>\n",
       "      <td>2015-09-30 14:34:49</td>\n",
       "      <td>No</td>\n",
       "      <td>No</td>\n",
       "      <td>ATK+</td>\n",
       "      <td>SPD</td>\n",
       "      <td>DEF+</td>\n",
       "      <td>DEF%</td>\n",
       "      <td>HP+</td>\n",
       "      <td>DEF%</td>\n",
       "    </tr>\n",
       "    <tr>\n",
       "      <th>6014637907</th>\n",
       "      <td>40</td>\n",
       "      <td>6</td>\n",
       "      <td>30688</td>\n",
       "      <td>764</td>\n",
       "      <td>1160</td>\n",
       "      <td>227</td>\n",
       "      <td>62</td>\n",
       "      <td>59</td>\n",
       "      <td>21</td>\n",
       "      <td>56</td>\n",
       "      <td>...</td>\n",
       "      <td>Yes</td>\n",
       "      <td>2016-03-06 08:18:03</td>\n",
       "      <td>No</td>\n",
       "      <td>Yes</td>\n",
       "      <td>ATK+</td>\n",
       "      <td>SPD</td>\n",
       "      <td>DEF+</td>\n",
       "      <td>DEF%</td>\n",
       "      <td>HP+</td>\n",
       "      <td>HP%</td>\n",
       "    </tr>\n",
       "    <tr>\n",
       "      <th>3026992823</th>\n",
       "      <td>40</td>\n",
       "      <td>6</td>\n",
       "      <td>23368</td>\n",
       "      <td>665</td>\n",
       "      <td>1519</td>\n",
       "      <td>237</td>\n",
       "      <td>76</td>\n",
       "      <td>18</td>\n",
       "      <td>15</td>\n",
       "      <td>56</td>\n",
       "      <td>...</td>\n",
       "      <td>Yes</td>\n",
       "      <td>2016-11-09 00:55:16</td>\n",
       "      <td>Yes</td>\n",
       "      <td>No</td>\n",
       "      <td>ATK+</td>\n",
       "      <td>SPD</td>\n",
       "      <td>DEF+</td>\n",
       "      <td>DEF%</td>\n",
       "      <td>HP+</td>\n",
       "      <td>DEF%</td>\n",
       "    </tr>\n",
       "    <tr>\n",
       "      <th>3797923018</th>\n",
       "      <td>40</td>\n",
       "      <td>6</td>\n",
       "      <td>34086</td>\n",
       "      <td>624</td>\n",
       "      <td>1037</td>\n",
       "      <td>240</td>\n",
       "      <td>47</td>\n",
       "      <td>27</td>\n",
       "      <td>29</td>\n",
       "      <td>50</td>\n",
       "      <td>...</td>\n",
       "      <td>Yes</td>\n",
       "      <td>2017-03-23 02:53:39</td>\n",
       "      <td>Yes</td>\n",
       "      <td>No</td>\n",
       "      <td>ATK+</td>\n",
       "      <td>SPD</td>\n",
       "      <td>DEF+</td>\n",
       "      <td>HP%</td>\n",
       "      <td>HP+</td>\n",
       "      <td>HP%</td>\n",
       "    </tr>\n",
       "    <tr>\n",
       "      <th>...</th>\n",
       "      <td>...</td>\n",
       "      <td>...</td>\n",
       "      <td>...</td>\n",
       "      <td>...</td>\n",
       "      <td>...</td>\n",
       "      <td>...</td>\n",
       "      <td>...</td>\n",
       "      <td>...</td>\n",
       "      <td>...</td>\n",
       "      <td>...</td>\n",
       "      <td>...</td>\n",
       "      <td>...</td>\n",
       "      <td>...</td>\n",
       "      <td>...</td>\n",
       "      <td>...</td>\n",
       "      <td>...</td>\n",
       "      <td>...</td>\n",
       "      <td>...</td>\n",
       "      <td>...</td>\n",
       "      <td>...</td>\n",
       "      <td>...</td>\n",
       "    </tr>\n",
       "    <tr>\n",
       "      <th>15202740537</th>\n",
       "      <td>34</td>\n",
       "      <td>5</td>\n",
       "      <td>18577</td>\n",
       "      <td>435</td>\n",
       "      <td>425</td>\n",
       "      <td>106</td>\n",
       "      <td>31</td>\n",
       "      <td>0</td>\n",
       "      <td>26</td>\n",
       "      <td>61</td>\n",
       "      <td>...</td>\n",
       "      <td>No</td>\n",
       "      <td>2020-03-19 23:11:17</td>\n",
       "      <td>No</td>\n",
       "      <td>No</td>\n",
       "      <td>ATK+</td>\n",
       "      <td>HP%</td>\n",
       "      <td>DEF+</td>\n",
       "      <td>HP%</td>\n",
       "      <td>HP+</td>\n",
       "      <td>HP%</td>\n",
       "    </tr>\n",
       "    <tr>\n",
       "      <th>9177057358</th>\n",
       "      <td>30</td>\n",
       "      <td>4</td>\n",
       "      <td>9372</td>\n",
       "      <td>335</td>\n",
       "      <td>352</td>\n",
       "      <td>161</td>\n",
       "      <td>23</td>\n",
       "      <td>20</td>\n",
       "      <td>27</td>\n",
       "      <td>68</td>\n",
       "      <td>...</td>\n",
       "      <td>No</td>\n",
       "      <td>2017-04-30 20:37:07</td>\n",
       "      <td>No</td>\n",
       "      <td>No</td>\n",
       "      <td>ATK+</td>\n",
       "      <td>SPD</td>\n",
       "      <td>DEF+</td>\n",
       "      <td>HP+</td>\n",
       "      <td>HP+</td>\n",
       "      <td>HP+</td>\n",
       "    </tr>\n",
       "    <tr>\n",
       "      <th>12744245846</th>\n",
       "      <td>30</td>\n",
       "      <td>4</td>\n",
       "      <td>9285</td>\n",
       "      <td>400</td>\n",
       "      <td>332</td>\n",
       "      <td>117</td>\n",
       "      <td>22</td>\n",
       "      <td>2</td>\n",
       "      <td>60</td>\n",
       "      <td>52</td>\n",
       "      <td>...</td>\n",
       "      <td>No</td>\n",
       "      <td>2018-12-21 08:57:40</td>\n",
       "      <td>No</td>\n",
       "      <td>No</td>\n",
       "      <td>ATK+</td>\n",
       "      <td>ATK%</td>\n",
       "      <td>DEF+</td>\n",
       "      <td>CRate%</td>\n",
       "      <td>HP+</td>\n",
       "      <td>ATK%</td>\n",
       "    </tr>\n",
       "    <tr>\n",
       "      <th>9789531063</th>\n",
       "      <td>35</td>\n",
       "      <td>5</td>\n",
       "      <td>15076</td>\n",
       "      <td>384</td>\n",
       "      <td>568</td>\n",
       "      <td>106</td>\n",
       "      <td>23</td>\n",
       "      <td>5</td>\n",
       "      <td>23</td>\n",
       "      <td>61</td>\n",
       "      <td>...</td>\n",
       "      <td>Yes</td>\n",
       "      <td>2017-07-28 00:24:27</td>\n",
       "      <td>No</td>\n",
       "      <td>No</td>\n",
       "      <td>ATK+</td>\n",
       "      <td>DEF%</td>\n",
       "      <td>DEF+</td>\n",
       "      <td>DEF%</td>\n",
       "      <td>HP+</td>\n",
       "      <td>HP%</td>\n",
       "    </tr>\n",
       "    <tr>\n",
       "      <th>14821584571</th>\n",
       "      <td>35</td>\n",
       "      <td>5</td>\n",
       "      <td>15007</td>\n",
       "      <td>407</td>\n",
       "      <td>434</td>\n",
       "      <td>139</td>\n",
       "      <td>26</td>\n",
       "      <td>6</td>\n",
       "      <td>15</td>\n",
       "      <td>50</td>\n",
       "      <td>...</td>\n",
       "      <td>Yes</td>\n",
       "      <td>2020-01-05 00:38:20</td>\n",
       "      <td>No</td>\n",
       "      <td>No</td>\n",
       "      <td>ATK+</td>\n",
       "      <td>HP%</td>\n",
       "      <td>DEF+</td>\n",
       "      <td>HP+</td>\n",
       "      <td>HP+</td>\n",
       "      <td>HP+</td>\n",
       "    </tr>\n",
       "  </tbody>\n",
       "</table>\n",
       "<p>465 rows × 24 columns</p>\n",
       "</div>"
      ],
      "text/plain": [
       "             Level  Stars     HP  Attack  Defense  Speed  Resistance  \\\n",
       "ID                                                                     \n",
       "6715758611      40      6  36081     930     1212    171          40   \n",
       "4727586424      40      6  32818     643     1484    218          58   \n",
       "6014637907      40      6  30688     764     1160    227          62   \n",
       "3026992823      40      6  23368     665     1519    237          76   \n",
       "3797923018      40      6  34086     624     1037    240          47   \n",
       "...            ...    ...    ...     ...      ...    ...         ...   \n",
       "15202740537     34      5  18577     435      425    106          31   \n",
       "9177057358      30      4   9372     335      352    161          23   \n",
       "12744245846     30      4   9285     400      332    117          22   \n",
       "9789531063      35      5  15076     384      568    106          23   \n",
       "14821584571     35      5  15007     407      434    139          26   \n",
       "\n",
       "             Accuracy  Crit Rate  Crit Dmg  ...  Skilled Up  \\\n",
       "ID                                          ...               \n",
       "6715758611         42         15        60  ...         Yes   \n",
       "4727586424         17         20        56  ...         Yes   \n",
       "6014637907         59         21        56  ...         Yes   \n",
       "3026992823         18         15        56  ...         Yes   \n",
       "3797923018         27         29        50  ...         Yes   \n",
       "...               ...        ...       ...  ...         ...   \n",
       "15202740537         0         26        61  ...          No   \n",
       "9177057358         20         27        68  ...          No   \n",
       "12744245846         2         60        52  ...          No   \n",
       "9789531063          5         23        61  ...         Yes   \n",
       "14821584571         6         15        50  ...         Yes   \n",
       "\n",
       "                        Acquired  Locked Transmogrified Rune #1 Rune #2  \\\n",
       "ID                                                                        \n",
       "6715758611   2016-06-03 01:14:27      No             No    ATK+    DEF%   \n",
       "4727586424   2015-09-30 14:34:49      No             No    ATK+     SPD   \n",
       "6014637907   2016-03-06 08:18:03      No            Yes    ATK+     SPD   \n",
       "3026992823   2016-11-09 00:55:16     Yes             No    ATK+     SPD   \n",
       "3797923018   2017-03-23 02:53:39     Yes             No    ATK+     SPD   \n",
       "...                          ...     ...            ...     ...     ...   \n",
       "15202740537  2020-03-19 23:11:17      No             No    ATK+     HP%   \n",
       "9177057358   2017-04-30 20:37:07      No             No    ATK+     SPD   \n",
       "12744245846  2018-12-21 08:57:40      No             No    ATK+    ATK%   \n",
       "9789531063   2017-07-28 00:24:27      No             No    ATK+    DEF%   \n",
       "14821584571  2020-01-05 00:38:20      No             No    ATK+     HP%   \n",
       "\n",
       "            Rune #3 Rune #4 Rune #5 Rune #6  \n",
       "ID                                           \n",
       "6715758611     DEF+     HP%     HP+     HP%  \n",
       "4727586424     DEF+    DEF%     HP+    DEF%  \n",
       "6014637907     DEF+    DEF%     HP+     HP%  \n",
       "3026992823     DEF+    DEF%     HP+    DEF%  \n",
       "3797923018     DEF+     HP%     HP+     HP%  \n",
       "...             ...     ...     ...     ...  \n",
       "15202740537    DEF+     HP%     HP+     HP%  \n",
       "9177057358     DEF+     HP+     HP+     HP+  \n",
       "12744245846    DEF+  CRate%     HP+    ATK%  \n",
       "9789531063     DEF+    DEF%     HP+     HP%  \n",
       "14821584571    DEF+     HP+     HP+     HP+  \n",
       "\n",
       "[465 rows x 24 columns]"
      ]
     },
     "execution_count": 1,
     "metadata": {},
     "output_type": "execute_result"
    }
   ],
   "source": [
    "import pandas as pd\n",
    "import numpy as np\n",
    "import matplotlib.pyplot as plt\n",
    "import matplotlib\n",
    "import seaborn as sns\n",
    "import scipy as stats\n",
    "\n",
    "sns.set(color_codes=True)\n",
    "sns.set_style(\"dark\")\n",
    "sns.set_context(\"poster\")\n",
    "matplotlib.rcParams['text.color'] = 'white'\n",
    "\n",
    "monster = \"colleen\"\n",
    "filename = monster + \"_20200504.csv\"\n",
    "multipliers = [1.2 * 3, 4.0, 3.0] # ATK\n",
    "BASE_STATS = {\n",
    "    'HP': 10875,\n",
    "    'ATTACK': 461,\n",
    "    'DEFENSE': 461,\n",
    "    'SPEED': 106,\n",
    "    'CRIT_RATE': .15,\n",
    "    'CRIT_DMG': .5,\n",
    "    'ACCURACY%': 0,\n",
    "    'RESISTANCE%': 15,\n",
    "}\n",
    "\n",
    "TOWERS = {\n",
    "    'CRIT_DMG': .25,\n",
    "    'SPEED': .15,\n",
    "    'ATTACK': .20,\n",
    "    'ATTACK_ELEMENT': .21,\n",
    "    'DEFENSE': .20,\n",
    "    'HP': .20,\n",
    "}\n",
    "\n",
    "BUFFS = {\n",
    "    'ATTACK': 1.5,\n",
    "    'SPEED': .3,\n",
    "    'CRIT_RATE': .3,\n",
    "    'DEFENSE': 1.5,\n",
    "}\n",
    "\n",
    "df = pd.read_csv(filename, index_col=\"ID\")\n",
    "df_full = pd.read_csv(filename, index_col=\"ID\")\n",
    "print(df.columns)\n",
    "runes_cols = [\"Rune #\" + str(i) for i in range(1 ,7)]\n",
    "df.dropna(subset=runes_cols, how='any', inplace=True) # delete without runes\n",
    "df.sort_values([\"Avg Eff\"], ascending=False, inplace=True)\n",
    "df"
   ]
  },
  {
   "cell_type": "markdown",
   "metadata": {},
   "source": [
    "# Stars Distribution, picking 6*"
   ]
  },
  {
   "cell_type": "code",
   "execution_count": 2,
   "metadata": {},
   "outputs": [
    {
     "name": "stdout",
     "output_type": "stream",
     "text": [
      "(330, 24)\n"
     ]
    },
    {
     "data": {
      "image/png": "[encoded data removed]",
      "text/plain": [
       "<Figure size 720x720 with 1 Axes>"
      ]
     },
     "metadata": {},
     "output_type": "display_data"
    }
   ],
   "source": [
    "fig = plt.figure(figsize=(10, 10))\n",
    "stars = df[\"Stars\"].value_counts()\n",
    "plt.pie(stars, labels=stars.index, autopct='%1.1f%%', colors=['g', 'r', 'b'])\n",
    "plt.savefig(monster + \"_pie_6stars.png\", transparent=True, bbox_inches = \"tight\")\n",
    "df_stars6 = df[df[\"Stars\"] == 6] # pick only 6*\n",
    "print(df_stars6.shape)"
   ]
  },
  {
   "cell_type": "markdown",
   "metadata": {},
   "source": [
    "# Skilled Up"
   ]
  },
  {
   "cell_type": "code",
   "execution_count": 24,
   "metadata": {},
   "outputs": [
    {
     "data": {
      "image/png": "[encoded data removed]",
      "text/plain": [
       "<Figure size 720x720 with 1 Axes>"
      ]
     },
     "metadata": {},
     "output_type": "display_data"
    }
   ],
   "source": [
    "fig = plt.figure(figsize=(10, 10))\n",
    "stars = df_stars6[\"Skilled Up\"].value_counts()\n",
    "plt.pie(stars, labels=stars.index, autopct='%1.1f%%', colors=['g', 'r'])\n",
    "plt.savefig(monster + \"_pie_skillups.png\", transparent=True, bbox_inches = \"tight\")\n",
    "plt.show()"
   ]
  },
  {
   "cell_type": "markdown",
   "metadata": {},
   "source": [
    "# Runes "
   ]
  },
  {
   "cell_type": "code",
   "execution_count": 4,
   "metadata": {},
   "outputs": [
    {
     "data": {
      "image/png": "[encoded data removed]",
      "text/plain": [
       "<Figure size 720x720 with 1 Axes>"
      ]
     },
     "metadata": {},
     "output_type": "display_data"
    }
   ],
   "source": [
    "fig = plt.figure(figsize=(10, 10))\n",
    "df_runes = {\n",
    "    'Without Runes': df_full.shape[0] - df.shape[0],\n",
    "    'With Runes': df.shape[0],\n",
    "}\n",
    "plt.pie(df_runes.values(), labels=df_runes.keys(), autopct='%1.1f%%', colors=['r', 'g'])\n",
    "plt.savefig(monster + \"_pie_runes.png\", transparent=True, bbox_inches = \"tight\")\n",
    "plt.show()"
   ]
  },
  {
   "cell_type": "markdown",
   "metadata": {},
   "source": [
    "# Build Type"
   ]
  },
  {
   "cell_type": "code",
   "execution_count": 5,
   "metadata": {},
   "outputs": [
    {
     "data": {
      "text/plain": [
       "<Figure size 720x720 with 0 Axes>"
      ]
     },
     "metadata": {},
     "output_type": "display_data"
    },
    {
     "data": {
      "image/png": "[encoded data removed]",
      "text/plain": [
       "<Figure size 720x720 with 1 Axes>"
      ]
     },
     "metadata": {},
     "output_type": "display_data"
    }
   ],
   "source": [
    "fig = plt.figure(figsize=(10, 10))\n",
    "fig = plt.figure(figsize=(10, 10))\n",
    "dmg_dealer_df = df_stars6[(df_stars6[\"Crit Rate\"] >= 100) & (df_stars6[\"Crit Dmg\"] >= 150)] # shows mons with 100%+ crit rate & 150%+ crit damage\n",
    "pseudo_dmg_dealer_df = df_stars6[(df_stars6[\"Attack\"] > BASE_STATS['ATTACK'] * 2) & (df_stars6[\"Crit Rate\"] >= 100) & (df_stars6[\"Crit Dmg\"] < 150)]\n",
    "pie_dmg_or_tanky = {\n",
    "    'Damage Dealer \\n[100% crit rate,\\n 150% + crit dmg]': dmg_dealer_df.shape[0],\n",
    "    'Squishy \\n[+100% base attack,\\nLow Crit Dmg]': pseudo_dmg_dealer_df.shape[0],\n",
    "    'Other': df_stars6.shape[0] - pseudo_dmg_dealer_df.shape[0] - dmg_dealer_df.shape[0],\n",
    "}\n",
    "plt.pie(pie_dmg_or_tanky.values(), labels=pie_dmg_or_tanky.keys(), autopct='%1.1f%%', colors=['g', 'r', 'b'])\n",
    "plt.savefig(monster + \"_pie_is_tanky.png\", transparent=True, bbox_inches = \"tight\")\n",
    "plt.show()"
   ]
  },
  {
   "cell_type": "markdown",
   "metadata": {},
   "source": [
    "# Crit Rate"
   ]
  },
  {
   "cell_type": "code",
   "execution_count": 6,
   "metadata": {},
   "outputs": [
    {
     "data": {
      "image/png": "[encoded data removed]",
      "text/plain": [
       "<Figure size 720x720 with 1 Axes>"
      ]
     },
     "metadata": {},
     "output_type": "display_data"
    }
   ],
   "source": [
    "fig = plt.figure(figsize=(10, 10))\n",
    "df_crit_rate_yes = df_stars6[df_stars6[\"Crit Rate\"] >= 100]\n",
    "df_crit_rate = {\n",
    "    '100%': df_crit_rate_yes.shape[0],\n",
    "    'Under 100%': df_stars6.shape[0] - df_crit_rate_yes.shape[0],\n",
    "}\n",
    "plt.pie(df_crit_rate.values(), labels=df_crit_rate.keys(), autopct='%1.1f%%', colors=['g', 'r'])\n",
    "plt.savefig(monster + \"_pie_crit_rate.png\", transparent=True, bbox_inches = \"tight\")\n",
    "plt.show()"
   ]
  },
  {
   "cell_type": "markdown",
   "metadata": {},
   "source": [
    "# Transmog"
   ]
  },
  {
   "cell_type": "code",
   "execution_count": 7,
   "metadata": {},
   "outputs": [
    {
     "data": {
      "image/png": "[encoded data removed]",
      "text/plain": [
       "<Figure size 720x720 with 1 Axes>"
      ]
     },
     "metadata": {},
     "output_type": "display_data"
    }
   ],
   "source": [
    "fig = plt.figure(figsize=(10, 10))\n",
    "stars = df_stars6[\"Transmogrified\"].value_counts()\n",
    "plt.pie(stars, labels=stars.index, autopct='%1.1f%%', colors=['r', 'g'])\n",
    "plt.savefig(monster + \"_pie_transmog.png\", transparent=True, bbox_inches = \"tight\")\n",
    "plt.show()"
   ]
  },
  {
   "cell_type": "markdown",
   "metadata": {},
   "source": [
    "# Eff. HP Distribution"
   ]
  },
  {
   "cell_type": "code",
   "execution_count": 8,
   "metadata": {},
   "outputs": [
    {
     "data": {
      "image/png": "[encoded data removed]",
      "text/plain": [
       "<Figure size 720x360 with 1 Axes>"
      ]
     },
     "metadata": {},
     "output_type": "display_data"
    }
   ],
   "source": [
    "fig = plt.figure(figsize=(10, 5))\n",
    "sns.distplot(df_stars6[\"Eff. HP\"], bins=20, kde=False, rug=True).set_xlabel(None)\n",
    "plt.tick_params(labelcolor='white')\n",
    "plt.savefig(monster + \"_dist_effhp.png\", transparent=True, bbox_inches = \"tight\")"
   ]
  },
  {
   "cell_type": "markdown",
   "metadata": {},
   "source": [
    "# Total Attack Distribution"
   ]
  },
  {
   "cell_type": "code",
   "execution_count": 9,
   "metadata": {},
   "outputs": [
    {
     "data": {
      "image/png": "[encoded data removed]",
      "text/plain": [
       "<Figure size 720x360 with 1 Axes>"
      ]
     },
     "metadata": {},
     "output_type": "display_data"
    }
   ],
   "source": [
    "fig = plt.figure(figsize=(10, 5))\n",
    "sns.distplot(df_stars6[\"Attack\"], bins=20, kde=False, rug=True).set_xlabel(None)\n",
    "plt.tick_params(labelcolor='white')\n",
    "plt.savefig(monster + \"_dist_attack.png\", transparent=True, bbox_inches = \"tight\")"
   ]
  },
  {
   "cell_type": "markdown",
   "metadata": {},
   "source": [
    "# Avg. Rune Distribution"
   ]
  },
  {
   "cell_type": "code",
   "execution_count": 10,
   "metadata": {},
   "outputs": [
    {
     "data": {
      "image/png": "[encoded data removed]",
      "text/plain": [
       "<Figure size 720x360 with 1 Axes>"
      ]
     },
     "metadata": {},
     "output_type": "display_data"
    }
   ],
   "source": [
    "fig = plt.figure(figsize=(10, 5))\n",
    "sns.distplot(df_stars6[\"Avg Eff\"], bins=20, kde=False, rug=True).set_xlabel(None)\n",
    "plt.tick_params(labelcolor='white')\n",
    "plt.savefig(monster + \"_dist_rune_eff.png\", transparent=True, bbox_inches = \"tight\")"
   ]
  },
  {
   "cell_type": "markdown",
   "metadata": {},
   "source": [
    "# Sets"
   ]
  },
  {
   "cell_type": "code",
   "execution_count": 11,
   "metadata": {},
   "outputs": [
    {
     "name": "stdout",
     "output_type": "stream",
     "text": [
      "Revenge + Violent              109\n",
      "Violent                         28\n",
      "Energy + Violent                20\n",
      "Energy + Swift                  16\n",
      "Revenge + Revenge + Revenge     14\n",
      "Revenge + Swift                  9\n",
      "Energy + Revenge + Revenge       8\n",
      "Guard + Violent                  7\n",
      "Swift                            7\n",
      "Shield + Violent                 6\n",
      "Endure + Violent                 6\n",
      "Focus + Revenge + Revenge        6\n",
      "Energy + Revenge                 6\n",
      "Fight + Fight + Will             5\n",
      "Revenge + Revenge                5\n",
      "Endure + Revenge + Revenge       4\n",
      "Focus + Violent                  3\n",
      "Fight + Fight + Fight            3\n",
      "Endure + Endure + Guard          2\n",
      "Nemesis + Violent                2\n",
      "Fight + Violent                  2\n",
      "Focus + Swift                    2\n",
      "Energy + Fatal                   2\n",
      "Fatal + Revenge                  2\n",
      "Guard + Revenge                  2\n",
      "Endure                           2\n",
      "Fight + Revenge                  2\n",
      "Guard + Revenge + Revenge        2\n",
      "Endure + Energy + Revenge        2\n",
      "Name: Sets, dtype: int64\n"
     ]
    },
    {
     "data": {
      "image/png": "[encoded data removed]",
      "text/plain": [
       "<Figure size 1440x360 with 1 Axes>"
      ]
     },
     "metadata": {},
     "output_type": "display_data"
    }
   ],
   "source": [
    "fig = plt.figure(figsize=(20, 5))\n",
    "counts = df_stars6[\"Sets\"].value_counts()\n",
    "counts = counts[counts > 1]\n",
    "print(counts)\n",
    "x, y = counts.index, counts.values\n",
    "sets = sns.barplot(x=x, y=y)\n",
    "_ = sets.set_xticklabels(sets.get_xticklabels(), rotation=45, horizontalalignment='right')\n",
    "plt.tick_params(labelcolor='white')\n",
    "plt.savefig(monster + \"_dist_sets.png\", transparent=True, bbox_inches = \"tight\")"
   ]
  },
  {
   "cell_type": "markdown",
   "metadata": {},
   "source": [
    "# 4-Rune Sets"
   ]
  },
  {
   "cell_type": "code",
   "execution_count": 25,
   "metadata": {},
   "outputs": [
    {
     "data": {
      "image/png": "[encoded data removed]",
      "text/plain": [
       "<Figure size 1440x360 with 1 Axes>"
      ]
     },
     "metadata": {},
     "output_type": "display_data"
    }
   ],
   "source": [
    "sets_4 = ['Violent', 'Swift', 'Rage', 'Fatal', 'Despair', 'Vampire']\n",
    "fig = plt.figure(figsize=(20, 5))\n",
    "counts = df_stars6[\"Sets\"].value_counts()\n",
    "set_sum = dict()\n",
    "for set_4 in sets_4:\n",
    "    indexes = [val for val in counts.index if set_4 in val]\n",
    "    set_count = counts.loc[indexes]\n",
    "    set_sum[set_4] = set_count.sum()\n",
    "set_sum = {k: v for k, v in sorted(set_sum.items(), key=lambda item: item[1], reverse=True)}\n",
    "x, y = list(set_sum.keys()), list(set_sum.values())\n",
    "sets = sns.barplot(x=x, y=y)\n",
    "_ = sets.set_xticklabels(sets.get_xticklabels(), rotation=45, horizontalalignment='right')\n",
    "plt.tick_params(labelcolor='white')\n",
    "plt.savefig(monster + \"_dist_4sets.png\", transparent=True, bbox_inches = \"tight\")"
   ]
  },
  {
   "cell_type": "markdown",
   "metadata": {},
   "source": [
    "# Eff. HP Distribution for most common set"
   ]
  },
  {
   "cell_type": "code",
   "execution_count": 12,
   "metadata": {},
   "outputs": [
    {
     "name": "stdout",
     "output_type": "stream",
     "text": [
      "Revenge + Violent\n"
     ]
    },
    {
     "data": {
      "image/png": "[encoded data removed]",
      "text/plain": [
       "<Figure size 720x360 with 1 Axes>"
      ]
     },
     "metadata": {},
     "output_type": "display_data"
    }
   ],
   "source": [
    "most_common_set = counts.index[0]\n",
    "print(most_common_set)\n",
    "\n",
    "fig = plt.figure(figsize=(10, 5))\n",
    "sns.distplot(df_stars6[\"Eff. HP\"][df_stars6[\"Sets\"] == most_common_set], bins=20, kde=False, rug=True).set_xlabel(None)\n",
    "plt.tick_params(labelcolor='white')\n",
    "plt.savefig(monster + \"_dist_common_set_effhp.png\", transparent=True, bbox_inches = \"tight\")"
   ]
  },
  {
   "cell_type": "markdown",
   "metadata": {},
   "source": [
    "# Speed Distribution"
   ]
  },
  {
   "cell_type": "code",
   "execution_count": 13,
   "metadata": {},
   "outputs": [
    {
     "data": {
      "image/png": "[encoded data removed]",
      "text/plain": [
       "<Figure size 720x360 with 1 Axes>"
      ]
     },
     "metadata": {},
     "output_type": "display_data"
    }
   ],
   "source": [
    "fig = plt.figure(figsize=(10, 5))\n",
    "sns.distplot(df_stars6[\"Speed\"], bins=20, kde=False, rug=True).set_xlabel(None)\n",
    "plt.tick_params(labelcolor='white')\n",
    "plt.savefig(monster + \"_dist_speed.png\", transparent=True,  bbox_inches = \"tight\")"
   ]
  },
  {
   "cell_type": "markdown",
   "metadata": {},
   "source": [
    "# Speed Distribution for TOP 10% Eff. HP"
   ]
  },
  {
   "cell_type": "code",
   "execution_count": 14,
   "metadata": {},
   "outputs": [
    {
     "data": {
      "image/png": "[encoded data removed]",
      "text/plain": [
       "<Figure size 720x360 with 1 Axes>"
      ]
     },
     "metadata": {},
     "output_type": "display_data"
    }
   ],
   "source": [
    "fig = plt.figure(figsize=(10, 5))\n",
    "sns.distplot(df_stars6[\"Speed\"].head(int(df_stars6.shape[0] * .1)), bins=20, kde=False, rug=True).set_xlabel(None)\n",
    "plt.tick_params(labelcolor='white')\n",
    "plt.savefig(monster + \"_dist_speed_top10_percent.png\", transparent=True,  bbox_inches = \"tight\")"
   ]
  },
  {
   "cell_type": "markdown",
   "metadata": {},
   "source": [
    "# Speed - Eff. HP Relation for TOP 10% Eff. HP"
   ]
  },
  {
   "cell_type": "code",
   "execution_count": 15,
   "metadata": {},
   "outputs": [
    {
     "data": {
      "text/plain": [
       "<Figure size 720x360 with 0 Axes>"
      ]
     },
     "metadata": {},
     "output_type": "display_data"
    },
    {
     "data": {
      "image/png": "[encoded data removed]",
      "text/plain": [
       "<Figure size 360x360 with 1 Axes>"
      ]
     },
     "metadata": {},
     "output_type": "display_data"
    }
   ],
   "source": [
    "fig = plt.figure(figsize=(10, 5))\n",
    "sns.lmplot(x=\"Speed\", y=\"Eff. HP\", data=df_stars6.head(int(df_stars6.shape[0] * .1)))\n",
    "plt.tick_params(labelcolor='white')\n",
    "plt.savefig(monster + \"_rel_spd_dmg_top10_percent.png\", transparent=True,  bbox_inches = \"tight\")"
   ]
  },
  {
   "cell_type": "markdown",
   "metadata": {},
   "source": [
    "# Attack - Eff. HP Relation for TOP 10% Eff. HP"
   ]
  },
  {
   "cell_type": "code",
   "execution_count": 16,
   "metadata": {},
   "outputs": [
    {
     "data": {
      "text/plain": [
       "<Figure size 720x360 with 0 Axes>"
      ]
     },
     "metadata": {},
     "output_type": "display_data"
    },
    {
     "data": {
      "image/png": "[encoded data removed]",
      "text/plain": [
       "<Figure size 360x360 with 1 Axes>"
      ]
     },
     "metadata": {},
     "output_type": "display_data"
    }
   ],
   "source": [
    "fig = plt.figure(figsize=(10, 5))\n",
    "sns.lmplot(x=\"Attack\", y=\"Eff. HP\", data=df_stars6.sort_values(['Attack'], ascending=False).head(int(df_stars6.shape[0] * .1)))\n",
    "plt.tick_params(labelcolor='white')\n",
    "plt.savefig(monster + \"_rel_atk_dmg_top10_percent.png\", transparent=True,  bbox_inches = \"tight\")"
   ]
  },
  {
   "cell_type": "markdown",
   "metadata": {},
   "source": [
    "# Best by Category"
   ]
  },
  {
   "cell_type": "code",
   "execution_count": 17,
   "metadata": {},
   "outputs": [
    {
     "data": {
      "text/html": [
       "<div>\n",
       "<style scoped>\n",
       "    .dataframe tbody tr th:only-of-type {\n",
       "        vertical-align: middle;\n",
       "    }\n",
       "\n",
       "    .dataframe tbody tr th {\n",
       "        vertical-align: top;\n",
       "    }\n",
       "\n",
       "    .dataframe thead th {\n",
       "        text-align: right;\n",
       "    }\n",
       "</style>\n",
       "<table border=\"1\" class=\"dataframe\">\n",
       "  <thead>\n",
       "    <tr style=\"text-align: right;\">\n",
       "      <th></th>\n",
       "      <th>HP</th>\n",
       "      <th>Attack</th>\n",
       "      <th>Defense</th>\n",
       "      <th>Speed</th>\n",
       "      <th>Resistance</th>\n",
       "      <th>Accuracy</th>\n",
       "      <th>Crit Rate</th>\n",
       "      <th>Crit Dmg</th>\n",
       "      <th>Avg Eff</th>\n",
       "      <th>Eff. HP</th>\n",
       "      <th>Eff. HP D-B</th>\n",
       "    </tr>\n",
       "    <tr>\n",
       "      <th>ID</th>\n",
       "      <th></th>\n",
       "      <th></th>\n",
       "      <th></th>\n",
       "      <th></th>\n",
       "      <th></th>\n",
       "      <th></th>\n",
       "      <th></th>\n",
       "      <th></th>\n",
       "      <th></th>\n",
       "      <th></th>\n",
       "      <th></th>\n",
       "    </tr>\n",
       "  </thead>\n",
       "  <tbody>\n",
       "    <tr>\n",
       "      <th>1</th>\n",
       "      <td>40302</td>\n",
       "      <td>1345</td>\n",
       "      <td>1519</td>\n",
       "      <td>240</td>\n",
       "      <td>115</td>\n",
       "      <td>83</td>\n",
       "      <td>77</td>\n",
       "      <td>134</td>\n",
       "      <td>101</td>\n",
       "      <td>207869</td>\n",
       "      <td>89541</td>\n",
       "    </tr>\n",
       "  </tbody>\n",
       "</table>\n",
       "</div>"
      ],
      "text/plain": [
       "       HP Attack Defense Speed Resistance Accuracy Crit Rate Crit Dmg Avg Eff  \\\n",
       "ID                                                                              \n",
       "1   40302   1345    1519   240        115       83        77      134     101   \n",
       "\n",
       "   Eff. HP Eff. HP D-B  \n",
       "ID                      \n",
       "1   207869       89541  "
      ]
     },
     "execution_count": 17,
     "metadata": {},
     "output_type": "execute_result"
    }
   ],
   "source": [
    "cols = ['HP', 'Attack', 'Defense', 'Speed', 'Resistance', 'Accuracy', 'Crit Rate', 'Crit Dmg', 'Avg Eff', 'Eff. HP', 'Eff. HP D-B']\n",
    "df_best = pd.DataFrame(columns=[\"ID\"] + cols)\n",
    "df_best.set_index(\"ID\", drop=True, inplace=True)\n",
    "\n",
    "best = list()\n",
    "for column in cols:\n",
    "    best.append(int(round(df.sort_values([column], ascending=False)[column].head(1).values[0])))\n",
    "    \n",
    "df_best.loc[1] = best\n",
    "df_best"
   ]
  },
  {
   "cell_type": "markdown",
   "metadata": {},
   "source": [
    "# Best 10 Builds by Avg Eff"
   ]
  },
  {
   "cell_type": "code",
   "execution_count": 18,
   "metadata": {},
   "outputs": [
    {
     "name": "stdout",
     "output_type": "stream",
     "text": [
      "<table border=\"1\" class=\"dataframe\">\n",
      "  <thead>\n",
      "    <tr style=\"text-align: right;\">\n",
      "      <th></th>\n",
      "      <th>HP</th>\n",
      "      <th>Attack</th>\n",
      "      <th>Defense</th>\n",
      "      <th>Speed</th>\n",
      "      <th>Res</th>\n",
      "      <th>Acc</th>\n",
      "      <th>Crit Rate</th>\n",
      "      <th>Crit Dmg</th>\n",
      "      <th>Avg Eff</th>\n",
      "      <th>Eff. HP</th>\n",
      "      <th>Eff. HP D-B</th>\n",
      "      <th>Sets</th>\n",
      "      <th>Rune #2</th>\n",
      "      <th>Rune #4</th>\n",
      "      <th>Rune #6</th>\n",
      "    </tr>\n",
      "  </thead>\n",
      "  <tbody>\n",
      "    <tr>\n",
      "      <th>0</th>\n",
      "      <td>36081</td>\n",
      "      <td>930</td>\n",
      "      <td>1212</td>\n",
      "      <td>171</td>\n",
      "      <td>40</td>\n",
      "      <td>42</td>\n",
      "      <td>15</td>\n",
      "      <td>60</td>\n",
      "      <td>101.19</td>\n",
      "      <td>194188</td>\n",
      "      <td>87049</td>\n",
      "      <td>Tolerance + Tolerance</td>\n",
      "      <td>DEF%</td>\n",
      "      <td>HP%</td>\n",
      "      <td>HP%</td>\n",
      "    </tr>\n",
      "    <tr>\n",
      "      <th>1</th>\n",
      "      <td>32818</td>\n",
      "      <td>643</td>\n",
      "      <td>1484</td>\n",
      "      <td>218</td>\n",
      "      <td>58</td>\n",
      "      <td>17</td>\n",
      "      <td>20</td>\n",
      "      <td>56</td>\n",
      "      <td>100.41</td>\n",
      "      <td>207869</td>\n",
      "      <td>88550</td>\n",
      "      <td>Energy + Revenge + Revenge</td>\n",
      "      <td>SPD</td>\n",
      "      <td>DEF%</td>\n",
      "      <td>DEF%</td>\n",
      "    </tr>\n",
      "    <tr>\n",
      "      <th>2</th>\n",
      "      <td>30688</td>\n",
      "      <td>764</td>\n",
      "      <td>1160</td>\n",
      "      <td>227</td>\n",
      "      <td>62</td>\n",
      "      <td>59</td>\n",
      "      <td>21</td>\n",
      "      <td>56</td>\n",
      "      <td>98.64</td>\n",
      "      <td>159577</td>\n",
      "      <td>72362</td>\n",
      "      <td>Endure + Revenge + Revenge</td>\n",
      "      <td>SPD</td>\n",
      "      <td>DEF%</td>\n",
      "      <td>HP%</td>\n",
      "    </tr>\n",
      "    <tr>\n",
      "      <th>3</th>\n",
      "      <td>23368</td>\n",
      "      <td>665</td>\n",
      "      <td>1519</td>\n",
      "      <td>237</td>\n",
      "      <td>76</td>\n",
      "      <td>18</td>\n",
      "      <td>15</td>\n",
      "      <td>56</td>\n",
      "      <td>96.84</td>\n",
      "      <td>150875</td>\n",
      "      <td>63910</td>\n",
      "      <td>Revenge + Revenge</td>\n",
      "      <td>SPD</td>\n",
      "      <td>DEF%</td>\n",
      "      <td>DEF%</td>\n",
      "    </tr>\n",
      "    <tr>\n",
      "      <th>4</th>\n",
      "      <td>34086</td>\n",
      "      <td>624</td>\n",
      "      <td>1037</td>\n",
      "      <td>240</td>\n",
      "      <td>47</td>\n",
      "      <td>27</td>\n",
      "      <td>29</td>\n",
      "      <td>50</td>\n",
      "      <td>96.24</td>\n",
      "      <td>162573</td>\n",
      "      <td>75973</td>\n",
      "      <td>Revenge + Revenge + Revenge</td>\n",
      "      <td>SPD</td>\n",
      "      <td>HP%</td>\n",
      "      <td>HP%</td>\n",
      "    </tr>\n",
      "    <tr>\n",
      "      <th>5</th>\n",
      "      <td>29355</td>\n",
      "      <td>698</td>\n",
      "      <td>1347</td>\n",
      "      <td>221</td>\n",
      "      <td>57</td>\n",
      "      <td>23</td>\n",
      "      <td>33</td>\n",
      "      <td>50</td>\n",
      "      <td>94.75</td>\n",
      "      <td>171858</td>\n",
      "      <td>74982</td>\n",
      "      <td>Endure + Revenge</td>\n",
      "      <td>SPD</td>\n",
      "      <td>HP%</td>\n",
      "      <td>DEF%</td>\n",
      "    </tr>\n",
      "    <tr>\n",
      "      <th>6</th>\n",
      "      <td>28395</td>\n",
      "      <td>739</td>\n",
      "      <td>1218</td>\n",
      "      <td>218</td>\n",
      "      <td>40</td>\n",
      "      <td>17</td>\n",
      "      <td>49</td>\n",
      "      <td>74</td>\n",
      "      <td>94.04</td>\n",
      "      <td>153418</td>\n",
      "      <td>68684</td>\n",
      "      <td>Revenge + Violent</td>\n",
      "      <td>SPD</td>\n",
      "      <td>DEF%</td>\n",
      "      <td>HP%</td>\n",
      "    </tr>\n",
      "    <tr>\n",
      "      <th>7</th>\n",
      "      <td>32616</td>\n",
      "      <td>940</td>\n",
      "      <td>959</td>\n",
      "      <td>208</td>\n",
      "      <td>91</td>\n",
      "      <td>38</td>\n",
      "      <td>25</td>\n",
      "      <td>54</td>\n",
      "      <td>93.40</td>\n",
      "      <td>146658</td>\n",
      "      <td>70025</td>\n",
      "      <td>Endure + Endure + Revenge</td>\n",
      "      <td>SPD</td>\n",
      "      <td>HP%</td>\n",
      "      <td>HP%</td>\n",
      "    </tr>\n",
      "    <tr>\n",
      "      <th>8</th>\n",
      "      <td>38103</td>\n",
      "      <td>758</td>\n",
      "      <td>889</td>\n",
      "      <td>220</td>\n",
      "      <td>31</td>\n",
      "      <td>49</td>\n",
      "      <td>24</td>\n",
      "      <td>54</td>\n",
      "      <td>92.48</td>\n",
      "      <td>161995</td>\n",
      "      <td>79005</td>\n",
      "      <td>Focus + Revenge + Revenge</td>\n",
      "      <td>SPD</td>\n",
      "      <td>HP%</td>\n",
      "      <td>HP%</td>\n",
      "    </tr>\n",
      "    <tr>\n",
      "      <th>9</th>\n",
      "      <td>38522</td>\n",
      "      <td>711</td>\n",
      "      <td>1128</td>\n",
      "      <td>196</td>\n",
      "      <td>60</td>\n",
      "      <td>11</td>\n",
      "      <td>20</td>\n",
      "      <td>66</td>\n",
      "      <td>92.20</td>\n",
      "      <td>196000</td>\n",
      "      <td>89541</td>\n",
      "      <td>Nemesis + Swift</td>\n",
      "      <td>HP%</td>\n",
      "      <td>HP%</td>\n",
      "      <td>DEF%</td>\n",
      "    </tr>\n",
      "  </tbody>\n",
      "</table>\n"
     ]
    }
   ],
   "source": [
    "print(df_stars6.drop(['Acquired', 'Locked', 'Rune #1', 'Rune #3', 'Rune #5', 'Level', 'Stars', 'Transmogrified', 'Skilled Up'], axis=1).reset_index(drop=True).rename(columns={'Resistance': 'Res', 'Accuracy': 'Acc'}).sort_values(['Avg Eff'], ascending=False).head(10).to_html())"
   ]
  },
  {
   "cell_type": "markdown",
   "metadata": {},
   "source": [
    "# Most common Builds"
   ]
  },
  {
   "cell_type": "code",
   "execution_count": 19,
   "metadata": {},
   "outputs": [
    {
     "name": "stdout",
     "output_type": "stream",
     "text": [
      "   Rune #2 Rune #4 Rune #6  Count\n",
      "29     SPD     HP%     HP%    122\n",
      "28     SPD     HP%    DEF%     67\n",
      "25     SPD    DEF%     HP%     57\n",
      "23     SPD    DEF%    DEF%     20\n",
      "13     HP%     HP%     HP%     11\n",
      "27     SPD     HP%    ACC%      6\n",
      "7      HP%    DEF%    DEF%      5\n",
      "8      HP%    DEF%     HP%      5\n",
      "31     SPD     HP%    RES%      5\n",
      "11     HP%     HP%    DEF%      4\n",
      "4     DEF%     HP%    DEF%      2\n",
      "5     DEF%     HP%     HP%      2\n",
      "16     SPD    ATK%     HP%      2\n",
      "20     SPD   CDmg%     HP%      2\n"
     ]
    },
    {
     "data": {
      "image/png": "[encoded data removed]",
      "text/plain": [
       "<Figure size 720x360 with 1 Axes>"
      ]
     },
     "metadata": {},
     "output_type": "display_data"
    }
   ],
   "source": [
    "fig = plt.figure(figsize=(10, 5))\n",
    "\n",
    "builds_count = df_stars6.groupby([\"Rune #2\", \"Rune #4\", \"Rune #6\"]).size().reset_index(name='Count')\n",
    "builds_count = builds_count[builds_count['Count'] > 1].sort_values([\"Count\"], ascending=False) # single builds to drop\n",
    "print(builds_count)\n",
    "builds_count_to_plot = builds_count.set_index([\"Rune #2\", \"Rune #4\", \"Rune #6\"]).T\n",
    "\n",
    "builds_common = sns.barplot(data=builds_count_to_plot)\n",
    "_ = builds_common.set_xticklabels(builds_common.get_xticklabels(), rotation=45, horizontalalignment='right')\n",
    "plt.tick_params(labelcolor='white')\n",
    "plt.savefig(monster + \"_build_common.png\", transparent=True, bbox_inches = \"tight\")"
   ]
  },
  {
   "cell_type": "markdown",
   "metadata": {},
   "source": [
    "# Builds for most common set"
   ]
  },
  {
   "cell_type": "code",
   "execution_count": 20,
   "metadata": {},
   "outputs": [
    {
     "name": "stdout",
     "output_type": "stream",
     "text": [
      "  Rune #2 Rune #4 Rune #6  Count\n",
      "8     SPD     HP%     HP%     49\n",
      "7     SPD     HP%    DEF%     26\n",
      "4     SPD    DEF%     HP%     20\n",
      "3     SPD    DEF%    DEF%      6\n",
      "6     SPD     HP%    ACC%      3\n"
     ]
    },
    {
     "data": {
      "image/png": "[encoded data removed]",
      "text/plain": [
       "<Figure size 720x360 with 1 Axes>"
      ]
     },
     "metadata": {},
     "output_type": "display_data"
    }
   ],
   "source": [
    "fig = plt.figure(figsize=(10, 5))\n",
    "builds_count = df_stars6[df_stars6[\"Sets\"] == most_common_set].groupby([\"Rune #2\", \"Rune #4\", \"Rune #6\"]).size().reset_index(name='Count')\n",
    "builds_count = builds_count[builds_count['Count'] > 2].sort_values([\"Count\"], ascending=False) # single builds to drop\n",
    "print(builds_count)\n",
    "builds_count_to_plot = builds_count.set_index([\"Rune #2\", \"Rune #4\", \"Rune #6\"]).T\n",
    "\n",
    "builds_common = sns.barplot(data=builds_count_to_plot)\n",
    "ax = builds_common.set_xticklabels(builds_common.get_xticklabels(), rotation=45, horizontalalignment='right')\n",
    "builds_common.tick_params(labelcolor='white')\n",
    "plt.savefig(monster + \"_build_common_set.png\", transparent=True, bbox_inches = \"tight\")"
   ]
  },
  {
   "cell_type": "markdown",
   "metadata": {},
   "source": [
    "# Most frequent slot 2"
   ]
  },
  {
   "cell_type": "code",
   "execution_count": 21,
   "metadata": {},
   "outputs": [
    {
     "data": {
      "image/png": "[encoded data removed]",
      "text/plain": [
       "<Figure size 720x360 with 1 Axes>"
      ]
     },
     "metadata": {},
     "output_type": "display_data"
    }
   ],
   "source": [
    "fig = plt.figure(figsize=(10, 5))\n",
    "\n",
    "counts_slot2 = df_stars6[\"Rune #2\"].value_counts()\n",
    "counts_slot2 = counts_slot2[counts_slot2 > 2]\n",
    "x, y = counts_slot2.index, counts_slot2.values\n",
    "slot2 = sns.barplot(x=x, y=y)\n",
    "_ = slot2.set_xticklabels(slot2.get_xticklabels(), rotation=45, horizontalalignment='right')\n",
    "plt.tick_params(labelcolor='white')\n",
    "plt.savefig(monster + \"_slot_2.png\", transparent=True, bbox_inches = \"tight\")"
   ]
  },
  {
   "cell_type": "markdown",
   "metadata": {},
   "source": [
    "# Most frequent slot 4"
   ]
  },
  {
   "cell_type": "code",
   "execution_count": 22,
   "metadata": {},
   "outputs": [
    {
     "data": {
      "image/png": "[encoded data removed]",
      "text/plain": [
       "<Figure size 720x360 with 1 Axes>"
      ]
     },
     "metadata": {},
     "output_type": "display_data"
    }
   ],
   "source": [
    "fig = plt.figure(figsize=(10, 5))\n",
    "\n",
    "counts_slot4 = df_stars6[\"Rune #4\"].value_counts()\n",
    "counts_slot4 = counts_slot4[counts_slot4 > 2]\n",
    "x, y = counts_slot4.index, counts_slot4.values\n",
    "slot4 = sns.barplot(x=x, y=y)\n",
    "_ = slot4.set_xticklabels(slot4.get_xticklabels(), rotation=45, horizontalalignment='right')\n",
    "plt.tick_params(labelcolor='white')\n",
    "plt.savefig(monster + \"_slot_4.png\", transparent=True, bbox_inches = \"tight\")"
   ]
  },
  {
   "cell_type": "markdown",
   "metadata": {},
   "source": [
    "# Most frequent slot 6"
   ]
  },
  {
   "cell_type": "code",
   "execution_count": 23,
   "metadata": {},
   "outputs": [
    {
     "data": {
      "image/png": "[encoded data removed]",
      "text/plain": [
       "<Figure size 720x360 with 1 Axes>"
      ]
     },
     "metadata": {},
     "output_type": "display_data"
    }
   ],
   "source": [
    "fig = plt.figure(figsize=(10, 5))\n",
    "\n",
    "counts_slot6 = df_stars6[\"Rune #6\"].value_counts()\n",
    "counts_slot6 = counts_slot6[counts_slot6 > 2]\n",
    "x, y = counts_slot6.index, counts_slot6.values\n",
    "slot6 = sns.barplot(x=x, y=y)\n",
    "_ = slot6.set_xticklabels(slot6.get_xticklabels(), rotation=45, horizontalalignment='right')\n",
    "plt.tick_params(labelcolor='white')\n",
    "plt.savefig(monster + \"_slot_6.png\", transparent=True, bbox_inches = \"tight\")"
   ]
  }
 ],
 "metadata": {
  "kernelspec": {
   "display_name": "Python 3",
   "language": "python",
   "name": "python3"
  },
  "language_info": {
   "codemirror_mode": {
    "name": "ipython",
    "version": 3
   },
   "file_extension": ".py",
   "mimetype": "text/x-python",
   "name": "python",
   "nbconvert_exporter": "python",
   "pygments_lexer": "ipython3",
   "version": "3.7.3"
  }
 },
 "nbformat": 4,
 "nbformat_minor": 4
}
