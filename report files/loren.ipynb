{
 "cells": [
  {
   "cell_type": "markdown",
   "metadata": {},
   "source": [
    "# Setting Up"
   ]
  },
  {
   "cell_type": "code",
   "execution_count": 1,
   "metadata": {
    "scrolled": false
   },
   "outputs": [
    {
     "name": "stdout",
     "output_type": "stream",
     "text": [
      "Index(['Level', 'Stars', 'HP', 'Attack', 'Defense', 'Speed', 'Resistance',\n",
      "       'Accuracy', 'Crit Rate', 'Crit Dmg', 'Avg Eff', 'Eff. HP',\n",
      "       'Eff. HP D-B', 'Sets', 'Skilled Up', 'Acquired', 'Locked',\n",
      "       'Transmogrified', 'Rune #1', 'Rune #2', 'Rune #3', 'Rune #4', 'Rune #5',\n",
      "       'Rune #6'],\n",
      "      dtype='object')\n"
     ]
    },
    {
     "data": {
      "text/html": [
       "<div>\n",
       "<style scoped>\n",
       "    .dataframe tbody tr th:only-of-type {\n",
       "        vertical-align: middle;\n",
       "    }\n",
       "\n",
       "    .dataframe tbody tr th {\n",
       "        vertical-align: top;\n",
       "    }\n",
       "\n",
       "    .dataframe thead th {\n",
       "        text-align: right;\n",
       "    }\n",
       "</style>\n",
       "<table border=\"1\" class=\"dataframe\">\n",
       "  <thead>\n",
       "    <tr style=\"text-align: right;\">\n",
       "      <th></th>\n",
       "      <th>Level</th>\n",
       "      <th>Stars</th>\n",
       "      <th>HP</th>\n",
       "      <th>Attack</th>\n",
       "      <th>Defense</th>\n",
       "      <th>Speed</th>\n",
       "      <th>Resistance</th>\n",
       "      <th>Accuracy</th>\n",
       "      <th>Crit Rate</th>\n",
       "      <th>Crit Dmg</th>\n",
       "      <th>...</th>\n",
       "      <th>Skilled Up</th>\n",
       "      <th>Acquired</th>\n",
       "      <th>Locked</th>\n",
       "      <th>Transmogrified</th>\n",
       "      <th>Rune #1</th>\n",
       "      <th>Rune #2</th>\n",
       "      <th>Rune #3</th>\n",
       "      <th>Rune #4</th>\n",
       "      <th>Rune #5</th>\n",
       "      <th>Rune #6</th>\n",
       "    </tr>\n",
       "    <tr>\n",
       "      <th>ID</th>\n",
       "      <th></th>\n",
       "      <th></th>\n",
       "      <th></th>\n",
       "      <th></th>\n",
       "      <th></th>\n",
       "      <th></th>\n",
       "      <th></th>\n",
       "      <th></th>\n",
       "      <th></th>\n",
       "      <th></th>\n",
       "      <th></th>\n",
       "      <th></th>\n",
       "      <th></th>\n",
       "      <th></th>\n",
       "      <th></th>\n",
       "      <th></th>\n",
       "      <th></th>\n",
       "      <th></th>\n",
       "      <th></th>\n",
       "      <th></th>\n",
       "      <th></th>\n",
       "    </tr>\n",
       "  </thead>\n",
       "  <tbody>\n",
       "    <tr>\n",
       "      <th>14022412291</th>\n",
       "      <td>40</td>\n",
       "      <td>6</td>\n",
       "      <td>34832</td>\n",
       "      <td>1057</td>\n",
       "      <td>1100</td>\n",
       "      <td>287</td>\n",
       "      <td>47</td>\n",
       "      <td>62</td>\n",
       "      <td>15</td>\n",
       "      <td>54</td>\n",
       "      <td>...</td>\n",
       "      <td>Yes</td>\n",
       "      <td>2019-08-18 05:10:13</td>\n",
       "      <td>No</td>\n",
       "      <td>No</td>\n",
       "      <td>ATK+</td>\n",
       "      <td>SPD</td>\n",
       "      <td>DEF+</td>\n",
       "      <td>HP%</td>\n",
       "      <td>HP+</td>\n",
       "      <td>HP%</td>\n",
       "    </tr>\n",
       "    <tr>\n",
       "      <th>10522570404</th>\n",
       "      <td>40</td>\n",
       "      <td>6</td>\n",
       "      <td>23919</td>\n",
       "      <td>1542</td>\n",
       "      <td>1332</td>\n",
       "      <td>310</td>\n",
       "      <td>19</td>\n",
       "      <td>58</td>\n",
       "      <td>28</td>\n",
       "      <td>50</td>\n",
       "      <td>...</td>\n",
       "      <td>Yes</td>\n",
       "      <td>2017-11-21 06:54:30</td>\n",
       "      <td>No</td>\n",
       "      <td>No</td>\n",
       "      <td>ATK+</td>\n",
       "      <td>SPD</td>\n",
       "      <td>DEF+</td>\n",
       "      <td>DEF%</td>\n",
       "      <td>HP+</td>\n",
       "      <td>ATK%</td>\n",
       "    </tr>\n",
       "    <tr>\n",
       "      <th>13944122234</th>\n",
       "      <td>40</td>\n",
       "      <td>6</td>\n",
       "      <td>27649</td>\n",
       "      <td>893</td>\n",
       "      <td>1437</td>\n",
       "      <td>300</td>\n",
       "      <td>31</td>\n",
       "      <td>65</td>\n",
       "      <td>33</td>\n",
       "      <td>67</td>\n",
       "      <td>...</td>\n",
       "      <td>Yes</td>\n",
       "      <td>2019-08-04 16:25:43</td>\n",
       "      <td>No</td>\n",
       "      <td>Yes</td>\n",
       "      <td>ATK+</td>\n",
       "      <td>SPD</td>\n",
       "      <td>DEF+</td>\n",
       "      <td>DEF%</td>\n",
       "      <td>HP+</td>\n",
       "      <td>HP%</td>\n",
       "    </tr>\n",
       "    <tr>\n",
       "      <th>10147482973</th>\n",
       "      <td>40</td>\n",
       "      <td>6</td>\n",
       "      <td>27352</td>\n",
       "      <td>1339</td>\n",
       "      <td>1017</td>\n",
       "      <td>275</td>\n",
       "      <td>15</td>\n",
       "      <td>55</td>\n",
       "      <td>57</td>\n",
       "      <td>141</td>\n",
       "      <td>...</td>\n",
       "      <td>Yes</td>\n",
       "      <td>2017-09-24 22:11:35</td>\n",
       "      <td>No</td>\n",
       "      <td>No</td>\n",
       "      <td>ATK+</td>\n",
       "      <td>SPD</td>\n",
       "      <td>DEF+</td>\n",
       "      <td>CDmg%</td>\n",
       "      <td>HP+</td>\n",
       "      <td>HP%</td>\n",
       "    </tr>\n",
       "    <tr>\n",
       "      <th>11221929141</th>\n",
       "      <td>40</td>\n",
       "      <td>6</td>\n",
       "      <td>30457</td>\n",
       "      <td>1207</td>\n",
       "      <td>1102</td>\n",
       "      <td>281</td>\n",
       "      <td>22</td>\n",
       "      <td>52</td>\n",
       "      <td>27</td>\n",
       "      <td>69</td>\n",
       "      <td>...</td>\n",
       "      <td>Yes</td>\n",
       "      <td>2018-03-19 06:06:36</td>\n",
       "      <td>No</td>\n",
       "      <td>No</td>\n",
       "      <td>ATK+</td>\n",
       "      <td>SPD</td>\n",
       "      <td>DEF+</td>\n",
       "      <td>HP%</td>\n",
       "      <td>HP+</td>\n",
       "      <td>HP%</td>\n",
       "    </tr>\n",
       "    <tr>\n",
       "      <th>...</th>\n",
       "      <td>...</td>\n",
       "      <td>...</td>\n",
       "      <td>...</td>\n",
       "      <td>...</td>\n",
       "      <td>...</td>\n",
       "      <td>...</td>\n",
       "      <td>...</td>\n",
       "      <td>...</td>\n",
       "      <td>...</td>\n",
       "      <td>...</td>\n",
       "      <td>...</td>\n",
       "      <td>...</td>\n",
       "      <td>...</td>\n",
       "      <td>...</td>\n",
       "      <td>...</td>\n",
       "      <td>...</td>\n",
       "      <td>...</td>\n",
       "      <td>...</td>\n",
       "      <td>...</td>\n",
       "      <td>...</td>\n",
       "      <td>...</td>\n",
       "    </tr>\n",
       "    <tr>\n",
       "      <th>14593551345</th>\n",
       "      <td>30</td>\n",
       "      <td>4</td>\n",
       "      <td>6288</td>\n",
       "      <td>525</td>\n",
       "      <td>394</td>\n",
       "      <td>146</td>\n",
       "      <td>25</td>\n",
       "      <td>56</td>\n",
       "      <td>15</td>\n",
       "      <td>62</td>\n",
       "      <td>...</td>\n",
       "      <td>No</td>\n",
       "      <td>2019-11-25 09:44:05</td>\n",
       "      <td>No</td>\n",
       "      <td>No</td>\n",
       "      <td>ATK+</td>\n",
       "      <td>SPD</td>\n",
       "      <td>DEF+</td>\n",
       "      <td>HP%</td>\n",
       "      <td>HP+</td>\n",
       "      <td>DEF%</td>\n",
       "    </tr>\n",
       "    <tr>\n",
       "      <th>15079642222</th>\n",
       "      <td>30</td>\n",
       "      <td>4</td>\n",
       "      <td>10061</td>\n",
       "      <td>630</td>\n",
       "      <td>383</td>\n",
       "      <td>127</td>\n",
       "      <td>24</td>\n",
       "      <td>25</td>\n",
       "      <td>37</td>\n",
       "      <td>69</td>\n",
       "      <td>...</td>\n",
       "      <td>No</td>\n",
       "      <td>2020-02-22 23:30:17</td>\n",
       "      <td>No</td>\n",
       "      <td>No</td>\n",
       "      <td>ATK+</td>\n",
       "      <td>SPD</td>\n",
       "      <td>DEF+</td>\n",
       "      <td>HP%</td>\n",
       "      <td>HP+</td>\n",
       "      <td>HP%</td>\n",
       "    </tr>\n",
       "    <tr>\n",
       "      <th>14384039661</th>\n",
       "      <td>34</td>\n",
       "      <td>5</td>\n",
       "      <td>11822</td>\n",
       "      <td>695</td>\n",
       "      <td>454</td>\n",
       "      <td>160</td>\n",
       "      <td>24</td>\n",
       "      <td>71</td>\n",
       "      <td>27</td>\n",
       "      <td>61</td>\n",
       "      <td>...</td>\n",
       "      <td>No</td>\n",
       "      <td>2019-10-20 23:54:56</td>\n",
       "      <td>No</td>\n",
       "      <td>No</td>\n",
       "      <td>ATK+</td>\n",
       "      <td>SPD</td>\n",
       "      <td>DEF+</td>\n",
       "      <td>HP%</td>\n",
       "      <td>HP+</td>\n",
       "      <td>HP%</td>\n",
       "    </tr>\n",
       "    <tr>\n",
       "      <th>14028004218</th>\n",
       "      <td>30</td>\n",
       "      <td>4</td>\n",
       "      <td>7032</td>\n",
       "      <td>602</td>\n",
       "      <td>360</td>\n",
       "      <td>111</td>\n",
       "      <td>27</td>\n",
       "      <td>39</td>\n",
       "      <td>19</td>\n",
       "      <td>104</td>\n",
       "      <td>...</td>\n",
       "      <td>No</td>\n",
       "      <td>2019-08-19 03:02:46</td>\n",
       "      <td>No</td>\n",
       "      <td>No</td>\n",
       "      <td>ATK+</td>\n",
       "      <td>ATK+</td>\n",
       "      <td>DEF+</td>\n",
       "      <td>ATK%</td>\n",
       "      <td>HP+</td>\n",
       "      <td>DEF%</td>\n",
       "    </tr>\n",
       "    <tr>\n",
       "      <th>15244914325</th>\n",
       "      <td>27</td>\n",
       "      <td>5</td>\n",
       "      <td>10268</td>\n",
       "      <td>489</td>\n",
       "      <td>432</td>\n",
       "      <td>105</td>\n",
       "      <td>15</td>\n",
       "      <td>25</td>\n",
       "      <td>15</td>\n",
       "      <td>57</td>\n",
       "      <td>...</td>\n",
       "      <td>No</td>\n",
       "      <td>2020-03-28 03:29:53</td>\n",
       "      <td>No</td>\n",
       "      <td>No</td>\n",
       "      <td>ATK+</td>\n",
       "      <td>HP%</td>\n",
       "      <td>DEF+</td>\n",
       "      <td>DEF%</td>\n",
       "      <td>HP+</td>\n",
       "      <td>HP%</td>\n",
       "    </tr>\n",
       "  </tbody>\n",
       "</table>\n",
       "<p>472 rows × 24 columns</p>\n",
       "</div>"
      ],
      "text/plain": [
       "             Level  Stars     HP  Attack  Defense  Speed  Resistance  \\\n",
       "ID                                                                     \n",
       "14022412291     40      6  34832    1057     1100    287          47   \n",
       "10522570404     40      6  23919    1542     1332    310          19   \n",
       "13944122234     40      6  27649     893     1437    300          31   \n",
       "10147482973     40      6  27352    1339     1017    275          15   \n",
       "11221929141     40      6  30457    1207     1102    281          22   \n",
       "...            ...    ...    ...     ...      ...    ...         ...   \n",
       "14593551345     30      4   6288     525      394    146          25   \n",
       "15079642222     30      4  10061     630      383    127          24   \n",
       "14384039661     34      5  11822     695      454    160          24   \n",
       "14028004218     30      4   7032     602      360    111          27   \n",
       "15244914325     27      5  10268     489      432    105          15   \n",
       "\n",
       "             Accuracy  Crit Rate  Crit Dmg  ...  Skilled Up  \\\n",
       "ID                                          ...               \n",
       "14022412291        62         15        54  ...         Yes   \n",
       "10522570404        58         28        50  ...         Yes   \n",
       "13944122234        65         33        67  ...         Yes   \n",
       "10147482973        55         57       141  ...         Yes   \n",
       "11221929141        52         27        69  ...         Yes   \n",
       "...               ...        ...       ...  ...         ...   \n",
       "14593551345        56         15        62  ...          No   \n",
       "15079642222        25         37        69  ...          No   \n",
       "14384039661        71         27        61  ...          No   \n",
       "14028004218        39         19       104  ...          No   \n",
       "15244914325        25         15        57  ...          No   \n",
       "\n",
       "                        Acquired  Locked Transmogrified Rune #1 Rune #2  \\\n",
       "ID                                                                        \n",
       "14022412291  2019-08-18 05:10:13      No             No    ATK+     SPD   \n",
       "10522570404  2017-11-21 06:54:30      No             No    ATK+     SPD   \n",
       "13944122234  2019-08-04 16:25:43      No            Yes    ATK+     SPD   \n",
       "10147482973  2017-09-24 22:11:35      No             No    ATK+     SPD   \n",
       "11221929141  2018-03-19 06:06:36      No             No    ATK+     SPD   \n",
       "...                          ...     ...            ...     ...     ...   \n",
       "14593551345  2019-11-25 09:44:05      No             No    ATK+     SPD   \n",
       "15079642222  2020-02-22 23:30:17      No             No    ATK+     SPD   \n",
       "14384039661  2019-10-20 23:54:56      No             No    ATK+     SPD   \n",
       "14028004218  2019-08-19 03:02:46      No             No    ATK+    ATK+   \n",
       "15244914325  2020-03-28 03:29:53      No             No    ATK+     HP%   \n",
       "\n",
       "            Rune #3 Rune #4 Rune #5 Rune #6  \n",
       "ID                                           \n",
       "14022412291    DEF+     HP%     HP+     HP%  \n",
       "10522570404    DEF+    DEF%     HP+    ATK%  \n",
       "13944122234    DEF+    DEF%     HP+     HP%  \n",
       "10147482973    DEF+   CDmg%     HP+     HP%  \n",
       "11221929141    DEF+     HP%     HP+     HP%  \n",
       "...             ...     ...     ...     ...  \n",
       "14593551345    DEF+     HP%     HP+    DEF%  \n",
       "15079642222    DEF+     HP%     HP+     HP%  \n",
       "14384039661    DEF+     HP%     HP+     HP%  \n",
       "14028004218    DEF+    ATK%     HP+    DEF%  \n",
       "15244914325    DEF+    DEF%     HP+     HP%  \n",
       "\n",
       "[472 rows x 24 columns]"
      ]
     },
     "execution_count": 1,
     "metadata": {},
     "output_type": "execute_result"
    }
   ],
   "source": [
    "import pandas as pd\n",
    "import numpy as np\n",
    "import matplotlib.pyplot as plt\n",
    "import matplotlib\n",
    "import seaborn as sns\n",
    "import scipy as stats\n",
    "\n",
    "sns.set(color_codes=True)\n",
    "sns.set_style(\"dark\")\n",
    "sns.set_context(\"poster\")\n",
    "matplotlib.rcParams['text.color'] = 'white'\n",
    "\n",
    "monster = \"loren\"\n",
    "filename = monster + \"_20200413.csv\"\n",
    "multipliers = [1.34 * 3, 3.0 * 2] # ATK\n",
    "BASE_STATS = {\n",
    "    'HP': 9225,\n",
    "    'ATTACK': 681,\n",
    "    'DEFENSE': 516,\n",
    "    'SPEED': 102,\n",
    "    'CRIT_RATE': .15,\n",
    "    'CRIT_DMG': .5,\n",
    "    'ACCURACY%': 25,\n",
    "    'RESISTANCE%': 15,\n",
    "}\n",
    "\n",
    "TOWERS = {\n",
    "    'CRIT_DMG': .25,\n",
    "    'SPEED': .15,\n",
    "    'ATTACK': .20,\n",
    "    'ATTACK_ELEMENT': .21,\n",
    "    'DEFENSE': .20,\n",
    "    'HP': .20,\n",
    "}\n",
    "\n",
    "BUFFS = {\n",
    "    'ATTACK': 1.5,\n",
    "    'SPEED': .3,\n",
    "    'CRIT_RATE': .3,\n",
    "    'DEFENSE': 1.5,\n",
    "}\n",
    "\n",
    "df = pd.read_csv(filename, index_col=\"ID\")\n",
    "df_full = pd.read_csv(filename, index_col=\"ID\")\n",
    "print(df.columns)\n",
    "runes_cols = [\"Rune #\" + str(i) for i in range(1 ,7)]\n",
    "df.dropna(subset=runes_cols, how='any', inplace=True) # delete without runes\n",
    "df.sort_values([\"Avg Eff\"], ascending=False, inplace=True)\n",
    "df"
   ]
  },
  {
   "cell_type": "markdown",
   "metadata": {},
   "source": [
    "# Stars Distribution, picking 6*"
   ]
  },
  {
   "cell_type": "code",
   "execution_count": 2,
   "metadata": {},
   "outputs": [
    {
     "name": "stdout",
     "output_type": "stream",
     "text": [
      "(376, 24)\n"
     ]
    },
    {
     "data": {
      "image/png": "[encoded data removed]",
      "text/plain": [
       "<Figure size 720x720 with 1 Axes>"
      ]
     },
     "metadata": {},
     "output_type": "display_data"
    }
   ],
   "source": [
    "fig = plt.figure(figsize=(10, 10))\n",
    "stars = df[\"Stars\"].value_counts()\n",
    "plt.pie(stars, labels=stars.index, autopct='%1.1f%%', colors=['g', 'r', 'b'])\n",
    "plt.savefig(monster + \"_pie_6stars.png\", transparent=True, bbox_inches = \"tight\")\n",
    "df_stars6 = df[df[\"Stars\"] == 6] # pick only 6*\n",
    "print(df_stars6.shape)"
   ]
  },
  {
   "cell_type": "markdown",
   "metadata": {},
   "source": [
    "# Skilled Up"
   ]
  },
  {
   "cell_type": "code",
   "execution_count": 3,
   "metadata": {},
   "outputs": [
    {
     "data": {
      "image/png": "[encoded data removed]",
      "text/plain": [
       "<Figure size 720x720 with 1 Axes>"
      ]
     },
     "metadata": {},
     "output_type": "display_data"
    }
   ],
   "source": [
    "fig = plt.figure(figsize=(10, 10))\n",
    "stars = df_stars6[\"Skilled Up\"].value_counts()\n",
    "plt.pie(stars, labels=stars.index, autopct='%1.1f%%', colors=['g', 'r'])\n",
    "plt.savefig(monster + \"_pie_skillups.png\", transparent=True, bbox_inches = \"tight\")\n",
    "plt.show()"
   ]
  },
  {
   "cell_type": "markdown",
   "metadata": {},
   "source": [
    "# Transmog"
   ]
  },
  {
   "cell_type": "code",
   "execution_count": 4,
   "metadata": {},
   "outputs": [
    {
     "data": {
      "image/png": "[encoded data removed]",
      "text/plain": [
       "<Figure size 720x720 with 1 Axes>"
      ]
     },
     "metadata": {},
     "output_type": "display_data"
    }
   ],
   "source": [
    "fig = plt.figure(figsize=(10, 10))\n",
    "stars = df_stars6[\"Transmogrified\"].value_counts()\n",
    "plt.pie(stars, labels=stars.index, autopct='%1.1f%%', colors=['r', 'g'])\n",
    "plt.savefig(monster + \"_pie_transmog.png\", transparent=True, bbox_inches = \"tight\")\n",
    "plt.show()"
   ]
  },
  {
   "cell_type": "markdown",
   "metadata": {},
   "source": [
    "# Eff. HP Distribution"
   ]
  },
  {
   "cell_type": "code",
   "execution_count": 5,
   "metadata": {},
   "outputs": [
    {
     "data": {
      "image/png": "[encoded data removed]",
      "text/plain": [
       "<Figure size 720x360 with 1 Axes>"
      ]
     },
     "metadata": {},
     "output_type": "display_data"
    }
   ],
   "source": [
    "fig = plt.figure(figsize=(10, 5))\n",
    "sns.distplot(df_stars6[\"Eff. HP\"], bins=20, kde=False, rug=True).set_xlabel(None)\n",
    "plt.tick_params(labelcolor='white')\n",
    "plt.savefig(monster + \"_dist_effhp.png\", transparent=True, bbox_inches = \"tight\")"
   ]
  },
  {
   "cell_type": "markdown",
   "metadata": {},
   "source": [
    "# Total Attack Distribution"
   ]
  },
  {
   "cell_type": "code",
   "execution_count": 6,
   "metadata": {},
   "outputs": [
    {
     "data": {
      "image/png": "[encoded data removed]",
      "text/plain": [
       "<Figure size 720x360 with 1 Axes>"
      ]
     },
     "metadata": {},
     "output_type": "display_data"
    }
   ],
   "source": [
    "fig = plt.figure(figsize=(10, 5))\n",
    "sns.distplot(df_stars6[\"Attack\"], bins=20, kde=False, rug=True).set_xlabel(None)\n",
    "plt.tick_params(labelcolor='white')\n",
    "plt.savefig(monster + \"_dist_attack.png\", transparent=True, bbox_inches = \"tight\")"
   ]
  },
  {
   "cell_type": "markdown",
   "metadata": {},
   "source": [
    "# Avg. Rune Distribution"
   ]
  },
  {
   "cell_type": "code",
   "execution_count": 7,
   "metadata": {},
   "outputs": [
    {
     "data": {
      "image/png": "[encoded data removed]",
      "text/plain": [
       "<Figure size 720x360 with 1 Axes>"
      ]
     },
     "metadata": {},
     "output_type": "display_data"
    }
   ],
   "source": [
    "fig = plt.figure(figsize=(10, 5))\n",
    "sns.distplot(df_stars6[\"Avg Eff\"], bins=20, kde=False, rug=True).set_xlabel(None)\n",
    "plt.tick_params(labelcolor='white')\n",
    "plt.savefig(monster + \"_dist_rune_eff.png\", transparent=True, bbox_inches = \"tight\")"
   ]
  },
  {
   "cell_type": "markdown",
   "metadata": {},
   "source": [
    "# Sets"
   ]
  },
  {
   "cell_type": "code",
   "execution_count": 8,
   "metadata": {},
   "outputs": [
    {
     "name": "stdout",
     "output_type": "stream",
     "text": [
      "Fight + Fight + Will     41\n",
      "Revenge + Violent        38\n",
      "Swift                    35\n",
      "Revenge + Swift          33\n",
      "Violent                  30\n",
      "Violent + Will           28\n",
      "Swift + Will             19\n",
      "Focus + Swift            19\n",
      "Energy + Violent         18\n",
      "Energy + Swift           17\n",
      "Focus + Violent          16\n",
      "Blade + Swift            14\n",
      "Blade + Violent           7\n",
      "Nemesis + Swift           6\n",
      "Shield + Violent          6\n",
      "Guard + Swift             5\n",
      "Blade + Fatal             3\n",
      "Endure + Violent          3\n",
      "Endure + Swift            2\n",
      "Broken                    2\n",
      "Revenge + Revenge         2\n",
      "Fight + Fight + Fight     2\n",
      "Fight + Fight             2\n",
      "Shield + Swift            2\n",
      "Destroy + Swift           2\n",
      "Fight + Swift             2\n",
      "Fight + Fight + Focus     2\n",
      "Name: Sets, dtype: int64\n"
     ]
    },
    {
     "data": {
      "image/png": "[encoded data removed]",
      "text/plain": [
       "<Figure size 1440x360 with 1 Axes>"
      ]
     },
     "metadata": {},
     "output_type": "display_data"
    }
   ],
   "source": [
    "fig = plt.figure(figsize=(20, 5))\n",
    "counts = df_stars6[\"Sets\"].value_counts()\n",
    "counts = counts[counts > 1]\n",
    "print(counts)\n",
    "x, y = counts.index, counts.values\n",
    "sets = sns.barplot(x=x, y=y)\n",
    "_ = sets.set_xticklabels(sets.get_xticklabels(), rotation=45, horizontalalignment='right')\n",
    "plt.tick_params(labelcolor='white')\n",
    "plt.savefig(monster + \"_dist_sets.png\", transparent=True, bbox_inches = \"tight\")"
   ]
  },
  {
   "cell_type": "markdown",
   "metadata": {},
   "source": [
    "# Eff. HP Distribution for most common set"
   ]
  },
  {
   "cell_type": "code",
   "execution_count": 9,
   "metadata": {},
   "outputs": [
    {
     "name": "stdout",
     "output_type": "stream",
     "text": [
      "Fight + Fight + Will\n"
     ]
    },
    {
     "data": {
      "image/png": "[encoded data removed]",
      "text/plain": [
       "<Figure size 720x360 with 1 Axes>"
      ]
     },
     "metadata": {},
     "output_type": "display_data"
    }
   ],
   "source": [
    "most_common_set = counts.index[0]\n",
    "print(most_common_set)\n",
    "\n",
    "fig = plt.figure(figsize=(10, 5))\n",
    "sns.distplot(df_stars6[\"Eff. HP\"][df_stars6[\"Sets\"] == most_common_set], bins=20, kde=False, rug=True).set_xlabel(None)\n",
    "plt.tick_params(labelcolor='white')\n",
    "plt.savefig(monster + \"_dist_common_set_effhp.png\", transparent=True, bbox_inches = \"tight\")"
   ]
  },
  {
   "cell_type": "markdown",
   "metadata": {},
   "source": [
    "# Speed Distribution"
   ]
  },
  {
   "cell_type": "code",
   "execution_count": 10,
   "metadata": {},
   "outputs": [
    {
     "data": {
      "image/png": "[encoded data removed]",
      "text/plain": [
       "<Figure size 720x360 with 1 Axes>"
      ]
     },
     "metadata": {},
     "output_type": "display_data"
    }
   ],
   "source": [
    "fig = plt.figure(figsize=(10, 5))\n",
    "sns.distplot(df_stars6[\"Speed\"], bins=20, kde=False, rug=True).set_xlabel(None)\n",
    "plt.tick_params(labelcolor='white')\n",
    "plt.savefig(monster + \"_dist_speed.png\", transparent=True,  bbox_inches = \"tight\")"
   ]
  },
  {
   "cell_type": "markdown",
   "metadata": {},
   "source": [
    "# Speed Distribution for TOP 10% Avg Rune Eff"
   ]
  },
  {
   "cell_type": "code",
   "execution_count": 11,
   "metadata": {},
   "outputs": [
    {
     "data": {
      "image/png": "[encoded data removed]",
      "text/plain": [
       "<Figure size 720x360 with 1 Axes>"
      ]
     },
     "metadata": {},
     "output_type": "display_data"
    }
   ],
   "source": [
    "fig = plt.figure(figsize=(10, 5))\n",
    "sns.distplot(df_stars6[\"Speed\"].head(int(df_stars6.shape[0] * .1)), bins=20, kde=False, rug=True).set_xlabel(None)\n",
    "plt.tick_params(labelcolor='white')\n",
    "plt.savefig(monster + \"_dist_speed_top10_percent.png\", transparent=True,  bbox_inches = \"tight\")"
   ]
  },
  {
   "cell_type": "markdown",
   "metadata": {},
   "source": [
    "# Speed - Eff. HP Relation for TOP 10% Eff. HP"
   ]
  },
  {
   "cell_type": "code",
   "execution_count": 12,
   "metadata": {},
   "outputs": [
    {
     "data": {
      "text/plain": [
       "<Figure size 720x360 with 0 Axes>"
      ]
     },
     "metadata": {},
     "output_type": "display_data"
    },
    {
     "data": {
      "image/png": "[encoded data removed]",
      "text/plain": [
       "<Figure size 360x360 with 1 Axes>"
      ]
     },
     "metadata": {},
     "output_type": "display_data"
    }
   ],
   "source": [
    "fig = plt.figure(figsize=(10, 5))\n",
    "sns.lmplot(x=\"Speed\", y=\"Eff. HP\", data=df_stars6.head(int(df_stars6.shape[0] * .1)))\n",
    "plt.tick_params(labelcolor='white')\n",
    "plt.savefig(monster + \"_rel_spd_dmg_top10_percent.png\", transparent=True,  bbox_inches = \"tight\")"
   ]
  },
  {
   "cell_type": "markdown",
   "metadata": {},
   "source": [
    "# Attack - Eff. HP Relation for TOP 10% Eff. HP"
   ]
  },
  {
   "cell_type": "code",
   "execution_count": 13,
   "metadata": {},
   "outputs": [
    {
     "data": {
      "text/plain": [
       "<Figure size 720x360 with 0 Axes>"
      ]
     },
     "metadata": {},
     "output_type": "display_data"
    },
    {
     "data": {
      "image/png": "[encoded data removed]",
      "text/plain": [
       "<Figure size 360x360 with 1 Axes>"
      ]
     },
     "metadata": {},
     "output_type": "display_data"
    }
   ],
   "source": [
    "fig = plt.figure(figsize=(10, 5))\n",
    "sns.lmplot(x=\"Attack\", y=\"Eff. HP\", data=df_stars6.sort_values(['Attack'], ascending=False).head(int(df_stars6.shape[0] * .1)))\n",
    "plt.tick_params(labelcolor='white')\n",
    "plt.savefig(monster + \"_rel_atk_dmg_top10_percent.png\", transparent=True,  bbox_inches = \"tight\")"
   ]
  },
  {
   "cell_type": "markdown",
   "metadata": {},
   "source": [
    "# Best by Category"
   ]
  },
  {
   "cell_type": "code",
   "execution_count": 14,
   "metadata": {},
   "outputs": [
    {
     "data": {
      "text/html": [
       "<div>\n",
       "<style scoped>\n",
       "    .dataframe tbody tr th:only-of-type {\n",
       "        vertical-align: middle;\n",
       "    }\n",
       "\n",
       "    .dataframe tbody tr th {\n",
       "        vertical-align: top;\n",
       "    }\n",
       "\n",
       "    .dataframe thead th {\n",
       "        text-align: right;\n",
       "    }\n",
       "</style>\n",
       "<table border=\"1\" class=\"dataframe\">\n",
       "  <thead>\n",
       "    <tr style=\"text-align: right;\">\n",
       "      <th></th>\n",
       "      <th>HP</th>\n",
       "      <th>Attack</th>\n",
       "      <th>Defense</th>\n",
       "      <th>Speed</th>\n",
       "      <th>Resistance</th>\n",
       "      <th>Accuracy</th>\n",
       "      <th>Crit Rate</th>\n",
       "      <th>Crit Dmg</th>\n",
       "      <th>Avg Eff</th>\n",
       "      <th>Eff. HP</th>\n",
       "      <th>Eff. HP D-B</th>\n",
       "    </tr>\n",
       "    <tr>\n",
       "      <th>ID</th>\n",
       "      <th></th>\n",
       "      <th></th>\n",
       "      <th></th>\n",
       "      <th></th>\n",
       "      <th></th>\n",
       "      <th></th>\n",
       "      <th></th>\n",
       "      <th></th>\n",
       "      <th></th>\n",
       "      <th></th>\n",
       "      <th></th>\n",
       "    </tr>\n",
       "  </thead>\n",
       "  <tbody>\n",
       "    <tr>\n",
       "      <th>1</th>\n",
       "      <td>35085</td>\n",
       "      <td>2160</td>\n",
       "      <td>1588</td>\n",
       "      <td>311</td>\n",
       "      <td>89</td>\n",
       "      <td>132</td>\n",
       "      <td>104</td>\n",
       "      <td>192</td>\n",
       "      <td>117</td>\n",
       "      <td>174337</td>\n",
       "      <td>80299</td>\n",
       "    </tr>\n",
       "  </tbody>\n",
       "</table>\n",
       "</div>"
      ],
      "text/plain": [
       "       HP Attack Defense Speed Resistance Accuracy Crit Rate Crit Dmg Avg Eff  \\\n",
       "ID                                                                              \n",
       "1   35085   2160    1588   311         89      132       104      192     117   \n",
       "\n",
       "   Eff. HP Eff. HP D-B  \n",
       "ID                      \n",
       "1   174337       80299  "
      ]
     },
     "execution_count": 14,
     "metadata": {},
     "output_type": "execute_result"
    }
   ],
   "source": [
    "cols = ['HP', 'Attack', 'Defense', 'Speed', 'Resistance', 'Accuracy', 'Crit Rate', 'Crit Dmg', 'Avg Eff', 'Eff. HP', 'Eff. HP D-B']\n",
    "df_best = pd.DataFrame(columns=[\"ID\"] + cols)\n",
    "df_best.set_index(\"ID\", drop=True, inplace=True)\n",
    "\n",
    "best = list()\n",
    "for column in cols:\n",
    "    best.append(int(round(df.sort_values([column], ascending=False)[column].head(1).values[0])))\n",
    "    \n",
    "df_best.loc[1] = best\n",
    "df_best"
   ]
  },
  {
   "cell_type": "markdown",
   "metadata": {},
   "source": [
    "# Best 10 Builds by Avg Eff"
   ]
  },
  {
   "cell_type": "code",
   "execution_count": 15,
   "metadata": {},
   "outputs": [
    {
     "name": "stdout",
     "output_type": "stream",
     "text": [
      "<table border=\"1\" class=\"dataframe\">\n",
      "  <thead>\n",
      "    <tr style=\"text-align: right;\">\n",
      "      <th></th>\n",
      "      <th>HP</th>\n",
      "      <th>Attack</th>\n",
      "      <th>Defense</th>\n",
      "      <th>Speed</th>\n",
      "      <th>Res</th>\n",
      "      <th>Acc</th>\n",
      "      <th>Crit Rate</th>\n",
      "      <th>Crit Dmg</th>\n",
      "      <th>Avg Eff</th>\n",
      "      <th>Eff. HP</th>\n",
      "      <th>Eff. HP D-B</th>\n",
      "      <th>Sets</th>\n",
      "      <th>Rune #2</th>\n",
      "      <th>Rune #4</th>\n",
      "      <th>Rune #6</th>\n",
      "    </tr>\n",
      "  </thead>\n",
      "  <tbody>\n",
      "    <tr>\n",
      "      <th>0</th>\n",
      "      <td>34832</td>\n",
      "      <td>1057</td>\n",
      "      <td>1100</td>\n",
      "      <td>287</td>\n",
      "      <td>47</td>\n",
      "      <td>62</td>\n",
      "      <td>15</td>\n",
      "      <td>54</td>\n",
      "      <td>116.87</td>\n",
      "      <td>173812</td>\n",
      "      <td>79939</td>\n",
      "      <td>Violent + Will</td>\n",
      "      <td>SPD</td>\n",
      "      <td>HP%</td>\n",
      "      <td>HP%</td>\n",
      "    </tr>\n",
      "    <tr>\n",
      "      <th>1</th>\n",
      "      <td>23919</td>\n",
      "      <td>1542</td>\n",
      "      <td>1332</td>\n",
      "      <td>310</td>\n",
      "      <td>19</td>\n",
      "      <td>58</td>\n",
      "      <td>28</td>\n",
      "      <td>50</td>\n",
      "      <td>115.08</td>\n",
      "      <td>138778</td>\n",
      "      <td>60721</td>\n",
      "      <td>Swift</td>\n",
      "      <td>SPD</td>\n",
      "      <td>DEF%</td>\n",
      "      <td>ATK%</td>\n",
      "    </tr>\n",
      "    <tr>\n",
      "      <th>2</th>\n",
      "      <td>27649</td>\n",
      "      <td>893</td>\n",
      "      <td>1437</td>\n",
      "      <td>300</td>\n",
      "      <td>31</td>\n",
      "      <td>65</td>\n",
      "      <td>33</td>\n",
      "      <td>67</td>\n",
      "      <td>109.89</td>\n",
      "      <td>170581</td>\n",
      "      <td>73238</td>\n",
      "      <td>Focus + Swift</td>\n",
      "      <td>SPD</td>\n",
      "      <td>DEF%</td>\n",
      "      <td>HP%</td>\n",
      "    </tr>\n",
      "    <tr>\n",
      "      <th>3</th>\n",
      "      <td>27352</td>\n",
      "      <td>1339</td>\n",
      "      <td>1017</td>\n",
      "      <td>275</td>\n",
      "      <td>15</td>\n",
      "      <td>55</td>\n",
      "      <td>57</td>\n",
      "      <td>141</td>\n",
      "      <td>109.69</td>\n",
      "      <td>128541</td>\n",
      "      <td>60389</td>\n",
      "      <td>Swift + Will</td>\n",
      "      <td>SPD</td>\n",
      "      <td>CDmg%</td>\n",
      "      <td>HP%</td>\n",
      "    </tr>\n",
      "    <tr>\n",
      "      <th>4</th>\n",
      "      <td>30457</td>\n",
      "      <td>1207</td>\n",
      "      <td>1102</td>\n",
      "      <td>281</td>\n",
      "      <td>22</td>\n",
      "      <td>52</td>\n",
      "      <td>27</td>\n",
      "      <td>69</td>\n",
      "      <td>108.44</td>\n",
      "      <td>152194</td>\n",
      "      <td>69963</td>\n",
      "      <td>Focus + Violent</td>\n",
      "      <td>SPD</td>\n",
      "      <td>HP%</td>\n",
      "      <td>HP%</td>\n",
      "    </tr>\n",
      "    <tr>\n",
      "      <th>5</th>\n",
      "      <td>31677</td>\n",
      "      <td>928</td>\n",
      "      <td>1198</td>\n",
      "      <td>311</td>\n",
      "      <td>21</td>\n",
      "      <td>74</td>\n",
      "      <td>19</td>\n",
      "      <td>54</td>\n",
      "      <td>108.00</td>\n",
      "      <td>168933</td>\n",
      "      <td>75958</td>\n",
      "      <td>Swift</td>\n",
      "      <td>SPD</td>\n",
      "      <td>HP%</td>\n",
      "      <td>HP%</td>\n",
      "    </tr>\n",
      "    <tr>\n",
      "      <th>6</th>\n",
      "      <td>31049</td>\n",
      "      <td>1145</td>\n",
      "      <td>1089</td>\n",
      "      <td>302</td>\n",
      "      <td>28</td>\n",
      "      <td>60</td>\n",
      "      <td>24</td>\n",
      "      <td>60</td>\n",
      "      <td>105.80</td>\n",
      "      <td>153739</td>\n",
      "      <td>70899</td>\n",
      "      <td>Swift</td>\n",
      "      <td>SPD</td>\n",
      "      <td>HP%</td>\n",
      "      <td>HP%</td>\n",
      "    </tr>\n",
      "    <tr>\n",
      "      <th>7</th>\n",
      "      <td>27264</td>\n",
      "      <td>1202</td>\n",
      "      <td>1156</td>\n",
      "      <td>308</td>\n",
      "      <td>40</td>\n",
      "      <td>69</td>\n",
      "      <td>21</td>\n",
      "      <td>63</td>\n",
      "      <td>104.89</td>\n",
      "      <td>141391</td>\n",
      "      <td>64174</td>\n",
      "      <td>Destroy + Swift</td>\n",
      "      <td>SPD</td>\n",
      "      <td>HP%</td>\n",
      "      <td>HP%</td>\n",
      "    </tr>\n",
      "    <tr>\n",
      "      <th>8</th>\n",
      "      <td>28117</td>\n",
      "      <td>1298</td>\n",
      "      <td>1249</td>\n",
      "      <td>283</td>\n",
      "      <td>29</td>\n",
      "      <td>72</td>\n",
      "      <td>15</td>\n",
      "      <td>59</td>\n",
      "      <td>104.41</td>\n",
      "      <td>154967</td>\n",
      "      <td>68927</td>\n",
      "      <td>Guard + Swift</td>\n",
      "      <td>SPD</td>\n",
      "      <td>HP%</td>\n",
      "      <td>DEF%</td>\n",
      "    </tr>\n",
      "    <tr>\n",
      "      <th>9</th>\n",
      "      <td>33783</td>\n",
      "      <td>841</td>\n",
      "      <td>1103</td>\n",
      "      <td>279</td>\n",
      "      <td>44</td>\n",
      "      <td>46</td>\n",
      "      <td>26</td>\n",
      "      <td>50</td>\n",
      "      <td>104.27</td>\n",
      "      <td>168932</td>\n",
      "      <td>77638</td>\n",
      "      <td>Energy + Violent</td>\n",
      "      <td>SPD</td>\n",
      "      <td>HP%</td>\n",
      "      <td>HP%</td>\n",
      "    </tr>\n",
      "  </tbody>\n",
      "</table>\n"
     ]
    }
   ],
   "source": [
    "print(df_stars6.drop(['Acquired', 'Locked', 'Rune #1', 'Rune #3', 'Rune #5', 'Level', 'Stars', 'Transmogrified', 'Skilled Up'], axis=1).reset_index(drop=True).rename(columns={'Resistance': 'Res', 'Accuracy': 'Acc'}).sort_values(['Avg Eff'], ascending=False).head(10).to_html())"
   ]
  },
  {
   "cell_type": "markdown",
   "metadata": {},
   "source": [
    "# Most common Builds"
   ]
  },
  {
   "cell_type": "code",
   "execution_count": 16,
   "metadata": {},
   "outputs": [
    {
     "name": "stdout",
     "output_type": "stream",
     "text": [
      "   Rune #2 Rune #4 Rune #6  Count\n",
      "42     SPD     HP%     HP%    170\n",
      "41     SPD     HP%    DEF%     38\n",
      "37     SPD    DEF%     HP%     25\n",
      "39     SPD     HP%    ACC%     14\n",
      "25     SPD    ATK%     HP%     13\n",
      "28     SPD   CDmg%    ATK%     10\n",
      "40     SPD     HP%    ATK%     10\n",
      "2     ATK%   CDmg%    ATK%      9\n",
      "23     SPD    ATK%    ATK%      7\n",
      "36     SPD    DEF%    DEF%      7\n",
      "4     ATK%   CDmg%     HP%      6\n",
      "30     SPD   CDmg%     HP%      6\n",
      "14     HP%   CDmg%    ATK%      5\n",
      "16     HP%   CDmg%     HP%      5\n"
     ]
    },
    {
     "data": {
      "image/png": "[encoded data removed]",
      "text/plain": [
       "<Figure size 720x360 with 1 Axes>"
      ]
     },
     "metadata": {},
     "output_type": "display_data"
    }
   ],
   "source": [
    "fig = plt.figure(figsize=(10, 5))\n",
    "\n",
    "builds_count = df_stars6.groupby([\"Rune #2\", \"Rune #4\", \"Rune #6\"]).size().reset_index(name='Count')\n",
    "builds_count = builds_count[builds_count['Count'] > 4].sort_values([\"Count\"], ascending=False) # single builds to drop\n",
    "print(builds_count)\n",
    "builds_count_to_plot = builds_count.set_index([\"Rune #2\", \"Rune #4\", \"Rune #6\"]).T\n",
    "\n",
    "builds_common = sns.barplot(data=builds_count_to_plot)\n",
    "_ = builds_common.set_xticklabels(builds_common.get_xticklabels(), rotation=45, horizontalalignment='right')\n",
    "plt.tick_params(labelcolor='white')\n",
    "plt.savefig(monster + \"_build_common.png\", transparent=True, bbox_inches = \"tight\")"
   ]
  },
  {
   "cell_type": "markdown",
   "metadata": {},
   "source": [
    "# Builds for most common set"
   ]
  },
  {
   "cell_type": "code",
   "execution_count": 17,
   "metadata": {},
   "outputs": [
    {
     "name": "stdout",
     "output_type": "stream",
     "text": [
      "   Rune #2 Rune #4 Rune #6  Count\n",
      "3     ATK%   CDmg%     HP%      5\n",
      "11     HP%   CDmg%     HP%      5\n",
      "9      HP%   CDmg%    ATK%      3\n",
      "12     HP%    DEF%     HP%      3\n"
     ]
    },
    {
     "data": {
      "image/png": "[encoded data removed]",
      "text/plain": [
       "<Figure size 720x360 with 1 Axes>"
      ]
     },
     "metadata": {},
     "output_type": "display_data"
    }
   ],
   "source": [
    "fig = plt.figure(figsize=(10, 5))\n",
    "builds_count = df_stars6[df_stars6[\"Sets\"] == most_common_set].groupby([\"Rune #2\", \"Rune #4\", \"Rune #6\"]).size().reset_index(name='Count')\n",
    "builds_count = builds_count[builds_count['Count'] > 2].sort_values([\"Count\"], ascending=False) # single builds to drop\n",
    "print(builds_count)\n",
    "builds_count_to_plot = builds_count.set_index([\"Rune #2\", \"Rune #4\", \"Rune #6\"]).T\n",
    "\n",
    "builds_common = sns.barplot(data=builds_count_to_plot)\n",
    "ax = builds_common.set_xticklabels(builds_common.get_xticklabels(), rotation=45, horizontalalignment='right')\n",
    "builds_common.tick_params(labelcolor='white')\n",
    "plt.savefig(monster + \"_build_common_set.png\", transparent=True, bbox_inches = \"tight\")"
   ]
  },
  {
   "cell_type": "markdown",
   "metadata": {},
   "source": [
    "# Most frequent slot 2"
   ]
  },
  {
   "cell_type": "code",
   "execution_count": 18,
   "metadata": {},
   "outputs": [
    {
     "data": {
      "image/png": "[encoded data removed]",
      "text/plain": [
       "<Figure size 720x360 with 1 Axes>"
      ]
     },
     "metadata": {},
     "output_type": "display_data"
    }
   ],
   "source": [
    "fig = plt.figure(figsize=(10, 5))\n",
    "\n",
    "counts_slot2 = df_stars6[\"Rune #2\"].value_counts()\n",
    "counts_slot2 = counts_slot2[counts_slot2 > 2]\n",
    "x, y = counts_slot2.index, counts_slot2.values\n",
    "slot2 = sns.barplot(x=x, y=y)\n",
    "_ = slot2.set_xticklabels(slot2.get_xticklabels(), rotation=45, horizontalalignment='right')\n",
    "plt.tick_params(labelcolor='white')\n",
    "plt.savefig(monster + \"_slot_2.png\", transparent=True, bbox_inches = \"tight\")"
   ]
  },
  {
   "cell_type": "markdown",
   "metadata": {},
   "source": [
    "# Most frequent slot 4"
   ]
  },
  {
   "cell_type": "code",
   "execution_count": 19,
   "metadata": {},
   "outputs": [
    {
     "data": {
      "image/png": "[encoded data removed]",
      "text/plain": [
       "<Figure size 720x360 with 1 Axes>"
      ]
     },
     "metadata": {},
     "output_type": "display_data"
    }
   ],
   "source": [
    "fig = plt.figure(figsize=(10, 5))\n",
    "\n",
    "counts_slot4 = df_stars6[\"Rune #4\"].value_counts()\n",
    "counts_slot4 = counts_slot4[counts_slot4 > 2]\n",
    "x, y = counts_slot4.index, counts_slot4.values\n",
    "slot4 = sns.barplot(x=x, y=y)\n",
    "_ = slot4.set_xticklabels(slot4.get_xticklabels(), rotation=45, horizontalalignment='right')\n",
    "plt.tick_params(labelcolor='white')\n",
    "plt.savefig(monster + \"_slot_4.png\", transparent=True, bbox_inches = \"tight\")"
   ]
  },
  {
   "cell_type": "markdown",
   "metadata": {},
   "source": [
    "# Most frequent slot 6"
   ]
  },
  {
   "cell_type": "code",
   "execution_count": 20,
   "metadata": {},
   "outputs": [
    {
     "data": {
      "image/png": "[encoded data removed]",
      "text/plain": [
       "<Figure size 720x360 with 1 Axes>"
      ]
     },
     "metadata": {},
     "output_type": "display_data"
    }
   ],
   "source": [
    "fig = plt.figure(figsize=(10, 5))\n",
    "\n",
    "counts_slot6 = df_stars6[\"Rune #6\"].value_counts()\n",
    "counts_slot6 = counts_slot6[counts_slot6 > 2]\n",
    "x, y = counts_slot6.index, counts_slot6.values\n",
    "slot6 = sns.barplot(x=x, y=y)\n",
    "_ = slot6.set_xticklabels(slot6.get_xticklabels(), rotation=45, horizontalalignment='right')\n",
    "plt.tick_params(labelcolor='white')\n",
    "plt.savefig(monster + \"_slot_6.png\", transparent=True, bbox_inches = \"tight\")"
   ]
  }
 ],
 "metadata": {
  "kernelspec": {
   "display_name": "Python 3",
   "language": "python",
   "name": "python3"
  },
  "language_info": {
   "codemirror_mode": {
    "name": "ipython",
    "version": 3
   },
   "file_extension": ".py",
   "mimetype": "text/x-python",
   "name": "python",
   "nbconvert_exporter": "python",
   "pygments_lexer": "ipython3",
   "version": "3.7.3"
  }
 },
 "nbformat": 4,
 "nbformat_minor": 4
}
