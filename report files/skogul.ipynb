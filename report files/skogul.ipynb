{
 "cells": [
  {
   "cell_type": "markdown",
   "metadata": {},
   "source": [
    "# Setting Up"
   ]
  },
  {
   "cell_type": "code",
   "execution_count": 1,
   "metadata": {
    "scrolled": false
   },
   "outputs": [
    {
     "name": "stdout",
     "output_type": "stream",
     "text": [
      "Index(['Level', 'Stars', 'HP', 'Attack', 'Defense', 'Speed', 'Resistance',\n",
      "       'Accuracy', 'Crit Rate', 'Crit Dmg', 'Avg Eff', 'Eff. HP',\n",
      "       'Eff. HP D-B', 'Sets', 'Skilled Up', 'Acquired', 'Locked',\n",
      "       'Transmogrified', 'Rune #1', 'Rune #2', 'Rune #3', 'Rune #4', 'Rune #5',\n",
      "       'Rune #6'],\n",
      "      dtype='object')\n"
     ]
    },
    {
     "data": {
      "text/html": [
       "<div>\n",
       "<style scoped>\n",
       "    .dataframe tbody tr th:only-of-type {\n",
       "        vertical-align: middle;\n",
       "    }\n",
       "\n",
       "    .dataframe tbody tr th {\n",
       "        vertical-align: top;\n",
       "    }\n",
       "\n",
       "    .dataframe thead th {\n",
       "        text-align: right;\n",
       "    }\n",
       "</style>\n",
       "<table border=\"1\" class=\"dataframe\">\n",
       "  <thead>\n",
       "    <tr style=\"text-align: right;\">\n",
       "      <th></th>\n",
       "      <th>Level</th>\n",
       "      <th>Stars</th>\n",
       "      <th>HP</th>\n",
       "      <th>Attack</th>\n",
       "      <th>Defense</th>\n",
       "      <th>Speed</th>\n",
       "      <th>Resistance</th>\n",
       "      <th>Accuracy</th>\n",
       "      <th>Crit Rate</th>\n",
       "      <th>Crit Dmg</th>\n",
       "      <th>...</th>\n",
       "      <th>Skilled Up</th>\n",
       "      <th>Acquired</th>\n",
       "      <th>Locked</th>\n",
       "      <th>Transmogrified</th>\n",
       "      <th>Rune #1</th>\n",
       "      <th>Rune #2</th>\n",
       "      <th>Rune #3</th>\n",
       "      <th>Rune #4</th>\n",
       "      <th>Rune #5</th>\n",
       "      <th>Rune #6</th>\n",
       "    </tr>\n",
       "    <tr>\n",
       "      <th>ID</th>\n",
       "      <th></th>\n",
       "      <th></th>\n",
       "      <th></th>\n",
       "      <th></th>\n",
       "      <th></th>\n",
       "      <th></th>\n",
       "      <th></th>\n",
       "      <th></th>\n",
       "      <th></th>\n",
       "      <th></th>\n",
       "      <th></th>\n",
       "      <th></th>\n",
       "      <th></th>\n",
       "      <th></th>\n",
       "      <th></th>\n",
       "      <th></th>\n",
       "      <th></th>\n",
       "      <th></th>\n",
       "      <th></th>\n",
       "      <th></th>\n",
       "      <th></th>\n",
       "    </tr>\n",
       "  </thead>\n",
       "  <tbody>\n",
       "    <tr>\n",
       "      <th>13982606079</th>\n",
       "      <td>40</td>\n",
       "      <td>6</td>\n",
       "      <td>48400</td>\n",
       "      <td>887</td>\n",
       "      <td>1424</td>\n",
       "      <td>206</td>\n",
       "      <td>56</td>\n",
       "      <td>18</td>\n",
       "      <td>15</td>\n",
       "      <td>56</td>\n",
       "      <td>...</td>\n",
       "      <td>Yes</td>\n",
       "      <td>2019-08-11 08:23:12</td>\n",
       "      <td>No</td>\n",
       "      <td>No</td>\n",
       "      <td>ATK+</td>\n",
       "      <td>HP%</td>\n",
       "      <td>DEF+</td>\n",
       "      <td>HP%</td>\n",
       "      <td>HP+</td>\n",
       "      <td>HP%</td>\n",
       "    </tr>\n",
       "    <tr>\n",
       "      <th>13238935592</th>\n",
       "      <td>40</td>\n",
       "      <td>6</td>\n",
       "      <td>47905</td>\n",
       "      <td>896</td>\n",
       "      <td>1580</td>\n",
       "      <td>187</td>\n",
       "      <td>74</td>\n",
       "      <td>4</td>\n",
       "      <td>15</td>\n",
       "      <td>50</td>\n",
       "      <td>...</td>\n",
       "      <td>Yes</td>\n",
       "      <td>2019-03-26 03:52:07</td>\n",
       "      <td>No</td>\n",
       "      <td>Yes</td>\n",
       "      <td>ATK+</td>\n",
       "      <td>HP%</td>\n",
       "      <td>DEF+</td>\n",
       "      <td>HP%</td>\n",
       "      <td>HP+</td>\n",
       "      <td>HP%</td>\n",
       "    </tr>\n",
       "    <tr>\n",
       "      <th>13231458342</th>\n",
       "      <td>40</td>\n",
       "      <td>6</td>\n",
       "      <td>47356</td>\n",
       "      <td>760</td>\n",
       "      <td>1380</td>\n",
       "      <td>207</td>\n",
       "      <td>97</td>\n",
       "      <td>37</td>\n",
       "      <td>20</td>\n",
       "      <td>50</td>\n",
       "      <td>...</td>\n",
       "      <td>Yes</td>\n",
       "      <td>2019-03-24 16:36:23</td>\n",
       "      <td>No</td>\n",
       "      <td>Yes</td>\n",
       "      <td>ATK+</td>\n",
       "      <td>HP%</td>\n",
       "      <td>DEF+</td>\n",
       "      <td>HP%</td>\n",
       "      <td>HP+</td>\n",
       "      <td>HP%</td>\n",
       "    </tr>\n",
       "    <tr>\n",
       "      <th>12560076784</th>\n",
       "      <td>40</td>\n",
       "      <td>6</td>\n",
       "      <td>46918</td>\n",
       "      <td>828</td>\n",
       "      <td>1340</td>\n",
       "      <td>208</td>\n",
       "      <td>99</td>\n",
       "      <td>10</td>\n",
       "      <td>27</td>\n",
       "      <td>56</td>\n",
       "      <td>...</td>\n",
       "      <td>Yes</td>\n",
       "      <td>2018-11-16 04:44:21</td>\n",
       "      <td>No</td>\n",
       "      <td>No</td>\n",
       "      <td>ATK+</td>\n",
       "      <td>HP%</td>\n",
       "      <td>DEF+</td>\n",
       "      <td>HP%</td>\n",
       "      <td>HP+</td>\n",
       "      <td>HP%</td>\n",
       "    </tr>\n",
       "    <tr>\n",
       "      <th>12764627698</th>\n",
       "      <td>40</td>\n",
       "      <td>6</td>\n",
       "      <td>45326</td>\n",
       "      <td>991</td>\n",
       "      <td>1411</td>\n",
       "      <td>218</td>\n",
       "      <td>68</td>\n",
       "      <td>16</td>\n",
       "      <td>15</td>\n",
       "      <td>56</td>\n",
       "      <td>...</td>\n",
       "      <td>Yes</td>\n",
       "      <td>2018-12-24 17:48:16</td>\n",
       "      <td>No</td>\n",
       "      <td>Yes</td>\n",
       "      <td>ATK+</td>\n",
       "      <td>HP%</td>\n",
       "      <td>DEF+</td>\n",
       "      <td>HP%</td>\n",
       "      <td>HP+</td>\n",
       "      <td>HP%</td>\n",
       "    </tr>\n",
       "    <tr>\n",
       "      <th>...</th>\n",
       "      <td>...</td>\n",
       "      <td>...</td>\n",
       "      <td>...</td>\n",
       "      <td>...</td>\n",
       "      <td>...</td>\n",
       "      <td>...</td>\n",
       "      <td>...</td>\n",
       "      <td>...</td>\n",
       "      <td>...</td>\n",
       "      <td>...</td>\n",
       "      <td>...</td>\n",
       "      <td>...</td>\n",
       "      <td>...</td>\n",
       "      <td>...</td>\n",
       "      <td>...</td>\n",
       "      <td>...</td>\n",
       "      <td>...</td>\n",
       "      <td>...</td>\n",
       "      <td>...</td>\n",
       "      <td>...</td>\n",
       "      <td>...</td>\n",
       "    </tr>\n",
       "    <tr>\n",
       "      <th>12534763867</th>\n",
       "      <td>35</td>\n",
       "      <td>5</td>\n",
       "      <td>21123</td>\n",
       "      <td>605</td>\n",
       "      <td>737</td>\n",
       "      <td>102</td>\n",
       "      <td>73</td>\n",
       "      <td>14</td>\n",
       "      <td>37</td>\n",
       "      <td>74</td>\n",
       "      <td>...</td>\n",
       "      <td>No</td>\n",
       "      <td>2018-11-11 19:37:39</td>\n",
       "      <td>No</td>\n",
       "      <td>No</td>\n",
       "      <td>ATK+</td>\n",
       "      <td>HP%</td>\n",
       "      <td>DEF+</td>\n",
       "      <td>HP%</td>\n",
       "      <td>HP+</td>\n",
       "      <td>HP%</td>\n",
       "    </tr>\n",
       "    <tr>\n",
       "      <th>14882764271</th>\n",
       "      <td>35</td>\n",
       "      <td>5</td>\n",
       "      <td>15573</td>\n",
       "      <td>434</td>\n",
       "      <td>859</td>\n",
       "      <td>107</td>\n",
       "      <td>87</td>\n",
       "      <td>20</td>\n",
       "      <td>31</td>\n",
       "      <td>55</td>\n",
       "      <td>...</td>\n",
       "      <td>No</td>\n",
       "      <td>2020-01-17 23:49:29</td>\n",
       "      <td>No</td>\n",
       "      <td>No</td>\n",
       "      <td>ATK+</td>\n",
       "      <td>HP%</td>\n",
       "      <td>DEF+</td>\n",
       "      <td>DEF%</td>\n",
       "      <td>HP+</td>\n",
       "      <td>HP%</td>\n",
       "    </tr>\n",
       "    <tr>\n",
       "      <th>14891367543</th>\n",
       "      <td>30</td>\n",
       "      <td>4</td>\n",
       "      <td>9421</td>\n",
       "      <td>415</td>\n",
       "      <td>410</td>\n",
       "      <td>112</td>\n",
       "      <td>47</td>\n",
       "      <td>9</td>\n",
       "      <td>21</td>\n",
       "      <td>67</td>\n",
       "      <td>...</td>\n",
       "      <td>No</td>\n",
       "      <td>2020-01-19 13:41:58</td>\n",
       "      <td>No</td>\n",
       "      <td>No</td>\n",
       "      <td>ATK+</td>\n",
       "      <td>SPD</td>\n",
       "      <td>DEF+</td>\n",
       "      <td>HP%</td>\n",
       "      <td>HP+</td>\n",
       "      <td>ATK%</td>\n",
       "    </tr>\n",
       "    <tr>\n",
       "      <th>13522019519</th>\n",
       "      <td>30</td>\n",
       "      <td>4</td>\n",
       "      <td>10718</td>\n",
       "      <td>463</td>\n",
       "      <td>608</td>\n",
       "      <td>108</td>\n",
       "      <td>72</td>\n",
       "      <td>21</td>\n",
       "      <td>23</td>\n",
       "      <td>54</td>\n",
       "      <td>...</td>\n",
       "      <td>No</td>\n",
       "      <td>2019-05-25 09:56:59</td>\n",
       "      <td>No</td>\n",
       "      <td>No</td>\n",
       "      <td>ATK+</td>\n",
       "      <td>ATK%</td>\n",
       "      <td>DEF+</td>\n",
       "      <td>DEF+</td>\n",
       "      <td>HP+</td>\n",
       "      <td>DEF%</td>\n",
       "    </tr>\n",
       "    <tr>\n",
       "      <th>14631841045</th>\n",
       "      <td>20</td>\n",
       "      <td>5</td>\n",
       "      <td>9932</td>\n",
       "      <td>463</td>\n",
       "      <td>481</td>\n",
       "      <td>101</td>\n",
       "      <td>60</td>\n",
       "      <td>0</td>\n",
       "      <td>27</td>\n",
       "      <td>68</td>\n",
       "      <td>...</td>\n",
       "      <td>No</td>\n",
       "      <td>2019-12-01 05:04:35</td>\n",
       "      <td>No</td>\n",
       "      <td>No</td>\n",
       "      <td>ATK+</td>\n",
       "      <td>HP%</td>\n",
       "      <td>DEF+</td>\n",
       "      <td>DEF+</td>\n",
       "      <td>HP+</td>\n",
       "      <td>HP%</td>\n",
       "    </tr>\n",
       "  </tbody>\n",
       "</table>\n",
       "<p>498 rows × 24 columns</p>\n",
       "</div>"
      ],
      "text/plain": [
       "             Level  Stars     HP  Attack  Defense  Speed  Resistance  \\\n",
       "ID                                                                     \n",
       "13982606079     40      6  48400     887     1424    206          56   \n",
       "13238935592     40      6  47905     896     1580    187          74   \n",
       "13231458342     40      6  47356     760     1380    207          97   \n",
       "12560076784     40      6  46918     828     1340    208          99   \n",
       "12764627698     40      6  45326     991     1411    218          68   \n",
       "...            ...    ...    ...     ...      ...    ...         ...   \n",
       "12534763867     35      5  21123     605      737    102          73   \n",
       "14882764271     35      5  15573     434      859    107          87   \n",
       "14891367543     30      4   9421     415      410    112          47   \n",
       "13522019519     30      4  10718     463      608    108          72   \n",
       "14631841045     20      5   9932     463      481    101          60   \n",
       "\n",
       "             Accuracy  Crit Rate  Crit Dmg  ...  Skilled Up  \\\n",
       "ID                                          ...               \n",
       "13982606079        18         15        56  ...         Yes   \n",
       "13238935592         4         15        50  ...         Yes   \n",
       "13231458342        37         20        50  ...         Yes   \n",
       "12560076784        10         27        56  ...         Yes   \n",
       "12764627698        16         15        56  ...         Yes   \n",
       "...               ...        ...       ...  ...         ...   \n",
       "12534763867        14         37        74  ...          No   \n",
       "14882764271        20         31        55  ...          No   \n",
       "14891367543         9         21        67  ...          No   \n",
       "13522019519        21         23        54  ...          No   \n",
       "14631841045         0         27        68  ...          No   \n",
       "\n",
       "                        Acquired  Locked Transmogrified Rune #1 Rune #2  \\\n",
       "ID                                                                        \n",
       "13982606079  2019-08-11 08:23:12      No             No    ATK+     HP%   \n",
       "13238935592  2019-03-26 03:52:07      No            Yes    ATK+     HP%   \n",
       "13231458342  2019-03-24 16:36:23      No            Yes    ATK+     HP%   \n",
       "12560076784  2018-11-16 04:44:21      No             No    ATK+     HP%   \n",
       "12764627698  2018-12-24 17:48:16      No            Yes    ATK+     HP%   \n",
       "...                          ...     ...            ...     ...     ...   \n",
       "12534763867  2018-11-11 19:37:39      No             No    ATK+     HP%   \n",
       "14882764271  2020-01-17 23:49:29      No             No    ATK+     HP%   \n",
       "14891367543  2020-01-19 13:41:58      No             No    ATK+     SPD   \n",
       "13522019519  2019-05-25 09:56:59      No             No    ATK+    ATK%   \n",
       "14631841045  2019-12-01 05:04:35      No             No    ATK+     HP%   \n",
       "\n",
       "            Rune #3 Rune #4 Rune #5 Rune #6  \n",
       "ID                                           \n",
       "13982606079    DEF+     HP%     HP+     HP%  \n",
       "13238935592    DEF+     HP%     HP+     HP%  \n",
       "13231458342    DEF+     HP%     HP+     HP%  \n",
       "12560076784    DEF+     HP%     HP+     HP%  \n",
       "12764627698    DEF+     HP%     HP+     HP%  \n",
       "...             ...     ...     ...     ...  \n",
       "12534763867    DEF+     HP%     HP+     HP%  \n",
       "14882764271    DEF+    DEF%     HP+     HP%  \n",
       "14891367543    DEF+     HP%     HP+    ATK%  \n",
       "13522019519    DEF+    DEF+     HP+    DEF%  \n",
       "14631841045    DEF+    DEF+     HP+     HP%  \n",
       "\n",
       "[498 rows x 24 columns]"
      ]
     },
     "execution_count": 1,
     "metadata": {},
     "output_type": "execute_result"
    }
   ],
   "source": [
    "import pandas as pd\n",
    "import numpy as np\n",
    "import matplotlib.pyplot as plt\n",
    "import matplotlib\n",
    "import seaborn as sns\n",
    "import scipy as stats\n",
    "\n",
    "sns.set(color_codes=True)\n",
    "sns.set_style(\"dark\")\n",
    "sns.set_context(\"poster\")\n",
    "matplotlib.rcParams['text.color'] = 'white'\n",
    "\n",
    "monster = \"skogul\"\n",
    "filename = monster + \"_20200511.csv\"\n",
    "multipliers = [1.2 * 3, 4.0, 3.0] # ATK\n",
    "BASE_STATS = {\n",
    "    'HP': 11205,\n",
    "    'ATTACK': 560,\n",
    "    'DEFENSE': 670,\n",
    "    'SPEED': 96,\n",
    "    'CRIT_RATE': .15,\n",
    "    'CRIT_DMG': .5,\n",
    "    'ACCURACY%': 0,\n",
    "    'RESISTANCE%': 40,\n",
    "}\n",
    "\n",
    "TOWERS = {\n",
    "    'CRIT_DMG': .25,\n",
    "    'SPEED': .15,\n",
    "    'ATTACK': .20,\n",
    "    'ATTACK_ELEMENT': .21,\n",
    "    'DEFENSE': .20,\n",
    "    'HP': .20,\n",
    "}\n",
    "\n",
    "BUFFS = {\n",
    "    'ATTACK': 1.5,\n",
    "    'SPEED': .3,\n",
    "    'CRIT_RATE': .3,\n",
    "    'DEFENSE': 1.5,\n",
    "}\n",
    "\n",
    "df = pd.read_csv(filename, index_col=\"ID\")\n",
    "df_full = pd.read_csv(filename, index_col=\"ID\")\n",
    "print(df.columns)\n",
    "runes_cols = [\"Rune #\" + str(i) for i in range(1 ,7)]\n",
    "df.dropna(subset=runes_cols, how='any', inplace=True) # delete without runes\n",
    "df.sort_values([\"Avg Eff\"], ascending=False, inplace=True)\n",
    "df"
   ]
  },
  {
   "cell_type": "markdown",
   "metadata": {},
   "source": [
    "# Stars Distribution, picking 6*"
   ]
  },
  {
   "cell_type": "code",
   "execution_count": 2,
   "metadata": {},
   "outputs": [
    {
     "name": "stdout",
     "output_type": "stream",
     "text": [
      "(429, 24)\n"
     ]
    },
    {
     "data": {
      "image/png": "[encoded data removed]",
      "text/plain": [
       "<Figure size 720x720 with 1 Axes>"
      ]
     },
     "metadata": {},
     "output_type": "display_data"
    }
   ],
   "source": [
    "fig = plt.figure(figsize=(10, 10))\n",
    "stars = df[\"Stars\"].value_counts()\n",
    "plt.pie(stars, labels=stars.index, autopct='%1.1f%%', colors=['g', 'r', 'b'])\n",
    "plt.savefig(monster + \"_pie_6stars.png\", transparent=True, bbox_inches = \"tight\")\n",
    "df_stars6 = df[df[\"Stars\"] == 6] # pick only 6*\n",
    "print(df_stars6.shape)"
   ]
  },
  {
   "cell_type": "markdown",
   "metadata": {},
   "source": [
    "# Skilled Up"
   ]
  },
  {
   "cell_type": "code",
   "execution_count": 3,
   "metadata": {},
   "outputs": [
    {
     "data": {
      "image/png": "[encoded data removed]",
      "text/plain": [
       "<Figure size 720x720 with 1 Axes>"
      ]
     },
     "metadata": {},
     "output_type": "display_data"
    }
   ],
   "source": [
    "fig = plt.figure(figsize=(10, 10))\n",
    "stars = df_stars6[\"Skilled Up\"].value_counts()\n",
    "plt.pie(stars, labels=stars.index, autopct='%1.1f%%', colors=['g', 'r'])\n",
    "plt.savefig(monster + \"_pie_skillups.png\", transparent=True, bbox_inches = \"tight\")\n",
    "plt.show()"
   ]
  },
  {
   "cell_type": "markdown",
   "metadata": {},
   "source": [
    "# Runes "
   ]
  },
  {
   "cell_type": "code",
   "execution_count": 4,
   "metadata": {},
   "outputs": [
    {
     "data": {
      "image/png": "[encoded data removed]",
      "text/plain": [
       "<Figure size 720x720 with 1 Axes>"
      ]
     },
     "metadata": {},
     "output_type": "display_data"
    }
   ],
   "source": [
    "fig = plt.figure(figsize=(10, 10))\n",
    "df_runes = {\n",
    "    'Without Runes': df_full.shape[0] - df.shape[0],\n",
    "    'With Runes': df.shape[0],\n",
    "}\n",
    "plt.pie(df_runes.values(), labels=df_runes.keys(), autopct='%1.1f%%', colors=['r', 'g'])\n",
    "plt.savefig(monster + \"_pie_runes.png\", transparent=True, bbox_inches = \"tight\")\n",
    "plt.show()"
   ]
  },
  {
   "cell_type": "markdown",
   "metadata": {},
   "source": [
    "# Build Type"
   ]
  },
  {
   "cell_type": "code",
   "execution_count": 5,
   "metadata": {},
   "outputs": [
    {
     "data": {
      "text/plain": [
       "<Figure size 720x720 with 0 Axes>"
      ]
     },
     "metadata": {},
     "output_type": "display_data"
    },
    {
     "data": {
      "image/png": "[encoded data removed]",
      "text/plain": [
       "<Figure size 720x720 with 1 Axes>"
      ]
     },
     "metadata": {},
     "output_type": "display_data"
    }
   ],
   "source": [
    "fig = plt.figure(figsize=(10, 10))\n",
    "fig = plt.figure(figsize=(10, 10))\n",
    "dmg_dealer_df = df_stars6[(df_stars6[\"Crit Rate\"] >= 100) & (df_stars6[\"Crit Dmg\"] >= 150)] # shows mons with 100%+ crit rate & 150%+ crit damage\n",
    "pseudo_dmg_dealer_df = df_stars6[(df_stars6[\"Attack\"] > BASE_STATS['ATTACK'] * 2) & (df_stars6[\"Crit Rate\"] >= 100) & (df_stars6[\"Crit Dmg\"] < 150)]\n",
    "pie_dmg_or_tanky = {\n",
    "    'Damage Dealer \\n[100% crit rate,\\n 150% + crit dmg]': dmg_dealer_df.shape[0],\n",
    "    'Squishy \\n[+100% base attack,\\nLow Crit Dmg]': pseudo_dmg_dealer_df.shape[0],\n",
    "    'Other': df_stars6.shape[0] - pseudo_dmg_dealer_df.shape[0] - dmg_dealer_df.shape[0],\n",
    "}\n",
    "plt.pie(pie_dmg_or_tanky.values(), labels=pie_dmg_or_tanky.keys(), autopct='%1.1f%%', colors=['g', 'r', 'b'])\n",
    "plt.savefig(monster + \"_pie_is_tanky.png\", transparent=True, bbox_inches = \"tight\")\n",
    "plt.show()"
   ]
  },
  {
   "cell_type": "markdown",
   "metadata": {},
   "source": [
    "# Crit Rate"
   ]
  },
  {
   "cell_type": "code",
   "execution_count": 6,
   "metadata": {},
   "outputs": [
    {
     "data": {
      "image/png": "[encoded data removed]",
      "text/plain": [
       "<Figure size 720x720 with 1 Axes>"
      ]
     },
     "metadata": {},
     "output_type": "display_data"
    }
   ],
   "source": [
    "fig = plt.figure(figsize=(10, 10))\n",
    "df_crit_rate_yes = df_stars6[df_stars6[\"Crit Rate\"] >= 100]\n",
    "df_crit_rate = {\n",
    "    '100%': df_crit_rate_yes.shape[0],\n",
    "    'Under 100%': df_stars6.shape[0] - df_crit_rate_yes.shape[0],\n",
    "}\n",
    "plt.pie(df_crit_rate.values(), labels=df_crit_rate.keys(), autopct='%1.1f%%', colors=['g', 'r'])\n",
    "plt.savefig(monster + \"_pie_crit_rate.png\", transparent=True, bbox_inches = \"tight\")\n",
    "plt.show()"
   ]
  },
  {
   "cell_type": "markdown",
   "metadata": {},
   "source": [
    "# Transmog"
   ]
  },
  {
   "cell_type": "code",
   "execution_count": 7,
   "metadata": {},
   "outputs": [
    {
     "data": {
      "image/png": "[encoded data removed]",
      "text/plain": [
       "<Figure size 720x720 with 1 Axes>"
      ]
     },
     "metadata": {},
     "output_type": "display_data"
    }
   ],
   "source": [
    "fig = plt.figure(figsize=(10, 10))\n",
    "stars = df_stars6[\"Transmogrified\"].value_counts()\n",
    "plt.pie(stars, labels=stars.index, autopct='%1.1f%%', colors=['r', 'g'])\n",
    "plt.savefig(monster + \"_pie_transmog.png\", transparent=True, bbox_inches = \"tight\")\n",
    "plt.show()"
   ]
  },
  {
   "cell_type": "markdown",
   "metadata": {},
   "source": [
    "# Eff. HP Distribution"
   ]
  },
  {
   "cell_type": "code",
   "execution_count": 8,
   "metadata": {},
   "outputs": [
    {
     "data": {
      "image/png": "[encoded data removed]",
      "text/plain": [
       "<Figure size 720x360 with 1 Axes>"
      ]
     },
     "metadata": {},
     "output_type": "display_data"
    }
   ],
   "source": [
    "fig = plt.figure(figsize=(10, 5))\n",
    "sns.distplot(df_stars6[\"Eff. HP\"], bins=20, kde=False, rug=True).set_xlabel(None)\n",
    "plt.tick_params(labelcolor='white')\n",
    "plt.savefig(monster + \"_dist_effhp.png\", transparent=True, bbox_inches = \"tight\")"
   ]
  },
  {
   "cell_type": "markdown",
   "metadata": {},
   "source": [
    "# Total Attack Distribution"
   ]
  },
  {
   "cell_type": "code",
   "execution_count": 9,
   "metadata": {},
   "outputs": [
    {
     "data": {
      "image/png": "[encoded data removed]",
      "text/plain": [
       "<Figure size 720x360 with 1 Axes>"
      ]
     },
     "metadata": {},
     "output_type": "display_data"
    }
   ],
   "source": [
    "fig = plt.figure(figsize=(10, 5))\n",
    "sns.distplot(df_stars6[\"Attack\"], bins=20, kde=False, rug=True).set_xlabel(None)\n",
    "plt.tick_params(labelcolor='white')\n",
    "plt.savefig(monster + \"_dist_attack.png\", transparent=True, bbox_inches = \"tight\")"
   ]
  },
  {
   "cell_type": "markdown",
   "metadata": {},
   "source": [
    "# Avg. Rune Distribution"
   ]
  },
  {
   "cell_type": "code",
   "execution_count": 10,
   "metadata": {},
   "outputs": [
    {
     "data": {
      "image/png": "[encoded data removed]",
      "text/plain": [
       "<Figure size 720x360 with 1 Axes>"
      ]
     },
     "metadata": {},
     "output_type": "display_data"
    }
   ],
   "source": [
    "fig = plt.figure(figsize=(10, 5))\n",
    "sns.distplot(df_stars6[\"Avg Eff\"], bins=20, kde=False, rug=True).set_xlabel(None)\n",
    "plt.tick_params(labelcolor='white')\n",
    "plt.savefig(monster + \"_dist_rune_eff.png\", transparent=True, bbox_inches = \"tight\")"
   ]
  },
  {
   "cell_type": "markdown",
   "metadata": {},
   "source": [
    "# Sets"
   ]
  },
  {
   "cell_type": "code",
   "execution_count": 11,
   "metadata": {},
   "outputs": [
    {
     "name": "stdout",
     "output_type": "stream",
     "text": [
      "Energy + Violent             38\n",
      "Violent + Will               36\n",
      "Energy + Vampire             28\n",
      "Violent                      24\n",
      "Endure + Violent             21\n",
      "Vampire + Will               21\n",
      "Destroy + Violent            20\n",
      "Nemesis + Vampire            17\n",
      "Endure + Vampire             15\n",
      "Vampire                      13\n",
      "Nemesis + Violent            13\n",
      "Shield + Violent             12\n",
      "Swift                         9\n",
      "Destroy + Vampire             9\n",
      "Energy + Swift                9\n",
      "Energy + Energy               6\n",
      "Endure + Swift                5\n",
      "Will                          5\n",
      "Energy + Energy + Energy      5\n",
      "Energy + Will                 4\n",
      "Guard + Vampire               4\n",
      "Energy                        4\n",
      "Endure + Energy               4\n",
      "Guard + Violent               3\n",
      "Energy + Shield + Will        3\n",
      "Endure + Guard + Nemesis      3\n",
      "Revenge + Vampire             3\n",
      "Energy + Nemesis              3\n",
      "Endure + Endure               2\n",
      "Enhance + Violent             2\n",
      "Blade + Violent               2\n",
      "Energy + Energy + Fight       2\n",
      "Endure + Energy + Energy      2\n",
      "Endure + Energy + Guard       2\n",
      "Nemesis + Swift               2\n",
      "Endure + Endure + Energy      2\n",
      "Energy + Guard                2\n",
      "Broken                        2\n",
      "Revenge + Violent             2\n",
      "Shield + Vampire              2\n",
      "Swift + Will                  2\n",
      "Endure + Energy + Nemesis     2\n",
      "Energy + Energy + Guard       2\n",
      "Energy + Energy + Will        2\n",
      "Focus + Violent               2\n",
      "Endure + Energy + Shield      2\n",
      "Energy + Shield               2\n",
      "Endure + Revenge              2\n",
      "Destroy + Endure + Will       2\n",
      "Name: Sets, dtype: int64\n"
     ]
    },
    {
     "data": {
      "image/png": "[encoded data removed]",
      "text/plain": [
       "<Figure size 1440x360 with 1 Axes>"
      ]
     },
     "metadata": {},
     "output_type": "display_data"
    }
   ],
   "source": [
    "fig = plt.figure(figsize=(20, 5))\n",
    "counts = df_stars6[\"Sets\"].value_counts()\n",
    "counts = counts[counts > 1]\n",
    "print(counts)\n",
    "x, y = counts.index, counts.values\n",
    "sets = sns.barplot(x=x, y=y)\n",
    "_ = sets.set_xticklabels(sets.get_xticklabels(), rotation=45, horizontalalignment='right')\n",
    "plt.tick_params(labelcolor='white')\n",
    "plt.savefig(monster + \"_dist_sets.png\", transparent=True, bbox_inches = \"tight\")"
   ]
  },
  {
   "cell_type": "markdown",
   "metadata": {},
   "source": [
    "# 4-Rune Sets"
   ]
  },
  {
   "cell_type": "code",
   "execution_count": 12,
   "metadata": {},
   "outputs": [
    {
     "data": {
      "image/png": "[encoded data removed]",
      "text/plain": [
       "<Figure size 1440x360 with 1 Axes>"
      ]
     },
     "metadata": {},
     "output_type": "display_data"
    }
   ],
   "source": [
    "sets_4 = ['Violent', 'Swift', 'Rage', 'Fatal', 'Despair', 'Vampire']\n",
    "fig = plt.figure(figsize=(20, 5))\n",
    "counts = df_stars6[\"Sets\"].value_counts()\n",
    "set_sum = dict()\n",
    "for set_4 in sets_4:\n",
    "    indexes = [val for val in counts.index if set_4 in val]\n",
    "    set_count = counts.loc[indexes]\n",
    "    set_sum[set_4] = set_count.sum()\n",
    "set_sum = {k: v for k, v in sorted(set_sum.items(), key=lambda item: item[1], reverse=True)}\n",
    "x, y = list(set_sum.keys()), list(set_sum.values())\n",
    "sets = sns.barplot(x=x, y=y)\n",
    "_ = sets.set_xticklabels(sets.get_xticklabels(), rotation=45, horizontalalignment='right')\n",
    "plt.tick_params(labelcolor='white')\n",
    "plt.savefig(monster + \"_dist_4sets.png\", transparent=True, bbox_inches = \"tight\")"
   ]
  },
  {
   "cell_type": "markdown",
   "metadata": {},
   "source": [
    "# Eff. HP Distribution for most common set"
   ]
  },
  {
   "cell_type": "code",
   "execution_count": 13,
   "metadata": {},
   "outputs": [
    {
     "name": "stdout",
     "output_type": "stream",
     "text": [
      "Energy + Violent\n"
     ]
    },
    {
     "data": {
      "image/png": "[encoded data removed]",
      "text/plain": [
       "<Figure size 720x360 with 1 Axes>"
      ]
     },
     "metadata": {},
     "output_type": "display_data"
    }
   ],
   "source": [
    "most_common_set = counts.index[0]\n",
    "print(most_common_set)\n",
    "\n",
    "fig = plt.figure(figsize=(10, 5))\n",
    "sns.distplot(df_stars6[\"Eff. HP\"][df_stars6[\"Sets\"] == most_common_set], bins=20, kde=False, rug=True).set_xlabel(None)\n",
    "plt.tick_params(labelcolor='white')\n",
    "plt.savefig(monster + \"_dist_common_set_effhp.png\", transparent=True, bbox_inches = \"tight\")"
   ]
  },
  {
   "cell_type": "markdown",
   "metadata": {},
   "source": [
    "# Speed Distribution"
   ]
  },
  {
   "cell_type": "code",
   "execution_count": 14,
   "metadata": {},
   "outputs": [
    {
     "data": {
      "image/png": "[encoded data removed]",
      "text/plain": [
       "<Figure size 720x360 with 1 Axes>"
      ]
     },
     "metadata": {},
     "output_type": "display_data"
    }
   ],
   "source": [
    "fig = plt.figure(figsize=(10, 5))\n",
    "sns.distplot(df_stars6[\"Speed\"], bins=20, kde=False, rug=True).set_xlabel(None)\n",
    "plt.tick_params(labelcolor='white')\n",
    "plt.savefig(monster + \"_dist_speed.png\", transparent=True,  bbox_inches = \"tight\")"
   ]
  },
  {
   "cell_type": "markdown",
   "metadata": {},
   "source": [
    "# Speed Distribution for TOP 10% Eff. HP"
   ]
  },
  {
   "cell_type": "code",
   "execution_count": 15,
   "metadata": {},
   "outputs": [
    {
     "data": {
      "image/png": "[encoded data removed]",
      "text/plain": [
       "<Figure size 720x360 with 1 Axes>"
      ]
     },
     "metadata": {},
     "output_type": "display_data"
    }
   ],
   "source": [
    "fig = plt.figure(figsize=(10, 5))\n",
    "sns.distplot(df_stars6[\"Speed\"].head(int(df_stars6.shape[0] * .1)), bins=20, kde=False, rug=True).set_xlabel(None)\n",
    "plt.tick_params(labelcolor='white')\n",
    "plt.savefig(monster + \"_dist_speed_top10_percent.png\", transparent=True,  bbox_inches = \"tight\")"
   ]
  },
  {
   "cell_type": "markdown",
   "metadata": {},
   "source": [
    "# Speed - Eff. HP Relation for TOP 10% Eff. HP"
   ]
  },
  {
   "cell_type": "code",
   "execution_count": 16,
   "metadata": {},
   "outputs": [
    {
     "data": {
      "text/plain": [
       "<Figure size 720x360 with 0 Axes>"
      ]
     },
     "metadata": {},
     "output_type": "display_data"
    },
    {
     "data": {
      "image/png": "[encoded data removed]",
      "text/plain": [
       "<Figure size 360x360 with 1 Axes>"
      ]
     },
     "metadata": {},
     "output_type": "display_data"
    }
   ],
   "source": [
    "fig = plt.figure(figsize=(10, 5))\n",
    "sns.lmplot(x=\"Speed\", y=\"Eff. HP\", data=df_stars6.head(int(df_stars6.shape[0] * .1)))\n",
    "plt.tick_params(labelcolor='white')\n",
    "plt.savefig(monster + \"_rel_spd_dmg_top10_percent.png\", transparent=True,  bbox_inches = \"tight\")"
   ]
  },
  {
   "cell_type": "markdown",
   "metadata": {},
   "source": [
    "# Attack - Eff. HP Relation for TOP 10% Eff. HP"
   ]
  },
  {
   "cell_type": "code",
   "execution_count": 17,
   "metadata": {},
   "outputs": [
    {
     "data": {
      "text/plain": [
       "<Figure size 720x360 with 0 Axes>"
      ]
     },
     "metadata": {},
     "output_type": "display_data"
    },
    {
     "data": {
      "image/png": "[encoded data removed]",
      "text/plain": [
       "<Figure size 360x360 with 1 Axes>"
      ]
     },
     "metadata": {},
     "output_type": "display_data"
    }
   ],
   "source": [
    "fig = plt.figure(figsize=(10, 5))\n",
    "sns.lmplot(x=\"Attack\", y=\"Eff. HP\", data=df_stars6.sort_values(['Attack'], ascending=False).head(int(df_stars6.shape[0] * .1)))\n",
    "plt.tick_params(labelcolor='white')\n",
    "plt.savefig(monster + \"_rel_atk_dmg_top10_percent.png\", transparent=True,  bbox_inches = \"tight\")"
   ]
  },
  {
   "cell_type": "markdown",
   "metadata": {},
   "source": [
    "# Best by Category"
   ]
  },
  {
   "cell_type": "code",
   "execution_count": 18,
   "metadata": {},
   "outputs": [
    {
     "data": {
      "text/html": [
       "<div>\n",
       "<style scoped>\n",
       "    .dataframe tbody tr th:only-of-type {\n",
       "        vertical-align: middle;\n",
       "    }\n",
       "\n",
       "    .dataframe tbody tr th {\n",
       "        vertical-align: top;\n",
       "    }\n",
       "\n",
       "    .dataframe thead th {\n",
       "        text-align: right;\n",
       "    }\n",
       "</style>\n",
       "<table border=\"1\" class=\"dataframe\">\n",
       "  <thead>\n",
       "    <tr style=\"text-align: right;\">\n",
       "      <th></th>\n",
       "      <th>HP</th>\n",
       "      <th>Attack</th>\n",
       "      <th>Defense</th>\n",
       "      <th>Speed</th>\n",
       "      <th>Resistance</th>\n",
       "      <th>Accuracy</th>\n",
       "      <th>Crit Rate</th>\n",
       "      <th>Crit Dmg</th>\n",
       "      <th>Avg Eff</th>\n",
       "      <th>Eff. HP</th>\n",
       "      <th>Eff. HP D-B</th>\n",
       "    </tr>\n",
       "    <tr>\n",
       "      <th>ID</th>\n",
       "      <th></th>\n",
       "      <th></th>\n",
       "      <th></th>\n",
       "      <th></th>\n",
       "      <th></th>\n",
       "      <th></th>\n",
       "      <th></th>\n",
       "      <th></th>\n",
       "      <th></th>\n",
       "      <th></th>\n",
       "      <th></th>\n",
       "    </tr>\n",
       "  </thead>\n",
       "  <tbody>\n",
       "    <tr>\n",
       "      <th>1</th>\n",
       "      <td>51257</td>\n",
       "      <td>1191</td>\n",
       "      <td>1994</td>\n",
       "      <td>236</td>\n",
       "      <td>116</td>\n",
       "      <td>60</td>\n",
       "      <td>88</td>\n",
       "      <td>144</td>\n",
       "      <td>108</td>\n",
       "      <td>356229</td>\n",
       "      <td>141882</td>\n",
       "    </tr>\n",
       "  </tbody>\n",
       "</table>\n",
       "</div>"
      ],
      "text/plain": [
       "       HP Attack Defense Speed Resistance Accuracy Crit Rate Crit Dmg Avg Eff  \\\n",
       "ID                                                                              \n",
       "1   51257   1191    1994   236        116       60        88      144     108   \n",
       "\n",
       "   Eff. HP Eff. HP D-B  \n",
       "ID                      \n",
       "1   356229      141882  "
      ]
     },
     "execution_count": 18,
     "metadata": {},
     "output_type": "execute_result"
    }
   ],
   "source": [
    "cols = ['HP', 'Attack', 'Defense', 'Speed', 'Resistance', 'Accuracy', 'Crit Rate', 'Crit Dmg', 'Avg Eff', 'Eff. HP', 'Eff. HP D-B']\n",
    "df_best = pd.DataFrame(columns=[\"ID\"] + cols)\n",
    "df_best.set_index(\"ID\", drop=True, inplace=True)\n",
    "\n",
    "best = list()\n",
    "for column in cols:\n",
    "    best.append(int(round(df.sort_values([column], ascending=False)[column].head(1).values[0])))\n",
    "    \n",
    "df_best.loc[1] = best\n",
    "df_best"
   ]
  },
  {
   "cell_type": "markdown",
   "metadata": {},
   "source": [
    "# Best 10 Builds by Avg Eff"
   ]
  },
  {
   "cell_type": "code",
   "execution_count": 19,
   "metadata": {},
   "outputs": [
    {
     "name": "stdout",
     "output_type": "stream",
     "text": [
      "<table border=\"1\" class=\"dataframe\">\n",
      "  <thead>\n",
      "    <tr style=\"text-align: right;\">\n",
      "      <th></th>\n",
      "      <th>HP</th>\n",
      "      <th>Attack</th>\n",
      "      <th>Defense</th>\n",
      "      <th>Speed</th>\n",
      "      <th>Res</th>\n",
      "      <th>Acc</th>\n",
      "      <th>Crit Rate</th>\n",
      "      <th>Crit Dmg</th>\n",
      "      <th>Avg Eff</th>\n",
      "      <th>Eff. HP</th>\n",
      "      <th>Eff. HP D-B</th>\n",
      "      <th>Sets</th>\n",
      "      <th>Rune #2</th>\n",
      "      <th>Rune #4</th>\n",
      "      <th>Rune #6</th>\n",
      "    </tr>\n",
      "  </thead>\n",
      "  <tbody>\n",
      "    <tr>\n",
      "      <th>0</th>\n",
      "      <td>48400</td>\n",
      "      <td>887</td>\n",
      "      <td>1424</td>\n",
      "      <td>206</td>\n",
      "      <td>56</td>\n",
      "      <td>18</td>\n",
      "      <td>15</td>\n",
      "      <td>56</td>\n",
      "      <td>108.43</td>\n",
      "      <td>296401</td>\n",
      "      <td>127543</td>\n",
      "      <td>Destroy + Violent</td>\n",
      "      <td>HP%</td>\n",
      "      <td>HP%</td>\n",
      "      <td>HP%</td>\n",
      "    </tr>\n",
      "    <tr>\n",
      "      <th>1</th>\n",
      "      <td>47905</td>\n",
      "      <td>896</td>\n",
      "      <td>1580</td>\n",
      "      <td>187</td>\n",
      "      <td>74</td>\n",
      "      <td>4</td>\n",
      "      <td>15</td>\n",
      "      <td>50</td>\n",
      "      <td>107.36</td>\n",
      "      <td>319526</td>\n",
      "      <td>134086</td>\n",
      "      <td>Destroy + Violent</td>\n",
      "      <td>HP%</td>\n",
      "      <td>HP%</td>\n",
      "      <td>HP%</td>\n",
      "    </tr>\n",
      "    <tr>\n",
      "      <th>2</th>\n",
      "      <td>47356</td>\n",
      "      <td>760</td>\n",
      "      <td>1380</td>\n",
      "      <td>207</td>\n",
      "      <td>97</td>\n",
      "      <td>37</td>\n",
      "      <td>20</td>\n",
      "      <td>50</td>\n",
      "      <td>107.31</td>\n",
      "      <td>282715</td>\n",
      "      <td>122605</td>\n",
      "      <td>Destroy + Violent</td>\n",
      "      <td>HP%</td>\n",
      "      <td>HP%</td>\n",
      "      <td>HP%</td>\n",
      "    </tr>\n",
      "    <tr>\n",
      "      <th>3</th>\n",
      "      <td>46918</td>\n",
      "      <td>828</td>\n",
      "      <td>1340</td>\n",
      "      <td>208</td>\n",
      "      <td>99</td>\n",
      "      <td>10</td>\n",
      "      <td>27</td>\n",
      "      <td>56</td>\n",
      "      <td>106.95</td>\n",
      "      <td>273532</td>\n",
      "      <td>119500</td>\n",
      "      <td>Destroy + Violent</td>\n",
      "      <td>HP%</td>\n",
      "      <td>HP%</td>\n",
      "      <td>HP%</td>\n",
      "    </tr>\n",
      "    <tr>\n",
      "      <th>4</th>\n",
      "      <td>45326</td>\n",
      "      <td>991</td>\n",
      "      <td>1411</td>\n",
      "      <td>218</td>\n",
      "      <td>68</td>\n",
      "      <td>16</td>\n",
      "      <td>15</td>\n",
      "      <td>56</td>\n",
      "      <td>106.33</td>\n",
      "      <td>275514</td>\n",
      "      <td>118824</td>\n",
      "      <td>Energy + Vampire</td>\n",
      "      <td>HP%</td>\n",
      "      <td>HP%</td>\n",
      "      <td>HP%</td>\n",
      "    </tr>\n",
      "    <tr>\n",
      "      <th>5</th>\n",
      "      <td>48346</td>\n",
      "      <td>1023</td>\n",
      "      <td>1186</td>\n",
      "      <td>191</td>\n",
      "      <td>99</td>\n",
      "      <td>8</td>\n",
      "      <td>31</td>\n",
      "      <td>50</td>\n",
      "      <td>105.48</td>\n",
      "      <td>255799</td>\n",
      "      <td>115320</td>\n",
      "      <td>Energy + Violent</td>\n",
      "      <td>HP%</td>\n",
      "      <td>HP%</td>\n",
      "      <td>HP%</td>\n",
      "    </tr>\n",
      "    <tr>\n",
      "      <th>6</th>\n",
      "      <td>44305</td>\n",
      "      <td>1191</td>\n",
      "      <td>1366</td>\n",
      "      <td>199</td>\n",
      "      <td>60</td>\n",
      "      <td>21</td>\n",
      "      <td>21</td>\n",
      "      <td>70</td>\n",
      "      <td>104.40</td>\n",
      "      <td>262330</td>\n",
      "      <td>114054</td>\n",
      "      <td>Guard + Vampire</td>\n",
      "      <td>HP%</td>\n",
      "      <td>HP%</td>\n",
      "      <td>HP%</td>\n",
      "    </tr>\n",
      "    <tr>\n",
      "      <th>7</th>\n",
      "      <td>48260</td>\n",
      "      <td>939</td>\n",
      "      <td>1052</td>\n",
      "      <td>200</td>\n",
      "      <td>81</td>\n",
      "      <td>42</td>\n",
      "      <td>27</td>\n",
      "      <td>61</td>\n",
      "      <td>102.47</td>\n",
      "      <td>232710</td>\n",
      "      <td>108324</td>\n",
      "      <td>Endure + Energy + Shield</td>\n",
      "      <td>HP%</td>\n",
      "      <td>HP%</td>\n",
      "      <td>HP%</td>\n",
      "    </tr>\n",
      "    <tr>\n",
      "      <th>8</th>\n",
      "      <td>47306</td>\n",
      "      <td>827</td>\n",
      "      <td>1239</td>\n",
      "      <td>174</td>\n",
      "      <td>105</td>\n",
      "      <td>38</td>\n",
      "      <td>44</td>\n",
      "      <td>57</td>\n",
      "      <td>102.34</td>\n",
      "      <td>259071</td>\n",
      "      <td>115472</td>\n",
      "      <td>Focus + Violent</td>\n",
      "      <td>HP%</td>\n",
      "      <td>HP%</td>\n",
      "      <td>HP%</td>\n",
      "    </tr>\n",
      "    <tr>\n",
      "      <th>9</th>\n",
      "      <td>46819</td>\n",
      "      <td>1017</td>\n",
      "      <td>1343</td>\n",
      "      <td>202</td>\n",
      "      <td>112</td>\n",
      "      <td>18</td>\n",
      "      <td>15</td>\n",
      "      <td>50</td>\n",
      "      <td>102.34</td>\n",
      "      <td>273446</td>\n",
      "      <td>119395</td>\n",
      "      <td>Endure + Swift</td>\n",
      "      <td>HP%</td>\n",
      "      <td>HP%</td>\n",
      "      <td>HP%</td>\n",
      "    </tr>\n",
      "  </tbody>\n",
      "</table>\n"
     ]
    }
   ],
   "source": [
    "print(df_stars6.drop(['Acquired', 'Locked', 'Rune #1', 'Rune #3', 'Rune #5', 'Level', 'Stars', 'Transmogrified', 'Skilled Up'], axis=1).reset_index(drop=True).rename(columns={'Resistance': 'Res', 'Accuracy': 'Acc'}).sort_values(['Avg Eff'], ascending=False).head(10).to_html())"
   ]
  },
  {
   "cell_type": "markdown",
   "metadata": {},
   "source": [
    "# Most common Builds"
   ]
  },
  {
   "cell_type": "code",
   "execution_count": 20,
   "metadata": {},
   "outputs": [
    {
     "name": "stdout",
     "output_type": "stream",
     "text": [
      "   Rune #2 Rune #4 Rune #6  Count\n",
      "5      HP%     HP%     HP%    364\n",
      "11     SPD     HP%     HP%     50\n",
      "3      HP%    DEF%     HP%      3\n",
      "4      HP%     HP%    DEF%      3\n",
      "0     DEF%     HP%     HP%      2\n"
     ]
    },
    {
     "data": {
      "image/png": "[encoded data removed]",
      "text/plain": [
       "<Figure size 720x360 with 1 Axes>"
      ]
     },
     "metadata": {},
     "output_type": "display_data"
    }
   ],
   "source": [
    "fig = plt.figure(figsize=(10, 5))\n",
    "\n",
    "builds_count = df_stars6.groupby([\"Rune #2\", \"Rune #4\", \"Rune #6\"]).size().reset_index(name='Count')\n",
    "builds_count = builds_count[builds_count['Count'] > 1].sort_values([\"Count\"], ascending=False) # single builds to drop\n",
    "print(builds_count)\n",
    "builds_count_to_plot = builds_count.set_index([\"Rune #2\", \"Rune #4\", \"Rune #6\"]).T\n",
    "\n",
    "builds_common = sns.barplot(data=builds_count_to_plot)\n",
    "_ = builds_common.set_xticklabels(builds_common.get_xticklabels(), rotation=45, horizontalalignment='right')\n",
    "plt.tick_params(labelcolor='white')\n",
    "plt.savefig(monster + \"_build_common.png\", transparent=True, bbox_inches = \"tight\")"
   ]
  },
  {
   "cell_type": "markdown",
   "metadata": {},
   "source": [
    "# Builds for most common set"
   ]
  },
  {
   "cell_type": "code",
   "execution_count": 21,
   "metadata": {},
   "outputs": [
    {
     "name": "stdout",
     "output_type": "stream",
     "text": [
      "  Rune #2 Rune #4 Rune #6  Count\n",
      "0     HP%     HP%     HP%     31\n",
      "2     SPD     HP%     HP%      6\n"
     ]
    },
    {
     "data": {
      "image/png": "[encoded data removed]",
      "text/plain": [
       "<Figure size 720x360 with 1 Axes>"
      ]
     },
     "metadata": {},
     "output_type": "display_data"
    }
   ],
   "source": [
    "fig = plt.figure(figsize=(10, 5))\n",
    "builds_count = df_stars6[df_stars6[\"Sets\"] == most_common_set].groupby([\"Rune #2\", \"Rune #4\", \"Rune #6\"]).size().reset_index(name='Count')\n",
    "builds_count = builds_count[builds_count['Count'] > 2].sort_values([\"Count\"], ascending=False) # single builds to drop\n",
    "print(builds_count)\n",
    "builds_count_to_plot = builds_count.set_index([\"Rune #2\", \"Rune #4\", \"Rune #6\"]).T\n",
    "\n",
    "builds_common = sns.barplot(data=builds_count_to_plot)\n",
    "ax = builds_common.set_xticklabels(builds_common.get_xticklabels(), rotation=45, horizontalalignment='right')\n",
    "builds_common.tick_params(labelcolor='white')\n",
    "plt.savefig(monster + \"_build_common_set.png\", transparent=True, bbox_inches = \"tight\")"
   ]
  },
  {
   "cell_type": "markdown",
   "metadata": {},
   "source": [
    "# Most frequent slot 2"
   ]
  },
  {
   "cell_type": "code",
   "execution_count": 22,
   "metadata": {},
   "outputs": [
    {
     "data": {
      "image/png": "[encoded data removed]",
      "text/plain": [
       "<Figure size 720x360 with 1 Axes>"
      ]
     },
     "metadata": {},
     "output_type": "display_data"
    }
   ],
   "source": [
    "fig = plt.figure(figsize=(10, 5))\n",
    "\n",
    "counts_slot2 = df_stars6[\"Rune #2\"].value_counts()\n",
    "counts_slot2 = counts_slot2[counts_slot2 > 2]\n",
    "x, y = counts_slot2.index, counts_slot2.values\n",
    "slot2 = sns.barplot(x=x, y=y)\n",
    "_ = slot2.set_xticklabels(slot2.get_xticklabels(), rotation=45, horizontalalignment='right')\n",
    "plt.tick_params(labelcolor='white')\n",
    "plt.savefig(monster + \"_slot_2.png\", transparent=True, bbox_inches = \"tight\")"
   ]
  },
  {
   "cell_type": "markdown",
   "metadata": {},
   "source": [
    "# Most frequent slot 4"
   ]
  },
  {
   "cell_type": "code",
   "execution_count": 23,
   "metadata": {},
   "outputs": [
    {
     "data": {
      "image/png": "[encoded data removed]",
      "text/plain": [
       "<Figure size 720x360 with 1 Axes>"
      ]
     },
     "metadata": {},
     "output_type": "display_data"
    }
   ],
   "source": [
    "fig = plt.figure(figsize=(10, 5))\n",
    "\n",
    "counts_slot4 = df_stars6[\"Rune #4\"].value_counts()\n",
    "counts_slot4 = counts_slot4[counts_slot4 > 2]\n",
    "x, y = counts_slot4.index, counts_slot4.values\n",
    "slot4 = sns.barplot(x=x, y=y)\n",
    "_ = slot4.set_xticklabels(slot4.get_xticklabels(), rotation=45, horizontalalignment='right')\n",
    "plt.tick_params(labelcolor='white')\n",
    "plt.savefig(monster + \"_slot_4.png\", transparent=True, bbox_inches = \"tight\")"
   ]
  },
  {
   "cell_type": "markdown",
   "metadata": {},
   "source": [
    "# Most frequent slot 6"
   ]
  },
  {
   "cell_type": "code",
   "execution_count": 24,
   "metadata": {},
   "outputs": [
    {
     "data": {
      "image/png": "[encoded data removed]",
      "text/plain": [
       "<Figure size 720x360 with 1 Axes>"
      ]
     },
     "metadata": {},
     "output_type": "display_data"
    }
   ],
   "source": [
    "fig = plt.figure(figsize=(10, 5))\n",
    "\n",
    "counts_slot6 = df_stars6[\"Rune #6\"].value_counts()\n",
    "counts_slot6 = counts_slot6[counts_slot6 > 2]\n",
    "x, y = counts_slot6.index, counts_slot6.values\n",
    "slot6 = sns.barplot(x=x, y=y)\n",
    "_ = slot6.set_xticklabels(slot6.get_xticklabels(), rotation=45, horizontalalignment='right')\n",
    "plt.tick_params(labelcolor='white')\n",
    "plt.savefig(monster + \"_slot_6.png\", transparent=True, bbox_inches = \"tight\")"
   ]
  }
 ],
 "metadata": {
  "kernelspec": {
   "display_name": "Python 3",
   "language": "python",
   "name": "python3"
  },
  "language_info": {
   "codemirror_mode": {
    "name": "ipython",
    "version": 3
   },
   "file_extension": ".py",
   "mimetype": "text/x-python",
   "name": "python",
   "nbconvert_exporter": "python",
   "pygments_lexer": "ipython3",
   "version": "3.7.3"
  }
 },
 "nbformat": 4,
 "nbformat_minor": 4
}
