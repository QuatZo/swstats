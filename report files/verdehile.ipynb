{
 "cells": [
  {
   "cell_type": "markdown",
   "metadata": {},
   "source": [
    "# Setting Up"
   ]
  },
  {
   "cell_type": "code",
   "execution_count": 1,
   "metadata": {
    "scrolled": false
   },
   "outputs": [
    {
     "name": "stdout",
     "output_type": "stream",
     "text": [
      "Index(['Level', 'Stars', 'HP', 'Attack', 'Defense', 'Speed', 'Resistance',\n",
      "       'Accuracy', 'Crit Rate', 'Crit Dmg', 'Avg Eff', 'Eff. HP',\n",
      "       'Eff. HP D-B', 'Sets', 'Skilled Up', 'Acquired', 'Locked',\n",
      "       'Transmogrified', 'Rune #1', 'Rune #2', 'Rune #3', 'Rune #4', 'Rune #5',\n",
      "       'Rune #6'],\n",
      "      dtype='object')\n"
     ]
    },
    {
     "data": {
      "text/html": [
       "<div>\n",
       "<style scoped>\n",
       "    .dataframe tbody tr th:only-of-type {\n",
       "        vertical-align: middle;\n",
       "    }\n",
       "\n",
       "    .dataframe tbody tr th {\n",
       "        vertical-align: top;\n",
       "    }\n",
       "\n",
       "    .dataframe thead th {\n",
       "        text-align: right;\n",
       "    }\n",
       "</style>\n",
       "<table border=\"1\" class=\"dataframe\">\n",
       "  <thead>\n",
       "    <tr style=\"text-align: right;\">\n",
       "      <th></th>\n",
       "      <th>Level</th>\n",
       "      <th>Stars</th>\n",
       "      <th>HP</th>\n",
       "      <th>Attack</th>\n",
       "      <th>Defense</th>\n",
       "      <th>Speed</th>\n",
       "      <th>Resistance</th>\n",
       "      <th>Accuracy</th>\n",
       "      <th>Crit Rate</th>\n",
       "      <th>Crit Dmg</th>\n",
       "      <th>...</th>\n",
       "      <th>Skilled Up</th>\n",
       "      <th>Acquired</th>\n",
       "      <th>Locked</th>\n",
       "      <th>Transmogrified</th>\n",
       "      <th>Rune #1</th>\n",
       "      <th>Rune #2</th>\n",
       "      <th>Rune #3</th>\n",
       "      <th>Rune #4</th>\n",
       "      <th>Rune #5</th>\n",
       "      <th>Rune #6</th>\n",
       "    </tr>\n",
       "    <tr>\n",
       "      <th>ID</th>\n",
       "      <th></th>\n",
       "      <th></th>\n",
       "      <th></th>\n",
       "      <th></th>\n",
       "      <th></th>\n",
       "      <th></th>\n",
       "      <th></th>\n",
       "      <th></th>\n",
       "      <th></th>\n",
       "      <th></th>\n",
       "      <th></th>\n",
       "      <th></th>\n",
       "      <th></th>\n",
       "      <th></th>\n",
       "      <th></th>\n",
       "      <th></th>\n",
       "      <th></th>\n",
       "      <th></th>\n",
       "      <th></th>\n",
       "      <th></th>\n",
       "      <th></th>\n",
       "    </tr>\n",
       "  </thead>\n",
       "  <tbody>\n",
       "    <tr>\n",
       "      <th>2730496502</th>\n",
       "      <td>40</td>\n",
       "      <td>6</td>\n",
       "      <td>28938</td>\n",
       "      <td>1914</td>\n",
       "      <td>1105</td>\n",
       "      <td>219</td>\n",
       "      <td>27</td>\n",
       "      <td>0</td>\n",
       "      <td>94</td>\n",
       "      <td>130</td>\n",
       "      <td>...</td>\n",
       "      <td>Yes</td>\n",
       "      <td>2015-02-24 00:42:20</td>\n",
       "      <td>No</td>\n",
       "      <td>Yes</td>\n",
       "      <td>ATK+</td>\n",
       "      <td>SPD</td>\n",
       "      <td>DEF+</td>\n",
       "      <td>CDmg%</td>\n",
       "      <td>HP+</td>\n",
       "      <td>HP%</td>\n",
       "    </tr>\n",
       "    <tr>\n",
       "      <th>7263629596</th>\n",
       "      <td>40</td>\n",
       "      <td>6</td>\n",
       "      <td>30184</td>\n",
       "      <td>1557</td>\n",
       "      <td>1045</td>\n",
       "      <td>276</td>\n",
       "      <td>23</td>\n",
       "      <td>0</td>\n",
       "      <td>99</td>\n",
       "      <td>50</td>\n",
       "      <td>...</td>\n",
       "      <td>Yes</td>\n",
       "      <td>2016-08-18 15:54:58</td>\n",
       "      <td>No</td>\n",
       "      <td>Yes</td>\n",
       "      <td>ATK+</td>\n",
       "      <td>SPD</td>\n",
       "      <td>DEF+</td>\n",
       "      <td>CRate%</td>\n",
       "      <td>HP+</td>\n",
       "      <td>HP%</td>\n",
       "    </tr>\n",
       "    <tr>\n",
       "      <th>7886714517</th>\n",
       "      <td>40</td>\n",
       "      <td>6</td>\n",
       "      <td>30313</td>\n",
       "      <td>1184</td>\n",
       "      <td>1053</td>\n",
       "      <td>249</td>\n",
       "      <td>39</td>\n",
       "      <td>0</td>\n",
       "      <td>114</td>\n",
       "      <td>50</td>\n",
       "      <td>...</td>\n",
       "      <td>Yes</td>\n",
       "      <td>2016-11-11 06:55:02</td>\n",
       "      <td>No</td>\n",
       "      <td>Yes</td>\n",
       "      <td>ATK+</td>\n",
       "      <td>SPD</td>\n",
       "      <td>DEF+</td>\n",
       "      <td>CRate%</td>\n",
       "      <td>HP+</td>\n",
       "      <td>HP%</td>\n",
       "    </tr>\n",
       "    <tr>\n",
       "      <th>12841387979</th>\n",
       "      <td>40</td>\n",
       "      <td>6</td>\n",
       "      <td>29827</td>\n",
       "      <td>1323</td>\n",
       "      <td>1110</td>\n",
       "      <td>253</td>\n",
       "      <td>15</td>\n",
       "      <td>0</td>\n",
       "      <td>101</td>\n",
       "      <td>63</td>\n",
       "      <td>...</td>\n",
       "      <td>No</td>\n",
       "      <td>2019-01-06 04:09:35</td>\n",
       "      <td>No</td>\n",
       "      <td>No</td>\n",
       "      <td>ATK+</td>\n",
       "      <td>SPD</td>\n",
       "      <td>DEF+</td>\n",
       "      <td>CRate%</td>\n",
       "      <td>HP+</td>\n",
       "      <td>HP%</td>\n",
       "    </tr>\n",
       "    <tr>\n",
       "      <th>4618884904</th>\n",
       "      <td>40</td>\n",
       "      <td>6</td>\n",
       "      <td>30955</td>\n",
       "      <td>1518</td>\n",
       "      <td>968</td>\n",
       "      <td>253</td>\n",
       "      <td>21</td>\n",
       "      <td>0</td>\n",
       "      <td>104</td>\n",
       "      <td>56</td>\n",
       "      <td>...</td>\n",
       "      <td>Yes</td>\n",
       "      <td>2015-09-17 18:43:50</td>\n",
       "      <td>No</td>\n",
       "      <td>Yes</td>\n",
       "      <td>ATK+</td>\n",
       "      <td>SPD</td>\n",
       "      <td>DEF+</td>\n",
       "      <td>CRate%</td>\n",
       "      <td>HP+</td>\n",
       "      <td>HP%</td>\n",
       "    </tr>\n",
       "    <tr>\n",
       "      <th>...</th>\n",
       "      <td>...</td>\n",
       "      <td>...</td>\n",
       "      <td>...</td>\n",
       "      <td>...</td>\n",
       "      <td>...</td>\n",
       "      <td>...</td>\n",
       "      <td>...</td>\n",
       "      <td>...</td>\n",
       "      <td>...</td>\n",
       "      <td>...</td>\n",
       "      <td>...</td>\n",
       "      <td>...</td>\n",
       "      <td>...</td>\n",
       "      <td>...</td>\n",
       "      <td>...</td>\n",
       "      <td>...</td>\n",
       "      <td>...</td>\n",
       "      <td>...</td>\n",
       "      <td>...</td>\n",
       "      <td>...</td>\n",
       "      <td>...</td>\n",
       "    </tr>\n",
       "    <tr>\n",
       "      <th>14928649192</th>\n",
       "      <td>28</td>\n",
       "      <td>5</td>\n",
       "      <td>12029</td>\n",
       "      <td>639</td>\n",
       "      <td>410</td>\n",
       "      <td>174</td>\n",
       "      <td>20</td>\n",
       "      <td>26</td>\n",
       "      <td>90</td>\n",
       "      <td>72</td>\n",
       "      <td>...</td>\n",
       "      <td>No</td>\n",
       "      <td>2020-01-26 08:55:30</td>\n",
       "      <td>No</td>\n",
       "      <td>No</td>\n",
       "      <td>ATK+</td>\n",
       "      <td>SPD</td>\n",
       "      <td>DEF+</td>\n",
       "      <td>CRate%</td>\n",
       "      <td>HP+</td>\n",
       "      <td>HP%</td>\n",
       "    </tr>\n",
       "    <tr>\n",
       "      <th>14563176308</th>\n",
       "      <td>35</td>\n",
       "      <td>5</td>\n",
       "      <td>10264</td>\n",
       "      <td>761</td>\n",
       "      <td>547</td>\n",
       "      <td>131</td>\n",
       "      <td>20</td>\n",
       "      <td>35</td>\n",
       "      <td>35</td>\n",
       "      <td>84</td>\n",
       "      <td>...</td>\n",
       "      <td>No</td>\n",
       "      <td>2019-11-20 05:56:27</td>\n",
       "      <td>No</td>\n",
       "      <td>No</td>\n",
       "      <td>ATK+</td>\n",
       "      <td>DEF%</td>\n",
       "      <td>DEF+</td>\n",
       "      <td>CDmg%</td>\n",
       "      <td>HP+</td>\n",
       "      <td>ACC%</td>\n",
       "    </tr>\n",
       "    <tr>\n",
       "      <th>13987737356</th>\n",
       "      <td>30</td>\n",
       "      <td>4</td>\n",
       "      <td>7178</td>\n",
       "      <td>665</td>\n",
       "      <td>360</td>\n",
       "      <td>103</td>\n",
       "      <td>22</td>\n",
       "      <td>29</td>\n",
       "      <td>62</td>\n",
       "      <td>71</td>\n",
       "      <td>...</td>\n",
       "      <td>No</td>\n",
       "      <td>2019-08-12 05:47:33</td>\n",
       "      <td>No</td>\n",
       "      <td>No</td>\n",
       "      <td>ATK+</td>\n",
       "      <td>ATK%</td>\n",
       "      <td>DEF+</td>\n",
       "      <td>CRate%</td>\n",
       "      <td>HP+</td>\n",
       "      <td>DEF%</td>\n",
       "    </tr>\n",
       "    <tr>\n",
       "      <th>14409892855</th>\n",
       "      <td>35</td>\n",
       "      <td>5</td>\n",
       "      <td>10006</td>\n",
       "      <td>702</td>\n",
       "      <td>443</td>\n",
       "      <td>112</td>\n",
       "      <td>24</td>\n",
       "      <td>10</td>\n",
       "      <td>99</td>\n",
       "      <td>61</td>\n",
       "      <td>...</td>\n",
       "      <td>No</td>\n",
       "      <td>2019-10-26 00:20:13</td>\n",
       "      <td>No</td>\n",
       "      <td>No</td>\n",
       "      <td>ATK+</td>\n",
       "      <td>HP%</td>\n",
       "      <td>DEF+</td>\n",
       "      <td>CRate%</td>\n",
       "      <td>HP+</td>\n",
       "      <td>RES%</td>\n",
       "    </tr>\n",
       "    <tr>\n",
       "      <th>11646415893</th>\n",
       "      <td>30</td>\n",
       "      <td>4</td>\n",
       "      <td>7128</td>\n",
       "      <td>817</td>\n",
       "      <td>312</td>\n",
       "      <td>119</td>\n",
       "      <td>15</td>\n",
       "      <td>8</td>\n",
       "      <td>45</td>\n",
       "      <td>60</td>\n",
       "      <td>...</td>\n",
       "      <td>No</td>\n",
       "      <td>2018-06-03 15:39:09</td>\n",
       "      <td>No</td>\n",
       "      <td>No</td>\n",
       "      <td>ATK+</td>\n",
       "      <td>SPD</td>\n",
       "      <td>DEF+</td>\n",
       "      <td>ATK%</td>\n",
       "      <td>HP+</td>\n",
       "      <td>ATK%</td>\n",
       "    </tr>\n",
       "  </tbody>\n",
       "</table>\n",
       "<p>537 rows × 24 columns</p>\n",
       "</div>"
      ],
      "text/plain": [
       "             Level  Stars     HP  Attack  Defense  Speed  Resistance  \\\n",
       "ID                                                                     \n",
       "2730496502      40      6  28938    1914     1105    219          27   \n",
       "7263629596      40      6  30184    1557     1045    276          23   \n",
       "7886714517      40      6  30313    1184     1053    249          39   \n",
       "12841387979     40      6  29827    1323     1110    253          15   \n",
       "4618884904      40      6  30955    1518      968    253          21   \n",
       "...            ...    ...    ...     ...      ...    ...         ...   \n",
       "14928649192     28      5  12029     639      410    174          20   \n",
       "14563176308     35      5  10264     761      547    131          20   \n",
       "13987737356     30      4   7178     665      360    103          22   \n",
       "14409892855     35      5  10006     702      443    112          24   \n",
       "11646415893     30      4   7128     817      312    119          15   \n",
       "\n",
       "             Accuracy  Crit Rate  Crit Dmg  ...  Skilled Up  \\\n",
       "ID                                          ...               \n",
       "2730496502          0         94       130  ...         Yes   \n",
       "7263629596          0         99        50  ...         Yes   \n",
       "7886714517          0        114        50  ...         Yes   \n",
       "12841387979         0        101        63  ...          No   \n",
       "4618884904          0        104        56  ...         Yes   \n",
       "...               ...        ...       ...  ...         ...   \n",
       "14928649192        26         90        72  ...          No   \n",
       "14563176308        35         35        84  ...          No   \n",
       "13987737356        29         62        71  ...          No   \n",
       "14409892855        10         99        61  ...          No   \n",
       "11646415893         8         45        60  ...          No   \n",
       "\n",
       "                        Acquired  Locked Transmogrified Rune #1 Rune #2  \\\n",
       "ID                                                                        \n",
       "2730496502   2015-02-24 00:42:20      No            Yes    ATK+     SPD   \n",
       "7263629596   2016-08-18 15:54:58      No            Yes    ATK+     SPD   \n",
       "7886714517   2016-11-11 06:55:02      No            Yes    ATK+     SPD   \n",
       "12841387979  2019-01-06 04:09:35      No             No    ATK+     SPD   \n",
       "4618884904   2015-09-17 18:43:50      No            Yes    ATK+     SPD   \n",
       "...                          ...     ...            ...     ...     ...   \n",
       "14928649192  2020-01-26 08:55:30      No             No    ATK+     SPD   \n",
       "14563176308  2019-11-20 05:56:27      No             No    ATK+    DEF%   \n",
       "13987737356  2019-08-12 05:47:33      No             No    ATK+    ATK%   \n",
       "14409892855  2019-10-26 00:20:13      No             No    ATK+     HP%   \n",
       "11646415893  2018-06-03 15:39:09      No             No    ATK+     SPD   \n",
       "\n",
       "            Rune #3 Rune #4 Rune #5 Rune #6  \n",
       "ID                                           \n",
       "2730496502     DEF+   CDmg%     HP+     HP%  \n",
       "7263629596     DEF+  CRate%     HP+     HP%  \n",
       "7886714517     DEF+  CRate%     HP+     HP%  \n",
       "12841387979    DEF+  CRate%     HP+     HP%  \n",
       "4618884904     DEF+  CRate%     HP+     HP%  \n",
       "...             ...     ...     ...     ...  \n",
       "14928649192    DEF+  CRate%     HP+     HP%  \n",
       "14563176308    DEF+   CDmg%     HP+    ACC%  \n",
       "13987737356    DEF+  CRate%     HP+    DEF%  \n",
       "14409892855    DEF+  CRate%     HP+    RES%  \n",
       "11646415893    DEF+    ATK%     HP+    ATK%  \n",
       "\n",
       "[537 rows x 24 columns]"
      ]
     },
     "execution_count": 1,
     "metadata": {},
     "output_type": "execute_result"
    }
   ],
   "source": [
    "import pandas as pd\n",
    "import numpy as np\n",
    "import matplotlib.pyplot as plt\n",
    "import matplotlib\n",
    "import seaborn as sns\n",
    "import scipy as stats\n",
    "\n",
    "sns.set(color_codes=True)\n",
    "sns.set_style(\"dark\")\n",
    "sns.set_context(\"poster\")\n",
    "matplotlib.rcParams['text.color'] = 'white'\n",
    "\n",
    "monster = \"verdehile\"\n",
    "filename = monster + \"_20200409.csv\"\n",
    "multipliers = [1.2 * 3, 4.0, 3.0] # ATK\n",
    "BASE_STATS = {\n",
    "    'HP': 9885,\n",
    "    'ATTACK': 812,\n",
    "    'DEFENSE': 505,\n",
    "    'SPEED': 99,\n",
    "    'CRIT_RATE': .15,\n",
    "    'CRIT_DMG': .5,\n",
    "    'ACCURACY%': 0,\n",
    "    'RESISTANCE%': 15,\n",
    "}\n",
    "\n",
    "TOWERS = {\n",
    "    'CRIT_DMG': .25,\n",
    "    'SPEED': .15,\n",
    "    'ATTACK': .20,\n",
    "    'ATTACK_ELEMENT': .21,\n",
    "    'DEFENSE': .20,\n",
    "    'HP': .20,\n",
    "}\n",
    "\n",
    "BUFFS = {\n",
    "    'ATTACK': 1.5,\n",
    "    'SPEED': .3,\n",
    "    'CRIT_RATE': .3,\n",
    "    'DEFENSE': 1.5,\n",
    "}\n",
    "\n",
    "df = pd.read_csv(filename, index_col=\"ID\")\n",
    "df_full = pd.read_csv(filename, index_col=\"ID\")\n",
    "print(df.columns)\n",
    "runes_cols = [\"Rune #\" + str(i) for i in range(1 ,7)]\n",
    "df.dropna(subset=runes_cols, how='any', inplace=True) # delete without runes\n",
    "df.sort_values([\"Avg Eff\"], ascending=False, inplace=True)\n",
    "df"
   ]
  },
  {
   "cell_type": "markdown",
   "metadata": {},
   "source": [
    "# Stars Distribution, picking 6*"
   ]
  },
  {
   "cell_type": "code",
   "execution_count": 2,
   "metadata": {},
   "outputs": [
    {
     "name": "stdout",
     "output_type": "stream",
     "text": [
      "(467, 24)\n"
     ]
    },
    {
     "data": {
      "image/png": "[encoded data removed]",
      "text/plain": [
       "<Figure size 720x720 with 1 Axes>"
      ]
     },
     "metadata": {},
     "output_type": "display_data"
    }
   ],
   "source": [
    "fig = plt.figure(figsize=(10, 10))\n",
    "stars = df[\"Stars\"].value_counts()\n",
    "plt.pie(stars, labels=stars.index, autopct='%1.1f%%', colors=['g', 'r', 'b'])\n",
    "plt.savefig(monster + \"_pie_6stars.png\", transparent=True, bbox_inches = \"tight\")\n",
    "df_stars6 = df[df[\"Stars\"] == 6] # pick only 6*\n",
    "print(df_stars6.shape)"
   ]
  },
  {
   "cell_type": "markdown",
   "metadata": {},
   "source": [
    "# Skilled Up"
   ]
  },
  {
   "cell_type": "code",
   "execution_count": 3,
   "metadata": {},
   "outputs": [
    {
     "data": {
      "image/png": "[encoded data removed]",
      "text/plain": [
       "<Figure size 720x720 with 1 Axes>"
      ]
     },
     "metadata": {},
     "output_type": "display_data"
    }
   ],
   "source": [
    "fig = plt.figure(figsize=(10, 10))\n",
    "stars = df_stars6[\"Skilled Up\"].value_counts()\n",
    "plt.pie(stars, labels=stars.index, autopct='%1.1f%%', colors=['r', 'g'])\n",
    "plt.savefig(monster + \"_pie_skillups.png\", transparent=True, bbox_inches = \"tight\")\n",
    "plt.show()"
   ]
  },
  {
   "cell_type": "markdown",
   "metadata": {},
   "source": [
    "# Runes "
   ]
  },
  {
   "cell_type": "code",
   "execution_count": 4,
   "metadata": {},
   "outputs": [
    {
     "data": {
      "image/png": "[encoded data removed]",
      "text/plain": [
       "<Figure size 720x720 with 1 Axes>"
      ]
     },
     "metadata": {},
     "output_type": "display_data"
    }
   ],
   "source": [
    "fig = plt.figure(figsize=(10, 10))\n",
    "df_runes = {\n",
    "    'Without Runes': df_full.shape[0] - df.shape[0],\n",
    "    'With Runes': df.shape[0],\n",
    "}\n",
    "plt.pie(df_runes.values(), labels=df_runes.keys(), autopct='%1.1f%%', colors=['r', 'g'])\n",
    "plt.savefig(monster + \"_pie_runes.png\", transparent=True, bbox_inches = \"tight\")\n",
    "plt.show()"
   ]
  },
  {
   "cell_type": "markdown",
   "metadata": {},
   "source": [
    "# Build Type"
   ]
  },
  {
   "cell_type": "code",
   "execution_count": 5,
   "metadata": {},
   "outputs": [
    {
     "data": {
      "text/plain": [
       "<Figure size 720x720 with 0 Axes>"
      ]
     },
     "metadata": {},
     "output_type": "display_data"
    },
    {
     "data": {
      "image/png": "[encoded data removed]",
      "text/plain": [
       "<Figure size 720x720 with 1 Axes>"
      ]
     },
     "metadata": {},
     "output_type": "display_data"
    }
   ],
   "source": [
    "fig = plt.figure(figsize=(10, 10))\n",
    "fig = plt.figure(figsize=(10, 10))\n",
    "dmg_dealer_df = df_stars6[(df_stars6[\"Crit Rate\"] >= 100) & (df_stars6[\"Crit Dmg\"] >= 150)] # shows mons with 100%+ crit rate & 150%+ crit damage\n",
    "pseudo_dmg_dealer_df = df_stars6[(df_stars6[\"Attack\"] > BASE_STATS['ATTACK'] * 2) & (df_stars6[\"Crit Rate\"] >= 100) & (df_stars6[\"Crit Dmg\"] < 150)]\n",
    "pie_dmg_or_tanky = {\n",
    "    'Damage Dealer \\n[100% crit rate,\\n 150% + crit dmg]': dmg_dealer_df.shape[0],\n",
    "    'Squishy \\n[+100% base attack,\\nLow Crit Dmg]': pseudo_dmg_dealer_df.shape[0],\n",
    "    'Other': df_stars6.shape[0] - pseudo_dmg_dealer_df.shape[0] - dmg_dealer_df.shape[0],\n",
    "}\n",
    "plt.pie(pie_dmg_or_tanky.values(), labels=pie_dmg_or_tanky.keys(), autopct='%1.1f%%', colors=['g', 'r', 'b'])\n",
    "plt.savefig(monster + \"_pie_is_tanky.png\", transparent=True, bbox_inches = \"tight\")\n",
    "plt.show()"
   ]
  },
  {
   "cell_type": "markdown",
   "metadata": {},
   "source": [
    "# Crit Rate"
   ]
  },
  {
   "cell_type": "code",
   "execution_count": 6,
   "metadata": {},
   "outputs": [
    {
     "data": {
      "image/png": "[encoded data removed]",
      "text/plain": [
       "<Figure size 720x720 with 1 Axes>"
      ]
     },
     "metadata": {},
     "output_type": "display_data"
    }
   ],
   "source": [
    "fig = plt.figure(figsize=(10, 10))\n",
    "df_crit_rate_yes = df_stars6[df_stars6[\"Crit Rate\"] >= 100]\n",
    "df_crit_rate = {\n",
    "    '100%': df_crit_rate_yes.shape[0],\n",
    "    'Under 100%': df_stars6.shape[0] - df_crit_rate_yes.shape[0],\n",
    "}\n",
    "plt.pie(df_crit_rate.values(), labels=df_crit_rate.keys(), autopct='%1.1f%%', colors=['g', 'r'])\n",
    "plt.savefig(monster + \"_pie_crit_rate.png\", transparent=True, bbox_inches = \"tight\")\n",
    "plt.show()"
   ]
  },
  {
   "cell_type": "markdown",
   "metadata": {},
   "source": [
    "# Transmog"
   ]
  },
  {
   "cell_type": "code",
   "execution_count": 7,
   "metadata": {},
   "outputs": [
    {
     "data": {
      "image/png": "[encoded data removed]",
      "text/plain": [
       "<Figure size 720x720 with 1 Axes>"
      ]
     },
     "metadata": {},
     "output_type": "display_data"
    }
   ],
   "source": [
    "fig = plt.figure(figsize=(10, 10))\n",
    "stars = df_stars6[\"Transmogrified\"].value_counts()\n",
    "plt.pie(stars, labels=stars.index, autopct='%1.1f%%', colors=['r', 'g'])\n",
    "plt.savefig(monster + \"_pie_transmog.png\", transparent=True, bbox_inches = \"tight\")\n",
    "plt.show()"
   ]
  },
  {
   "cell_type": "markdown",
   "metadata": {},
   "source": [
    "# Eff. HP Distribution"
   ]
  },
  {
   "cell_type": "code",
   "execution_count": 8,
   "metadata": {},
   "outputs": [
    {
     "data": {
      "image/png": "[encoded data removed]",
      "text/plain": [
       "<Figure size 720x360 with 1 Axes>"
      ]
     },
     "metadata": {},
     "output_type": "display_data"
    }
   ],
   "source": [
    "fig = plt.figure(figsize=(10, 5))\n",
    "sns.distplot(df_stars6[\"Eff. HP\"], bins=20, kde=False, rug=True).set_xlabel(None)\n",
    "plt.tick_params(labelcolor='white')\n",
    "plt.savefig(monster + \"_dist_effhp.png\", transparent=True, bbox_inches = \"tight\")"
   ]
  },
  {
   "cell_type": "markdown",
   "metadata": {},
   "source": [
    "# Total Attack Distribution"
   ]
  },
  {
   "cell_type": "code",
   "execution_count": 9,
   "metadata": {},
   "outputs": [
    {
     "data": {
      "image/png": "[encoded data removed]",
      "text/plain": [
       "<Figure size 720x360 with 1 Axes>"
      ]
     },
     "metadata": {},
     "output_type": "display_data"
    }
   ],
   "source": [
    "fig = plt.figure(figsize=(10, 5))\n",
    "sns.distplot(df_stars6[\"Attack\"], bins=20, kde=False, rug=True).set_xlabel(None)\n",
    "plt.tick_params(labelcolor='white')\n",
    "plt.savefig(monster + \"_dist_attack.png\", transparent=True, bbox_inches = \"tight\")"
   ]
  },
  {
   "cell_type": "markdown",
   "metadata": {},
   "source": [
    "# Avg. Rune Distribution"
   ]
  },
  {
   "cell_type": "code",
   "execution_count": 10,
   "metadata": {},
   "outputs": [
    {
     "data": {
      "image/png": "[encoded data removed]",
      "text/plain": [
       "<Figure size 720x360 with 1 Axes>"
      ]
     },
     "metadata": {},
     "output_type": "display_data"
    }
   ],
   "source": [
    "fig = plt.figure(figsize=(10, 5))\n",
    "sns.distplot(df_stars6[\"Avg Eff\"], bins=20, kde=False, rug=True).set_xlabel(None)\n",
    "plt.tick_params(labelcolor='white')\n",
    "plt.savefig(monster + \"_dist_rune_eff.png\", transparent=True, bbox_inches = \"tight\")"
   ]
  },
  {
   "cell_type": "markdown",
   "metadata": {},
   "source": [
    "# Sets"
   ]
  },
  {
   "cell_type": "code",
   "execution_count": 11,
   "metadata": {},
   "outputs": [
    {
     "name": "stdout",
     "output_type": "stream",
     "text": [
      "Revenge + Violent              170\n",
      "Blade + Violent                 82\n",
      "Blade + Swift                   30\n",
      "Violent                         29\n",
      "Revenge + Swift                 18\n",
      "Revenge + Revenge + Revenge     16\n",
      "Energy + Swift                  12\n",
      "Energy + Violent                11\n",
      "Swift                           10\n",
      "Blade + Fatal                    8\n",
      "Blade                            7\n",
      "Guard + Violent                  5\n",
      "Shield + Violent                 5\n",
      "Blade + Blade + Blade            4\n",
      "Nemesis + Violent                4\n",
      "Fight + Violent                  4\n",
      "Focus + Violent                  4\n",
      "Rage                             3\n",
      "Blade + Rage                     3\n",
      "Blade + Blade + Revenge          3\n",
      "Blade + Revenge + Revenge        2\n",
      "Violent + Will                   2\n",
      "Rage + Revenge                   2\n",
      "Energy + Fatal                   2\n",
      "Blade + Vampire                  2\n",
      "Revenge + Vampire                2\n",
      "Name: Sets, dtype: int64\n"
     ]
    },
    {
     "data": {
      "image/png": "[encoded data removed]",
      "text/plain": [
       "<Figure size 1440x360 with 1 Axes>"
      ]
     },
     "metadata": {},
     "output_type": "display_data"
    }
   ],
   "source": [
    "fig = plt.figure(figsize=(20, 5))\n",
    "counts = df_stars6[\"Sets\"].value_counts()\n",
    "counts = counts[counts > 1]\n",
    "print(counts)\n",
    "x, y = counts.index, counts.values\n",
    "sets = sns.barplot(x=x, y=y)\n",
    "_ = sets.set_xticklabels(sets.get_xticklabels(), rotation=45, horizontalalignment='right')\n",
    "plt.tick_params(labelcolor='white')\n",
    "plt.savefig(monster + \"_dist_sets.png\", transparent=True, bbox_inches = \"tight\")"
   ]
  },
  {
   "cell_type": "markdown",
   "metadata": {},
   "source": [
    "# Eff. HP Distribution for most common set"
   ]
  },
  {
   "cell_type": "code",
   "execution_count": 12,
   "metadata": {},
   "outputs": [
    {
     "name": "stdout",
     "output_type": "stream",
     "text": [
      "Revenge + Violent\n"
     ]
    },
    {
     "data": {
      "image/png": "[encoded data removed]",
      "text/plain": [
       "<Figure size 720x360 with 1 Axes>"
      ]
     },
     "metadata": {},
     "output_type": "display_data"
    }
   ],
   "source": [
    "most_common_set = counts.index[0]\n",
    "print(most_common_set)\n",
    "\n",
    "fig = plt.figure(figsize=(10, 5))\n",
    "sns.distplot(df_stars6[\"Eff. HP\"][df_stars6[\"Sets\"] == most_common_set], bins=20, kde=False, rug=True).set_xlabel(None)\n",
    "plt.tick_params(labelcolor='white')\n",
    "plt.savefig(monster + \"_dist_common_set_effhp.png\", transparent=True, bbox_inches = \"tight\")"
   ]
  },
  {
   "cell_type": "markdown",
   "metadata": {},
   "source": [
    "# Speed Distribution"
   ]
  },
  {
   "cell_type": "code",
   "execution_count": 13,
   "metadata": {},
   "outputs": [
    {
     "data": {
      "image/png": "[encoded data removed]",
      "text/plain": [
       "<Figure size 720x360 with 1 Axes>"
      ]
     },
     "metadata": {},
     "output_type": "display_data"
    }
   ],
   "source": [
    "fig = plt.figure(figsize=(10, 5))\n",
    "sns.distplot(df_stars6[\"Speed\"], bins=20, kde=False, rug=True).set_xlabel(None)\n",
    "plt.tick_params(labelcolor='white')\n",
    "plt.savefig(monster + \"_dist_speed.png\", transparent=True,  bbox_inches = \"tight\")"
   ]
  },
  {
   "cell_type": "markdown",
   "metadata": {},
   "source": [
    "# Speed Distribution for TOP 10% Eff. HP"
   ]
  },
  {
   "cell_type": "code",
   "execution_count": 14,
   "metadata": {},
   "outputs": [
    {
     "data": {
      "image/png": "[encoded data removed]",
      "text/plain": [
       "<Figure size 720x360 with 1 Axes>"
      ]
     },
     "metadata": {},
     "output_type": "display_data"
    }
   ],
   "source": [
    "fig = plt.figure(figsize=(10, 5))\n",
    "sns.distplot(df_stars6[\"Speed\"].head(int(df_stars6.shape[0] * .1)), bins=20, kde=False, rug=True).set_xlabel(None)\n",
    "plt.tick_params(labelcolor='white')\n",
    "plt.savefig(monster + \"_dist_speed_top10_percent.png\", transparent=True,  bbox_inches = \"tight\")"
   ]
  },
  {
   "cell_type": "markdown",
   "metadata": {},
   "source": [
    "# Speed - Eff. HP Relation for TOP 10% Eff. HP"
   ]
  },
  {
   "cell_type": "code",
   "execution_count": 15,
   "metadata": {},
   "outputs": [
    {
     "data": {
      "text/plain": [
       "<Figure size 720x360 with 0 Axes>"
      ]
     },
     "metadata": {},
     "output_type": "display_data"
    },
    {
     "data": {
      "image/png": "[encoded data removed]",
      "text/plain": [
       "<Figure size 360x360 with 1 Axes>"
      ]
     },
     "metadata": {},
     "output_type": "display_data"
    }
   ],
   "source": [
    "fig = plt.figure(figsize=(10, 5))\n",
    "sns.lmplot(x=\"Speed\", y=\"Eff. HP\", data=df_stars6.head(int(df_stars6.shape[0] * .1)))\n",
    "plt.tick_params(labelcolor='white')\n",
    "plt.savefig(monster + \"_rel_spd_dmg_top10_percent.png\", transparent=True,  bbox_inches = \"tight\")"
   ]
  },
  {
   "cell_type": "markdown",
   "metadata": {},
   "source": [
    "# Attack - Eff. HP Relation for TOP 10% Eff. HP"
   ]
  },
  {
   "cell_type": "code",
   "execution_count": 16,
   "metadata": {},
   "outputs": [
    {
     "data": {
      "text/plain": [
       "<Figure size 720x360 with 0 Axes>"
      ]
     },
     "metadata": {},
     "output_type": "display_data"
    },
    {
     "data": {
      "image/png": "[encoded data removed]",
      "text/plain": [
       "<Figure size 360x360 with 1 Axes>"
      ]
     },
     "metadata": {},
     "output_type": "display_data"
    }
   ],
   "source": [
    "fig = plt.figure(figsize=(10, 5))\n",
    "sns.lmplot(x=\"Attack\", y=\"Eff. HP\", data=df_stars6.sort_values(['Attack'], ascending=False).head(int(df_stars6.shape[0] * .1)))\n",
    "plt.tick_params(labelcolor='white')\n",
    "plt.savefig(monster + \"_rel_atk_dmg_top10_percent.png\", transparent=True,  bbox_inches = \"tight\")"
   ]
  },
  {
   "cell_type": "markdown",
   "metadata": {},
   "source": [
    "# Best by Category"
   ]
  },
  {
   "cell_type": "code",
   "execution_count": 17,
   "metadata": {},
   "outputs": [
    {
     "data": {
      "text/html": [
       "<div>\n",
       "<style scoped>\n",
       "    .dataframe tbody tr th:only-of-type {\n",
       "        vertical-align: middle;\n",
       "    }\n",
       "\n",
       "    .dataframe tbody tr th {\n",
       "        vertical-align: top;\n",
       "    }\n",
       "\n",
       "    .dataframe thead th {\n",
       "        text-align: right;\n",
       "    }\n",
       "</style>\n",
       "<table border=\"1\" class=\"dataframe\">\n",
       "  <thead>\n",
       "    <tr style=\"text-align: right;\">\n",
       "      <th></th>\n",
       "      <th>HP</th>\n",
       "      <th>Attack</th>\n",
       "      <th>Defense</th>\n",
       "      <th>Speed</th>\n",
       "      <th>Resistance</th>\n",
       "      <th>Accuracy</th>\n",
       "      <th>Crit Rate</th>\n",
       "      <th>Crit Dmg</th>\n",
       "      <th>Avg Eff</th>\n",
       "      <th>Eff. HP</th>\n",
       "      <th>Eff. HP D-B</th>\n",
       "    </tr>\n",
       "    <tr>\n",
       "      <th>ID</th>\n",
       "      <th></th>\n",
       "      <th></th>\n",
       "      <th></th>\n",
       "      <th></th>\n",
       "      <th></th>\n",
       "      <th></th>\n",
       "      <th></th>\n",
       "      <th></th>\n",
       "      <th></th>\n",
       "      <th></th>\n",
       "      <th></th>\n",
       "    </tr>\n",
       "  </thead>\n",
       "  <tbody>\n",
       "    <tr>\n",
       "      <th>1</th>\n",
       "      <td>37343</td>\n",
       "      <td>2840</td>\n",
       "      <td>1347</td>\n",
       "      <td>278</td>\n",
       "      <td>115</td>\n",
       "      <td>77</td>\n",
       "      <td>133</td>\n",
       "      <td>201</td>\n",
       "      <td>115</td>\n",
       "      <td>157980</td>\n",
       "      <td>77194</td>\n",
       "    </tr>\n",
       "  </tbody>\n",
       "</table>\n",
       "</div>"
      ],
      "text/plain": [
       "       HP Attack Defense Speed Resistance Accuracy Crit Rate Crit Dmg Avg Eff  \\\n",
       "ID                                                                              \n",
       "1   37343   2840    1347   278        115       77       133      201     115   \n",
       "\n",
       "   Eff. HP Eff. HP D-B  \n",
       "ID                      \n",
       "1   157980       77194  "
      ]
     },
     "execution_count": 17,
     "metadata": {},
     "output_type": "execute_result"
    }
   ],
   "source": [
    "cols = ['HP', 'Attack', 'Defense', 'Speed', 'Resistance', 'Accuracy', 'Crit Rate', 'Crit Dmg', 'Avg Eff', 'Eff. HP', 'Eff. HP D-B']\n",
    "df_best = pd.DataFrame(columns=[\"ID\"] + cols)\n",
    "df_best.set_index(\"ID\", drop=True, inplace=True)\n",
    "\n",
    "best = list()\n",
    "for column in cols:\n",
    "    best.append(int(round(df.sort_values([column], ascending=False)[column].head(1).values[0])))\n",
    "    \n",
    "df_best.loc[1] = best\n",
    "df_best"
   ]
  },
  {
   "cell_type": "markdown",
   "metadata": {},
   "source": [
    "# Best 10 Builds by Avg Eff"
   ]
  },
  {
   "cell_type": "code",
   "execution_count": 18,
   "metadata": {},
   "outputs": [
    {
     "name": "stdout",
     "output_type": "stream",
     "text": [
      "<table border=\"1\" class=\"dataframe\">\n",
      "  <thead>\n",
      "    <tr style=\"text-align: right;\">\n",
      "      <th></th>\n",
      "      <th>HP</th>\n",
      "      <th>Attack</th>\n",
      "      <th>Defense</th>\n",
      "      <th>Speed</th>\n",
      "      <th>Res</th>\n",
      "      <th>Acc</th>\n",
      "      <th>Crit Rate</th>\n",
      "      <th>Crit Dmg</th>\n",
      "      <th>Avg Eff</th>\n",
      "      <th>Eff. HP</th>\n",
      "      <th>Eff. HP D-B</th>\n",
      "      <th>Sets</th>\n",
      "      <th>Rune #2</th>\n",
      "      <th>Rune #4</th>\n",
      "      <th>Rune #6</th>\n",
      "    </tr>\n",
      "  </thead>\n",
      "  <tbody>\n",
      "    <tr>\n",
      "      <th>0</th>\n",
      "      <td>28938</td>\n",
      "      <td>1914</td>\n",
      "      <td>1105</td>\n",
      "      <td>219</td>\n",
      "      <td>27</td>\n",
      "      <td>0</td>\n",
      "      <td>94</td>\n",
      "      <td>130</td>\n",
      "      <td>115.47</td>\n",
      "      <td>144907</td>\n",
      "      <td>66565</td>\n",
      "      <td>Revenge + Revenge + Shield</td>\n",
      "      <td>SPD</td>\n",
      "      <td>CDmg%</td>\n",
      "      <td>HP%</td>\n",
      "    </tr>\n",
      "    <tr>\n",
      "      <th>1</th>\n",
      "      <td>30184</td>\n",
      "      <td>1557</td>\n",
      "      <td>1045</td>\n",
      "      <td>276</td>\n",
      "      <td>23</td>\n",
      "      <td>0</td>\n",
      "      <td>99</td>\n",
      "      <td>50</td>\n",
      "      <td>113.51</td>\n",
      "      <td>144808</td>\n",
      "      <td>67529</td>\n",
      "      <td>Revenge + Violent</td>\n",
      "      <td>SPD</td>\n",
      "      <td>CRate%</td>\n",
      "      <td>HP%</td>\n",
      "    </tr>\n",
      "    <tr>\n",
      "      <th>2</th>\n",
      "      <td>30313</td>\n",
      "      <td>1184</td>\n",
      "      <td>1053</td>\n",
      "      <td>249</td>\n",
      "      <td>39</td>\n",
      "      <td>0</td>\n",
      "      <td>114</td>\n",
      "      <td>50</td>\n",
      "      <td>109.04</td>\n",
      "      <td>146275</td>\n",
      "      <td>68072</td>\n",
      "      <td>Revenge + Violent</td>\n",
      "      <td>SPD</td>\n",
      "      <td>CRate%</td>\n",
      "      <td>HP%</td>\n",
      "    </tr>\n",
      "    <tr>\n",
      "      <th>3</th>\n",
      "      <td>29827</td>\n",
      "      <td>1323</td>\n",
      "      <td>1110</td>\n",
      "      <td>253</td>\n",
      "      <td>15</td>\n",
      "      <td>0</td>\n",
      "      <td>101</td>\n",
      "      <td>63</td>\n",
      "      <td>107.61</td>\n",
      "      <td>149881</td>\n",
      "      <td>68766</td>\n",
      "      <td>Revenge + Violent</td>\n",
      "      <td>SPD</td>\n",
      "      <td>CRate%</td>\n",
      "      <td>HP%</td>\n",
      "    </tr>\n",
      "    <tr>\n",
      "      <th>4</th>\n",
      "      <td>30955</td>\n",
      "      <td>1518</td>\n",
      "      <td>968</td>\n",
      "      <td>253</td>\n",
      "      <td>21</td>\n",
      "      <td>0</td>\n",
      "      <td>104</td>\n",
      "      <td>56</td>\n",
      "      <td>107.20</td>\n",
      "      <td>140164</td>\n",
      "      <td>66751</td>\n",
      "      <td>Revenge + Violent</td>\n",
      "      <td>SPD</td>\n",
      "      <td>CRate%</td>\n",
      "      <td>HP%</td>\n",
      "    </tr>\n",
      "    <tr>\n",
      "      <th>5</th>\n",
      "      <td>29278</td>\n",
      "      <td>1338</td>\n",
      "      <td>1130</td>\n",
      "      <td>247</td>\n",
      "      <td>20</td>\n",
      "      <td>11</td>\n",
      "      <td>94</td>\n",
      "      <td>61</td>\n",
      "      <td>106.92</td>\n",
      "      <td>149171</td>\n",
      "      <td>68115</td>\n",
      "      <td>Revenge + Violent</td>\n",
      "      <td>SPD</td>\n",
      "      <td>CRate%</td>\n",
      "      <td>HP%</td>\n",
      "    </tr>\n",
      "    <tr>\n",
      "      <th>6</th>\n",
      "      <td>25000</td>\n",
      "      <td>1435</td>\n",
      "      <td>1347</td>\n",
      "      <td>242</td>\n",
      "      <td>15</td>\n",
      "      <td>0</td>\n",
      "      <td>101</td>\n",
      "      <td>56</td>\n",
      "      <td>105.79</td>\n",
      "      <td>146363</td>\n",
      "      <td>63859</td>\n",
      "      <td>Revenge + Revenge + Revenge</td>\n",
      "      <td>SPD</td>\n",
      "      <td>CRate%</td>\n",
      "      <td>DEF%</td>\n",
      "    </tr>\n",
      "    <tr>\n",
      "      <th>7</th>\n",
      "      <td>30095</td>\n",
      "      <td>1159</td>\n",
      "      <td>1162</td>\n",
      "      <td>260</td>\n",
      "      <td>20</td>\n",
      "      <td>0</td>\n",
      "      <td>100</td>\n",
      "      <td>54</td>\n",
      "      <td>105.16</td>\n",
      "      <td>156705</td>\n",
      "      <td>71027</td>\n",
      "      <td>Violent + Will</td>\n",
      "      <td>SPD</td>\n",
      "      <td>CRate%</td>\n",
      "      <td>HP%</td>\n",
      "    </tr>\n",
      "    <tr>\n",
      "      <th>8</th>\n",
      "      <td>29512</td>\n",
      "      <td>1395</td>\n",
      "      <td>874</td>\n",
      "      <td>262</td>\n",
      "      <td>20</td>\n",
      "      <td>0</td>\n",
      "      <td>99</td>\n",
      "      <td>89</td>\n",
      "      <td>104.45</td>\n",
      "      <td>123921</td>\n",
      "      <td>60727</td>\n",
      "      <td>Blade</td>\n",
      "      <td>SPD</td>\n",
      "      <td>CRate%</td>\n",
      "      <td>HP%</td>\n",
      "    </tr>\n",
      "    <tr>\n",
      "      <th>9</th>\n",
      "      <td>26884</td>\n",
      "      <td>1345</td>\n",
      "      <td>1110</td>\n",
      "      <td>257</td>\n",
      "      <td>38</td>\n",
      "      <td>5</td>\n",
      "      <td>91</td>\n",
      "      <td>60</td>\n",
      "      <td>103.49</td>\n",
      "      <td>135092</td>\n",
      "      <td>61981</td>\n",
      "      <td>Revenge + Revenge + Revenge</td>\n",
      "      <td>SPD</td>\n",
      "      <td>CRate%</td>\n",
      "      <td>HP%</td>\n",
      "    </tr>\n",
      "  </tbody>\n",
      "</table>\n"
     ]
    }
   ],
   "source": [
    "print(df_stars6.drop(['Acquired', 'Locked', 'Rune #1', 'Rune #3', 'Rune #5', 'Level', 'Stars', 'Transmogrified', 'Skilled Up'], axis=1).reset_index(drop=True).rename(columns={'Resistance': 'Res', 'Accuracy': 'Acc'}).sort_values(['Avg Eff'], ascending=False).head(10).to_html())"
   ]
  },
  {
   "cell_type": "markdown",
   "metadata": {},
   "source": [
    "# Most common Builds"
   ]
  },
  {
   "cell_type": "code",
   "execution_count": 19,
   "metadata": {},
   "outputs": [
    {
     "name": "stdout",
     "output_type": "stream",
     "text": [
      "   Rune #2 Rune #4 Rune #6  Count\n",
      "22     SPD  CRate%     HP%    229\n",
      "20     SPD  CRate%    ATK%     79\n",
      "5     ATK%  CRate%    ATK%     33\n",
      "15     SPD   CDmg%    ATK%     24\n",
      "21     SPD  CRate%    DEF%     14\n",
      "3     ATK%   CDmg%    ATK%     13\n",
      "7     ATK%  CRate%     HP%     12\n",
      "17     SPD   CDmg%     HP%      9\n",
      "26     SPD     HP%     HP%      8\n",
      "12     HP%  CRate%     HP%      8\n",
      "10     HP%  CRate%    ATK%      7\n",
      "25     SPD     HP%    ATK%      5\n",
      "14     SPD    ATK%    ATK%      5\n",
      "13     HP%     HP%     HP%      3\n",
      "11     HP%  CRate%    DEF%      3\n",
      "8     DEF%  CRate%     HP%      3\n",
      "16     SPD   CDmg%    DEF%      2\n"
     ]
    },
    {
     "data": {
      "image/png": "[encoded data removed]",
      "text/plain": [
       "<Figure size 720x360 with 1 Axes>"
      ]
     },
     "metadata": {},
     "output_type": "display_data"
    }
   ],
   "source": [
    "fig = plt.figure(figsize=(10, 5))\n",
    "\n",
    "builds_count = df_stars6.groupby([\"Rune #2\", \"Rune #4\", \"Rune #6\"]).size().reset_index(name='Count')\n",
    "builds_count = builds_count[builds_count['Count'] > 1].sort_values([\"Count\"], ascending=False) # single builds to drop\n",
    "print(builds_count)\n",
    "builds_count_to_plot = builds_count.set_index([\"Rune #2\", \"Rune #4\", \"Rune #6\"]).T\n",
    "\n",
    "builds_common = sns.barplot(data=builds_count_to_plot)\n",
    "_ = builds_common.set_xticklabels(builds_common.get_xticklabels(), rotation=45, horizontalalignment='right')\n",
    "plt.tick_params(labelcolor='white')\n",
    "plt.savefig(monster + \"_build_common.png\", transparent=True, bbox_inches = \"tight\")"
   ]
  },
  {
   "cell_type": "markdown",
   "metadata": {},
   "source": [
    "# Builds for most common set"
   ]
  },
  {
   "cell_type": "code",
   "execution_count": 20,
   "metadata": {},
   "outputs": [
    {
     "name": "stdout",
     "output_type": "stream",
     "text": [
      "   Rune #2 Rune #4 Rune #6  Count\n",
      "13     SPD  CRate%     HP%    105\n",
      "11     SPD  CRate%    ATK%     24\n",
      "3     ATK%  CRate%    ATK%     11\n",
      "12     SPD  CRate%    DEF%      9\n",
      "9      SPD   CDmg%    ATK%      5\n",
      "4     ATK%  CRate%     HP%      3\n"
     ]
    },
    {
     "data": {
      "image/png": "[encoded data removed]",
      "text/plain": [
       "<Figure size 720x360 with 1 Axes>"
      ]
     },
     "metadata": {},
     "output_type": "display_data"
    }
   ],
   "source": [
    "fig = plt.figure(figsize=(10, 5))\n",
    "builds_count = df_stars6[df_stars6[\"Sets\"] == most_common_set].groupby([\"Rune #2\", \"Rune #4\", \"Rune #6\"]).size().reset_index(name='Count')\n",
    "builds_count = builds_count[builds_count['Count'] > 2].sort_values([\"Count\"], ascending=False) # single builds to drop\n",
    "print(builds_count)\n",
    "builds_count_to_plot = builds_count.set_index([\"Rune #2\", \"Rune #4\", \"Rune #6\"]).T\n",
    "\n",
    "builds_common = sns.barplot(data=builds_count_to_plot)\n",
    "ax = builds_common.set_xticklabels(builds_common.get_xticklabels(), rotation=45, horizontalalignment='right')\n",
    "builds_common.tick_params(labelcolor='white')\n",
    "plt.savefig(monster + \"_build_common_set.png\", transparent=True, bbox_inches = \"tight\")"
   ]
  },
  {
   "cell_type": "markdown",
   "metadata": {},
   "source": [
    "# Most frequent slot 2"
   ]
  },
  {
   "cell_type": "code",
   "execution_count": 21,
   "metadata": {},
   "outputs": [
    {
     "data": {
      "image/png": "[encoded data removed]",
      "text/plain": [
       "<Figure size 720x360 with 1 Axes>"
      ]
     },
     "metadata": {},
     "output_type": "display_data"
    }
   ],
   "source": [
    "fig = plt.figure(figsize=(10, 5))\n",
    "\n",
    "counts_slot2 = df_stars6[\"Rune #2\"].value_counts()\n",
    "counts_slot2 = counts_slot2[counts_slot2 > 2]\n",
    "x, y = counts_slot2.index, counts_slot2.values\n",
    "slot2 = sns.barplot(x=x, y=y)\n",
    "_ = slot2.set_xticklabels(slot2.get_xticklabels(), rotation=45, horizontalalignment='right')\n",
    "plt.tick_params(labelcolor='white')\n",
    "plt.savefig(monster + \"_slot_2.png\", transparent=True, bbox_inches = \"tight\")"
   ]
  },
  {
   "cell_type": "markdown",
   "metadata": {},
   "source": [
    "# Most frequent slot 4"
   ]
  },
  {
   "cell_type": "code",
   "execution_count": 22,
   "metadata": {},
   "outputs": [
    {
     "data": {
      "image/png": "[encoded data removed]",
      "text/plain": [
       "<Figure size 720x360 with 1 Axes>"
      ]
     },
     "metadata": {},
     "output_type": "display_data"
    }
   ],
   "source": [
    "fig = plt.figure(figsize=(10, 5))\n",
    "\n",
    "counts_slot4 = df_stars6[\"Rune #4\"].value_counts()\n",
    "counts_slot4 = counts_slot4[counts_slot4 > 2]\n",
    "x, y = counts_slot4.index, counts_slot4.values\n",
    "slot4 = sns.barplot(x=x, y=y)\n",
    "_ = slot4.set_xticklabels(slot4.get_xticklabels(), rotation=45, horizontalalignment='right')\n",
    "plt.tick_params(labelcolor='white')\n",
    "plt.savefig(monster + \"_slot_4.png\", transparent=True, bbox_inches = \"tight\")"
   ]
  },
  {
   "cell_type": "markdown",
   "metadata": {},
   "source": [
    "# Most frequent slot 6"
   ]
  },
  {
   "cell_type": "code",
   "execution_count": 23,
   "metadata": {},
   "outputs": [
    {
     "data": {
      "image/png": "[encoded data removed]",
      "text/plain": [
       "<Figure size 720x360 with 1 Axes>"
      ]
     },
     "metadata": {},
     "output_type": "display_data"
    }
   ],
   "source": [
    "fig = plt.figure(figsize=(10, 5))\n",
    "\n",
    "counts_slot6 = df_stars6[\"Rune #6\"].value_counts()\n",
    "counts_slot6 = counts_slot6[counts_slot6 > 2]\n",
    "x, y = counts_slot6.index, counts_slot6.values\n",
    "slot6 = sns.barplot(x=x, y=y)\n",
    "_ = slot6.set_xticklabels(slot6.get_xticklabels(), rotation=45, horizontalalignment='right')\n",
    "plt.tick_params(labelcolor='white')\n",
    "plt.savefig(monster + \"_slot_6.png\", transparent=True, bbox_inches = \"tight\")"
   ]
  }
 ],
 "metadata": {
  "kernelspec": {
   "display_name": "Python 3",
   "language": "python",
   "name": "python3"
  },
  "language_info": {
   "codemirror_mode": {
    "name": "ipython",
    "version": 3
   },
   "file_extension": ".py",
   "mimetype": "text/x-python",
   "name": "python",
   "nbconvert_exporter": "python",
   "pygments_lexer": "ipython3",
   "version": "3.7.3"
  }
 },
 "nbformat": 4,
 "nbformat_minor": 4
}
