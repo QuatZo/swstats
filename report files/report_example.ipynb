{
 "cells": [
  {
   "cell_type": "markdown",
   "metadata": {},
   "source": [
    "# Setting Up"
   ]
  },
  {
   "cell_type": "code",
   "execution_count": 1,
   "metadata": {
    "scrolled": false
   },
   "outputs": [
    {
     "name": "stdout",
     "output_type": "stream",
     "text": [
      "Index(['Level', 'Stars', 'HP', 'Attack', 'Defense', 'Speed', 'Res', 'Acc',\n",
      "       'CRate', 'CDmg', 'Eff', 'Eff.HP', 'Sets', 'Skillups', 'Acquired',\n",
      "       'Slot1', 'Slot2', 'Slot3', 'Slot4', 'Slot5', 'Slot6'],\n",
      "      dtype='object')\n"
     ]
    },
    {
     "data": {
      "text/html": [
       "<div>\n",
       "<style scoped>\n",
       "    .dataframe tbody tr th:only-of-type {\n",
       "        vertical-align: middle;\n",
       "    }\n",
       "\n",
       "    .dataframe tbody tr th {\n",
       "        vertical-align: top;\n",
       "    }\n",
       "\n",
       "    .dataframe thead th {\n",
       "        text-align: right;\n",
       "    }\n",
       "</style>\n",
       "<table border=\"1\" class=\"dataframe\">\n",
       "  <thead>\n",
       "    <tr style=\"text-align: right;\">\n",
       "      <th></th>\n",
       "      <th>Level</th>\n",
       "      <th>Stars</th>\n",
       "      <th>HP</th>\n",
       "      <th>Attack</th>\n",
       "      <th>Defense</th>\n",
       "      <th>Speed</th>\n",
       "      <th>Res</th>\n",
       "      <th>Acc</th>\n",
       "      <th>CRate</th>\n",
       "      <th>CDmg</th>\n",
       "      <th>...</th>\n",
       "      <th>Eff.HP</th>\n",
       "      <th>Sets</th>\n",
       "      <th>Skillups</th>\n",
       "      <th>Acquired</th>\n",
       "      <th>Slot1</th>\n",
       "      <th>Slot2</th>\n",
       "      <th>Slot3</th>\n",
       "      <th>Slot4</th>\n",
       "      <th>Slot5</th>\n",
       "      <th>Slot6</th>\n",
       "    </tr>\n",
       "  </thead>\n",
       "  <tbody>\n",
       "    <tr>\n",
       "      <th>382</th>\n",
       "      <td>40</td>\n",
       "      <td>6</td>\n",
       "      <td>21575</td>\n",
       "      <td>2583</td>\n",
       "      <td>1112</td>\n",
       "      <td>171</td>\n",
       "      <td>55</td>\n",
       "      <td>13</td>\n",
       "      <td>80</td>\n",
       "      <td>160</td>\n",
       "      <td>...</td>\n",
       "      <td>108565</td>\n",
       "      <td>Endure + Endure + Nemesis</td>\n",
       "      <td>[1, 1, 1]</td>\n",
       "      <td>2019-08-05</td>\n",
       "      <td>ATK+</td>\n",
       "      <td>ATK%</td>\n",
       "      <td>DEF+</td>\n",
       "      <td>CDmg%</td>\n",
       "      <td>HP+</td>\n",
       "      <td>ATK%</td>\n",
       "    </tr>\n",
       "    <tr>\n",
       "      <th>288</th>\n",
       "      <td>40</td>\n",
       "      <td>6</td>\n",
       "      <td>18975</td>\n",
       "      <td>2237</td>\n",
       "      <td>956</td>\n",
       "      <td>181</td>\n",
       "      <td>22</td>\n",
       "      <td>23</td>\n",
       "      <td>101</td>\n",
       "      <td>220</td>\n",
       "      <td>...</td>\n",
       "      <td>85121</td>\n",
       "      <td>Blade + Rage</td>\n",
       "      <td>[4, 3, 2]</td>\n",
       "      <td>2019-01-26</td>\n",
       "      <td>ATK+</td>\n",
       "      <td>ATK%</td>\n",
       "      <td>DEF+</td>\n",
       "      <td>CDmg%</td>\n",
       "      <td>HP+</td>\n",
       "      <td>ATK%</td>\n",
       "    </tr>\n",
       "    <tr>\n",
       "      <th>281</th>\n",
       "      <td>40</td>\n",
       "      <td>6</td>\n",
       "      <td>21272</td>\n",
       "      <td>2191</td>\n",
       "      <td>802</td>\n",
       "      <td>179</td>\n",
       "      <td>27</td>\n",
       "      <td>33</td>\n",
       "      <td>81</td>\n",
       "      <td>188</td>\n",
       "      <td>...</td>\n",
       "      <td>83960</td>\n",
       "      <td>Violent + Will</td>\n",
       "      <td>[3, 3, 2]</td>\n",
       "      <td>2019-01-16</td>\n",
       "      <td>ATK+</td>\n",
       "      <td>ATK%</td>\n",
       "      <td>DEF+</td>\n",
       "      <td>CDmg%</td>\n",
       "      <td>HP+</td>\n",
       "      <td>HP%</td>\n",
       "    </tr>\n",
       "    <tr>\n",
       "      <th>353</th>\n",
       "      <td>40</td>\n",
       "      <td>6</td>\n",
       "      <td>18214</td>\n",
       "      <td>2629</td>\n",
       "      <td>1081</td>\n",
       "      <td>186</td>\n",
       "      <td>23</td>\n",
       "      <td>35</td>\n",
       "      <td>82</td>\n",
       "      <td>154</td>\n",
       "      <td>...</td>\n",
       "      <td>89676</td>\n",
       "      <td>Fatal + Focus</td>\n",
       "      <td>[1, 1, 1]</td>\n",
       "      <td>2018-11-14</td>\n",
       "      <td>ATK+</td>\n",
       "      <td>ATK%</td>\n",
       "      <td>DEF+</td>\n",
       "      <td>CDmg%</td>\n",
       "      <td>HP+</td>\n",
       "      <td>ATK%</td>\n",
       "    </tr>\n",
       "    <tr>\n",
       "      <th>176</th>\n",
       "      <td>40</td>\n",
       "      <td>6</td>\n",
       "      <td>15252</td>\n",
       "      <td>2520</td>\n",
       "      <td>868</td>\n",
       "      <td>168</td>\n",
       "      <td>21</td>\n",
       "      <td>23</td>\n",
       "      <td>89</td>\n",
       "      <td>232</td>\n",
       "      <td>...</td>\n",
       "      <td>63722</td>\n",
       "      <td>Rage</td>\n",
       "      <td>[4, 3, 2]</td>\n",
       "      <td>2020-08-04</td>\n",
       "      <td>ATK+</td>\n",
       "      <td>ATK%</td>\n",
       "      <td>DEF+</td>\n",
       "      <td>CDmg%</td>\n",
       "      <td>HP+</td>\n",
       "      <td>ATK%</td>\n",
       "    </tr>\n",
       "    <tr>\n",
       "      <th>...</th>\n",
       "      <td>...</td>\n",
       "      <td>...</td>\n",
       "      <td>...</td>\n",
       "      <td>...</td>\n",
       "      <td>...</td>\n",
       "      <td>...</td>\n",
       "      <td>...</td>\n",
       "      <td>...</td>\n",
       "      <td>...</td>\n",
       "      <td>...</td>\n",
       "      <td>...</td>\n",
       "      <td>...</td>\n",
       "      <td>...</td>\n",
       "      <td>...</td>\n",
       "      <td>...</td>\n",
       "      <td>...</td>\n",
       "      <td>...</td>\n",
       "      <td>...</td>\n",
       "      <td>...</td>\n",
       "      <td>...</td>\n",
       "      <td>...</td>\n",
       "    </tr>\n",
       "    <tr>\n",
       "      <th>405</th>\n",
       "      <td>40</td>\n",
       "      <td>6</td>\n",
       "      <td>15908</td>\n",
       "      <td>1934</td>\n",
       "      <td>784</td>\n",
       "      <td>138</td>\n",
       "      <td>23</td>\n",
       "      <td>0</td>\n",
       "      <td>31</td>\n",
       "      <td>78</td>\n",
       "      <td>...</td>\n",
       "      <td>61786</td>\n",
       "      <td>Fatal</td>\n",
       "      <td>[1, 1, 1]</td>\n",
       "      <td>2020-05-12</td>\n",
       "      <td>ATK+</td>\n",
       "      <td>SPD</td>\n",
       "      <td>DEF+</td>\n",
       "      <td>ATK%</td>\n",
       "      <td>HP+</td>\n",
       "      <td>ATK%</td>\n",
       "    </tr>\n",
       "    <tr>\n",
       "      <th>52</th>\n",
       "      <td>35</td>\n",
       "      <td>5</td>\n",
       "      <td>9791</td>\n",
       "      <td>1503</td>\n",
       "      <td>589</td>\n",
       "      <td>135</td>\n",
       "      <td>15</td>\n",
       "      <td>9</td>\n",
       "      <td>48</td>\n",
       "      <td>80</td>\n",
       "      <td>...</td>\n",
       "      <td>31346</td>\n",
       "      <td>Blade + Fatal</td>\n",
       "      <td>[1, 1, 1]</td>\n",
       "      <td>2019-07-16</td>\n",
       "      <td>ATK+</td>\n",
       "      <td>ATK%</td>\n",
       "      <td>DEF+</td>\n",
       "      <td>ATK%</td>\n",
       "      <td>HP+</td>\n",
       "      <td>ATK%</td>\n",
       "    </tr>\n",
       "    <tr>\n",
       "      <th>337</th>\n",
       "      <td>40</td>\n",
       "      <td>6</td>\n",
       "      <td>14131</td>\n",
       "      <td>980</td>\n",
       "      <td>802</td>\n",
       "      <td>131</td>\n",
       "      <td>45</td>\n",
       "      <td>8</td>\n",
       "      <td>23</td>\n",
       "      <td>67</td>\n",
       "      <td>...</td>\n",
       "      <td>55775</td>\n",
       "      <td>Violent</td>\n",
       "      <td>[2, 1, 1]</td>\n",
       "      <td>2018-04-25</td>\n",
       "      <td>ATK+</td>\n",
       "      <td>ATK%</td>\n",
       "      <td>DEF+</td>\n",
       "      <td>DEF%</td>\n",
       "      <td>HP+</td>\n",
       "      <td>RES%</td>\n",
       "    </tr>\n",
       "    <tr>\n",
       "      <th>2</th>\n",
       "      <td>24</td>\n",
       "      <td>5</td>\n",
       "      <td>9990</td>\n",
       "      <td>693</td>\n",
       "      <td>429</td>\n",
       "      <td>112</td>\n",
       "      <td>44</td>\n",
       "      <td>11</td>\n",
       "      <td>21</td>\n",
       "      <td>88</td>\n",
       "      <td>...</td>\n",
       "      <td>26389</td>\n",
       "      <td>Violent</td>\n",
       "      <td>[1, 1, 1]</td>\n",
       "      <td>2019-11-22</td>\n",
       "      <td>ATK+</td>\n",
       "      <td>HP%</td>\n",
       "      <td>DEF+</td>\n",
       "      <td>CDmg%</td>\n",
       "      <td>HP+</td>\n",
       "      <td>ATK%</td>\n",
       "    </tr>\n",
       "    <tr>\n",
       "      <th>46</th>\n",
       "      <td>35</td>\n",
       "      <td>5</td>\n",
       "      <td>8809</td>\n",
       "      <td>844</td>\n",
       "      <td>569</td>\n",
       "      <td>113</td>\n",
       "      <td>19</td>\n",
       "      <td>0</td>\n",
       "      <td>36</td>\n",
       "      <td>56</td>\n",
       "      <td>...</td>\n",
       "      <td>27585</td>\n",
       "      <td>Blade + Fatal</td>\n",
       "      <td>[1, 1, 1]</td>\n",
       "      <td>2019-08-20</td>\n",
       "      <td>ATK+</td>\n",
       "      <td>ATK+</td>\n",
       "      <td>DEF+</td>\n",
       "      <td>ATK+</td>\n",
       "      <td>HP+</td>\n",
       "      <td>ATK+</td>\n",
       "    </tr>\n",
       "  </tbody>\n",
       "</table>\n",
       "<p>574 rows × 21 columns</p>\n",
       "</div>"
      ],
      "text/plain": [
       "     Level  Stars     HP  Attack  Defense  Speed  Res  Acc  CRate  CDmg  ...  \\\n",
       "382     40      6  21575    2583     1112    171   55   13     80   160  ...   \n",
       "288     40      6  18975    2237      956    181   22   23    101   220  ...   \n",
       "281     40      6  21272    2191      802    179   27   33     81   188  ...   \n",
       "353     40      6  18214    2629     1081    186   23   35     82   154  ...   \n",
       "176     40      6  15252    2520      868    168   21   23     89   232  ...   \n",
       "..     ...    ...    ...     ...      ...    ...  ...  ...    ...   ...  ...   \n",
       "405     40      6  15908    1934      784    138   23    0     31    78  ...   \n",
       "52      35      5   9791    1503      589    135   15    9     48    80  ...   \n",
       "337     40      6  14131     980      802    131   45    8     23    67  ...   \n",
       "2       24      5   9990     693      429    112   44   11     21    88  ...   \n",
       "46      35      5   8809     844      569    113   19    0     36    56  ...   \n",
       "\n",
       "     Eff.HP                       Sets   Skillups    Acquired Slot1 Slot2  \\\n",
       "382  108565  Endure + Endure + Nemesis  [1, 1, 1]  2019-08-05  ATK+  ATK%   \n",
       "288   85121               Blade + Rage  [4, 3, 2]  2019-01-26  ATK+  ATK%   \n",
       "281   83960             Violent + Will  [3, 3, 2]  2019-01-16  ATK+  ATK%   \n",
       "353   89676              Fatal + Focus  [1, 1, 1]  2018-11-14  ATK+  ATK%   \n",
       "176   63722                       Rage  [4, 3, 2]  2020-08-04  ATK+  ATK%   \n",
       "..      ...                        ...        ...         ...   ...   ...   \n",
       "405   61786                      Fatal  [1, 1, 1]  2020-05-12  ATK+   SPD   \n",
       "52    31346              Blade + Fatal  [1, 1, 1]  2019-07-16  ATK+  ATK%   \n",
       "337   55775                    Violent  [2, 1, 1]  2018-04-25  ATK+  ATK%   \n",
       "2     26389                    Violent  [1, 1, 1]  2019-11-22  ATK+   HP%   \n",
       "46    27585              Blade + Fatal  [1, 1, 1]  2019-08-20  ATK+  ATK+   \n",
       "\n",
       "    Slot3  Slot4 Slot5 Slot6  \n",
       "382  DEF+  CDmg%   HP+  ATK%  \n",
       "288  DEF+  CDmg%   HP+  ATK%  \n",
       "281  DEF+  CDmg%   HP+   HP%  \n",
       "353  DEF+  CDmg%   HP+  ATK%  \n",
       "176  DEF+  CDmg%   HP+  ATK%  \n",
       "..    ...    ...   ...   ...  \n",
       "405  DEF+   ATK%   HP+  ATK%  \n",
       "52   DEF+   ATK%   HP+  ATK%  \n",
       "337  DEF+   DEF%   HP+  RES%  \n",
       "2    DEF+  CDmg%   HP+  ATK%  \n",
       "46   DEF+   ATK+   HP+  ATK+  \n",
       "\n",
       "[574 rows x 21 columns]"
      ]
     },
     "execution_count": 1,
     "metadata": {},
     "output_type": "execute_result"
    }
   ],
   "source": [
    "import pandas as pd\n",
    "import numpy as np\n",
    "import matplotlib.pyplot as plt\n",
    "import matplotlib\n",
    "import seaborn as sns\n",
    "import scipy as stats\n",
    "\n",
    "sns.set(color_codes=True)\n",
    "sns.set_style(\"dark\")\n",
    "sns.set_context(\"poster\")\n",
    "matplotlib.rcParams['text.color'] = 'white'\n",
    "\n",
    "monster = \"kro_2a\"\n",
    "filename = monster + \"_20200813.csv\"\n",
    "\n",
    "max_skills = [4, 3, 2]\n",
    "\n",
    "df = pd.read_csv(filename)\n",
    "df_full = pd.read_csv(filename)\n",
    "df_full = df_full[df_full[\"Stars\"] == 6]\n",
    "print(df.columns)\n",
    "runes_cols = [\"Slot\" + str(i) for i in range(1 ,7)]\n",
    "df.dropna(subset=runes_cols, how='any', inplace=True) # delete without runes\n",
    "df.sort_values([\"Eff\"], ascending=False, inplace=True)\n",
    "df"
   ]
  },
  {
   "cell_type": "markdown",
   "metadata": {},
   "source": [
    "# Stars Distribution, picking 6*"
   ]
  },
  {
   "cell_type": "code",
   "execution_count": 2,
   "metadata": {},
   "outputs": [
    {
     "name": "stdout",
     "output_type": "stream",
     "text": [
      "(523, 21)\n"
     ]
    },
    {
     "data": {
      "image/png": "[encoded data removed]",
      "text/plain": [
       "<Figure size 720x720 with 1 Axes>"
      ]
     },
     "metadata": {},
     "output_type": "display_data"
    }
   ],
   "source": [
    "fig = plt.figure(figsize=(10, 10))\n",
    "stars = df[\"Stars\"].value_counts()\n",
    "plt.pie(stars, labels=stars.index, autopct='%1.1f%%', colors=['g', 'r', 'b'])\n",
    "plt.savefig(monster + \"_pie_6stars.png\", transparent=True, bbox_inches = \"tight\")\n",
    "df_stars6 = df[df[\"Stars\"] == 6] # pick only 6*\n",
    "print(df_stars6.shape)"
   ]
  },
  {
   "cell_type": "markdown",
   "metadata": {},
   "source": [
    "# Runes "
   ]
  },
  {
   "cell_type": "code",
   "execution_count": 3,
   "metadata": {},
   "outputs": [
    {
     "data": {
      "image/png": "[encoded data removed]",
      "text/plain": [
       "<Figure size 720x720 with 1 Axes>"
      ]
     },
     "metadata": {},
     "output_type": "display_data"
    }
   ],
   "source": [
    "fig = plt.figure(figsize=(10, 10))\n",
    "df_runes = {\n",
    "    'Without\\nRunes': df_full.shape[0] - df_stars6.shape[0],\n",
    "    'With\\nRunes': df_stars6.shape[0],\n",
    "}\n",
    "plt.pie(df_runes.values(), labels=df_runes.keys(), autopct='%1.1f%%', colors=['r', 'g'])\n",
    "plt.savefig(monster + \"_pie_runes.png\", transparent=True, bbox_inches = \"tight\")\n",
    "plt.show()"
   ]
  },
  {
   "cell_type": "markdown",
   "metadata": {},
   "source": [
    "# Skilled Up"
   ]
  },
  {
   "cell_type": "code",
   "execution_count": 27,
   "metadata": {},
   "outputs": [
    {
     "name": "stdout",
     "output_type": "stream",
     "text": [
      "{'None': 403, 'All': 54, 'Only 3rd': 6, '2nd & 3rd': 7}\n"
     ]
    },
    {
     "data": {
      "image/png": "[encoded data removed]",
      "text/plain": [
       "<Figure size 720x720 with 1 Axes>"
      ]
     },
     "metadata": {},
     "output_type": "display_data"
    }
   ],
   "source": [
    "skills_count = {}\n",
    "\n",
    "for value, count in df_stars6['Skillups'].value_counts().items():\n",
    "    skillups = eval(value)\n",
    "    if skillups == max_skills:\n",
    "        skills_count['All'] = count\n",
    "    elif skillups[:2] == max_skills[:2] and count > 5:\n",
    "        skills_count['1st & 2nd'] = count\n",
    "    elif [skillups[0], skillups[2]] == [max_skills[0], max_skills[2]] and count > 5:\n",
    "        skills_count['1st & 3rd'] = count\n",
    "    elif skillups[1:] == max_skills[1:] and count > 5:\n",
    "        skills_count['2nd & 3rd'] = count\n",
    "    elif skillups[0] == max_skills[0] and count > 5:\n",
    "        skills_count['Only 1st'] = count\n",
    "    elif skillups[1] == max_skills[1] and count > 5:\n",
    "        skills_count['Only 2nd'] = count\n",
    "    elif skillups[2] == max_skills[2] and count > 5:\n",
    "        skills_count['Only 3rd'] = count\n",
    "    else:\n",
    "        if 'None' not in skills_count.keys():\n",
    "            skills_count['None'] = 0\n",
    "        skills_count['None'] += count\n",
    "\n",
    "print(skills_count)\n",
    "fig = plt.figure(figsize=(10, 10))\n",
    "plt.pie(list(skills_count.values()), labels=skills_count.keys(), autopct='%1.1f%%', colors=['r', 'g', 'b', '#aaaaaa'])\n",
    "plt.savefig(monster + \"_pie_skillups.png\", transparent=True, bbox_inches = \"tight\")\n",
    "plt.show()"
   ]
  },
  {
   "cell_type": "markdown",
   "metadata": {},
   "source": [
    "# Eff. HP Distribution"
   ]
  },
  {
   "cell_type": "code",
   "execution_count": 5,
   "metadata": {},
   "outputs": [
    {
     "data": {
      "image/png": "[encoded data removed]",
      "text/plain": [
       "<Figure size 720x360 with 1 Axes>"
      ]
     },
     "metadata": {},
     "output_type": "display_data"
    }
   ],
   "source": [
    "fig = plt.figure(figsize=(10, 5))\n",
    "sns.distplot(df_stars6[\"Eff.HP\"], bins=20, kde=False, rug=True).set_xlabel(None)\n",
    "plt.tick_params(labelcolor='white')\n",
    "plt.savefig(monster + \"_dist_effhp.png\", transparent=True, bbox_inches = \"tight\")"
   ]
  },
  {
   "cell_type": "markdown",
   "metadata": {},
   "source": [
    "# HP Distribution"
   ]
  },
  {
   "cell_type": "code",
   "execution_count": 6,
   "metadata": {},
   "outputs": [
    {
     "data": {
      "image/png": "[encoded data removed]",
      "text/plain": [
       "<Figure size 720x360 with 1 Axes>"
      ]
     },
     "metadata": {},
     "output_type": "display_data"
    }
   ],
   "source": [
    "fig = plt.figure(figsize=(10, 5))\n",
    "sns.distplot(df_stars6[\"HP\"], bins=20, kde=False, rug=True).set_xlabel(None)\n",
    "plt.tick_params(labelcolor='white')\n",
    "plt.savefig(monster + \"_dist_hp.png\", transparent=True, bbox_inches = \"tight\")"
   ]
  },
  {
   "cell_type": "markdown",
   "metadata": {},
   "source": [
    "# Attack Distribution"
   ]
  },
  {
   "cell_type": "code",
   "execution_count": 7,
   "metadata": {},
   "outputs": [
    {
     "data": {
      "image/png": "[encoded data removed]",
      "text/plain": [
       "<Figure size 720x360 with 1 Axes>"
      ]
     },
     "metadata": {},
     "output_type": "display_data"
    }
   ],
   "source": [
    "fig = plt.figure(figsize=(10, 5))\n",
    "sns.distplot(df_stars6[\"Attack\"], bins=20, kde=False, rug=True).set_xlabel(None)\n",
    "plt.tick_params(labelcolor='white')\n",
    "plt.savefig(monster + \"_dist_attack.png\", transparent=True, bbox_inches = \"tight\")"
   ]
  },
  {
   "cell_type": "markdown",
   "metadata": {},
   "source": [
    "# Critical Rate Distribution"
   ]
  },
  {
   "cell_type": "code",
   "execution_count": 8,
   "metadata": {},
   "outputs": [
    {
     "data": {
      "image/png": "[encoded data removed]",
      "text/plain": [
       "<Figure size 720x360 with 1 Axes>"
      ]
     },
     "metadata": {},
     "output_type": "display_data"
    }
   ],
   "source": [
    "fig = plt.figure(figsize=(10, 5))\n",
    "sns.distplot(df_stars6[\"CRate\"], bins=20, kde=False, rug=True).set_xlabel(None)\n",
    "plt.tick_params(labelcolor='white')\n",
    "plt.savefig(monster + \"_dist_critrate.png\", transparent=True, bbox_inches = \"tight\")"
   ]
  },
  {
   "cell_type": "markdown",
   "metadata": {},
   "source": [
    "# Critical Damag Distribution"
   ]
  },
  {
   "cell_type": "code",
   "execution_count": 9,
   "metadata": {},
   "outputs": [
    {
     "data": {
      "image/png": "[encoded data removed]",
      "text/plain": [
       "<Figure size 720x360 with 1 Axes>"
      ]
     },
     "metadata": {},
     "output_type": "display_data"
    }
   ],
   "source": [
    "fig = plt.figure(figsize=(10, 5))\n",
    "sns.distplot(df_stars6[\"CDmg\"], bins=20, kde=False, rug=True).set_xlabel(None)\n",
    "plt.tick_params(labelcolor='white')\n",
    "plt.savefig(monster + \"_dist_critdmg.png\", transparent=True, bbox_inches = \"tight\")"
   ]
  },
  {
   "cell_type": "markdown",
   "metadata": {},
   "source": [
    "# Defense Distribution"
   ]
  },
  {
   "cell_type": "code",
   "execution_count": 10,
   "metadata": {},
   "outputs": [
    {
     "data": {
      "image/png": "[encoded data removed]",
      "text/plain": [
       "<Figure size 720x360 with 1 Axes>"
      ]
     },
     "metadata": {},
     "output_type": "display_data"
    }
   ],
   "source": [
    "fig = plt.figure(figsize=(10, 5))\n",
    "sns.distplot(df_stars6[\"Defense\"], bins=20, kde=False, rug=True).set_xlabel(None)\n",
    "plt.tick_params(labelcolor='white')\n",
    "plt.savefig(monster + \"_dist_defense.png\", transparent=True, bbox_inches = \"tight\")"
   ]
  },
  {
   "cell_type": "markdown",
   "metadata": {},
   "source": [
    "# Avg. Rune Distribution"
   ]
  },
  {
   "cell_type": "code",
   "execution_count": 11,
   "metadata": {},
   "outputs": [
    {
     "data": {
      "image/png": "[encoded data removed]",
      "text/plain": [
       "<Figure size 720x360 with 1 Axes>"
      ]
     },
     "metadata": {},
     "output_type": "display_data"
    }
   ],
   "source": [
    "fig = plt.figure(figsize=(10, 5))\n",
    "sns.distplot(df_stars6[\"Eff\"], bins=20, kde=False, rug=True).set_xlabel(None)\n",
    "plt.tick_params(labelcolor='white')\n",
    "plt.savefig(monster + \"_dist_rune_eff.png\", transparent=True, bbox_inches = \"tight\")"
   ]
  },
  {
   "cell_type": "markdown",
   "metadata": {},
   "source": [
    "# Accuracy Distribution"
   ]
  },
  {
   "cell_type": "code",
   "execution_count": 12,
   "metadata": {},
   "outputs": [
    {
     "data": {
      "image/png": "[encoded data removed]",
      "text/plain": [
       "<Figure size 720x360 with 1 Axes>"
      ]
     },
     "metadata": {},
     "output_type": "display_data"
    }
   ],
   "source": [
    "fig = plt.figure(figsize=(10, 5))\n",
    "sns.distplot(df_stars6[\"Acc\"], bins=20, kde=False, rug=True).set_xlabel(None)\n",
    "plt.tick_params(labelcolor='white')\n",
    "plt.savefig(monster + \"_dist_acc.png\", transparent=True, bbox_inches = \"tight\")"
   ]
  },
  {
   "cell_type": "markdown",
   "metadata": {},
   "source": [
    "# Resistance Distribution"
   ]
  },
  {
   "cell_type": "code",
   "execution_count": 13,
   "metadata": {},
   "outputs": [
    {
     "data": {
      "image/png": "[encoded data removed]",
      "text/plain": [
       "<Figure size 720x360 with 1 Axes>"
      ]
     },
     "metadata": {},
     "output_type": "display_data"
    }
   ],
   "source": [
    "fig = plt.figure(figsize=(10, 5))\n",
    "sns.distplot(df_stars6[\"Res\"], bins=20, kde=False, rug=True).set_xlabel(None)\n",
    "plt.tick_params(labelcolor='white')\n",
    "plt.savefig(monster + \"_dist_res.png\", transparent=True, bbox_inches = \"tight\")"
   ]
  },
  {
   "cell_type": "markdown",
   "metadata": {},
   "source": [
    "# Sets"
   ]
  },
  {
   "cell_type": "code",
   "execution_count": 14,
   "metadata": {},
   "outputs": [
    {
     "name": "stdout",
     "output_type": "stream",
     "text": [
      "Blade + Rage         94\n",
      "Blade + Fatal        71\n",
      "Rage                 42\n",
      "Fatal                31\n",
      "Blade + Violent      23\n",
      "Blade                18\n",
      "Rage + Revenge       16\n",
      "Violent              15\n",
      "Energy + Fatal       11\n",
      "Focus + Rage         11\n",
      "Blade + Swift        10\n",
      "Revenge + Vampire     9\n",
      "Broken                9\n",
      "Revenge + Violent     9\n",
      "Fatal + Revenge       9\n",
      "Energy + Rage         8\n",
      "Fatal + Focus         6\n",
      "Blade + Vampire       6\n",
      "Rage + Shield         5\n",
      "Fight + Rage          5\n",
      "Blade + Blade         5\n",
      "Destroy + Rage        4\n",
      "Swift                 4\n",
      "Blade + Energy        4\n",
      "Energy + Violent      4\n",
      "Name: Sets, dtype: int64\n"
     ]
    },
    {
     "data": {
      "image/png": "[encoded data removed]",
      "text/plain": [
       "<Figure size 1440x360 with 1 Axes>"
      ]
     },
     "metadata": {},
     "output_type": "display_data"
    }
   ],
   "source": [
    "fig = plt.figure(figsize=(20, 5))\n",
    "counts = df_stars6[\"Sets\"].value_counts()\n",
    "counts = counts[counts > 3]\n",
    "print(counts)\n",
    "x, y = counts.index, counts.values\n",
    "sets = sns.barplot(x=x, y=y)\n",
    "_ = sets.set_xticklabels(sets.get_xticklabels(), rotation=45, horizontalalignment='right')\n",
    "plt.tick_params(labelcolor='white')\n",
    "plt.savefig(monster + \"_dist_sets.png\", transparent=True, bbox_inches = \"tight\")"
   ]
  },
  {
   "cell_type": "markdown",
   "metadata": {},
   "source": [
    "# 4-Rune Sets"
   ]
  },
  {
   "cell_type": "code",
   "execution_count": 15,
   "metadata": {},
   "outputs": [
    {
     "data": {
      "image/png": "[encoded data removed]",
      "text/plain": [
       "<Figure size 1440x360 with 1 Axes>"
      ]
     },
     "metadata": {},
     "output_type": "display_data"
    }
   ],
   "source": [
    "sets_4 = ['Violent', 'Swift', 'Rage', 'Fatal', 'Despair', 'Vampire']\n",
    "fig = plt.figure(figsize=(20, 5))\n",
    "counts = df_stars6[\"Sets\"].value_counts()\n",
    "set_sum = dict()\n",
    "for set_4 in sets_4:\n",
    "    indexes = [val for val in counts.index if set_4 in val]\n",
    "    set_count = counts.loc[indexes]\n",
    "    set_sum[set_4] = set_count.sum()\n",
    "set_sum = {k: v for k, v in sorted(set_sum.items(), key=lambda item: item[1], reverse=True)}\n",
    "x, y = list(set_sum.keys()), list(set_sum.values())\n",
    "sets = sns.barplot(x=x, y=y)\n",
    "_ = sets.set_xticklabels(sets.get_xticklabels(), rotation=45, horizontalalignment='right')\n",
    "plt.tick_params(labelcolor='white')\n",
    "plt.savefig(monster + \"_dist_4sets.png\", transparent=True, bbox_inches = \"tight\")"
   ]
  },
  {
   "cell_type": "markdown",
   "metadata": {},
   "source": [
    "# Speed Distribution"
   ]
  },
  {
   "cell_type": "code",
   "execution_count": 16,
   "metadata": {},
   "outputs": [
    {
     "data": {
      "image/png": "[encoded data removed]",
      "text/plain": [
       "<Figure size 720x360 with 1 Axes>"
      ]
     },
     "metadata": {},
     "output_type": "display_data"
    }
   ],
   "source": [
    "fig = plt.figure(figsize=(10, 5))\n",
    "sns.distplot(df_stars6[\"Speed\"], bins=20, kde=False, rug=True).set_xlabel(None)\n",
    "plt.tick_params(labelcolor='white')\n",
    "plt.savefig(monster + \"_dist_speed.png\", transparent=True,  bbox_inches = \"tight\")"
   ]
  },
  {
   "cell_type": "markdown",
   "metadata": {},
   "source": [
    "# Average & Best by Category"
   ]
  },
  {
   "cell_type": "code",
   "execution_count": 17,
   "metadata": {},
   "outputs": [
    {
     "name": "stdout",
     "output_type": "stream",
     "text": [
      "Average\n"
     ]
    },
    {
     "data": {
      "text/plain": [
       "HP         15891.569790\n",
       "Attack      2069.718929\n",
       "Defense      911.931166\n",
       "Speed        151.625239\n",
       "Res           29.845124\n",
       "Acc           22.747610\n",
       "CRate         71.877629\n",
       "CDmg         168.529637\n",
       "Eff           80.561912\n",
       "Eff.HP     69049.778203\n",
       "Name: mean, dtype: float64"
      ]
     },
     "metadata": {},
     "output_type": "display_data"
    },
    {
     "name": "stdout",
     "output_type": "stream",
     "text": [
      "Best\n"
     ]
    },
    {
     "data": {
      "text/html": [
       "<div>\n",
       "<style scoped>\n",
       "    .dataframe tbody tr th:only-of-type {\n",
       "        vertical-align: middle;\n",
       "    }\n",
       "\n",
       "    .dataframe tbody tr th {\n",
       "        vertical-align: top;\n",
       "    }\n",
       "\n",
       "    .dataframe thead th {\n",
       "        text-align: right;\n",
       "    }\n",
       "</style>\n",
       "<table border=\"1\" class=\"dataframe\">\n",
       "  <thead>\n",
       "    <tr style=\"text-align: right;\">\n",
       "      <th></th>\n",
       "      <th>HP</th>\n",
       "      <th>Attack</th>\n",
       "      <th>Defense</th>\n",
       "      <th>Speed</th>\n",
       "      <th>Res</th>\n",
       "      <th>Acc</th>\n",
       "      <th>CRate</th>\n",
       "      <th>CDmg</th>\n",
       "      <th>Eff</th>\n",
       "      <th>Eff.HP</th>\n",
       "    </tr>\n",
       "    <tr>\n",
       "      <th>ID</th>\n",
       "      <th></th>\n",
       "      <th></th>\n",
       "      <th></th>\n",
       "      <th></th>\n",
       "      <th></th>\n",
       "      <th></th>\n",
       "      <th></th>\n",
       "      <th></th>\n",
       "      <th></th>\n",
       "      <th></th>\n",
       "    </tr>\n",
       "  </thead>\n",
       "  <tbody>\n",
       "    <tr>\n",
       "      <th>1</th>\n",
       "      <td>26250</td>\n",
       "      <td>2764</td>\n",
       "      <td>1458</td>\n",
       "      <td>218</td>\n",
       "      <td>86</td>\n",
       "      <td>84</td>\n",
       "      <td>114</td>\n",
       "      <td>251</td>\n",
       "      <td>106</td>\n",
       "      <td>146146</td>\n",
       "    </tr>\n",
       "  </tbody>\n",
       "</table>\n",
       "</div>"
      ],
      "text/plain": [
       "       HP Attack Defense Speed Res Acc CRate CDmg  Eff  Eff.HP\n",
       "ID                                                            \n",
       "1   26250   2764    1458   218  86  84   114  251  106  146146"
      ]
     },
     "metadata": {},
     "output_type": "display_data"
    }
   ],
   "source": [
    "cols = ['HP', 'Attack', 'Defense', 'Speed', 'Res', 'Acc', 'CRate', 'CDmg', 'Eff', 'Eff.HP']\n",
    "df_best = pd.DataFrame(columns=[\"ID\"] + cols)\n",
    "df_best.set_index(\"ID\", drop=True, inplace=True)\n",
    "\n",
    "best = list()\n",
    "for column in cols:\n",
    "    best.append(int(round(df.sort_values([column], ascending=False)[column].head(1).values[0])))\n",
    "\n",
    "df_best.loc[1] = best\n",
    "print(\"Average\")\n",
    "display(df_stars6[cols].describe().loc['mean'])\n",
    "print(\"Best\")\n",
    "display(df_best)"
   ]
  },
  {
   "cell_type": "markdown",
   "metadata": {},
   "source": [
    "# Best 10 Builds by Avg Eff"
   ]
  },
  {
   "cell_type": "code",
   "execution_count": 18,
   "metadata": {},
   "outputs": [
    {
     "name": "stdout",
     "output_type": "stream",
     "text": [
      "<table border=\"1\" class=\"dataframe\">\n",
      "  <thead>\n",
      "    <tr style=\"text-align: right;\">\n",
      "      <th></th>\n",
      "      <th>HP</th>\n",
      "      <th>Attack</th>\n",
      "      <th>Defense</th>\n",
      "      <th>Speed</th>\n",
      "      <th>Res</th>\n",
      "      <th>Acc</th>\n",
      "      <th>CRate</th>\n",
      "      <th>CDmg</th>\n",
      "      <th>Eff</th>\n",
      "      <th>Eff.HP</th>\n",
      "      <th>Sets</th>\n",
      "      <th>Slot2</th>\n",
      "      <th>Slot4</th>\n",
      "      <th>Slot6</th>\n",
      "    </tr>\n",
      "  </thead>\n",
      "  <tbody>\n",
      "    <tr>\n",
      "      <th>0</th>\n",
      "      <td>21575</td>\n",
      "      <td>2583</td>\n",
      "      <td>1112</td>\n",
      "      <td>171</td>\n",
      "      <td>55</td>\n",
      "      <td>13</td>\n",
      "      <td>80</td>\n",
      "      <td>160</td>\n",
      "      <td>105.76</td>\n",
      "      <td>108565</td>\n",
      "      <td>Endure + Endure + Nemesis</td>\n",
      "      <td>ATK%</td>\n",
      "      <td>CDmg%</td>\n",
      "      <td>ATK%</td>\n",
      "    </tr>\n",
      "    <tr>\n",
      "      <th>1</th>\n",
      "      <td>18975</td>\n",
      "      <td>2237</td>\n",
      "      <td>956</td>\n",
      "      <td>181</td>\n",
      "      <td>22</td>\n",
      "      <td>23</td>\n",
      "      <td>101</td>\n",
      "      <td>220</td>\n",
      "      <td>100.66</td>\n",
      "      <td>85121</td>\n",
      "      <td>Blade + Rage</td>\n",
      "      <td>ATK%</td>\n",
      "      <td>CDmg%</td>\n",
      "      <td>ATK%</td>\n",
      "    </tr>\n",
      "    <tr>\n",
      "      <th>2</th>\n",
      "      <td>21272</td>\n",
      "      <td>2191</td>\n",
      "      <td>802</td>\n",
      "      <td>179</td>\n",
      "      <td>27</td>\n",
      "      <td>33</td>\n",
      "      <td>81</td>\n",
      "      <td>188</td>\n",
      "      <td>100.50</td>\n",
      "      <td>83960</td>\n",
      "      <td>Violent + Will</td>\n",
      "      <td>ATK%</td>\n",
      "      <td>CDmg%</td>\n",
      "      <td>HP%</td>\n",
      "    </tr>\n",
      "    <tr>\n",
      "      <th>3</th>\n",
      "      <td>18214</td>\n",
      "      <td>2629</td>\n",
      "      <td>1081</td>\n",
      "      <td>186</td>\n",
      "      <td>23</td>\n",
      "      <td>35</td>\n",
      "      <td>82</td>\n",
      "      <td>154</td>\n",
      "      <td>99.76</td>\n",
      "      <td>89676</td>\n",
      "      <td>Fatal + Focus</td>\n",
      "      <td>ATK%</td>\n",
      "      <td>CDmg%</td>\n",
      "      <td>ATK%</td>\n",
      "    </tr>\n",
      "    <tr>\n",
      "      <th>4</th>\n",
      "      <td>15252</td>\n",
      "      <td>2520</td>\n",
      "      <td>868</td>\n",
      "      <td>168</td>\n",
      "      <td>21</td>\n",
      "      <td>23</td>\n",
      "      <td>89</td>\n",
      "      <td>232</td>\n",
      "      <td>99.51</td>\n",
      "      <td>63722</td>\n",
      "      <td>Rage</td>\n",
      "      <td>ATK%</td>\n",
      "      <td>CDmg%</td>\n",
      "      <td>ATK%</td>\n",
      "    </tr>\n",
      "    <tr>\n",
      "      <th>5</th>\n",
      "      <td>15822</td>\n",
      "      <td>2557</td>\n",
      "      <td>897</td>\n",
      "      <td>145</td>\n",
      "      <td>15</td>\n",
      "      <td>7</td>\n",
      "      <td>100</td>\n",
      "      <td>226</td>\n",
      "      <td>99.41</td>\n",
      "      <td>67710</td>\n",
      "      <td>Rage</td>\n",
      "      <td>ATK%</td>\n",
      "      <td>CDmg%</td>\n",
      "      <td>ATK%</td>\n",
      "    </tr>\n",
      "    <tr>\n",
      "      <th>6</th>\n",
      "      <td>15730</td>\n",
      "      <td>2401</td>\n",
      "      <td>1212</td>\n",
      "      <td>186</td>\n",
      "      <td>15</td>\n",
      "      <td>0</td>\n",
      "      <td>82</td>\n",
      "      <td>210</td>\n",
      "      <td>99.32</td>\n",
      "      <td>84659</td>\n",
      "      <td>Rage</td>\n",
      "      <td>ATK%</td>\n",
      "      <td>CDmg%</td>\n",
      "      <td>ATK%</td>\n",
      "    </tr>\n",
      "    <tr>\n",
      "      <th>7</th>\n",
      "      <td>17641</td>\n",
      "      <td>2291</td>\n",
      "      <td>1156</td>\n",
      "      <td>180</td>\n",
      "      <td>21</td>\n",
      "      <td>12</td>\n",
      "      <td>95</td>\n",
      "      <td>203</td>\n",
      "      <td>99.31</td>\n",
      "      <td>91486</td>\n",
      "      <td>Rage + Revenge</td>\n",
      "      <td>ATK%</td>\n",
      "      <td>CDmg%</td>\n",
      "      <td>ATK%</td>\n",
      "    </tr>\n",
      "    <tr>\n",
      "      <th>8</th>\n",
      "      <td>15691</td>\n",
      "      <td>2291</td>\n",
      "      <td>1168</td>\n",
      "      <td>195</td>\n",
      "      <td>21</td>\n",
      "      <td>4</td>\n",
      "      <td>86</td>\n",
      "      <td>196</td>\n",
      "      <td>99.21</td>\n",
      "      <td>82033</td>\n",
      "      <td>Blade + Guard</td>\n",
      "      <td>ATK%</td>\n",
      "      <td>CDmg%</td>\n",
      "      <td>ATK%</td>\n",
      "    </tr>\n",
      "    <tr>\n",
      "      <th>9</th>\n",
      "      <td>20421</td>\n",
      "      <td>2621</td>\n",
      "      <td>1112</td>\n",
      "      <td>177</td>\n",
      "      <td>34</td>\n",
      "      <td>5</td>\n",
      "      <td>72</td>\n",
      "      <td>153</td>\n",
      "      <td>99.15</td>\n",
      "      <td>102758</td>\n",
      "      <td>Energy + Fatal</td>\n",
      "      <td>ATK%</td>\n",
      "      <td>CDmg%</td>\n",
      "      <td>ATK%</td>\n",
      "    </tr>\n",
      "  </tbody>\n",
      "</table>\n"
     ]
    }
   ],
   "source": [
    "print(df_stars6.drop(['Acquired', 'Slot1', 'Slot3', 'Slot5', 'Level', 'Stars', 'Skillups'], axis=1).reset_index(drop=True).sort_values(['Eff'], ascending=False).head(10).to_html())"
   ]
  },
  {
   "cell_type": "markdown",
   "metadata": {},
   "source": [
    "# Most common Builds"
   ]
  },
  {
   "cell_type": "code",
   "execution_count": 19,
   "metadata": {},
   "outputs": [
    {
     "name": "stdout",
     "output_type": "stream",
     "text": [
      "   Slot2  Slot4 Slot6  Count\n",
      "2   ATK%  CDmg%  ATK%    405\n",
      "18   SPD  CDmg%  ATK%     55\n",
      "0   ATK%   ATK%  ATK%     11\n",
      "5   ATK%  CDmg%   HP%      8\n",
      "12   HP%  CDmg%  ATK%      7\n"
     ]
    },
    {
     "data": {
      "image/png": "[encoded data removed]",
      "text/plain": [
       "<Figure size 720x360 with 1 Axes>"
      ]
     },
     "metadata": {},
     "output_type": "display_data"
    }
   ],
   "source": [
    "fig = plt.figure(figsize=(10, 5))\n",
    "\n",
    "builds_count = df_stars6.groupby([\"Slot2\", \"Slot4\", \"Slot6\"]).size().reset_index(name='Count')\n",
    "builds_count = builds_count[builds_count['Count'] > 5].sort_values([\"Count\"], ascending=False) # single builds to drop\n",
    "print(builds_count)\n",
    "builds_count_to_plot = builds_count.set_index([\"Slot2\", \"Slot4\", \"Slot6\"]).T\n",
    "\n",
    "builds_common = sns.barplot(data=builds_count_to_plot)\n",
    "_ = builds_common.set_xticklabels(builds_common.get_xticklabels(), rotation=45, horizontalalignment='right')\n",
    "plt.tick_params(labelcolor='white')\n",
    "plt.savefig(monster + \"_build_common.png\", transparent=True, bbox_inches = \"tight\")"
   ]
  },
  {
   "cell_type": "markdown",
   "metadata": {},
   "source": [
    "# Most frequent slot 2"
   ]
  },
  {
   "cell_type": "code",
   "execution_count": 20,
   "metadata": {},
   "outputs": [
    {
     "data": {
      "image/png": "[encoded data removed]",
      "text/plain": [
       "<Figure size 720x360 with 1 Axes>"
      ]
     },
     "metadata": {},
     "output_type": "display_data"
    }
   ],
   "source": [
    "fig = plt.figure(figsize=(10, 5))\n",
    "\n",
    "counts_slot2 = df_stars6[\"Slot2\"].value_counts()\n",
    "counts_slot2 = counts_slot2[counts_slot2 > 2]\n",
    "x, y = counts_slot2.index, counts_slot2.values\n",
    "slot2 = sns.barplot(x=x, y=y)\n",
    "_ = slot2.set_xticklabels(slot2.get_xticklabels(), rotation=45, horizontalalignment='right')\n",
    "plt.tick_params(labelcolor='white')\n",
    "plt.savefig(monster + \"_slot_2.png\", transparent=True, bbox_inches = \"tight\")"
   ]
  },
  {
   "cell_type": "markdown",
   "metadata": {},
   "source": [
    "# Most frequent slot 4"
   ]
  },
  {
   "cell_type": "code",
   "execution_count": 21,
   "metadata": {},
   "outputs": [
    {
     "data": {
      "image/png": "[encoded data removed]",
      "text/plain": [
       "<Figure size 720x360 with 1 Axes>"
      ]
     },
     "metadata": {},
     "output_type": "display_data"
    }
   ],
   "source": [
    "fig = plt.figure(figsize=(10, 5))\n",
    "\n",
    "counts_slot4 = df_stars6[\"Slot4\"].value_counts()\n",
    "counts_slot4 = counts_slot4[counts_slot4 > 2]\n",
    "x, y = counts_slot4.index, counts_slot4.values\n",
    "slot4 = sns.barplot(x=x, y=y)\n",
    "_ = slot4.set_xticklabels(slot4.get_xticklabels(), rotation=45, horizontalalignment='right')\n",
    "plt.tick_params(labelcolor='white')\n",
    "plt.savefig(monster + \"_slot_4.png\", transparent=True, bbox_inches = \"tight\")"
   ]
  },
  {
   "cell_type": "markdown",
   "metadata": {},
   "source": [
    "# Most frequent slot 6"
   ]
  },
  {
   "cell_type": "code",
   "execution_count": 22,
   "metadata": {},
   "outputs": [
    {
     "data": {
      "image/png": "[encoded data removed]",
      "text/plain": [
       "<Figure size 720x360 with 1 Axes>"
      ]
     },
     "metadata": {},
     "output_type": "display_data"
    }
   ],
   "source": [
    "fig = plt.figure(figsize=(10, 5))\n",
    "\n",
    "counts_slot6 = df_stars6[\"Slot6\"].value_counts()\n",
    "counts_slot6 = counts_slot6[counts_slot6 > 2]\n",
    "x, y = counts_slot6.index, counts_slot6.values\n",
    "slot6 = sns.barplot(x=x, y=y)\n",
    "_ = slot6.set_xticklabels(slot6.get_xticklabels(), rotation=45, horizontalalignment='right')\n",
    "plt.tick_params(labelcolor='white')\n",
    "plt.savefig(monster + \"_slot_6.png\", transparent=True, bbox_inches = \"tight\")"
   ]
  }
 ],
 "metadata": {
  "kernelspec": {
   "display_name": "Python 3",
   "language": "python",
   "name": "python3"
  },
  "language_info": {
   "codemirror_mode": {
    "name": "ipython",
    "version": 3
   },
   "file_extension": ".py",
   "mimetype": "text/x-python",
   "name": "python",
   "nbconvert_exporter": "python",
   "pygments_lexer": "ipython3",
   "version": "3.7.6"
  }
 },
 "nbformat": 4,
 "nbformat_minor": 4
}
