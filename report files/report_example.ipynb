{
 "cells": [
  {
   "cell_type": "markdown",
   "metadata": {},
   "source": [
    "# Setting Up"
   ]
  },
  {
   "cell_type": "code",
   "execution_count": 1,
   "metadata": {
    "scrolled": false
   },
   "outputs": [
    {
     "name": "stdout",
     "output_type": "stream",
     "text": [
      "Index(['Level', 'Stars', 'HP', 'Attack', 'Defense', 'Speed', 'Res', 'Acc',\n",
      "       'CRate', 'CDmg', 'Eff', 'Eff.HP', 'Sets', 'Skillups', 'Acquired',\n",
      "       'Slot1', 'Slot2', 'Slot3', 'Slot4', 'Slot5', 'Slot6'],\n",
      "      dtype='object')\n"
     ]
    },
    {
     "data": {
      "text/html": [
       "<div>\n",
       "<style scoped>\n",
       "    .dataframe tbody tr th:only-of-type {\n",
       "        vertical-align: middle;\n",
       "    }\n",
       "\n",
       "    .dataframe tbody tr th {\n",
       "        vertical-align: top;\n",
       "    }\n",
       "\n",
       "    .dataframe thead th {\n",
       "        text-align: right;\n",
       "    }\n",
       "</style>\n",
       "<table border=\"1\" class=\"dataframe\">\n",
       "  <thead>\n",
       "    <tr style=\"text-align: right;\">\n",
       "      <th></th>\n",
       "      <th>Level</th>\n",
       "      <th>Stars</th>\n",
       "      <th>HP</th>\n",
       "      <th>Attack</th>\n",
       "      <th>Defense</th>\n",
       "      <th>Speed</th>\n",
       "      <th>Res</th>\n",
       "      <th>Acc</th>\n",
       "      <th>CRate</th>\n",
       "      <th>CDmg</th>\n",
       "      <th>...</th>\n",
       "      <th>Eff.HP</th>\n",
       "      <th>Sets</th>\n",
       "      <th>Skillups</th>\n",
       "      <th>Acquired</th>\n",
       "      <th>Slot1</th>\n",
       "      <th>Slot2</th>\n",
       "      <th>Slot3</th>\n",
       "      <th>Slot4</th>\n",
       "      <th>Slot5</th>\n",
       "      <th>Slot6</th>\n",
       "    </tr>\n",
       "  </thead>\n",
       "  <tbody>\n",
       "    <tr>\n",
       "      <th>587</th>\n",
       "      <td>40</td>\n",
       "      <td>6</td>\n",
       "      <td>25593</td>\n",
       "      <td>886</td>\n",
       "      <td>2634</td>\n",
       "      <td>249</td>\n",
       "      <td>61</td>\n",
       "      <td>59</td>\n",
       "      <td>25</td>\n",
       "      <td>55</td>\n",
       "      <td>...</td>\n",
       "      <td>265118</td>\n",
       "      <td>Focus + Guard + Will</td>\n",
       "      <td>[6, 3, 7]</td>\n",
       "      <td>2016-04-29</td>\n",
       "      <td>ATK+</td>\n",
       "      <td>SPD</td>\n",
       "      <td>DEF+</td>\n",
       "      <td>DEF%</td>\n",
       "      <td>HP+</td>\n",
       "      <td>DEF%</td>\n",
       "    </tr>\n",
       "    <tr>\n",
       "      <th>264</th>\n",
       "      <td>40</td>\n",
       "      <td>6</td>\n",
       "      <td>25922</td>\n",
       "      <td>1175</td>\n",
       "      <td>3115</td>\n",
       "      <td>180</td>\n",
       "      <td>61</td>\n",
       "      <td>49</td>\n",
       "      <td>37</td>\n",
       "      <td>57</td>\n",
       "      <td>...</td>\n",
       "      <td>312165</td>\n",
       "      <td>Blade + Guard + Guard</td>\n",
       "      <td>[6, 3, 7]</td>\n",
       "      <td>2018-02-18</td>\n",
       "      <td>ATK+</td>\n",
       "      <td>DEF%</td>\n",
       "      <td>DEF+</td>\n",
       "      <td>DEF%</td>\n",
       "      <td>HP+</td>\n",
       "      <td>DEF%</td>\n",
       "    </tr>\n",
       "    <tr>\n",
       "      <th>479</th>\n",
       "      <td>40</td>\n",
       "      <td>6</td>\n",
       "      <td>21851</td>\n",
       "      <td>1339</td>\n",
       "      <td>2577</td>\n",
       "      <td>182</td>\n",
       "      <td>49</td>\n",
       "      <td>20</td>\n",
       "      <td>71</td>\n",
       "      <td>150</td>\n",
       "      <td>...</td>\n",
       "      <td>221995</td>\n",
       "      <td>Fatal + Focus</td>\n",
       "      <td>[6, 3, 7]</td>\n",
       "      <td>2016-05-15</td>\n",
       "      <td>ATK+</td>\n",
       "      <td>DEF%</td>\n",
       "      <td>DEF+</td>\n",
       "      <td>CDmg%</td>\n",
       "      <td>HP+</td>\n",
       "      <td>DEF%</td>\n",
       "    </tr>\n",
       "    <tr>\n",
       "      <th>426</th>\n",
       "      <td>40</td>\n",
       "      <td>6</td>\n",
       "      <td>29464</td>\n",
       "      <td>733</td>\n",
       "      <td>2062</td>\n",
       "      <td>213</td>\n",
       "      <td>25</td>\n",
       "      <td>27</td>\n",
       "      <td>68</td>\n",
       "      <td>130</td>\n",
       "      <td>...</td>\n",
       "      <td>246230</td>\n",
       "      <td>Destroy + Rage</td>\n",
       "      <td>[6, 3, 7]</td>\n",
       "      <td>2016-05-01</td>\n",
       "      <td>ATK+</td>\n",
       "      <td>SPD</td>\n",
       "      <td>DEF+</td>\n",
       "      <td>HP%</td>\n",
       "      <td>HP+</td>\n",
       "      <td>DEF%</td>\n",
       "    </tr>\n",
       "    <tr>\n",
       "      <th>372</th>\n",
       "      <td>40</td>\n",
       "      <td>6</td>\n",
       "      <td>31220</td>\n",
       "      <td>900</td>\n",
       "      <td>2942</td>\n",
       "      <td>190</td>\n",
       "      <td>38</td>\n",
       "      <td>27</td>\n",
       "      <td>25</td>\n",
       "      <td>55</td>\n",
       "      <td>...</td>\n",
       "      <td>357063</td>\n",
       "      <td>Energy + Guard + Shield</td>\n",
       "      <td>[5, 3, 7]</td>\n",
       "      <td>2018-05-23</td>\n",
       "      <td>ATK+</td>\n",
       "      <td>DEF%</td>\n",
       "      <td>DEF+</td>\n",
       "      <td>HP%</td>\n",
       "      <td>HP+</td>\n",
       "      <td>DEF%</td>\n",
       "    </tr>\n",
       "    <tr>\n",
       "      <th>...</th>\n",
       "      <td>...</td>\n",
       "      <td>...</td>\n",
       "      <td>...</td>\n",
       "      <td>...</td>\n",
       "      <td>...</td>\n",
       "      <td>...</td>\n",
       "      <td>...</td>\n",
       "      <td>...</td>\n",
       "      <td>...</td>\n",
       "      <td>...</td>\n",
       "      <td>...</td>\n",
       "      <td>...</td>\n",
       "      <td>...</td>\n",
       "      <td>...</td>\n",
       "      <td>...</td>\n",
       "      <td>...</td>\n",
       "      <td>...</td>\n",
       "      <td>...</td>\n",
       "      <td>...</td>\n",
       "      <td>...</td>\n",
       "      <td>...</td>\n",
       "    </tr>\n",
       "    <tr>\n",
       "      <th>15</th>\n",
       "      <td>35</td>\n",
       "      <td>5</td>\n",
       "      <td>11472</td>\n",
       "      <td>656</td>\n",
       "      <td>900</td>\n",
       "      <td>128</td>\n",
       "      <td>63</td>\n",
       "      <td>45</td>\n",
       "      <td>18</td>\n",
       "      <td>78</td>\n",
       "      <td>...</td>\n",
       "      <td>49214</td>\n",
       "      <td>Revenge + Violent</td>\n",
       "      <td>[1, 1, 2]</td>\n",
       "      <td>2020-02-16</td>\n",
       "      <td>ATK+</td>\n",
       "      <td>SPD</td>\n",
       "      <td>DEF+</td>\n",
       "      <td>DEF%</td>\n",
       "      <td>HP+</td>\n",
       "      <td>ACC%</td>\n",
       "    </tr>\n",
       "    <tr>\n",
       "      <th>26</th>\n",
       "      <td>35</td>\n",
       "      <td>5</td>\n",
       "      <td>14821</td>\n",
       "      <td>558</td>\n",
       "      <td>1313</td>\n",
       "      <td>113</td>\n",
       "      <td>44</td>\n",
       "      <td>38</td>\n",
       "      <td>18</td>\n",
       "      <td>65</td>\n",
       "      <td>...</td>\n",
       "      <td>85006</td>\n",
       "      <td>Energy + Guard</td>\n",
       "      <td>[1, 2, 2]</td>\n",
       "      <td>2017-01-20</td>\n",
       "      <td>ATK+</td>\n",
       "      <td>DEF%</td>\n",
       "      <td>DEF+</td>\n",
       "      <td>HP%</td>\n",
       "      <td>HP+</td>\n",
       "      <td>DEF%</td>\n",
       "    </tr>\n",
       "    <tr>\n",
       "      <th>573</th>\n",
       "      <td>40</td>\n",
       "      <td>6</td>\n",
       "      <td>22128</td>\n",
       "      <td>750</td>\n",
       "      <td>1315</td>\n",
       "      <td>114</td>\n",
       "      <td>78</td>\n",
       "      <td>21</td>\n",
       "      <td>23</td>\n",
       "      <td>62</td>\n",
       "      <td>...</td>\n",
       "      <td>127070</td>\n",
       "      <td>Endure + Energy + Revenge</td>\n",
       "      <td>[6, 3, 7]</td>\n",
       "      <td>2018-04-06</td>\n",
       "      <td>ATK+</td>\n",
       "      <td>DEF%</td>\n",
       "      <td>DEF+</td>\n",
       "      <td>HP%</td>\n",
       "      <td>HP+</td>\n",
       "      <td>HP%</td>\n",
       "    </tr>\n",
       "    <tr>\n",
       "      <th>458</th>\n",
       "      <td>40</td>\n",
       "      <td>6</td>\n",
       "      <td>12860</td>\n",
       "      <td>883</td>\n",
       "      <td>2130</td>\n",
       "      <td>107</td>\n",
       "      <td>60</td>\n",
       "      <td>11</td>\n",
       "      <td>36</td>\n",
       "      <td>55</td>\n",
       "      <td>...</td>\n",
       "      <td>110532</td>\n",
       "      <td>Guard + Violent</td>\n",
       "      <td>[6, 3, 7]</td>\n",
       "      <td>2018-01-06</td>\n",
       "      <td>ATK+</td>\n",
       "      <td>DEF%</td>\n",
       "      <td>DEF+</td>\n",
       "      <td>DEF%</td>\n",
       "      <td>HP+</td>\n",
       "      <td>DEF%</td>\n",
       "    </tr>\n",
       "    <tr>\n",
       "      <th>225</th>\n",
       "      <td>40</td>\n",
       "      <td>6</td>\n",
       "      <td>15666</td>\n",
       "      <td>768</td>\n",
       "      <td>2232</td>\n",
       "      <td>107</td>\n",
       "      <td>60</td>\n",
       "      <td>9</td>\n",
       "      <td>27</td>\n",
       "      <td>62</td>\n",
       "      <td>...</td>\n",
       "      <td>140242</td>\n",
       "      <td>Energy + Guard + Guard</td>\n",
       "      <td>[2, 2, 2]</td>\n",
       "      <td>2017-06-21</td>\n",
       "      <td>ATK+</td>\n",
       "      <td>DEF%</td>\n",
       "      <td>DEF+</td>\n",
       "      <td>DEF%</td>\n",
       "      <td>HP+</td>\n",
       "      <td>DEF%</td>\n",
       "    </tr>\n",
       "  </tbody>\n",
       "</table>\n",
       "<p>523 rows × 21 columns</p>\n",
       "</div>"
      ],
      "text/plain": [
       "     Level  Stars     HP  Attack  Defense  Speed  Res  Acc  CRate  CDmg  ...  \\\n",
       "587     40      6  25593     886     2634    249   61   59     25    55  ...   \n",
       "264     40      6  25922    1175     3115    180   61   49     37    57  ...   \n",
       "479     40      6  21851    1339     2577    182   49   20     71   150  ...   \n",
       "426     40      6  29464     733     2062    213   25   27     68   130  ...   \n",
       "372     40      6  31220     900     2942    190   38   27     25    55  ...   \n",
       "..     ...    ...    ...     ...      ...    ...  ...  ...    ...   ...  ...   \n",
       "15      35      5  11472     656      900    128   63   45     18    78  ...   \n",
       "26      35      5  14821     558     1313    113   44   38     18    65  ...   \n",
       "573     40      6  22128     750     1315    114   78   21     23    62  ...   \n",
       "458     40      6  12860     883     2130    107   60   11     36    55  ...   \n",
       "225     40      6  15666     768     2232    107   60    9     27    62  ...   \n",
       "\n",
       "     Eff.HP                       Sets   Skillups    Acquired Slot1 Slot2  \\\n",
       "587  265118       Focus + Guard + Will  [6, 3, 7]  2016-04-29  ATK+   SPD   \n",
       "264  312165      Blade + Guard + Guard  [6, 3, 7]  2018-02-18  ATK+  DEF%   \n",
       "479  221995              Fatal + Focus  [6, 3, 7]  2016-05-15  ATK+  DEF%   \n",
       "426  246230             Destroy + Rage  [6, 3, 7]  2016-05-01  ATK+   SPD   \n",
       "372  357063    Energy + Guard + Shield  [5, 3, 7]  2018-05-23  ATK+  DEF%   \n",
       "..      ...                        ...        ...         ...   ...   ...   \n",
       "15    49214          Revenge + Violent  [1, 1, 2]  2020-02-16  ATK+   SPD   \n",
       "26    85006             Energy + Guard  [1, 2, 2]  2017-01-20  ATK+  DEF%   \n",
       "573  127070  Endure + Energy + Revenge  [6, 3, 7]  2018-04-06  ATK+  DEF%   \n",
       "458  110532            Guard + Violent  [6, 3, 7]  2018-01-06  ATK+  DEF%   \n",
       "225  140242     Energy + Guard + Guard  [2, 2, 2]  2017-06-21  ATK+  DEF%   \n",
       "\n",
       "    Slot3  Slot4 Slot5 Slot6  \n",
       "587  DEF+   DEF%   HP+  DEF%  \n",
       "264  DEF+   DEF%   HP+  DEF%  \n",
       "479  DEF+  CDmg%   HP+  DEF%  \n",
       "426  DEF+    HP%   HP+  DEF%  \n",
       "372  DEF+    HP%   HP+  DEF%  \n",
       "..    ...    ...   ...   ...  \n",
       "15   DEF+   DEF%   HP+  ACC%  \n",
       "26   DEF+    HP%   HP+  DEF%  \n",
       "573  DEF+    HP%   HP+   HP%  \n",
       "458  DEF+   DEF%   HP+  DEF%  \n",
       "225  DEF+   DEF%   HP+  DEF%  \n",
       "\n",
       "[523 rows x 21 columns]"
      ]
     },
     "execution_count": 1,
     "metadata": {},
     "output_type": "execute_result"
    }
   ],
   "source": [
    "import pandas as pd\n",
    "import numpy as np\n",
    "import matplotlib.pyplot as plt\n",
    "import matplotlib\n",
    "import seaborn as sns\n",
    "import scipy as stats\n",
    "\n",
    "sns.set(color_codes=True)\n",
    "sns.set_style(\"dark\")\n",
    "sns.set_context(\"poster\")\n",
    "matplotlib.rcParams['text.color'] = 'white'\n",
    "\n",
    "monster = \"xiong_fei\"\n",
    "filename = monster + \"_20200713.csv\"\n",
    "\n",
    "max_skills = [6, 3, 7]\n",
    "\n",
    "df = pd.read_csv(filename)\n",
    "df_full = pd.read_csv(filename)\n",
    "df_full = df_full[df_full[\"Stars\"] == 6]\n",
    "print(df.columns)\n",
    "runes_cols = [\"Slot\" + str(i) for i in range(1 ,7)]\n",
    "df.dropna(subset=runes_cols, how='any', inplace=True) # delete without runes\n",
    "df.sort_values([\"Eff\"], ascending=False, inplace=True)\n",
    "df"
   ]
  },
  {
   "cell_type": "markdown",
   "metadata": {},
   "source": [
    "# Stars Distribution, picking 6*"
   ]
  },
  {
   "cell_type": "code",
   "execution_count": 2,
   "metadata": {},
   "outputs": [
    {
     "name": "stdout",
     "output_type": "stream",
     "text": [
      "(454, 21)\n"
     ]
    },
    {
     "data": {
      "image/png": "[encoded data removed]",
      "text/plain": [
       "<Figure size 720x720 with 1 Axes>"
      ]
     },
     "metadata": {},
     "output_type": "display_data"
    }
   ],
   "source": [
    "fig = plt.figure(figsize=(10, 10))\n",
    "stars = df[\"Stars\"].value_counts()\n",
    "plt.pie(stars, labels=stars.index, autopct='%1.1f%%', colors=['g', 'r', 'b'])\n",
    "plt.savefig(monster + \"_pie_6stars.png\", transparent=True, bbox_inches = \"tight\")\n",
    "df_stars6 = df[df[\"Stars\"] == 6] # pick only 6*\n",
    "print(df_stars6.shape)"
   ]
  },
  {
   "cell_type": "markdown",
   "metadata": {},
   "source": [
    "# Runes "
   ]
  },
  {
   "cell_type": "code",
   "execution_count": 3,
   "metadata": {},
   "outputs": [
    {
     "data": {
      "image/png": "[encoded data removed]",
      "text/plain": [
       "<Figure size 720x720 with 1 Axes>"
      ]
     },
     "metadata": {},
     "output_type": "display_data"
    }
   ],
   "source": [
    "fig = plt.figure(figsize=(10, 10))\n",
    "df_runes = {\n",
    "    'Without\\nRunes': df_full.shape[0] - df_stars6.shape[0],\n",
    "    'With\\nRunes': df_stars6.shape[0],\n",
    "}\n",
    "plt.pie(df_runes.values(), labels=df_runes.keys(), autopct='%1.1f%%', colors=['r', 'g'])\n",
    "plt.savefig(monster + \"_pie_runes.png\", transparent=True, bbox_inches = \"tight\")\n",
    "plt.show()"
   ]
  },
  {
   "cell_type": "markdown",
   "metadata": {},
   "source": [
    "# Skilled Up"
   ]
  },
  {
   "cell_type": "code",
   "execution_count": 4,
   "metadata": {},
   "outputs": [
    {
     "name": "stdout",
     "output_type": "stream",
     "text": [
      "{'All': 173, 'None': 256, '2nd & 3rd': 6}\n"
     ]
    },
    {
     "data": {
      "image/png": "[encoded data removed]",
      "text/plain": [
       "<Figure size 720x720 with 1 Axes>"
      ]
     },
     "metadata": {},
     "output_type": "display_data"
    }
   ],
   "source": [
    "skills_count = {}\n",
    "\n",
    "for value, count in df_stars6['Skillups'].value_counts().items():\n",
    "    skillups = eval(value)\n",
    "    if skillups == max_skills:\n",
    "        skills_count['All'] = count\n",
    "    elif skillups[:2] == max_skills[:2] and count > 5:\n",
    "        skills_count['1st & 2nd'] = count\n",
    "    elif [skillups[0], skillups[2]] == [max_skills[0], max_skills[2]] and count > 5:\n",
    "        skills_count['1st & 3rd'] = count\n",
    "    elif skillups[1:] == max_skills[1:] and count > 5:\n",
    "        skills_count['2nd & 3rd'] = count\n",
    "    elif skillups[0] == max_skills[0] and count > 5:\n",
    "        skills_count['Only 1st'] = count\n",
    "    elif skillups[1] == max_skills[1] and count > 5:\n",
    "        skills_count['Only 2nd'] = count\n",
    "    elif skillups[2] == max_skills[2] and count > 5:\n",
    "        skills_count['Only 3rd'] = count\n",
    "    else:\n",
    "        if 'None' not in skills_count.keys():\n",
    "            skills_count['None'] = 0\n",
    "        skills_count['None'] += count\n",
    "\n",
    "print(skills_count)\n",
    "fig = plt.figure(figsize=(10, 10))\n",
    "plt.pie(list(skills_count.values()), labels=skills_count.keys(), autopct='%1.1f%%', colors=['g', 'r', 'b'])\n",
    "plt.savefig(monster + \"_pie_skillups.png\", transparent=True, bbox_inches = \"tight\")\n",
    "plt.show()"
   ]
  },
  {
   "cell_type": "markdown",
   "metadata": {},
   "source": [
    "# Eff. HP Distribution"
   ]
  },
  {
   "cell_type": "code",
   "execution_count": 5,
   "metadata": {},
   "outputs": [
    {
     "data": {
      "image/png": "[encoded data removed]",
      "text/plain": [
       "<Figure size 720x360 with 1 Axes>"
      ]
     },
     "metadata": {},
     "output_type": "display_data"
    }
   ],
   "source": [
    "fig = plt.figure(figsize=(10, 5))\n",
    "sns.distplot(df_stars6[\"Eff.HP\"], bins=20, kde=False, rug=True).set_xlabel(None)\n",
    "plt.tick_params(labelcolor='white')\n",
    "plt.savefig(monster + \"_dist_effhp.png\", transparent=True, bbox_inches = \"tight\")"
   ]
  },
  {
   "cell_type": "markdown",
   "metadata": {},
   "source": [
    "# HP Distribution"
   ]
  },
  {
   "cell_type": "code",
   "execution_count": 6,
   "metadata": {},
   "outputs": [
    {
     "data": {
      "image/png": "[encoded data removed]",
      "text/plain": [
       "<Figure size 720x360 with 1 Axes>"
      ]
     },
     "metadata": {},
     "output_type": "display_data"
    }
   ],
   "source": [
    "fig = plt.figure(figsize=(10, 5))\n",
    "sns.distplot(df_stars6[\"HP\"], bins=20, kde=False, rug=True).set_xlabel(None)\n",
    "plt.tick_params(labelcolor='white')\n",
    "plt.savefig(monster + \"_dist_hp.png\", transparent=True, bbox_inches = \"tight\")"
   ]
  },
  {
   "cell_type": "markdown",
   "metadata": {},
   "source": [
    "# Attack Distribution"
   ]
  },
  {
   "cell_type": "code",
   "execution_count": 7,
   "metadata": {},
   "outputs": [
    {
     "data": {
      "image/png": "[encoded data removed]",
      "text/plain": [
       "<Figure size 720x360 with 1 Axes>"
      ]
     },
     "metadata": {},
     "output_type": "display_data"
    }
   ],
   "source": [
    "fig = plt.figure(figsize=(10, 5))\n",
    "sns.distplot(df_stars6[\"Attack\"], bins=20, kde=False, rug=True).set_xlabel(None)\n",
    "plt.tick_params(labelcolor='white')\n",
    "plt.savefig(monster + \"_dist_attack.png\", transparent=True, bbox_inches = \"tight\")"
   ]
  },
  {
   "cell_type": "markdown",
   "metadata": {},
   "source": [
    "# Critical Rate Distribution"
   ]
  },
  {
   "cell_type": "code",
   "execution_count": 8,
   "metadata": {},
   "outputs": [
    {
     "data": {
      "image/png": "[encoded data removed]",
      "text/plain": [
       "<Figure size 720x360 with 1 Axes>"
      ]
     },
     "metadata": {},
     "output_type": "display_data"
    }
   ],
   "source": [
    "fig = plt.figure(figsize=(10, 5))\n",
    "sns.distplot(df_stars6[\"CRate\"], bins=20, kde=False, rug=True).set_xlabel(None)\n",
    "plt.tick_params(labelcolor='white')\n",
    "plt.savefig(monster + \"_dist_critrate.png\", transparent=True, bbox_inches = \"tight\")"
   ]
  },
  {
   "cell_type": "markdown",
   "metadata": {},
   "source": [
    "# Critical Damag Distribution"
   ]
  },
  {
   "cell_type": "code",
   "execution_count": 9,
   "metadata": {},
   "outputs": [
    {
     "data": {
      "image/png": "[encoded data removed]",
      "text/plain": [
       "<Figure size 720x360 with 1 Axes>"
      ]
     },
     "metadata": {},
     "output_type": "display_data"
    }
   ],
   "source": [
    "fig = plt.figure(figsize=(10, 5))\n",
    "sns.distplot(df_stars6[\"CDmg\"], bins=20, kde=False, rug=True).set_xlabel(None)\n",
    "plt.tick_params(labelcolor='white')\n",
    "plt.savefig(monster + \"_dist_critdmg.png\", transparent=True, bbox_inches = \"tight\")"
   ]
  },
  {
   "cell_type": "markdown",
   "metadata": {},
   "source": [
    "# Defense Distribution"
   ]
  },
  {
   "cell_type": "code",
   "execution_count": 10,
   "metadata": {},
   "outputs": [
    {
     "data": {
      "image/png": "[encoded data removed]",
      "text/plain": [
       "<Figure size 720x360 with 1 Axes>"
      ]
     },
     "metadata": {},
     "output_type": "display_data"
    }
   ],
   "source": [
    "fig = plt.figure(figsize=(10, 5))\n",
    "sns.distplot(df_stars6[\"Defense\"], bins=20, kde=False, rug=True).set_xlabel(None)\n",
    "plt.tick_params(labelcolor='white')\n",
    "plt.savefig(monster + \"_dist_defense.png\", transparent=True, bbox_inches = \"tight\")"
   ]
  },
  {
   "cell_type": "markdown",
   "metadata": {},
   "source": [
    "# Avg. Rune Distribution"
   ]
  },
  {
   "cell_type": "code",
   "execution_count": 11,
   "metadata": {},
   "outputs": [
    {
     "data": {
      "image/png": "[encoded data removed]",
      "text/plain": [
       "<Figure size 720x360 with 1 Axes>"
      ]
     },
     "metadata": {},
     "output_type": "display_data"
    }
   ],
   "source": [
    "fig = plt.figure(figsize=(10, 5))\n",
    "sns.distplot(df_stars6[\"Eff\"], bins=20, kde=False, rug=True).set_xlabel(None)\n",
    "plt.tick_params(labelcolor='white')\n",
    "plt.savefig(monster + \"_dist_rune_eff.png\", transparent=True, bbox_inches = \"tight\")"
   ]
  },
  {
   "cell_type": "markdown",
   "metadata": {},
   "source": [
    "# Accuracy Distribution"
   ]
  },
  {
   "cell_type": "code",
   "execution_count": 12,
   "metadata": {},
   "outputs": [
    {
     "data": {
      "image/png": "[encoded data removed]",
      "text/plain": [
       "<Figure size 720x360 with 1 Axes>"
      ]
     },
     "metadata": {},
     "output_type": "display_data"
    }
   ],
   "source": [
    "fig = plt.figure(figsize=(10, 5))\n",
    "sns.distplot(df_stars6[\"Acc\"], bins=20, kde=False, rug=True).set_xlabel(None)\n",
    "plt.tick_params(labelcolor='white')\n",
    "plt.savefig(monster + \"_dist_acc.png\", transparent=True, bbox_inches = \"tight\")"
   ]
  },
  {
   "cell_type": "markdown",
   "metadata": {},
   "source": [
    "# Resistance Distribution"
   ]
  },
  {
   "cell_type": "code",
   "execution_count": 13,
   "metadata": {},
   "outputs": [
    {
     "data": {
      "image/png": "[encoded data removed]",
      "text/plain": [
       "<Figure size 720x360 with 1 Axes>"
      ]
     },
     "metadata": {},
     "output_type": "display_data"
    }
   ],
   "source": [
    "fig = plt.figure(figsize=(10, 5))\n",
    "sns.distplot(df_stars6[\"Res\"], bins=20, kde=False, rug=True).set_xlabel(None)\n",
    "plt.tick_params(labelcolor='white')\n",
    "plt.savefig(monster + \"_dist_res.png\", transparent=True, bbox_inches = \"tight\")"
   ]
  },
  {
   "cell_type": "markdown",
   "metadata": {},
   "source": [
    "# Sets"
   ]
  },
  {
   "cell_type": "code",
   "execution_count": 14,
   "metadata": {},
   "outputs": [
    {
     "name": "stdout",
     "output_type": "stream",
     "text": [
      "Revenge + Violent              69\n",
      "Guard + Violent                59\n",
      "Violent                        19\n",
      "Energy + Violent               19\n",
      "Energy + Guard + Revenge       14\n",
      "Endure + Violent               10\n",
      "Guard + Guard + Revenge         9\n",
      "Focus + Guard + Guard           8\n",
      "Energy + Guard                  8\n",
      "Guard + Revenge + Revenge       8\n",
      "Broken                          8\n",
      "Blade + Violent                 7\n",
      "Focus + Violent                 7\n",
      "Revenge + Revenge               6\n",
      "Energy + Energy + Guard         6\n",
      "Energy + Swift                  6\n",
      "Energy + Guard + Shield         5\n",
      "Guard + Guard + Guard           5\n",
      "Nemesis + Violent               5\n",
      "Shield + Violent                5\n",
      "Energy + Guard + Guard          5\n",
      "Revenge                         4\n",
      "Endure + Energy + Revenge       4\n",
      "Revenge + Revenge + Revenge     4\n",
      "Energy                          4\n",
      "Energy + Guard + Nemesis        4\n",
      "Name: Sets, dtype: int64\n"
     ]
    },
    {
     "data": {
      "image/png": "[encoded data removed]",
      "text/plain": [
       "<Figure size 1440x360 with 1 Axes>"
      ]
     },
     "metadata": {},
     "output_type": "display_data"
    }
   ],
   "source": [
    "fig = plt.figure(figsize=(20, 5))\n",
    "counts = df_stars6[\"Sets\"].value_counts()\n",
    "counts = counts[counts > 3]\n",
    "print(counts)\n",
    "x, y = counts.index, counts.values\n",
    "sets = sns.barplot(x=x, y=y)\n",
    "_ = sets.set_xticklabels(sets.get_xticklabels(), rotation=45, horizontalalignment='right')\n",
    "plt.tick_params(labelcolor='white')\n",
    "plt.savefig(monster + \"_dist_sets.png\", transparent=True, bbox_inches = \"tight\")"
   ]
  },
  {
   "cell_type": "markdown",
   "metadata": {},
   "source": [
    "# 4-Rune Sets"
   ]
  },
  {
   "cell_type": "code",
   "execution_count": 15,
   "metadata": {},
   "outputs": [
    {
     "data": {
      "image/png": "[encoded data removed]",
      "text/plain": [
       "<Figure size 1440x360 with 1 Axes>"
      ]
     },
     "metadata": {},
     "output_type": "display_data"
    }
   ],
   "source": [
    "sets_4 = ['Violent', 'Swift', 'Rage', 'Fatal', 'Despair', 'Vampire']\n",
    "fig = plt.figure(figsize=(20, 5))\n",
    "counts = df_stars6[\"Sets\"].value_counts()\n",
    "set_sum = dict()\n",
    "for set_4 in sets_4:\n",
    "    indexes = [val for val in counts.index if set_4 in val]\n",
    "    set_count = counts.loc[indexes]\n",
    "    set_sum[set_4] = set_count.sum()\n",
    "set_sum = {k: v for k, v in sorted(set_sum.items(), key=lambda item: item[1], reverse=True)}\n",
    "x, y = list(set_sum.keys()), list(set_sum.values())\n",
    "sets = sns.barplot(x=x, y=y)\n",
    "_ = sets.set_xticklabels(sets.get_xticklabels(), rotation=45, horizontalalignment='right')\n",
    "plt.tick_params(labelcolor='white')\n",
    "plt.savefig(monster + \"_dist_4sets.png\", transparent=True, bbox_inches = \"tight\")"
   ]
  },
  {
   "cell_type": "markdown",
   "metadata": {},
   "source": [
    "# Speed Distribution"
   ]
  },
  {
   "cell_type": "code",
   "execution_count": 16,
   "metadata": {},
   "outputs": [
    {
     "data": {
      "image/png": "[encoded data removed]",
      "text/plain": [
       "<Figure size 720x360 with 1 Axes>"
      ]
     },
     "metadata": {},
     "output_type": "display_data"
    }
   ],
   "source": [
    "fig = plt.figure(figsize=(10, 5))\n",
    "sns.distplot(df_stars6[\"Speed\"], bins=20, kde=False, rug=True).set_xlabel(None)\n",
    "plt.tick_params(labelcolor='white')\n",
    "plt.savefig(monster + \"_dist_speed.png\", transparent=True,  bbox_inches = \"tight\")"
   ]
  },
  {
   "cell_type": "markdown",
   "metadata": {},
   "source": [
    "# Average & Best by Category"
   ]
  },
  {
   "cell_type": "code",
   "execution_count": 23,
   "metadata": {},
   "outputs": [
    {
     "name": "stdout",
     "output_type": "stream",
     "text": [
      "Average\n"
     ]
    },
    {
     "data": {
      "text/plain": [
       "HP          22675.687225\n",
       "Attack        913.841410\n",
       "Defense      2151.356828\n",
       "Speed         137.242291\n",
       "Res            62.665198\n",
       "Acc            28.878855\n",
       "CRate          36.958150\n",
       "CDmg           76.385463\n",
       "Eff            75.948370\n",
       "Eff.HP     195216.156388\n",
       "Name: mean, dtype: float64"
      ]
     },
     "metadata": {},
     "output_type": "display_data"
    },
    {
     "name": "stdout",
     "output_type": "stream",
     "text": [
      "Best\n"
     ]
    },
    {
     "data": {
      "text/html": [
       "<div>\n",
       "<style scoped>\n",
       "    .dataframe tbody tr th:only-of-type {\n",
       "        vertical-align: middle;\n",
       "    }\n",
       "\n",
       "    .dataframe tbody tr th {\n",
       "        vertical-align: top;\n",
       "    }\n",
       "\n",
       "    .dataframe thead th {\n",
       "        text-align: right;\n",
       "    }\n",
       "</style>\n",
       "<table border=\"1\" class=\"dataframe\">\n",
       "  <thead>\n",
       "    <tr style=\"text-align: right;\">\n",
       "      <th></th>\n",
       "      <th>HP</th>\n",
       "      <th>Attack</th>\n",
       "      <th>Defense</th>\n",
       "      <th>Speed</th>\n",
       "      <th>Res</th>\n",
       "      <th>Acc</th>\n",
       "      <th>CRate</th>\n",
       "      <th>CDmg</th>\n",
       "      <th>Eff</th>\n",
       "      <th>Eff.HP</th>\n",
       "    </tr>\n",
       "    <tr>\n",
       "      <th>ID</th>\n",
       "      <th></th>\n",
       "      <th></th>\n",
       "      <th></th>\n",
       "      <th></th>\n",
       "      <th></th>\n",
       "      <th></th>\n",
       "      <th></th>\n",
       "      <th></th>\n",
       "      <th></th>\n",
       "      <th></th>\n",
       "    </tr>\n",
       "  </thead>\n",
       "  <tbody>\n",
       "    <tr>\n",
       "      <th>1</th>\n",
       "      <td>42862</td>\n",
       "      <td>1743</td>\n",
       "      <td>3115</td>\n",
       "      <td>249</td>\n",
       "      <td>124</td>\n",
       "      <td>102</td>\n",
       "      <td>101</td>\n",
       "      <td>189</td>\n",
       "      <td>103</td>\n",
       "      <td>357063</td>\n",
       "    </tr>\n",
       "  </tbody>\n",
       "</table>\n",
       "</div>"
      ],
      "text/plain": [
       "       HP Attack Defense Speed  Res  Acc CRate CDmg  Eff  Eff.HP\n",
       "ID                                                              \n",
       "1   42862   1743    3115   249  124  102   101  189  103  357063"
      ]
     },
     "metadata": {},
     "output_type": "display_data"
    }
   ],
   "source": [
    "cols = ['HP', 'Attack', 'Defense', 'Speed', 'Res', 'Acc', 'CRate', 'CDmg', 'Eff', 'Eff.HP']\n",
    "df_best = pd.DataFrame(columns=[\"ID\"] + cols)\n",
    "df_best.set_index(\"ID\", drop=True, inplace=True)\n",
    "\n",
    "best = list()\n",
    "for column in cols:\n",
    "    best.append(int(round(df.sort_values([column], ascending=False)[column].head(1).values[0])))\n",
    "\n",
    "df_best.loc[1] = best\n",
    "print(\"Average\")\n",
    "display(df_stars6[cols].describe().loc['mean'])\n",
    "print(\"Best\")\n",
    "display(df_best)"
   ]
  },
  {
   "cell_type": "markdown",
   "metadata": {},
   "source": [
    "# Best 10 Builds by Avg Eff"
   ]
  },
  {
   "cell_type": "code",
   "execution_count": 18,
   "metadata": {},
   "outputs": [
    {
     "name": "stdout",
     "output_type": "stream",
     "text": [
      "<table border=\"1\" class=\"dataframe\">\n",
      "  <thead>\n",
      "    <tr style=\"text-align: right;\">\n",
      "      <th></th>\n",
      "      <th>HP</th>\n",
      "      <th>Attack</th>\n",
      "      <th>Defense</th>\n",
      "      <th>Speed</th>\n",
      "      <th>Res</th>\n",
      "      <th>Acc</th>\n",
      "      <th>CRate</th>\n",
      "      <th>CDmg</th>\n",
      "      <th>Eff</th>\n",
      "      <th>Eff.HP</th>\n",
      "      <th>Sets</th>\n",
      "      <th>Slot2</th>\n",
      "      <th>Slot4</th>\n",
      "      <th>Slot6</th>\n",
      "    </tr>\n",
      "  </thead>\n",
      "  <tbody>\n",
      "    <tr>\n",
      "      <th>0</th>\n",
      "      <td>25593</td>\n",
      "      <td>886</td>\n",
      "      <td>2634</td>\n",
      "      <td>249</td>\n",
      "      <td>61</td>\n",
      "      <td>59</td>\n",
      "      <td>25</td>\n",
      "      <td>55</td>\n",
      "      <td>103.30</td>\n",
      "      <td>265118</td>\n",
      "      <td>Focus + Guard + Will</td>\n",
      "      <td>SPD</td>\n",
      "      <td>DEF%</td>\n",
      "      <td>DEF%</td>\n",
      "    </tr>\n",
      "    <tr>\n",
      "      <th>1</th>\n",
      "      <td>25922</td>\n",
      "      <td>1175</td>\n",
      "      <td>3115</td>\n",
      "      <td>180</td>\n",
      "      <td>61</td>\n",
      "      <td>49</td>\n",
      "      <td>37</td>\n",
      "      <td>57</td>\n",
      "      <td>101.81</td>\n",
      "      <td>312165</td>\n",
      "      <td>Blade + Guard + Guard</td>\n",
      "      <td>DEF%</td>\n",
      "      <td>DEF%</td>\n",
      "      <td>DEF%</td>\n",
      "    </tr>\n",
      "    <tr>\n",
      "      <th>2</th>\n",
      "      <td>21851</td>\n",
      "      <td>1339</td>\n",
      "      <td>2577</td>\n",
      "      <td>182</td>\n",
      "      <td>49</td>\n",
      "      <td>20</td>\n",
      "      <td>71</td>\n",
      "      <td>150</td>\n",
      "      <td>101.22</td>\n",
      "      <td>221995</td>\n",
      "      <td>Fatal + Focus</td>\n",
      "      <td>DEF%</td>\n",
      "      <td>CDmg%</td>\n",
      "      <td>DEF%</td>\n",
      "    </tr>\n",
      "    <tr>\n",
      "      <th>3</th>\n",
      "      <td>29464</td>\n",
      "      <td>733</td>\n",
      "      <td>2062</td>\n",
      "      <td>213</td>\n",
      "      <td>25</td>\n",
      "      <td>27</td>\n",
      "      <td>68</td>\n",
      "      <td>130</td>\n",
      "      <td>99.31</td>\n",
      "      <td>246230</td>\n",
      "      <td>Destroy + Rage</td>\n",
      "      <td>SPD</td>\n",
      "      <td>HP%</td>\n",
      "      <td>DEF%</td>\n",
      "    </tr>\n",
      "    <tr>\n",
      "      <th>4</th>\n",
      "      <td>31220</td>\n",
      "      <td>900</td>\n",
      "      <td>2942</td>\n",
      "      <td>190</td>\n",
      "      <td>38</td>\n",
      "      <td>27</td>\n",
      "      <td>25</td>\n",
      "      <td>55</td>\n",
      "      <td>98.29</td>\n",
      "      <td>357063</td>\n",
      "      <td>Energy + Guard + Shield</td>\n",
      "      <td>DEF%</td>\n",
      "      <td>HP%</td>\n",
      "      <td>DEF%</td>\n",
      "    </tr>\n",
      "    <tr>\n",
      "      <th>5</th>\n",
      "      <td>23267</td>\n",
      "      <td>1021</td>\n",
      "      <td>2091</td>\n",
      "      <td>189</td>\n",
      "      <td>36</td>\n",
      "      <td>7</td>\n",
      "      <td>85</td>\n",
      "      <td>175</td>\n",
      "      <td>97.87</td>\n",
      "      <td>196803</td>\n",
      "      <td>Energy + Rage</td>\n",
      "      <td>SPD</td>\n",
      "      <td>CDmg%</td>\n",
      "      <td>DEF%</td>\n",
      "    </tr>\n",
      "    <tr>\n",
      "      <th>6</th>\n",
      "      <td>29552</td>\n",
      "      <td>832</td>\n",
      "      <td>3016</td>\n",
      "      <td>191</td>\n",
      "      <td>76</td>\n",
      "      <td>23</td>\n",
      "      <td>25</td>\n",
      "      <td>50</td>\n",
      "      <td>97.47</td>\n",
      "      <td>345640</td>\n",
      "      <td>Energy + Guard + Nemesis</td>\n",
      "      <td>DEF%</td>\n",
      "      <td>DEF%</td>\n",
      "      <td>DEF%</td>\n",
      "    </tr>\n",
      "    <tr>\n",
      "      <th>7</th>\n",
      "      <td>15931</td>\n",
      "      <td>934</td>\n",
      "      <td>2563</td>\n",
      "      <td>185</td>\n",
      "      <td>67</td>\n",
      "      <td>38</td>\n",
      "      <td>94</td>\n",
      "      <td>143</td>\n",
      "      <td>96.77</td>\n",
      "      <td>161070</td>\n",
      "      <td>Focus + Guard + Shield</td>\n",
      "      <td>DEF%</td>\n",
      "      <td>CDmg%</td>\n",
      "      <td>DEF%</td>\n",
      "    </tr>\n",
      "    <tr>\n",
      "      <th>8</th>\n",
      "      <td>23098</td>\n",
      "      <td>1157</td>\n",
      "      <td>2195</td>\n",
      "      <td>186</td>\n",
      "      <td>21</td>\n",
      "      <td>14</td>\n",
      "      <td>66</td>\n",
      "      <td>153</td>\n",
      "      <td>96.75</td>\n",
      "      <td>203782</td>\n",
      "      <td>Energy + Guard + Nemesis</td>\n",
      "      <td>SPD</td>\n",
      "      <td>CDmg%</td>\n",
      "      <td>DEF%</td>\n",
      "    </tr>\n",
      "    <tr>\n",
      "      <th>9</th>\n",
      "      <td>20691</td>\n",
      "      <td>966</td>\n",
      "      <td>1860</td>\n",
      "      <td>223</td>\n",
      "      <td>71</td>\n",
      "      <td>29</td>\n",
      "      <td>52</td>\n",
      "      <td>149</td>\n",
      "      <td>95.56</td>\n",
      "      <td>158286</td>\n",
      "      <td>Revenge + Revenge + Revenge</td>\n",
      "      <td>SPD</td>\n",
      "      <td>CDmg%</td>\n",
      "      <td>DEF%</td>\n",
      "    </tr>\n",
      "  </tbody>\n",
      "</table>\n"
     ]
    }
   ],
   "source": [
    "print(df_stars6.drop(['Acquired', 'Slot1', 'Slot3', 'Slot5', 'Level', 'Stars', 'Skillups'], axis=1).reset_index(drop=True).sort_values(['Eff'], ascending=False).head(10).to_html())"
   ]
  },
  {
   "cell_type": "markdown",
   "metadata": {},
   "source": [
    "# Most common Builds"
   ]
  },
  {
   "cell_type": "code",
   "execution_count": 19,
   "metadata": {},
   "outputs": [
    {
     "name": "stdout",
     "output_type": "stream",
     "text": [
      "   Slot2  Slot4 Slot6  Count\n",
      "15  DEF%   DEF%  DEF%     92\n",
      "33   HP%   DEF%  DEF%     59\n",
      "22  DEF%    HP%  DEF%     44\n",
      "16  DEF%   DEF%   HP%     43\n",
      "46   SPD   DEF%  DEF%     41\n",
      "9   DEF%  CDmg%  DEF%     21\n",
      "47   SPD   DEF%   HP%     20\n",
      "36   HP%    HP%  DEF%     16\n",
      "23  DEF%    HP%   HP%     15\n",
      "34   HP%   DEF%   HP%     14\n",
      "48   SPD    HP%  DEF%     13\n",
      "11  DEF%  CDmg%   HP%      7\n",
      "37   HP%    HP%   HP%      7\n",
      "42   SPD  CDmg%  DEF%      6\n"
     ]
    },
    {
     "data": {
      "image/png": "[encoded data removed]",
      "text/plain": [
       "<Figure size 720x360 with 1 Axes>"
      ]
     },
     "metadata": {},
     "output_type": "display_data"
    }
   ],
   "source": [
    "fig = plt.figure(figsize=(10, 5))\n",
    "\n",
    "builds_count = df_stars6.groupby([\"Slot2\", \"Slot4\", \"Slot6\"]).size().reset_index(name='Count')\n",
    "builds_count = builds_count[builds_count['Count'] > 5].sort_values([\"Count\"], ascending=False) # single builds to drop\n",
    "print(builds_count)\n",
    "builds_count_to_plot = builds_count.set_index([\"Slot2\", \"Slot4\", \"Slot6\"]).T\n",
    "\n",
    "builds_common = sns.barplot(data=builds_count_to_plot)\n",
    "_ = builds_common.set_xticklabels(builds_common.get_xticklabels(), rotation=45, horizontalalignment='right')\n",
    "plt.tick_params(labelcolor='white')\n",
    "plt.savefig(monster + \"_build_common.png\", transparent=True, bbox_inches = \"tight\")"
   ]
  },
  {
   "cell_type": "markdown",
   "metadata": {},
   "source": [
    "# Most frequent slot 2"
   ]
  },
  {
   "cell_type": "code",
   "execution_count": 20,
   "metadata": {},
   "outputs": [
    {
     "data": {
      "image/png": "[encoded data removed]",
      "text/plain": [
       "<Figure size 720x360 with 1 Axes>"
      ]
     },
     "metadata": {},
     "output_type": "display_data"
    }
   ],
   "source": [
    "fig = plt.figure(figsize=(10, 5))\n",
    "\n",
    "counts_slot2 = df_stars6[\"Slot2\"].value_counts()\n",
    "counts_slot2 = counts_slot2[counts_slot2 > 2]\n",
    "x, y = counts_slot2.index, counts_slot2.values\n",
    "slot2 = sns.barplot(x=x, y=y)\n",
    "_ = slot2.set_xticklabels(slot2.get_xticklabels(), rotation=45, horizontalalignment='right')\n",
    "plt.tick_params(labelcolor='white')\n",
    "plt.savefig(monster + \"_slot_2.png\", transparent=True, bbox_inches = \"tight\")"
   ]
  },
  {
   "cell_type": "markdown",
   "metadata": {},
   "source": [
    "# Most frequent slot 4"
   ]
  },
  {
   "cell_type": "code",
   "execution_count": 21,
   "metadata": {},
   "outputs": [
    {
     "data": {
      "image/png": "[encoded data removed]",
      "text/plain": [
       "<Figure size 720x360 with 1 Axes>"
      ]
     },
     "metadata": {},
     "output_type": "display_data"
    }
   ],
   "source": [
    "fig = plt.figure(figsize=(10, 5))\n",
    "\n",
    "counts_slot4 = df_stars6[\"Slot4\"].value_counts()\n",
    "counts_slot4 = counts_slot4[counts_slot4 > 2]\n",
    "x, y = counts_slot4.index, counts_slot4.values\n",
    "slot4 = sns.barplot(x=x, y=y)\n",
    "_ = slot4.set_xticklabels(slot4.get_xticklabels(), rotation=45, horizontalalignment='right')\n",
    "plt.tick_params(labelcolor='white')\n",
    "plt.savefig(monster + \"_slot_4.png\", transparent=True, bbox_inches = \"tight\")"
   ]
  },
  {
   "cell_type": "markdown",
   "metadata": {},
   "source": [
    "# Most frequent slot 6"
   ]
  },
  {
   "cell_type": "code",
   "execution_count": 22,
   "metadata": {},
   "outputs": [
    {
     "data": {
      "image/png": "[encoded data removed]",
      "text/plain": [
       "<Figure size 720x360 with 1 Axes>"
      ]
     },
     "metadata": {},
     "output_type": "display_data"
    }
   ],
   "source": [
    "fig = plt.figure(figsize=(10, 5))\n",
    "\n",
    "counts_slot6 = df_stars6[\"Slot6\"].value_counts()\n",
    "counts_slot6 = counts_slot6[counts_slot6 > 2]\n",
    "x, y = counts_slot6.index, counts_slot6.values\n",
    "slot6 = sns.barplot(x=x, y=y)\n",
    "_ = slot6.set_xticklabels(slot6.get_xticklabels(), rotation=45, horizontalalignment='right')\n",
    "plt.tick_params(labelcolor='white')\n",
    "plt.savefig(monster + \"_slot_6.png\", transparent=True, bbox_inches = \"tight\")"
   ]
  }
 ],
 "metadata": {
  "kernelspec": {
   "display_name": "Python 3",
   "language": "python",
   "name": "python3"
  },
  "language_info": {
   "codemirror_mode": {
    "name": "ipython",
    "version": 3
   },
   "file_extension": ".py",
   "mimetype": "text/x-python",
   "name": "python",
   "nbconvert_exporter": "python",
   "pygments_lexer": "ipython3",
   "version": "3.7.6"
  }
 },
 "nbformat": 4,
 "nbformat_minor": 4
}
