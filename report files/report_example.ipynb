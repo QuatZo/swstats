{
 "cells": [
  {
   "cell_type": "markdown",
   "metadata": {},
   "source": [
    "# Setting Up"
   ]
  },
  {
   "cell_type": "code",
   "execution_count": 1,
   "metadata": {
    "scrolled": false
   },
   "outputs": [
    {
     "name": "stdout",
     "output_type": "stream",
     "text": [
      "Index(['Level', 'Stars', 'HP', 'Attack', 'Defense', 'Speed', 'Res', 'Acc',\n",
      "       'CRate', 'CDmg', 'Eff', 'Eff.HP', 'Sets', 'Skillups', 'Acquired',\n",
      "       'Slot1', 'Slot2', 'Slot3', 'Slot4', 'Slot5', 'Slot6'],\n",
      "      dtype='object')\n"
     ]
    },
    {
     "data": {
      "text/html": [
       "<div>\n",
       "<style scoped>\n",
       "    .dataframe tbody tr th:only-of-type {\n",
       "        vertical-align: middle;\n",
       "    }\n",
       "\n",
       "    .dataframe tbody tr th {\n",
       "        vertical-align: top;\n",
       "    }\n",
       "\n",
       "    .dataframe thead th {\n",
       "        text-align: right;\n",
       "    }\n",
       "</style>\n",
       "<table border=\"1\" class=\"dataframe\">\n",
       "  <thead>\n",
       "    <tr style=\"text-align: right;\">\n",
       "      <th></th>\n",
       "      <th>Level</th>\n",
       "      <th>Stars</th>\n",
       "      <th>HP</th>\n",
       "      <th>Attack</th>\n",
       "      <th>Defense</th>\n",
       "      <th>Speed</th>\n",
       "      <th>Res</th>\n",
       "      <th>Acc</th>\n",
       "      <th>CRate</th>\n",
       "      <th>CDmg</th>\n",
       "      <th>...</th>\n",
       "      <th>Eff.HP</th>\n",
       "      <th>Sets</th>\n",
       "      <th>Skillups</th>\n",
       "      <th>Acquired</th>\n",
       "      <th>Slot1</th>\n",
       "      <th>Slot2</th>\n",
       "      <th>Slot3</th>\n",
       "      <th>Slot4</th>\n",
       "      <th>Slot5</th>\n",
       "      <th>Slot6</th>\n",
       "    </tr>\n",
       "  </thead>\n",
       "  <tbody>\n",
       "    <tr>\n",
       "      <th>407</th>\n",
       "      <td>40</td>\n",
       "      <td>6</td>\n",
       "      <td>19963</td>\n",
       "      <td>3332</td>\n",
       "      <td>1247</td>\n",
       "      <td>152</td>\n",
       "      <td>28</td>\n",
       "      <td>23</td>\n",
       "      <td>80</td>\n",
       "      <td>206</td>\n",
       "      <td>...</td>\n",
       "      <td>109886</td>\n",
       "      <td>Blade + Rage</td>\n",
       "      <td>Yes</td>\n",
       "      <td>2015-05-22</td>\n",
       "      <td>ATK+</td>\n",
       "      <td>ATK%</td>\n",
       "      <td>DEF+</td>\n",
       "      <td>CDmg%</td>\n",
       "      <td>HP+</td>\n",
       "      <td>ATK%</td>\n",
       "    </tr>\n",
       "    <tr>\n",
       "      <th>410</th>\n",
       "      <td>40</td>\n",
       "      <td>6</td>\n",
       "      <td>17813</td>\n",
       "      <td>3219</td>\n",
       "      <td>1398</td>\n",
       "      <td>161</td>\n",
       "      <td>30</td>\n",
       "      <td>28</td>\n",
       "      <td>59</td>\n",
       "      <td>175</td>\n",
       "      <td>...</td>\n",
       "      <td>107466</td>\n",
       "      <td>Focus + Guard + Revenge</td>\n",
       "      <td>Yes</td>\n",
       "      <td>2015-09-30</td>\n",
       "      <td>ATK+</td>\n",
       "      <td>ATK%</td>\n",
       "      <td>DEF+</td>\n",
       "      <td>CDmg%</td>\n",
       "      <td>HP+</td>\n",
       "      <td>ATK%</td>\n",
       "    </tr>\n",
       "    <tr>\n",
       "      <th>408</th>\n",
       "      <td>40</td>\n",
       "      <td>6</td>\n",
       "      <td>21211</td>\n",
       "      <td>2947</td>\n",
       "      <td>1160</td>\n",
       "      <td>135</td>\n",
       "      <td>75</td>\n",
       "      <td>0</td>\n",
       "      <td>91</td>\n",
       "      <td>184</td>\n",
       "      <td>...</td>\n",
       "      <td>110297</td>\n",
       "      <td>Endure + Endure + Endure</td>\n",
       "      <td>Yes</td>\n",
       "      <td>2014-09-07</td>\n",
       "      <td>ATK+</td>\n",
       "      <td>ATK%</td>\n",
       "      <td>DEF+</td>\n",
       "      <td>CDmg%</td>\n",
       "      <td>HP+</td>\n",
       "      <td>ATK%</td>\n",
       "    </tr>\n",
       "    <tr>\n",
       "      <th>44</th>\n",
       "      <td>40</td>\n",
       "      <td>6</td>\n",
       "      <td>21990</td>\n",
       "      <td>3576</td>\n",
       "      <td>852</td>\n",
       "      <td>132</td>\n",
       "      <td>36</td>\n",
       "      <td>9</td>\n",
       "      <td>84</td>\n",
       "      <td>172</td>\n",
       "      <td>...</td>\n",
       "      <td>90642</td>\n",
       "      <td>Blade + Fatal</td>\n",
       "      <td>Yes</td>\n",
       "      <td>2016-02-23</td>\n",
       "      <td>ATK+</td>\n",
       "      <td>ATK%</td>\n",
       "      <td>DEF+</td>\n",
       "      <td>CDmg%</td>\n",
       "      <td>HP+</td>\n",
       "      <td>ATK%</td>\n",
       "    </tr>\n",
       "    <tr>\n",
       "      <th>409</th>\n",
       "      <td>40</td>\n",
       "      <td>6</td>\n",
       "      <td>19414</td>\n",
       "      <td>2828</td>\n",
       "      <td>1148</td>\n",
       "      <td>159</td>\n",
       "      <td>21</td>\n",
       "      <td>30</td>\n",
       "      <td>76</td>\n",
       "      <td>201</td>\n",
       "      <td>...</td>\n",
       "      <td>100137</td>\n",
       "      <td>Blade + Rage</td>\n",
       "      <td>No</td>\n",
       "      <td>2015-10-02</td>\n",
       "      <td>ATK+</td>\n",
       "      <td>ATK%</td>\n",
       "      <td>DEF+</td>\n",
       "      <td>CDmg%</td>\n",
       "      <td>HP+</td>\n",
       "      <td>ATK%</td>\n",
       "    </tr>\n",
       "    <tr>\n",
       "      <th>...</th>\n",
       "      <td>...</td>\n",
       "      <td>...</td>\n",
       "      <td>...</td>\n",
       "      <td>...</td>\n",
       "      <td>...</td>\n",
       "      <td>...</td>\n",
       "      <td>...</td>\n",
       "      <td>...</td>\n",
       "      <td>...</td>\n",
       "      <td>...</td>\n",
       "      <td>...</td>\n",
       "      <td>...</td>\n",
       "      <td>...</td>\n",
       "      <td>...</td>\n",
       "      <td>...</td>\n",
       "      <td>...</td>\n",
       "      <td>...</td>\n",
       "      <td>...</td>\n",
       "      <td>...</td>\n",
       "      <td>...</td>\n",
       "      <td>...</td>\n",
       "    </tr>\n",
       "    <tr>\n",
       "      <th>451</th>\n",
       "      <td>40</td>\n",
       "      <td>6</td>\n",
       "      <td>14617</td>\n",
       "      <td>1388</td>\n",
       "      <td>758</td>\n",
       "      <td>108</td>\n",
       "      <td>24</td>\n",
       "      <td>12</td>\n",
       "      <td>74</td>\n",
       "      <td>94</td>\n",
       "      <td>...</td>\n",
       "      <td>55442</td>\n",
       "      <td>Blade + Rage</td>\n",
       "      <td>No</td>\n",
       "      <td>2020-01-03</td>\n",
       "      <td>ATK+</td>\n",
       "      <td>HP%</td>\n",
       "      <td>DEF+</td>\n",
       "      <td>CRate%</td>\n",
       "      <td>HP+</td>\n",
       "      <td>DEF%</td>\n",
       "    </tr>\n",
       "    <tr>\n",
       "      <th>500</th>\n",
       "      <td>40</td>\n",
       "      <td>6</td>\n",
       "      <td>11906</td>\n",
       "      <td>1486</td>\n",
       "      <td>708</td>\n",
       "      <td>101</td>\n",
       "      <td>32</td>\n",
       "      <td>12</td>\n",
       "      <td>53</td>\n",
       "      <td>101</td>\n",
       "      <td>...</td>\n",
       "      <td>43076</td>\n",
       "      <td>Blade + Violent</td>\n",
       "      <td>No</td>\n",
       "      <td>2019-09-01</td>\n",
       "      <td>ATK+</td>\n",
       "      <td>ATK+</td>\n",
       "      <td>DEF+</td>\n",
       "      <td>CDmg%</td>\n",
       "      <td>HP+</td>\n",
       "      <td>ATK%</td>\n",
       "    </tr>\n",
       "    <tr>\n",
       "      <th>68</th>\n",
       "      <td>40</td>\n",
       "      <td>6</td>\n",
       "      <td>11930</td>\n",
       "      <td>1171</td>\n",
       "      <td>926</td>\n",
       "      <td>108</td>\n",
       "      <td>63</td>\n",
       "      <td>10</td>\n",
       "      <td>57</td>\n",
       "      <td>111</td>\n",
       "      <td>...</td>\n",
       "      <td>52265</td>\n",
       "      <td>Accuracy + Blade + Endure</td>\n",
       "      <td>No</td>\n",
       "      <td>2017-05-13</td>\n",
       "      <td>ATK+</td>\n",
       "      <td>HP+</td>\n",
       "      <td>DEF+</td>\n",
       "      <td>CDmg%</td>\n",
       "      <td>HP+</td>\n",
       "      <td>DEF%</td>\n",
       "    </tr>\n",
       "    <tr>\n",
       "      <th>390</th>\n",
       "      <td>40</td>\n",
       "      <td>6</td>\n",
       "      <td>14971</td>\n",
       "      <td>1552</td>\n",
       "      <td>765</td>\n",
       "      <td>103</td>\n",
       "      <td>27</td>\n",
       "      <td>13</td>\n",
       "      <td>60</td>\n",
       "      <td>104</td>\n",
       "      <td>...</td>\n",
       "      <td>57152</td>\n",
       "      <td>Blade + Despair</td>\n",
       "      <td>No</td>\n",
       "      <td>2018-10-05</td>\n",
       "      <td>ATK+</td>\n",
       "      <td>ATK%</td>\n",
       "      <td>DEF+</td>\n",
       "      <td>CDmg%</td>\n",
       "      <td>HP+</td>\n",
       "      <td>HP%</td>\n",
       "    </tr>\n",
       "    <tr>\n",
       "      <th>184</th>\n",
       "      <td>40</td>\n",
       "      <td>6</td>\n",
       "      <td>9144</td>\n",
       "      <td>1342</td>\n",
       "      <td>692</td>\n",
       "      <td>114</td>\n",
       "      <td>28</td>\n",
       "      <td>0</td>\n",
       "      <td>38</td>\n",
       "      <td>70</td>\n",
       "      <td>...</td>\n",
       "      <td>32570</td>\n",
       "      <td>Despair</td>\n",
       "      <td>No</td>\n",
       "      <td>2018-05-25</td>\n",
       "      <td>ATK+</td>\n",
       "      <td>SPD</td>\n",
       "      <td>DEF+</td>\n",
       "      <td>ATK%</td>\n",
       "      <td>HP+</td>\n",
       "      <td>ATK%</td>\n",
       "    </tr>\n",
       "  </tbody>\n",
       "</table>\n",
       "<p>513 rows × 21 columns</p>\n",
       "</div>"
      ],
      "text/plain": [
       "     Level  Stars     HP  Attack  Defense  Speed  Res  Acc  CRate  CDmg  ...  \\\n",
       "407     40      6  19963    3332     1247    152   28   23     80   206  ...   \n",
       "410     40      6  17813    3219     1398    161   30   28     59   175  ...   \n",
       "408     40      6  21211    2947     1160    135   75    0     91   184  ...   \n",
       "44      40      6  21990    3576      852    132   36    9     84   172  ...   \n",
       "409     40      6  19414    2828     1148    159   21   30     76   201  ...   \n",
       "..     ...    ...    ...     ...      ...    ...  ...  ...    ...   ...  ...   \n",
       "451     40      6  14617    1388      758    108   24   12     74    94  ...   \n",
       "500     40      6  11906    1486      708    101   32   12     53   101  ...   \n",
       "68      40      6  11930    1171      926    108   63   10     57   111  ...   \n",
       "390     40      6  14971    1552      765    103   27   13     60   104  ...   \n",
       "184     40      6   9144    1342      692    114   28    0     38    70  ...   \n",
       "\n",
       "     Eff.HP                       Sets Skillups    Acquired Slot1 Slot2 Slot3  \\\n",
       "407  109886               Blade + Rage      Yes  2015-05-22  ATK+  ATK%  DEF+   \n",
       "410  107466    Focus + Guard + Revenge      Yes  2015-09-30  ATK+  ATK%  DEF+   \n",
       "408  110297   Endure + Endure + Endure      Yes  2014-09-07  ATK+  ATK%  DEF+   \n",
       "44    90642              Blade + Fatal      Yes  2016-02-23  ATK+  ATK%  DEF+   \n",
       "409  100137               Blade + Rage       No  2015-10-02  ATK+  ATK%  DEF+   \n",
       "..      ...                        ...      ...         ...   ...   ...   ...   \n",
       "451   55442               Blade + Rage       No  2020-01-03  ATK+   HP%  DEF+   \n",
       "500   43076            Blade + Violent       No  2019-09-01  ATK+  ATK+  DEF+   \n",
       "68    52265  Accuracy + Blade + Endure       No  2017-05-13  ATK+   HP+  DEF+   \n",
       "390   57152            Blade + Despair       No  2018-10-05  ATK+  ATK%  DEF+   \n",
       "184   32570                    Despair       No  2018-05-25  ATK+   SPD  DEF+   \n",
       "\n",
       "      Slot4 Slot5 Slot6  \n",
       "407   CDmg%   HP+  ATK%  \n",
       "410   CDmg%   HP+  ATK%  \n",
       "408   CDmg%   HP+  ATK%  \n",
       "44    CDmg%   HP+  ATK%  \n",
       "409   CDmg%   HP+  ATK%  \n",
       "..      ...   ...   ...  \n",
       "451  CRate%   HP+  DEF%  \n",
       "500   CDmg%   HP+  ATK%  \n",
       "68    CDmg%   HP+  DEF%  \n",
       "390   CDmg%   HP+   HP%  \n",
       "184    ATK%   HP+  ATK%  \n",
       "\n",
       "[513 rows x 21 columns]"
      ]
     },
     "execution_count": 1,
     "metadata": {},
     "output_type": "execute_result"
    }
   ],
   "source": [
    "import pandas as pd\n",
    "import numpy as np\n",
    "import matplotlib.pyplot as plt\n",
    "import matplotlib\n",
    "import seaborn as sns\n",
    "import scipy as stats\n",
    "\n",
    "sns.set(color_codes=True)\n",
    "sns.set_style(\"dark\")\n",
    "sns.set_context(\"poster\")\n",
    "matplotlib.rcParams['text.color'] = 'white'\n",
    "\n",
    "monster = \"sigmarus\"\n",
    "filename = monster + \"_20200601.csv\"\n",
    "\n",
    "BASE_STATS = {\n",
    "    'HP': 8730,\n",
    "    'ATTACK': 988,\n",
    "    'DEFENSE': 571,\n",
    "    'SPEED': 94,\n",
    "    'CRIT_RATE': .30,\n",
    "    'CRIT_DMG': .5,\n",
    "    'ACCURACY%': 0,\n",
    "    'RESISTANCE%': 15,\n",
    "}\n",
    "\n",
    "df = pd.read_csv(filename)\n",
    "df_full = pd.read_csv(filename)\n",
    "print(df.columns)\n",
    "runes_cols = [\"Slot\" + str(i) for i in range(1 ,7)]\n",
    "df.dropna(subset=runes_cols, how='any', inplace=True) # delete without runes\n",
    "df.sort_values([\"Eff\"], ascending=False, inplace=True)\n",
    "df"
   ]
  },
  {
   "cell_type": "markdown",
   "metadata": {},
   "source": [
    "# Stars Distribution, picking 6*"
   ]
  },
  {
   "cell_type": "code",
   "execution_count": 2,
   "metadata": {},
   "outputs": [
    {
     "name": "stdout",
     "output_type": "stream",
     "text": [
      "(485, 21)\n"
     ]
    },
    {
     "data": {
      "image/png": "[encoded data removed]",
      "text/plain": [
       "<Figure size 720x720 with 1 Axes>"
      ]
     },
     "metadata": {},
     "output_type": "display_data"
    }
   ],
   "source": [
    "fig = plt.figure(figsize=(10, 10))\n",
    "stars = df[\"Stars\"].value_counts()\n",
    "plt.pie(stars, labels=stars.index, autopct='%1.1f%%', colors=['g', 'r', 'b'])\n",
    "plt.savefig(monster + \"_pie_6stars.png\", transparent=True, bbox_inches = \"tight\")\n",
    "df_stars6 = df[df[\"Stars\"] == 6] # pick only 6*\n",
    "print(df_stars6.shape)"
   ]
  },
  {
   "cell_type": "markdown",
   "metadata": {},
   "source": [
    "# Skilled Up"
   ]
  },
  {
   "cell_type": "code",
   "execution_count": 3,
   "metadata": {},
   "outputs": [
    {
     "data": {
      "image/png": "[encoded data removed]",
      "text/plain": [
       "<Figure size 720x720 with 1 Axes>"
      ]
     },
     "metadata": {},
     "output_type": "display_data"
    }
   ],
   "source": [
    "fig = plt.figure(figsize=(10, 10))\n",
    "stars = df_stars6[\"Skillups\"].value_counts()\n",
    "plt.pie(stars, labels=stars.index, autopct='%1.1f%%', colors=['g', 'r'])\n",
    "plt.savefig(monster + \"_pie_skillups.png\", transparent=True, bbox_inches = \"tight\")\n",
    "plt.show()"
   ]
  },
  {
   "cell_type": "markdown",
   "metadata": {},
   "source": [
    "# Runes "
   ]
  },
  {
   "cell_type": "code",
   "execution_count": 4,
   "metadata": {},
   "outputs": [
    {
     "data": {
      "image/png": "[encoded data removed]",
      "text/plain": [
       "<Figure size 720x720 with 1 Axes>"
      ]
     },
     "metadata": {},
     "output_type": "display_data"
    }
   ],
   "source": [
    "fig = plt.figure(figsize=(10, 10))\n",
    "df_runes = {\n",
    "    'Without Runes': df_full.shape[0] - df.shape[0],\n",
    "    'With Runes': df.shape[0],\n",
    "}\n",
    "plt.pie(df_runes.values(), labels=df_runes.keys(), autopct='%1.1f%%', colors=['r', 'g'])\n",
    "plt.savefig(monster + \"_pie_runes.png\", transparent=True, bbox_inches = \"tight\")\n",
    "plt.show()"
   ]
  },
  {
   "cell_type": "markdown",
   "metadata": {},
   "source": [
    "# Build Type"
   ]
  },
  {
   "cell_type": "code",
   "execution_count": 5,
   "metadata": {},
   "outputs": [
    {
     "data": {
      "text/plain": [
       "<Figure size 720x720 with 0 Axes>"
      ]
     },
     "metadata": {},
     "output_type": "display_data"
    },
    {
     "data": {
      "image/png": "[encoded data removed]",
      "text/plain": [
       "<Figure size 720x720 with 1 Axes>"
      ]
     },
     "metadata": {},
     "output_type": "display_data"
    }
   ],
   "source": [
    "fig = plt.figure(figsize=(10, 10))\n",
    "fig = plt.figure(figsize=(10, 10))\n",
    "dmg_dealer_df = df_stars6[(df_stars6[\"CRate\"] >= 100) & (df_stars6[\"CDmg\"] >= 150)] # shows mons with 100%+ crit rate & 150%+ crit damage\n",
    "pseudo_dmg_dealer_df = df_stars6[(df_stars6[\"Attack\"] > BASE_STATS['ATTACK'] * 2) & (df_stars6[\"CRate\"] >= 100) & (df_stars6[\"CDmg\"] < 150)]\n",
    "pie_dmg_or_tanky = {\n",
    "    'Damage Dealer \\n[100% crit rate,\\n 150% + crit dmg]': dmg_dealer_df.shape[0],\n",
    "    'Squishy \\n[+100% base attack,\\nLow Crit Dmg]': pseudo_dmg_dealer_df.shape[0],\n",
    "    'Other': df_stars6.shape[0] - pseudo_dmg_dealer_df.shape[0] - dmg_dealer_df.shape[0],\n",
    "}\n",
    "plt.pie(pie_dmg_or_tanky.values(), labels=pie_dmg_or_tanky.keys(), autopct='%1.1f%%', colors=['g', 'r', 'b'])\n",
    "plt.savefig(monster + \"_pie_is_tanky.png\", transparent=True, bbox_inches = \"tight\")\n",
    "plt.show()"
   ]
  },
  {
   "cell_type": "markdown",
   "metadata": {},
   "source": [
    "# Crit Rate"
   ]
  },
  {
   "cell_type": "code",
   "execution_count": 6,
   "metadata": {},
   "outputs": [
    {
     "data": {
      "image/png": "[encoded data removed]",
      "text/plain": [
       "<Figure size 720x720 with 1 Axes>"
      ]
     },
     "metadata": {},
     "output_type": "display_data"
    }
   ],
   "source": [
    "fig = plt.figure(figsize=(10, 10))\n",
    "df_crit_rate_yes = df_stars6[df_stars6[\"CRate\"] >= 100]\n",
    "df_crit_rate = {\n",
    "    '100%': df_crit_rate_yes.shape[0],\n",
    "    'Under 100%': df_stars6.shape[0] - df_crit_rate_yes.shape[0],\n",
    "}\n",
    "plt.pie(df_crit_rate.values(), labels=df_crit_rate.keys(), autopct='%1.1f%%', colors=['g', 'r'])\n",
    "plt.savefig(monster + \"_pie_crit_rate.png\", transparent=True, bbox_inches = \"tight\")\n",
    "plt.show()"
   ]
  },
  {
   "cell_type": "markdown",
   "metadata": {},
   "source": [
    "# Eff. HP Distribution"
   ]
  },
  {
   "cell_type": "code",
   "execution_count": 7,
   "metadata": {},
   "outputs": [
    {
     "data": {
      "image/png": "[encoded data removed]",
      "text/plain": [
       "<Figure size 720x360 with 1 Axes>"
      ]
     },
     "metadata": {},
     "output_type": "display_data"
    }
   ],
   "source": [
    "fig = plt.figure(figsize=(10, 5))\n",
    "sns.distplot(df_stars6[\"Eff.HP\"], bins=20, kde=False, rug=True).set_xlabel(None)\n",
    "plt.tick_params(labelcolor='white')\n",
    "plt.savefig(monster + \"_dist_effhp.png\", transparent=True, bbox_inches = \"tight\")"
   ]
  },
  {
   "cell_type": "markdown",
   "metadata": {},
   "source": [
    "# Total Attack Distribution"
   ]
  },
  {
   "cell_type": "code",
   "execution_count": 8,
   "metadata": {},
   "outputs": [
    {
     "data": {
      "image/png": "[encoded data removed]",
      "text/plain": [
       "<Figure size 720x360 with 1 Axes>"
      ]
     },
     "metadata": {},
     "output_type": "display_data"
    }
   ],
   "source": [
    "fig = plt.figure(figsize=(10, 5))\n",
    "sns.distplot(df_stars6[\"Attack\"], bins=20, kde=False, rug=True).set_xlabel(None)\n",
    "plt.tick_params(labelcolor='white')\n",
    "plt.savefig(monster + \"_dist_attack.png\", transparent=True, bbox_inches = \"tight\")"
   ]
  },
  {
   "cell_type": "markdown",
   "metadata": {},
   "source": [
    "# Avg. Rune Distribution"
   ]
  },
  {
   "cell_type": "code",
   "execution_count": 9,
   "metadata": {},
   "outputs": [
    {
     "data": {
      "image/png": "[encoded data removed]",
      "text/plain": [
       "<Figure size 720x360 with 1 Axes>"
      ]
     },
     "metadata": {},
     "output_type": "display_data"
    }
   ],
   "source": [
    "fig = plt.figure(figsize=(10, 5))\n",
    "sns.distplot(df_stars6[\"Eff\"], bins=20, kde=False, rug=True).set_xlabel(None)\n",
    "plt.tick_params(labelcolor='white')\n",
    "plt.savefig(monster + \"_dist_rune_eff.png\", transparent=True, bbox_inches = \"tight\")"
   ]
  },
  {
   "cell_type": "markdown",
   "metadata": {},
   "source": [
    "# Sets"
   ]
  },
  {
   "cell_type": "code",
   "execution_count": 10,
   "metadata": {},
   "outputs": [
    {
     "name": "stdout",
     "output_type": "stream",
     "text": [
      "Blade + Fatal              155\n",
      "Blade + Rage                54\n",
      "Blade + Violent             50\n",
      "Fatal                       21\n",
      "Rage                        19\n",
      "Energy + Fatal              18\n",
      "Blade + Swift               14\n",
      "Violent                     14\n",
      "Blade + Despair             12\n",
      "Blade                        9\n",
      "Broken                       8\n",
      "Revenge + Violent            7\n",
      "Energy + Rage                5\n",
      "Fatal + Focus                5\n",
      "Focus + Violent              5\n",
      "Despair                      5\n",
      "Focus                        4\n",
      "Swift                        4\n",
      "Rage + Revenge               3\n",
      "Endure + Violent             3\n",
      "Energy + Violent             3\n",
      "Blade + Energy + Energy      3\n",
      "Blade + Blade                3\n",
      "Rage + Will                  3\n",
      "Fatal + Revenge              2\n",
      "Focus + Rage                 2\n",
      "Shield + Violent             2\n",
      "Destroy + Violent            2\n",
      "Fatal + Shield               2\n",
      "Blade + Focus + Shield       2\n",
      "Nemesis + Violent            2\n",
      "Fatal + Guard                2\n",
      "Guard + Violent              2\n",
      "Nemesis + Rage               2\n",
      "Name: Sets, dtype: int64\n"
     ]
    },
    {
     "data": {
      "image/png": "[encoded data removed]",
      "text/plain": [
       "<Figure size 1440x360 with 1 Axes>"
      ]
     },
     "metadata": {},
     "output_type": "display_data"
    }
   ],
   "source": [
    "fig = plt.figure(figsize=(20, 5))\n",
    "counts = df_stars6[\"Sets\"].value_counts()\n",
    "counts = counts[counts > 1]\n",
    "print(counts)\n",
    "x, y = counts.index, counts.values\n",
    "sets = sns.barplot(x=x, y=y)\n",
    "_ = sets.set_xticklabels(sets.get_xticklabels(), rotation=45, horizontalalignment='right')\n",
    "plt.tick_params(labelcolor='white')\n",
    "plt.savefig(monster + \"_dist_sets.png\", transparent=True, bbox_inches = \"tight\")"
   ]
  },
  {
   "cell_type": "markdown",
   "metadata": {},
   "source": [
    "# 4-Rune Sets"
   ]
  },
  {
   "cell_type": "code",
   "execution_count": 11,
   "metadata": {},
   "outputs": [
    {
     "data": {
      "image/png": "[encoded data removed]",
      "text/plain": [
       "<Figure size 1440x360 with 1 Axes>"
      ]
     },
     "metadata": {},
     "output_type": "display_data"
    }
   ],
   "source": [
    "sets_4 = ['Violent', 'Swift', 'Rage', 'Fatal', 'Despair', 'Vampire']\n",
    "fig = plt.figure(figsize=(20, 5))\n",
    "counts = df_stars6[\"Sets\"].value_counts()\n",
    "set_sum = dict()\n",
    "for set_4 in sets_4:\n",
    "    indexes = [val for val in counts.index if set_4 in val]\n",
    "    set_count = counts.loc[indexes]\n",
    "    set_sum[set_4] = set_count.sum()\n",
    "set_sum = {k: v for k, v in sorted(set_sum.items(), key=lambda item: item[1], reverse=True)}\n",
    "x, y = list(set_sum.keys()), list(set_sum.values())\n",
    "sets = sns.barplot(x=x, y=y)\n",
    "_ = sets.set_xticklabels(sets.get_xticklabels(), rotation=45, horizontalalignment='right')\n",
    "plt.tick_params(labelcolor='white')\n",
    "plt.savefig(monster + \"_dist_4sets.png\", transparent=True, bbox_inches = \"tight\")"
   ]
  },
  {
   "cell_type": "markdown",
   "metadata": {},
   "source": [
    "# Eff. HP Distribution for most common set"
   ]
  },
  {
   "cell_type": "code",
   "execution_count": 12,
   "metadata": {},
   "outputs": [
    {
     "name": "stdout",
     "output_type": "stream",
     "text": [
      "Blade + Fatal\n"
     ]
    },
    {
     "data": {
      "image/png": "[encoded data removed]",
      "text/plain": [
       "<Figure size 720x360 with 1 Axes>"
      ]
     },
     "metadata": {},
     "output_type": "display_data"
    }
   ],
   "source": [
    "most_common_set = counts.index[0]\n",
    "print(most_common_set)\n",
    "\n",
    "fig = plt.figure(figsize=(10, 5))\n",
    "sns.distplot(df_stars6[\"Eff.HP\"][df_stars6[\"Sets\"] == most_common_set], bins=20, kde=False, rug=True).set_xlabel(None)\n",
    "plt.tick_params(labelcolor='white')\n",
    "plt.savefig(monster + \"_dist_common_set_effhp.png\", transparent=True, bbox_inches = \"tight\")"
   ]
  },
  {
   "cell_type": "markdown",
   "metadata": {},
   "source": [
    "# Speed Distribution"
   ]
  },
  {
   "cell_type": "code",
   "execution_count": 13,
   "metadata": {},
   "outputs": [
    {
     "data": {
      "image/png": "[encoded data removed]",
      "text/plain": [
       "<Figure size 720x360 with 1 Axes>"
      ]
     },
     "metadata": {},
     "output_type": "display_data"
    }
   ],
   "source": [
    "fig = plt.figure(figsize=(10, 5))\n",
    "sns.distplot(df_stars6[\"Speed\"], bins=20, kde=False, rug=True).set_xlabel(None)\n",
    "plt.tick_params(labelcolor='white')\n",
    "plt.savefig(monster + \"_dist_speed.png\", transparent=True,  bbox_inches = \"tight\")"
   ]
  },
  {
   "cell_type": "markdown",
   "metadata": {},
   "source": [
    "# Speed Distribution for TOP 10% Eff. HP"
   ]
  },
  {
   "cell_type": "code",
   "execution_count": 14,
   "metadata": {},
   "outputs": [
    {
     "data": {
      "image/png": "[encoded data removed]",
      "text/plain": [
       "<Figure size 720x360 with 1 Axes>"
      ]
     },
     "metadata": {},
     "output_type": "display_data"
    }
   ],
   "source": [
    "fig = plt.figure(figsize=(10, 5))\n",
    "sns.distplot(df_stars6[\"Speed\"].head(int(df_stars6.shape[0] * .1)), bins=20, kde=False, rug=True).set_xlabel(None)\n",
    "plt.tick_params(labelcolor='white')\n",
    "plt.savefig(monster + \"_dist_speed_top10_percent.png\", transparent=True,  bbox_inches = \"tight\")"
   ]
  },
  {
   "cell_type": "markdown",
   "metadata": {},
   "source": [
    "# Speed - Eff. HP Relation for TOP 10% Eff. HP"
   ]
  },
  {
   "cell_type": "code",
   "execution_count": 15,
   "metadata": {},
   "outputs": [
    {
     "data": {
      "text/plain": [
       "<Figure size 720x360 with 0 Axes>"
      ]
     },
     "metadata": {},
     "output_type": "display_data"
    },
    {
     "data": {
      "image/png": "[encoded data removed]",
      "text/plain": [
       "<Figure size 360x360 with 1 Axes>"
      ]
     },
     "metadata": {},
     "output_type": "display_data"
    }
   ],
   "source": [
    "fig = plt.figure(figsize=(10, 5))\n",
    "sns.lmplot(x=\"Speed\", y=\"Eff.HP\", data=df_stars6.head(int(df_stars6.shape[0] * .1)))\n",
    "plt.tick_params(labelcolor='white')\n",
    "plt.savefig(monster + \"_rel_spd_dmg_top10_percent.png\", transparent=True,  bbox_inches = \"tight\")"
   ]
  },
  {
   "cell_type": "markdown",
   "metadata": {},
   "source": [
    "# Attack - Eff. HP Relation for TOP 10% Eff. HP"
   ]
  },
  {
   "cell_type": "code",
   "execution_count": 16,
   "metadata": {},
   "outputs": [
    {
     "data": {
      "text/plain": [
       "<Figure size 720x360 with 0 Axes>"
      ]
     },
     "metadata": {},
     "output_type": "display_data"
    },
    {
     "data": {
      "image/png": "[encoded data removed]",
      "text/plain": [
       "<Figure size 360x360 with 1 Axes>"
      ]
     },
     "metadata": {},
     "output_type": "display_data"
    }
   ],
   "source": [
    "fig = plt.figure(figsize=(10, 5))\n",
    "sns.lmplot(x=\"Attack\", y=\"Eff.HP\", data=df_stars6.sort_values(['Attack'], ascending=False).head(int(df_stars6.shape[0] * .1)))\n",
    "plt.tick_params(labelcolor='white')\n",
    "plt.savefig(monster + \"_rel_atk_dmg_top10_percent.png\", transparent=True,  bbox_inches = \"tight\")"
   ]
  },
  {
   "cell_type": "markdown",
   "metadata": {},
   "source": [
    "# Best by Category"
   ]
  },
  {
   "cell_type": "code",
   "execution_count": 17,
   "metadata": {},
   "outputs": [
    {
     "data": {
      "text/html": [
       "<div>\n",
       "<style scoped>\n",
       "    .dataframe tbody tr th:only-of-type {\n",
       "        vertical-align: middle;\n",
       "    }\n",
       "\n",
       "    .dataframe tbody tr th {\n",
       "        vertical-align: top;\n",
       "    }\n",
       "\n",
       "    .dataframe thead th {\n",
       "        text-align: right;\n",
       "    }\n",
       "</style>\n",
       "<table border=\"1\" class=\"dataframe\">\n",
       "  <thead>\n",
       "    <tr style=\"text-align: right;\">\n",
       "      <th></th>\n",
       "      <th>HP</th>\n",
       "      <th>Attack</th>\n",
       "      <th>Defense</th>\n",
       "      <th>Speed</th>\n",
       "      <th>Res</th>\n",
       "      <th>Acc</th>\n",
       "      <th>CRate</th>\n",
       "      <th>CDmg</th>\n",
       "      <th>Eff</th>\n",
       "      <th>Eff.HP</th>\n",
       "    </tr>\n",
       "    <tr>\n",
       "      <th>ID</th>\n",
       "      <th></th>\n",
       "      <th></th>\n",
       "      <th></th>\n",
       "      <th></th>\n",
       "      <th></th>\n",
       "      <th></th>\n",
       "      <th></th>\n",
       "      <th></th>\n",
       "      <th></th>\n",
       "      <th></th>\n",
       "    </tr>\n",
       "  </thead>\n",
       "  <tbody>\n",
       "    <tr>\n",
       "      <th>1</th>\n",
       "      <td>28941</td>\n",
       "      <td>3787</td>\n",
       "      <td>1531</td>\n",
       "      <td>205</td>\n",
       "      <td>101</td>\n",
       "      <td>73</td>\n",
       "      <td>126</td>\n",
       "      <td>245</td>\n",
       "      <td>110</td>\n",
       "      <td>127905</td>\n",
       "    </tr>\n",
       "  </tbody>\n",
       "</table>\n",
       "</div>"
      ],
      "text/plain": [
       "       HP Attack Defense Speed  Res Acc CRate CDmg  Eff  Eff.HP\n",
       "ID                                                             \n",
       "1   28941   3787    1531   205  101  73   126  245  110  127905"
      ]
     },
     "execution_count": 17,
     "metadata": {},
     "output_type": "execute_result"
    }
   ],
   "source": [
    "cols = ['HP', 'Attack', 'Defense', 'Speed', 'Res', 'Acc', 'CRate', 'CDmg', 'Eff', 'Eff.HP']\n",
    "df_best = pd.DataFrame(columns=[\"ID\"] + cols)\n",
    "df_best.set_index(\"ID\", drop=True, inplace=True)\n",
    "\n",
    "best = list()\n",
    "for column in cols:\n",
    "    best.append(int(round(df.sort_values([column], ascending=False)[column].head(1).values[0])))\n",
    "    \n",
    "df_best.loc[1] = best\n",
    "df_best"
   ]
  },
  {
   "cell_type": "markdown",
   "metadata": {},
   "source": [
    "# Best 10 Builds by Avg Eff"
   ]
  },
  {
   "cell_type": "code",
   "execution_count": 18,
   "metadata": {},
   "outputs": [
    {
     "name": "stdout",
     "output_type": "stream",
     "text": [
      "<table border=\"1\" class=\"dataframe\">\n",
      "  <thead>\n",
      "    <tr style=\"text-align: right;\">\n",
      "      <th></th>\n",
      "      <th>HP</th>\n",
      "      <th>Attack</th>\n",
      "      <th>Defense</th>\n",
      "      <th>Speed</th>\n",
      "      <th>Res</th>\n",
      "      <th>Acc</th>\n",
      "      <th>CRate</th>\n",
      "      <th>CDmg</th>\n",
      "      <th>Eff</th>\n",
      "      <th>Eff.HP</th>\n",
      "      <th>Sets</th>\n",
      "      <th>Slot2</th>\n",
      "      <th>Slot4</th>\n",
      "      <th>Slot6</th>\n",
      "    </tr>\n",
      "  </thead>\n",
      "  <tbody>\n",
      "    <tr>\n",
      "      <th>0</th>\n",
      "      <td>19963</td>\n",
      "      <td>3332</td>\n",
      "      <td>1247</td>\n",
      "      <td>152</td>\n",
      "      <td>28</td>\n",
      "      <td>23</td>\n",
      "      <td>80</td>\n",
      "      <td>206</td>\n",
      "      <td>110.46</td>\n",
      "      <td>109886</td>\n",
      "      <td>Blade + Rage</td>\n",
      "      <td>ATK%</td>\n",
      "      <td>CDmg%</td>\n",
      "      <td>ATK%</td>\n",
      "    </tr>\n",
      "    <tr>\n",
      "      <th>1</th>\n",
      "      <td>17813</td>\n",
      "      <td>3219</td>\n",
      "      <td>1398</td>\n",
      "      <td>161</td>\n",
      "      <td>30</td>\n",
      "      <td>28</td>\n",
      "      <td>59</td>\n",
      "      <td>175</td>\n",
      "      <td>105.93</td>\n",
      "      <td>107466</td>\n",
      "      <td>Focus + Guard + Revenge</td>\n",
      "      <td>ATK%</td>\n",
      "      <td>CDmg%</td>\n",
      "      <td>ATK%</td>\n",
      "    </tr>\n",
      "    <tr>\n",
      "      <th>2</th>\n",
      "      <td>21211</td>\n",
      "      <td>2947</td>\n",
      "      <td>1160</td>\n",
      "      <td>135</td>\n",
      "      <td>75</td>\n",
      "      <td>0</td>\n",
      "      <td>91</td>\n",
      "      <td>184</td>\n",
      "      <td>104.08</td>\n",
      "      <td>110297</td>\n",
      "      <td>Endure + Endure + Endure</td>\n",
      "      <td>ATK%</td>\n",
      "      <td>CDmg%</td>\n",
      "      <td>ATK%</td>\n",
      "    </tr>\n",
      "    <tr>\n",
      "      <th>3</th>\n",
      "      <td>21990</td>\n",
      "      <td>3576</td>\n",
      "      <td>852</td>\n",
      "      <td>132</td>\n",
      "      <td>36</td>\n",
      "      <td>9</td>\n",
      "      <td>84</td>\n",
      "      <td>172</td>\n",
      "      <td>100.51</td>\n",
      "      <td>90642</td>\n",
      "      <td>Blade + Fatal</td>\n",
      "      <td>ATK%</td>\n",
      "      <td>CDmg%</td>\n",
      "      <td>ATK%</td>\n",
      "    </tr>\n",
      "    <tr>\n",
      "      <th>4</th>\n",
      "      <td>19414</td>\n",
      "      <td>2828</td>\n",
      "      <td>1148</td>\n",
      "      <td>159</td>\n",
      "      <td>21</td>\n",
      "      <td>30</td>\n",
      "      <td>76</td>\n",
      "      <td>201</td>\n",
      "      <td>99.02</td>\n",
      "      <td>100137</td>\n",
      "      <td>Blade + Rage</td>\n",
      "      <td>ATK%</td>\n",
      "      <td>CDmg%</td>\n",
      "      <td>ATK%</td>\n",
      "    </tr>\n",
      "    <tr>\n",
      "      <th>5</th>\n",
      "      <td>17551</td>\n",
      "      <td>3078</td>\n",
      "      <td>943</td>\n",
      "      <td>139</td>\n",
      "      <td>28</td>\n",
      "      <td>0</td>\n",
      "      <td>81</td>\n",
      "      <td>178</td>\n",
      "      <td>96.53</td>\n",
      "      <td>77935</td>\n",
      "      <td>Destroy + Violent</td>\n",
      "      <td>ATK%</td>\n",
      "      <td>CDmg%</td>\n",
      "      <td>ATK%</td>\n",
      "    </tr>\n",
      "    <tr>\n",
      "      <th>6</th>\n",
      "      <td>18075</td>\n",
      "      <td>2659</td>\n",
      "      <td>869</td>\n",
      "      <td>195</td>\n",
      "      <td>15</td>\n",
      "      <td>62</td>\n",
      "      <td>85</td>\n",
      "      <td>168</td>\n",
      "      <td>95.39</td>\n",
      "      <td>75580</td>\n",
      "      <td>Fatal + Focus</td>\n",
      "      <td>SPD</td>\n",
      "      <td>CDmg%</td>\n",
      "      <td>ATK%</td>\n",
      "    </tr>\n",
      "    <tr>\n",
      "      <th>7</th>\n",
      "      <td>16678</td>\n",
      "      <td>2887</td>\n",
      "      <td>1051</td>\n",
      "      <td>143</td>\n",
      "      <td>35</td>\n",
      "      <td>17</td>\n",
      "      <td>98</td>\n",
      "      <td>191</td>\n",
      "      <td>95.35</td>\n",
      "      <td>80362</td>\n",
      "      <td>Blade + Guard</td>\n",
      "      <td>ATK%</td>\n",
      "      <td>CDmg%</td>\n",
      "      <td>ATK%</td>\n",
      "    </tr>\n",
      "    <tr>\n",
      "      <th>8</th>\n",
      "      <td>15782</td>\n",
      "      <td>3367</td>\n",
      "      <td>953</td>\n",
      "      <td>164</td>\n",
      "      <td>15</td>\n",
      "      <td>7</td>\n",
      "      <td>76</td>\n",
      "      <td>171</td>\n",
      "      <td>94.79</td>\n",
      "      <td>70632</td>\n",
      "      <td>Energy + Fatal</td>\n",
      "      <td>ATK%</td>\n",
      "      <td>CDmg%</td>\n",
      "      <td>ATK%</td>\n",
      "    </tr>\n",
      "    <tr>\n",
      "      <th>9</th>\n",
      "      <td>19081</td>\n",
      "      <td>2649</td>\n",
      "      <td>1103</td>\n",
      "      <td>159</td>\n",
      "      <td>22</td>\n",
      "      <td>0</td>\n",
      "      <td>85</td>\n",
      "      <td>169</td>\n",
      "      <td>94.72</td>\n",
      "      <td>95415</td>\n",
      "      <td>Blade + Swift</td>\n",
      "      <td>ATK%</td>\n",
      "      <td>CDmg%</td>\n",
      "      <td>ATK%</td>\n",
      "    </tr>\n",
      "  </tbody>\n",
      "</table>\n"
     ]
    }
   ],
   "source": [
    "print(df_stars6.drop(['Acquired', 'Slot1', 'Slot3', 'Slot5', 'Level', 'Stars', 'Skillups'], axis=1).reset_index(drop=True).sort_values(['Eff'], ascending=False).head(10).to_html())"
   ]
  },
  {
   "cell_type": "markdown",
   "metadata": {},
   "source": [
    "# Most common Builds"
   ]
  },
  {
   "cell_type": "code",
   "execution_count": 19,
   "metadata": {},
   "outputs": [
    {
     "name": "stdout",
     "output_type": "stream",
     "text": [
      "   Slot2   Slot4 Slot6  Count\n",
      "3   ATK%   CDmg%  ATK%    288\n",
      "33   SPD   CDmg%  ATK%    103\n",
      "6   ATK%   CDmg%   HP%     13\n",
      "29   SPD    ATK%  ATK%     10\n",
      "9   ATK%  CRate%  ATK%      9\n",
      "35   SPD   CDmg%   HP%      9\n",
      "0   ATK%    ATK%  ATK%      6\n",
      "36   SPD  CRate%  ATK%      4\n",
      "17   HP%    ATK%  ATK%      3\n",
      "4   ATK%   CDmg%  ATK+      2\n",
      "11  ATK%     HP%  ATK%      2\n",
      "12  ATK+   CDmg%  ATK%      2\n",
      "19   HP%   CDmg%  ATK%      2\n",
      "21   HP%  CRate%  ATK%      2\n",
      "23   HP%     HP%  ACC%      2\n",
      "31   SPD    ATK%  RES%      2\n"
     ]
    },
    {
     "data": {
      "image/png": "[encoded data removed]",
      "text/plain": [
       "<Figure size 720x360 with 1 Axes>"
      ]
     },
     "metadata": {},
     "output_type": "display_data"
    }
   ],
   "source": [
    "fig = plt.figure(figsize=(10, 5))\n",
    "\n",
    "builds_count = df_stars6.groupby([\"Slot2\", \"Slot4\", \"Slot6\"]).size().reset_index(name='Count')\n",
    "builds_count = builds_count[builds_count['Count'] > 1].sort_values([\"Count\"], ascending=False) # single builds to drop\n",
    "print(builds_count)\n",
    "builds_count_to_plot = builds_count.set_index([\"Slot2\", \"Slot4\", \"Slot6\"]).T\n",
    "\n",
    "builds_common = sns.barplot(data=builds_count_to_plot)\n",
    "_ = builds_common.set_xticklabels(builds_common.get_xticklabels(), rotation=45, horizontalalignment='right')\n",
    "plt.tick_params(labelcolor='white')\n",
    "plt.savefig(monster + \"_build_common.png\", transparent=True, bbox_inches = \"tight\")"
   ]
  },
  {
   "cell_type": "markdown",
   "metadata": {},
   "source": [
    "# Builds for most common set"
   ]
  },
  {
   "cell_type": "code",
   "execution_count": 20,
   "metadata": {},
   "outputs": [
    {
     "name": "stdout",
     "output_type": "stream",
     "text": [
      "   Slot2  Slot4 Slot6  Count\n",
      "1   ATK%  CDmg%  ATK%     93\n",
      "18   SPD  CDmg%  ATK%     30\n",
      "4   ATK%  CDmg%   HP%      4\n",
      "0   ATK%   ATK%  ATK%      3\n",
      "19   SPD  CDmg%   HP%      3\n"
     ]
    },
    {
     "data": {
      "image/png": "[encoded data removed]",
      "text/plain": [
       "<Figure size 720x360 with 1 Axes>"
      ]
     },
     "metadata": {},
     "output_type": "display_data"
    }
   ],
   "source": [
    "fig = plt.figure(figsize=(10, 5))\n",
    "builds_count = df_stars6[df_stars6[\"Sets\"] == most_common_set].groupby([\"Slot2\", \"Slot4\", \"Slot6\"]).size().reset_index(name='Count')\n",
    "builds_count = builds_count[builds_count['Count'] > 2].sort_values([\"Count\"], ascending=False) # single builds to drop\n",
    "print(builds_count)\n",
    "builds_count_to_plot = builds_count.set_index([\"Slot2\", \"Slot4\", \"Slot6\"]).T\n",
    "\n",
    "builds_common = sns.barplot(data=builds_count_to_plot)\n",
    "ax = builds_common.set_xticklabels(builds_common.get_xticklabels(), rotation=45, horizontalalignment='right')\n",
    "builds_common.tick_params(labelcolor='white')\n",
    "plt.savefig(monster + \"_build_common_set.png\", transparent=True, bbox_inches = \"tight\")"
   ]
  },
  {
   "cell_type": "markdown",
   "metadata": {},
   "source": [
    "# Most frequent slot 2"
   ]
  },
  {
   "cell_type": "code",
   "execution_count": 21,
   "metadata": {},
   "outputs": [
    {
     "data": {
      "image/png": "[encoded data removed]",
      "text/plain": [
       "<Figure size 720x360 with 1 Axes>"
      ]
     },
     "metadata": {},
     "output_type": "display_data"
    }
   ],
   "source": [
    "fig = plt.figure(figsize=(10, 5))\n",
    "\n",
    "counts_slot2 = df_stars6[\"Slot2\"].value_counts()\n",
    "counts_slot2 = counts_slot2[counts_slot2 > 2]\n",
    "x, y = counts_slot2.index, counts_slot2.values\n",
    "slot2 = sns.barplot(x=x, y=y)\n",
    "_ = slot2.set_xticklabels(slot2.get_xticklabels(), rotation=45, horizontalalignment='right')\n",
    "plt.tick_params(labelcolor='white')\n",
    "plt.savefig(monster + \"_slot_2.png\", transparent=True, bbox_inches = \"tight\")"
   ]
  },
  {
   "cell_type": "markdown",
   "metadata": {},
   "source": [
    "# Most frequent slot 4"
   ]
  },
  {
   "cell_type": "code",
   "execution_count": 22,
   "metadata": {},
   "outputs": [
    {
     "data": {
      "image/png": "[encoded data removed]",
      "text/plain": [
       "<Figure size 720x360 with 1 Axes>"
      ]
     },
     "metadata": {},
     "output_type": "display_data"
    }
   ],
   "source": [
    "fig = plt.figure(figsize=(10, 5))\n",
    "\n",
    "counts_slot4 = df_stars6[\"Slot4\"].value_counts()\n",
    "counts_slot4 = counts_slot4[counts_slot4 > 2]\n",
    "x, y = counts_slot4.index, counts_slot4.values\n",
    "slot4 = sns.barplot(x=x, y=y)\n",
    "_ = slot4.set_xticklabels(slot4.get_xticklabels(), rotation=45, horizontalalignment='right')\n",
    "plt.tick_params(labelcolor='white')\n",
    "plt.savefig(monster + \"_slot_4.png\", transparent=True, bbox_inches = \"tight\")"
   ]
  },
  {
   "cell_type": "markdown",
   "metadata": {},
   "source": [
    "# Most frequent slot 6"
   ]
  },
  {
   "cell_type": "code",
   "execution_count": null,
   "metadata": {},
   "outputs": [],
   "source": [
    "fig = plt.figure(figsize=(10, 5))\n",
    "\n",
    "counts_slot6 = df_stars6[\"Slot6\"].value_counts()\n",
    "counts_slot6 = counts_slot6[counts_slot6 > 2]\n",
    "x, y = counts_slot6.index, counts_slot6.values\n",
    "slot6 = sns.barplot(x=x, y=y)\n",
    "_ = slot6.set_xticklabels(slot6.get_xticklabels(), rotation=45, horizontalalignment='right')\n",
    "plt.tick_params(labelcolor='white')\n",
    "plt.savefig(monster + \"_slot_6.png\", transparent=True, bbox_inches = \"tight\")"
   ]
  }
 ],
 "metadata": {
  "kernelspec": {
   "display_name": "Python 3",
   "language": "python",
   "name": "python3"
  },
  "language_info": {
   "codemirror_mode": {
    "name": "ipython",
    "version": 3
   },
   "file_extension": ".py",
   "mimetype": "text/x-python",
   "name": "python",
   "nbconvert_exporter": "python",
   "pygments_lexer": "ipython3",
   "version": "3.7.6"
  }
 },
 "nbformat": 4,
 "nbformat_minor": 4
}
