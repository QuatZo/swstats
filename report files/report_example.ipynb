{
 "cells": [
  {
   "cell_type": "markdown",
   "metadata": {},
   "source": [
    "# Setting Up"
   ]
  },
  {
   "cell_type": "code",
   "execution_count": 27,
   "metadata": {
    "scrolled": false
   },
   "outputs": [
    {
     "name": "stdout",
     "output_type": "stream",
     "text": [
      "Index(['Level', 'Stars', 'HP', 'Attack', 'Defense', 'Speed', 'Res', 'Acc',\n",
      "       'CRate', 'CDmg', 'Eff', 'Eff.HP', 'Sets', 'Skillups', 'Acquired',\n",
      "       'Slot1', 'Slot2', 'Slot3', 'Slot4', 'Slot5', 'Slot6'],\n",
      "      dtype='object')\n"
     ]
    },
    {
     "data": {
      "text/html": [
       "<div>\n",
       "<style scoped>\n",
       "    .dataframe tbody tr th:only-of-type {\n",
       "        vertical-align: middle;\n",
       "    }\n",
       "\n",
       "    .dataframe tbody tr th {\n",
       "        vertical-align: top;\n",
       "    }\n",
       "\n",
       "    .dataframe thead th {\n",
       "        text-align: right;\n",
       "    }\n",
       "</style>\n",
       "<table border=\"1\" class=\"dataframe\">\n",
       "  <thead>\n",
       "    <tr style=\"text-align: right;\">\n",
       "      <th></th>\n",
       "      <th>Level</th>\n",
       "      <th>Stars</th>\n",
       "      <th>HP</th>\n",
       "      <th>Attack</th>\n",
       "      <th>Defense</th>\n",
       "      <th>Speed</th>\n",
       "      <th>Res</th>\n",
       "      <th>Acc</th>\n",
       "      <th>CRate</th>\n",
       "      <th>CDmg</th>\n",
       "      <th>...</th>\n",
       "      <th>Eff.HP</th>\n",
       "      <th>Sets</th>\n",
       "      <th>Skillups</th>\n",
       "      <th>Acquired</th>\n",
       "      <th>Slot1</th>\n",
       "      <th>Slot2</th>\n",
       "      <th>Slot3</th>\n",
       "      <th>Slot4</th>\n",
       "      <th>Slot5</th>\n",
       "      <th>Slot6</th>\n",
       "    </tr>\n",
       "  </thead>\n",
       "  <tbody>\n",
       "    <tr>\n",
       "      <th>282</th>\n",
       "      <td>40</td>\n",
       "      <td>6</td>\n",
       "      <td>40517</td>\n",
       "      <td>1147</td>\n",
       "      <td>1398</td>\n",
       "      <td>203</td>\n",
       "      <td>28</td>\n",
       "      <td>0</td>\n",
       "      <td>73</td>\n",
       "      <td>142</td>\n",
       "      <td>...</td>\n",
       "      <td>244439</td>\n",
       "      <td>Blade + Energy + Shield</td>\n",
       "      <td>Yes</td>\n",
       "      <td>2017-10-15</td>\n",
       "      <td>ATK+</td>\n",
       "      <td>HP%</td>\n",
       "      <td>DEF+</td>\n",
       "      <td>CDmg%</td>\n",
       "      <td>HP+</td>\n",
       "      <td>HP%</td>\n",
       "    </tr>\n",
       "    <tr>\n",
       "      <th>309</th>\n",
       "      <td>40</td>\n",
       "      <td>6</td>\n",
       "      <td>31205</td>\n",
       "      <td>1441</td>\n",
       "      <td>1292</td>\n",
       "      <td>204</td>\n",
       "      <td>20</td>\n",
       "      <td>7</td>\n",
       "      <td>79</td>\n",
       "      <td>130</td>\n",
       "      <td>...</td>\n",
       "      <td>176682</td>\n",
       "      <td>Shield + Violent</td>\n",
       "      <td>No</td>\n",
       "      <td>2020-04-19</td>\n",
       "      <td>ATK+</td>\n",
       "      <td>ATK%</td>\n",
       "      <td>DEF+</td>\n",
       "      <td>CDmg%</td>\n",
       "      <td>HP+</td>\n",
       "      <td>HP%</td>\n",
       "    </tr>\n",
       "    <tr>\n",
       "      <th>283</th>\n",
       "      <td>40</td>\n",
       "      <td>6</td>\n",
       "      <td>42071</td>\n",
       "      <td>978</td>\n",
       "      <td>1673</td>\n",
       "      <td>210</td>\n",
       "      <td>56</td>\n",
       "      <td>0</td>\n",
       "      <td>70</td>\n",
       "      <td>56</td>\n",
       "      <td>...</td>\n",
       "      <td>294307</td>\n",
       "      <td>Endure + Energy + Guard</td>\n",
       "      <td>No</td>\n",
       "      <td>2020-02-11</td>\n",
       "      <td>ATK+</td>\n",
       "      <td>HP%</td>\n",
       "      <td>DEF+</td>\n",
       "      <td>HP%</td>\n",
       "      <td>HP+</td>\n",
       "      <td>HP%</td>\n",
       "    </tr>\n",
       "    <tr>\n",
       "      <th>308</th>\n",
       "      <td>40</td>\n",
       "      <td>6</td>\n",
       "      <td>32544</td>\n",
       "      <td>1434</td>\n",
       "      <td>1340</td>\n",
       "      <td>211</td>\n",
       "      <td>19</td>\n",
       "      <td>10</td>\n",
       "      <td>76</td>\n",
       "      <td>130</td>\n",
       "      <td>...</td>\n",
       "      <td>189731</td>\n",
       "      <td>Shield + Violent</td>\n",
       "      <td>Yes</td>\n",
       "      <td>2017-09-10</td>\n",
       "      <td>ATK+</td>\n",
       "      <td>HP%</td>\n",
       "      <td>DEF+</td>\n",
       "      <td>CDmg%</td>\n",
       "      <td>HP+</td>\n",
       "      <td>ATK%</td>\n",
       "    </tr>\n",
       "    <tr>\n",
       "      <th>399</th>\n",
       "      <td>40</td>\n",
       "      <td>6</td>\n",
       "      <td>42137</td>\n",
       "      <td>825</td>\n",
       "      <td>1434</td>\n",
       "      <td>221</td>\n",
       "      <td>15</td>\n",
       "      <td>4</td>\n",
       "      <td>78</td>\n",
       "      <td>107</td>\n",
       "      <td>...</td>\n",
       "      <td>259522</td>\n",
       "      <td>Blade + Swift</td>\n",
       "      <td>No</td>\n",
       "      <td>2018-01-21</td>\n",
       "      <td>ATK+</td>\n",
       "      <td>HP%</td>\n",
       "      <td>DEF+</td>\n",
       "      <td>HP%</td>\n",
       "      <td>HP+</td>\n",
       "      <td>HP%</td>\n",
       "    </tr>\n",
       "    <tr>\n",
       "      <th>...</th>\n",
       "      <td>...</td>\n",
       "      <td>...</td>\n",
       "      <td>...</td>\n",
       "      <td>...</td>\n",
       "      <td>...</td>\n",
       "      <td>...</td>\n",
       "      <td>...</td>\n",
       "      <td>...</td>\n",
       "      <td>...</td>\n",
       "      <td>...</td>\n",
       "      <td>...</td>\n",
       "      <td>...</td>\n",
       "      <td>...</td>\n",
       "      <td>...</td>\n",
       "      <td>...</td>\n",
       "      <td>...</td>\n",
       "      <td>...</td>\n",
       "      <td>...</td>\n",
       "      <td>...</td>\n",
       "      <td>...</td>\n",
       "      <td>...</td>\n",
       "    </tr>\n",
       "    <tr>\n",
       "      <th>198</th>\n",
       "      <td>40</td>\n",
       "      <td>6</td>\n",
       "      <td>13186</td>\n",
       "      <td>754</td>\n",
       "      <td>880</td>\n",
       "      <td>148</td>\n",
       "      <td>47</td>\n",
       "      <td>12</td>\n",
       "      <td>35</td>\n",
       "      <td>61</td>\n",
       "      <td>...</td>\n",
       "      <td>55645</td>\n",
       "      <td>Blade + Swift</td>\n",
       "      <td>No</td>\n",
       "      <td>2017-07-11</td>\n",
       "      <td>ATK+</td>\n",
       "      <td>SPD</td>\n",
       "      <td>DEF+</td>\n",
       "      <td>HP+</td>\n",
       "      <td>HP+</td>\n",
       "      <td>DEF%</td>\n",
       "    </tr>\n",
       "    <tr>\n",
       "      <th>560</th>\n",
       "      <td>40</td>\n",
       "      <td>6</td>\n",
       "      <td>26895</td>\n",
       "      <td>875</td>\n",
       "      <td>784</td>\n",
       "      <td>119</td>\n",
       "      <td>19</td>\n",
       "      <td>12</td>\n",
       "      <td>23</td>\n",
       "      <td>59</td>\n",
       "      <td>...</td>\n",
       "      <td>104460</td>\n",
       "      <td>Energy + Energy + Energy</td>\n",
       "      <td>No</td>\n",
       "      <td>2020-03-13</td>\n",
       "      <td>ATK+</td>\n",
       "      <td>HP%</td>\n",
       "      <td>DEF+</td>\n",
       "      <td>HP+</td>\n",
       "      <td>HP+</td>\n",
       "      <td>HP%</td>\n",
       "    </tr>\n",
       "    <tr>\n",
       "      <th>76</th>\n",
       "      <td>35</td>\n",
       "      <td>5</td>\n",
       "      <td>12114</td>\n",
       "      <td>510</td>\n",
       "      <td>627</td>\n",
       "      <td>147</td>\n",
       "      <td>19</td>\n",
       "      <td>0</td>\n",
       "      <td>19</td>\n",
       "      <td>70</td>\n",
       "      <td>...</td>\n",
       "      <td>40394</td>\n",
       "      <td>Swift</td>\n",
       "      <td>No</td>\n",
       "      <td>2019-08-13</td>\n",
       "      <td>ATK+</td>\n",
       "      <td>SPD</td>\n",
       "      <td>DEF+</td>\n",
       "      <td>HP%</td>\n",
       "      <td>HP+</td>\n",
       "      <td>DEF%</td>\n",
       "    </tr>\n",
       "    <tr>\n",
       "      <th>554</th>\n",
       "      <td>40</td>\n",
       "      <td>6</td>\n",
       "      <td>21392</td>\n",
       "      <td>1118</td>\n",
       "      <td>883</td>\n",
       "      <td>142</td>\n",
       "      <td>29</td>\n",
       "      <td>7</td>\n",
       "      <td>35</td>\n",
       "      <td>66</td>\n",
       "      <td>...</td>\n",
       "      <td>90499</td>\n",
       "      <td>Blade + Swift</td>\n",
       "      <td>No</td>\n",
       "      <td>2018-10-10</td>\n",
       "      <td>ATK+</td>\n",
       "      <td>ATK%</td>\n",
       "      <td>DEF+</td>\n",
       "      <td>HP%</td>\n",
       "      <td>HP+</td>\n",
       "      <td>HP%</td>\n",
       "    </tr>\n",
       "    <tr>\n",
       "      <th>18</th>\n",
       "      <td>30</td>\n",
       "      <td>4</td>\n",
       "      <td>10138</td>\n",
       "      <td>449</td>\n",
       "      <td>514</td>\n",
       "      <td>106</td>\n",
       "      <td>30</td>\n",
       "      <td>44</td>\n",
       "      <td>27</td>\n",
       "      <td>50</td>\n",
       "      <td>...</td>\n",
       "      <td>29795</td>\n",
       "      <td>Energy + Energy</td>\n",
       "      <td>No</td>\n",
       "      <td>2018-10-08</td>\n",
       "      <td>ATK+</td>\n",
       "      <td>HP+</td>\n",
       "      <td>DEF+</td>\n",
       "      <td>HP+</td>\n",
       "      <td>HP+</td>\n",
       "      <td>ACC%</td>\n",
       "    </tr>\n",
       "  </tbody>\n",
       "</table>\n",
       "<p>519 rows × 21 columns</p>\n",
       "</div>"
      ],
      "text/plain": [
       "     Level  Stars     HP  Attack  Defense  Speed  Res  Acc  CRate  CDmg  ...  \\\n",
       "282     40      6  40517    1147     1398    203   28    0     73   142  ...   \n",
       "309     40      6  31205    1441     1292    204   20    7     79   130  ...   \n",
       "283     40      6  42071     978     1673    210   56    0     70    56  ...   \n",
       "308     40      6  32544    1434     1340    211   19   10     76   130  ...   \n",
       "399     40      6  42137     825     1434    221   15    4     78   107  ...   \n",
       "..     ...    ...    ...     ...      ...    ...  ...  ...    ...   ...  ...   \n",
       "198     40      6  13186     754      880    148   47   12     35    61  ...   \n",
       "560     40      6  26895     875      784    119   19   12     23    59  ...   \n",
       "76      35      5  12114     510      627    147   19    0     19    70  ...   \n",
       "554     40      6  21392    1118      883    142   29    7     35    66  ...   \n",
       "18      30      4  10138     449      514    106   30   44     27    50  ...   \n",
       "\n",
       "     Eff.HP                      Sets Skillups    Acquired Slot1 Slot2 Slot3  \\\n",
       "282  244439   Blade + Energy + Shield      Yes  2017-10-15  ATK+   HP%  DEF+   \n",
       "309  176682          Shield + Violent       No  2020-04-19  ATK+  ATK%  DEF+   \n",
       "283  294307   Endure + Energy + Guard       No  2020-02-11  ATK+   HP%  DEF+   \n",
       "308  189731          Shield + Violent      Yes  2017-09-10  ATK+   HP%  DEF+   \n",
       "399  259522             Blade + Swift       No  2018-01-21  ATK+   HP%  DEF+   \n",
       "..      ...                       ...      ...         ...   ...   ...   ...   \n",
       "198   55645             Blade + Swift       No  2017-07-11  ATK+   SPD  DEF+   \n",
       "560  104460  Energy + Energy + Energy       No  2020-03-13  ATK+   HP%  DEF+   \n",
       "76    40394                     Swift       No  2019-08-13  ATK+   SPD  DEF+   \n",
       "554   90499             Blade + Swift       No  2018-10-10  ATK+  ATK%  DEF+   \n",
       "18    29795           Energy + Energy       No  2018-10-08  ATK+   HP+  DEF+   \n",
       "\n",
       "     Slot4 Slot5 Slot6  \n",
       "282  CDmg%   HP+   HP%  \n",
       "309  CDmg%   HP+   HP%  \n",
       "283    HP%   HP+   HP%  \n",
       "308  CDmg%   HP+  ATK%  \n",
       "399    HP%   HP+   HP%  \n",
       "..     ...   ...   ...  \n",
       "198    HP+   HP+  DEF%  \n",
       "560    HP+   HP+   HP%  \n",
       "76     HP%   HP+  DEF%  \n",
       "554    HP%   HP+   HP%  \n",
       "18     HP+   HP+  ACC%  \n",
       "\n",
       "[519 rows x 21 columns]"
      ]
     },
     "execution_count": 27,
     "metadata": {},
     "output_type": "execute_result"
    }
   ],
   "source": [
    "import pandas as pd\n",
    "import numpy as np\n",
    "import matplotlib.pyplot as plt\n",
    "import matplotlib\n",
    "import seaborn as sns\n",
    "import scipy as stats\n",
    "\n",
    "sns.set(color_codes=True)\n",
    "sns.set_style(\"dark\")\n",
    "sns.set_context(\"poster\")\n",
    "matplotlib.rcParams['text.color'] = 'white'\n",
    "\n",
    "monster = \"khmun\"\n",
    "filename = monster + \"_20200608.csv\"\n",
    "\n",
    "df = pd.read_csv(filename)\n",
    "df_full = pd.read_csv(filename)\n",
    "df_full = df_full[df_full[\"Stars\"] == 6]\n",
    "print(df.columns)\n",
    "runes_cols = [\"Slot\" + str(i) for i in range(1 ,7)]\n",
    "df.dropna(subset=runes_cols, how='any', inplace=True) # delete without runes\n",
    "df.sort_values([\"Eff\"], ascending=False, inplace=True)\n",
    "df"
   ]
  },
  {
   "cell_type": "markdown",
   "metadata": {},
   "source": [
    "# Stars Distribution, picking 6*"
   ]
  },
  {
   "cell_type": "code",
   "execution_count": 2,
   "metadata": {},
   "outputs": [
    {
     "name": "stdout",
     "output_type": "stream",
     "text": [
      "(463, 21)\n"
     ]
    },
    {
     "data": {
      "image/png": "[encoded data removed]",
      "text/plain": [
       "<Figure size 720x720 with 1 Axes>"
      ]
     },
     "metadata": {},
     "output_type": "display_data"
    }
   ],
   "source": [
    "fig = plt.figure(figsize=(10, 10))\n",
    "stars = df[\"Stars\"].value_counts()\n",
    "plt.pie(stars, labels=stars.index, autopct='%1.1f%%', colors=['g', 'r', 'b'])\n",
    "plt.savefig(monster + \"_pie_6stars.png\", transparent=True, bbox_inches = \"tight\")\n",
    "df_stars6 = df[df[\"Stars\"] == 6] # pick only 6*\n",
    "print(df_stars6.shape)"
   ]
  },
  {
   "cell_type": "markdown",
   "metadata": {},
   "source": [
    "# Skilled Up"
   ]
  },
  {
   "cell_type": "code",
   "execution_count": 3,
   "metadata": {},
   "outputs": [
    {
     "data": {
      "image/png": "[encoded data removed]",
      "text/plain": [
       "<Figure size 720x720 with 1 Axes>"
      ]
     },
     "metadata": {},
     "output_type": "display_data"
    }
   ],
   "source": [
    "fig = plt.figure(figsize=(10, 10))\n",
    "stars = df_stars6[\"Skillups\"].value_counts()\n",
    "plt.pie(stars, labels=stars.index, autopct='%1.1f%%', colors=['r', 'g'])\n",
    "plt.savefig(monster + \"_pie_skillups.png\", transparent=True, bbox_inches = \"tight\")\n",
    "plt.show()"
   ]
  },
  {
   "cell_type": "markdown",
   "metadata": {},
   "source": [
    "# Runes "
   ]
  },
  {
   "cell_type": "code",
   "execution_count": 29,
   "metadata": {},
   "outputs": [
    {
     "data": {
      "image/png": "[encoded data removed]",
      "text/plain": [
       "<Figure size 720x720 with 1 Axes>"
      ]
     },
     "metadata": {},
     "output_type": "display_data"
    }
   ],
   "source": [
    "fig = plt.figure(figsize=(10, 10))\n",
    "df_runes = {\n",
    "    'Without Runes': df_full.shape[0] - df_stars6.shape[0],\n",
    "    'With Runes': df_stars6.shape[0],\n",
    "}\n",
    "plt.pie(df_runes.values(), labels=df_runes.keys(), autopct='%1.1f%%', colors=['r', 'g'])\n",
    "plt.savefig(monster + \"_pie_runes.png\", transparent=True, bbox_inches = \"tight\")\n",
    "plt.show()"
   ]
  },
  {
   "cell_type": "markdown",
   "metadata": {},
   "source": [
    "# Crit Rate"
   ]
  },
  {
   "cell_type": "code",
   "execution_count": 6,
   "metadata": {},
   "outputs": [
    {
     "data": {
      "image/png": "[encoded data removed]",
      "text/plain": [
       "<Figure size 720x720 with 1 Axes>"
      ]
     },
     "metadata": {},
     "output_type": "display_data"
    }
   ],
   "source": [
    "fig = plt.figure(figsize=(10, 10))\n",
    "df_crit_rate_yes = df_stars6[df_stars6[\"CRate\"] >= 100]\n",
    "df_crit_rate = {\n",
    "    '100%': df_crit_rate_yes.shape[0],\n",
    "    'Under 100%': df_stars6.shape[0] - df_crit_rate_yes.shape[0],\n",
    "}\n",
    "plt.pie(df_crit_rate.values(), labels=df_crit_rate.keys(), autopct='%1.1f%%', colors=['g', 'r'])\n",
    "plt.savefig(monster + \"_pie_crit_rate.png\", transparent=True, bbox_inches = \"tight\")\n",
    "plt.show()"
   ]
  },
  {
   "cell_type": "markdown",
   "metadata": {},
   "source": [
    "# Eff. HP Distribution"
   ]
  },
  {
   "cell_type": "code",
   "execution_count": 7,
   "metadata": {},
   "outputs": [
    {
     "data": {
      "image/png": "[encoded data removed]",
      "text/plain": [
       "<Figure size 720x360 with 1 Axes>"
      ]
     },
     "metadata": {},
     "output_type": "display_data"
    }
   ],
   "source": [
    "fig = plt.figure(figsize=(10, 5))\n",
    "sns.distplot(df_stars6[\"Eff.HP\"], bins=20, kde=False, rug=True).set_xlabel(None)\n",
    "plt.tick_params(labelcolor='white')\n",
    "plt.savefig(monster + \"_dist_effhp.png\", transparent=True, bbox_inches = \"tight\")"
   ]
  },
  {
   "cell_type": "markdown",
   "metadata": {},
   "source": [
    "# Total Attack Distribution"
   ]
  },
  {
   "cell_type": "code",
   "execution_count": 8,
   "metadata": {},
   "outputs": [
    {
     "data": {
      "image/png": "[encoded data removed]",
      "text/plain": [
       "<Figure size 720x360 with 1 Axes>"
      ]
     },
     "metadata": {},
     "output_type": "display_data"
    }
   ],
   "source": [
    "fig = plt.figure(figsize=(10, 5))\n",
    "sns.distplot(df_stars6[\"Attack\"], bins=20, kde=False, rug=True).set_xlabel(None)\n",
    "plt.tick_params(labelcolor='white')\n",
    "plt.savefig(monster + \"_dist_attack.png\", transparent=True, bbox_inches = \"tight\")"
   ]
  },
  {
   "cell_type": "markdown",
   "metadata": {},
   "source": [
    "# Avg. Rune Distribution"
   ]
  },
  {
   "cell_type": "code",
   "execution_count": 9,
   "metadata": {},
   "outputs": [
    {
     "data": {
      "image/png": "[encoded data removed]",
      "text/plain": [
       "<Figure size 720x360 with 1 Axes>"
      ]
     },
     "metadata": {},
     "output_type": "display_data"
    }
   ],
   "source": [
    "fig = plt.figure(figsize=(10, 5))\n",
    "sns.distplot(df_stars6[\"Eff\"], bins=20, kde=False, rug=True).set_xlabel(None)\n",
    "plt.tick_params(labelcolor='white')\n",
    "plt.savefig(monster + \"_dist_rune_eff.png\", transparent=True, bbox_inches = \"tight\")"
   ]
  },
  {
   "cell_type": "markdown",
   "metadata": {},
   "source": [
    "# Sets"
   ]
  },
  {
   "cell_type": "code",
   "execution_count": 10,
   "metadata": {},
   "outputs": [
    {
     "name": "stdout",
     "output_type": "stream",
     "text": [
      "Energy + Swift                 61\n",
      "Swift                          33\n",
      "Shield + Swift                 24\n",
      "Destroy + Swift                23\n",
      "Destroy + Violent              16\n",
      "Shield + Violent               16\n",
      "Blade + Swift                  14\n",
      "Nemesis + Swift                14\n",
      "Despair + Destroy              11\n",
      "Despair + Revenge              10\n",
      "Violent + Will                 10\n",
      "Destroy + Energy + Shield       9\n",
      "Despair + Energy                8\n",
      "Swift + Will                    8\n",
      "Guard + Swift                   8\n",
      "Revenge + Swift                 7\n",
      "Endure + Swift                  6\n",
      "Blade + Rage                    6\n",
      "Blade + Violent                 5\n",
      "Focus + Swift                   5\n",
      "Despair + Shield                5\n",
      "Energy + Violent                5\n",
      "Blade + Destroy + Shield        4\n",
      "Energy + Energy                 4\n",
      "Energy                          4\n",
      "Blade + Despair                 4\n",
      "Energy + Energy + Energy        4\n",
      "Violent                         4\n",
      "Revenge + Violent               4\n",
      "Energy + Energy + Shield        3\n",
      "Destroy + Vampire               3\n",
      "Broken                          3\n",
      "Destroy                         3\n",
      "Despair + Guard                 3\n",
      "Despair + Nemesis               3\n",
      "Blade + Shield + Will           3\n",
      "Blade + Energy                  3\n",
      "Destroy + Energy + Energy       3\n",
      "Destroy + Shield + Will         3\n",
      "Revenge                         2\n",
      "Destroy + Energy + Nemesis      2\n",
      "Guard + Violent                 2\n",
      "Destroy + Nemesis + Revenge     2\n",
      "Energy + Nemesis + Shield       2\n",
      "Endure + Guard + Shield         2\n",
      "Guard + Revenge + Shield        2\n",
      "Energy + Energy + Revenge       2\n",
      "Energy + Guard + Shield         2\n",
      "Destroy + Nemesis + Will        2\n",
      "Nemesis + Violent               2\n",
      "Destroy + Rage                  2\n",
      "Destroy + Revenge + Shield      2\n",
      "Blade + Energy + Shield         2\n",
      "Energy + Rage                   2\n",
      "Despair                         2\n",
      "Blade + Destroy + Energy        2\n",
      "Endure + Energy + Shield        2\n",
      "Despair + Enhance               2\n",
      "Endure + Shield + Will          2\n",
      "Name: Sets, dtype: int64\n"
     ]
    },
    {
     "data": {
      "image/png": "[encoded data removed]",
      "text/plain": [
       "<Figure size 1440x360 with 1 Axes>"
      ]
     },
     "metadata": {},
     "output_type": "display_data"
    }
   ],
   "source": [
    "fig = plt.figure(figsize=(20, 5))\n",
    "counts = df_stars6[\"Sets\"].value_counts()\n",
    "counts = counts[counts > 1]\n",
    "print(counts)\n",
    "x, y = counts.index, counts.values\n",
    "sets = sns.barplot(x=x, y=y)\n",
    "_ = sets.set_xticklabels(sets.get_xticklabels(), rotation=45, horizontalalignment='right')\n",
    "plt.tick_params(labelcolor='white')\n",
    "plt.savefig(monster + \"_dist_sets.png\", transparent=True, bbox_inches = \"tight\")"
   ]
  },
  {
   "cell_type": "markdown",
   "metadata": {},
   "source": [
    "# 4-Rune Sets"
   ]
  },
  {
   "cell_type": "code",
   "execution_count": 11,
   "metadata": {},
   "outputs": [
    {
     "data": {
      "image/png": "[encoded data removed]",
      "text/plain": [
       "<Figure size 1440x360 with 1 Axes>"
      ]
     },
     "metadata": {},
     "output_type": "display_data"
    }
   ],
   "source": [
    "sets_4 = ['Violent', 'Swift', 'Rage', 'Fatal', 'Despair', 'Vampire']\n",
    "fig = plt.figure(figsize=(20, 5))\n",
    "counts = df_stars6[\"Sets\"].value_counts()\n",
    "set_sum = dict()\n",
    "for set_4 in sets_4:\n",
    "    indexes = [val for val in counts.index if set_4 in val]\n",
    "    set_count = counts.loc[indexes]\n",
    "    set_sum[set_4] = set_count.sum()\n",
    "set_sum = {k: v for k, v in sorted(set_sum.items(), key=lambda item: item[1], reverse=True)}\n",
    "x, y = list(set_sum.keys()), list(set_sum.values())\n",
    "sets = sns.barplot(x=x, y=y)\n",
    "_ = sets.set_xticklabels(sets.get_xticklabels(), rotation=45, horizontalalignment='right')\n",
    "plt.tick_params(labelcolor='white')\n",
    "plt.savefig(monster + \"_dist_4sets.png\", transparent=True, bbox_inches = \"tight\")"
   ]
  },
  {
   "cell_type": "markdown",
   "metadata": {},
   "source": [
    "# Eff. HP Distribution for most common set"
   ]
  },
  {
   "cell_type": "code",
   "execution_count": 12,
   "metadata": {},
   "outputs": [
    {
     "name": "stdout",
     "output_type": "stream",
     "text": [
      "Energy + Swift\n"
     ]
    },
    {
     "data": {
      "image/png": "[encoded data removed]",
      "text/plain": [
       "<Figure size 720x360 with 1 Axes>"
      ]
     },
     "metadata": {},
     "output_type": "display_data"
    }
   ],
   "source": [
    "most_common_set = counts.index[0]\n",
    "print(most_common_set)\n",
    "\n",
    "fig = plt.figure(figsize=(10, 5))\n",
    "sns.distplot(df_stars6[\"Eff.HP\"][df_stars6[\"Sets\"] == most_common_set], bins=20, kde=False, rug=True).set_xlabel(None)\n",
    "plt.tick_params(labelcolor='white')\n",
    "plt.savefig(monster + \"_dist_common_set_effhp.png\", transparent=True, bbox_inches = \"tight\")"
   ]
  },
  {
   "cell_type": "markdown",
   "metadata": {},
   "source": [
    "# Speed Distribution"
   ]
  },
  {
   "cell_type": "code",
   "execution_count": 13,
   "metadata": {},
   "outputs": [
    {
     "data": {
      "image/png": "[encoded data removed]",
      "text/plain": [
       "<Figure size 720x360 with 1 Axes>"
      ]
     },
     "metadata": {},
     "output_type": "display_data"
    }
   ],
   "source": [
    "fig = plt.figure(figsize=(10, 5))\n",
    "sns.distplot(df_stars6[\"Speed\"], bins=20, kde=False, rug=True).set_xlabel(None)\n",
    "plt.tick_params(labelcolor='white')\n",
    "plt.savefig(monster + \"_dist_speed.png\", transparent=True,  bbox_inches = \"tight\")"
   ]
  },
  {
   "cell_type": "markdown",
   "metadata": {},
   "source": [
    "# Speed Distribution for TOP 10% Eff. HP"
   ]
  },
  {
   "cell_type": "code",
   "execution_count": 14,
   "metadata": {},
   "outputs": [
    {
     "data": {
      "image/png": "[encoded data removed]",
      "text/plain": [
       "<Figure size 720x360 with 1 Axes>"
      ]
     },
     "metadata": {},
     "output_type": "display_data"
    }
   ],
   "source": [
    "fig = plt.figure(figsize=(10, 5))\n",
    "sns.distplot(df_stars6[\"Speed\"].head(int(df_stars6.shape[0] * .1)), bins=20, kde=False, rug=True).set_xlabel(None)\n",
    "plt.tick_params(labelcolor='white')\n",
    "plt.savefig(monster + \"_dist_speed_top10_percent.png\", transparent=True,  bbox_inches = \"tight\")"
   ]
  },
  {
   "cell_type": "markdown",
   "metadata": {},
   "source": [
    "# Speed - Eff. HP Relation for TOP 10% Eff. HP"
   ]
  },
  {
   "cell_type": "code",
   "execution_count": 15,
   "metadata": {},
   "outputs": [
    {
     "data": {
      "text/plain": [
       "<Figure size 720x360 with 0 Axes>"
      ]
     },
     "metadata": {},
     "output_type": "display_data"
    },
    {
     "data": {
      "image/png": "[encoded data removed]",
      "text/plain": [
       "<Figure size 360x360 with 1 Axes>"
      ]
     },
     "metadata": {},
     "output_type": "display_data"
    }
   ],
   "source": [
    "fig = plt.figure(figsize=(10, 5))\n",
    "sns.lmplot(x=\"Speed\", y=\"Eff.HP\", data=df_stars6.head(int(df_stars6.shape[0] * .1)))\n",
    "plt.tick_params(labelcolor='white')\n",
    "plt.savefig(monster + \"_rel_spd_dmg_top10_percent.png\", transparent=True,  bbox_inches = \"tight\")"
   ]
  },
  {
   "cell_type": "markdown",
   "metadata": {},
   "source": [
    "# Attack - Eff. HP Relation for TOP 10% Eff. HP"
   ]
  },
  {
   "cell_type": "code",
   "execution_count": 16,
   "metadata": {},
   "outputs": [
    {
     "data": {
      "text/plain": [
       "<Figure size 720x360 with 0 Axes>"
      ]
     },
     "metadata": {},
     "output_type": "display_data"
    },
    {
     "data": {
      "image/png": "[encoded data removed]",
      "text/plain": [
       "<Figure size 360x360 with 1 Axes>"
      ]
     },
     "metadata": {},
     "output_type": "display_data"
    }
   ],
   "source": [
    "fig = plt.figure(figsize=(10, 5))\n",
    "sns.lmplot(x=\"Attack\", y=\"Eff.HP\", data=df_stars6.sort_values(['Attack'], ascending=False).head(int(df_stars6.shape[0] * .1)))\n",
    "plt.tick_params(labelcolor='white')\n",
    "plt.savefig(monster + \"_rel_atk_dmg_top10_percent.png\", transparent=True,  bbox_inches = \"tight\")"
   ]
  },
  {
   "cell_type": "markdown",
   "metadata": {},
   "source": [
    "# Best by Category"
   ]
  },
  {
   "cell_type": "code",
   "execution_count": 17,
   "metadata": {},
   "outputs": [
    {
     "data": {
      "text/html": [
       "<div>\n",
       "<style scoped>\n",
       "    .dataframe tbody tr th:only-of-type {\n",
       "        vertical-align: middle;\n",
       "    }\n",
       "\n",
       "    .dataframe tbody tr th {\n",
       "        vertical-align: top;\n",
       "    }\n",
       "\n",
       "    .dataframe thead th {\n",
       "        text-align: right;\n",
       "    }\n",
       "</style>\n",
       "<table border=\"1\" class=\"dataframe\">\n",
       "  <thead>\n",
       "    <tr style=\"text-align: right;\">\n",
       "      <th></th>\n",
       "      <th>HP</th>\n",
       "      <th>Attack</th>\n",
       "      <th>Defense</th>\n",
       "      <th>Speed</th>\n",
       "      <th>Res</th>\n",
       "      <th>Acc</th>\n",
       "      <th>CRate</th>\n",
       "      <th>CDmg</th>\n",
       "      <th>Eff</th>\n",
       "      <th>Eff.HP</th>\n",
       "    </tr>\n",
       "    <tr>\n",
       "      <th>ID</th>\n",
       "      <th></th>\n",
       "      <th></th>\n",
       "      <th></th>\n",
       "      <th></th>\n",
       "      <th></th>\n",
       "      <th></th>\n",
       "      <th></th>\n",
       "      <th></th>\n",
       "      <th></th>\n",
       "      <th></th>\n",
       "    </tr>\n",
       "  </thead>\n",
       "  <tbody>\n",
       "    <tr>\n",
       "      <th>1</th>\n",
       "      <td>46567</td>\n",
       "      <td>1648</td>\n",
       "      <td>1704</td>\n",
       "      <td>272</td>\n",
       "      <td>89</td>\n",
       "      <td>77</td>\n",
       "      <td>95</td>\n",
       "      <td>200</td>\n",
       "      <td>111</td>\n",
       "      <td>294307</td>\n",
       "    </tr>\n",
       "  </tbody>\n",
       "</table>\n",
       "</div>"
      ],
      "text/plain": [
       "       HP Attack Defense Speed Res Acc CRate CDmg  Eff  Eff.HP\n",
       "ID                                                            \n",
       "1   46567   1648    1704   272  89  77    95  200  111  294307"
      ]
     },
     "execution_count": 17,
     "metadata": {},
     "output_type": "execute_result"
    }
   ],
   "source": [
    "cols = ['HP', 'Attack', 'Defense', 'Speed', 'Res', 'Acc', 'CRate', 'CDmg', 'Eff', 'Eff.HP']\n",
    "df_best = pd.DataFrame(columns=[\"ID\"] + cols)\n",
    "df_best.set_index(\"ID\", drop=True, inplace=True)\n",
    "\n",
    "best = list()\n",
    "for column in cols:\n",
    "    best.append(int(round(df.sort_values([column], ascending=False)[column].head(1).values[0])))\n",
    "    \n",
    "df_best.loc[1] = best\n",
    "df_best"
   ]
  },
  {
   "cell_type": "markdown",
   "metadata": {},
   "source": [
    "# Best 10 Builds by Avg Eff"
   ]
  },
  {
   "cell_type": "code",
   "execution_count": 18,
   "metadata": {},
   "outputs": [
    {
     "name": "stdout",
     "output_type": "stream",
     "text": [
      "<table border=\"1\" class=\"dataframe\">\n",
      "  <thead>\n",
      "    <tr style=\"text-align: right;\">\n",
      "      <th></th>\n",
      "      <th>HP</th>\n",
      "      <th>Attack</th>\n",
      "      <th>Defense</th>\n",
      "      <th>Speed</th>\n",
      "      <th>Res</th>\n",
      "      <th>Acc</th>\n",
      "      <th>CRate</th>\n",
      "      <th>CDmg</th>\n",
      "      <th>Eff</th>\n",
      "      <th>Eff.HP</th>\n",
      "      <th>Sets</th>\n",
      "      <th>Slot2</th>\n",
      "      <th>Slot4</th>\n",
      "      <th>Slot6</th>\n",
      "    </tr>\n",
      "  </thead>\n",
      "  <tbody>\n",
      "    <tr>\n",
      "      <th>0</th>\n",
      "      <td>40517</td>\n",
      "      <td>1147</td>\n",
      "      <td>1398</td>\n",
      "      <td>203</td>\n",
      "      <td>28</td>\n",
      "      <td>0</td>\n",
      "      <td>73</td>\n",
      "      <td>142</td>\n",
      "      <td>110.96</td>\n",
      "      <td>244439</td>\n",
      "      <td>Blade + Energy + Shield</td>\n",
      "      <td>HP%</td>\n",
      "      <td>CDmg%</td>\n",
      "      <td>HP%</td>\n",
      "    </tr>\n",
      "    <tr>\n",
      "      <th>1</th>\n",
      "      <td>31205</td>\n",
      "      <td>1441</td>\n",
      "      <td>1292</td>\n",
      "      <td>204</td>\n",
      "      <td>20</td>\n",
      "      <td>7</td>\n",
      "      <td>79</td>\n",
      "      <td>130</td>\n",
      "      <td>110.66</td>\n",
      "      <td>176682</td>\n",
      "      <td>Shield + Violent</td>\n",
      "      <td>ATK%</td>\n",
      "      <td>CDmg%</td>\n",
      "      <td>HP%</td>\n",
      "    </tr>\n",
      "    <tr>\n",
      "      <th>2</th>\n",
      "      <td>42071</td>\n",
      "      <td>978</td>\n",
      "      <td>1673</td>\n",
      "      <td>210</td>\n",
      "      <td>56</td>\n",
      "      <td>0</td>\n",
      "      <td>70</td>\n",
      "      <td>56</td>\n",
      "      <td>108.48</td>\n",
      "      <td>294307</td>\n",
      "      <td>Endure + Energy + Guard</td>\n",
      "      <td>HP%</td>\n",
      "      <td>HP%</td>\n",
      "      <td>HP%</td>\n",
      "    </tr>\n",
      "    <tr>\n",
      "      <th>3</th>\n",
      "      <td>32544</td>\n",
      "      <td>1434</td>\n",
      "      <td>1340</td>\n",
      "      <td>211</td>\n",
      "      <td>19</td>\n",
      "      <td>10</td>\n",
      "      <td>76</td>\n",
      "      <td>130</td>\n",
      "      <td>108.04</td>\n",
      "      <td>189731</td>\n",
      "      <td>Shield + Violent</td>\n",
      "      <td>HP%</td>\n",
      "      <td>CDmg%</td>\n",
      "      <td>ATK%</td>\n",
      "    </tr>\n",
      "    <tr>\n",
      "      <th>4</th>\n",
      "      <td>42137</td>\n",
      "      <td>825</td>\n",
      "      <td>1434</td>\n",
      "      <td>221</td>\n",
      "      <td>15</td>\n",
      "      <td>4</td>\n",
      "      <td>78</td>\n",
      "      <td>107</td>\n",
      "      <td>106.02</td>\n",
      "      <td>259522</td>\n",
      "      <td>Blade + Swift</td>\n",
      "      <td>HP%</td>\n",
      "      <td>HP%</td>\n",
      "      <td>HP%</td>\n",
      "    </tr>\n",
      "    <tr>\n",
      "      <th>5</th>\n",
      "      <td>35820</td>\n",
      "      <td>1058</td>\n",
      "      <td>949</td>\n",
      "      <td>219</td>\n",
      "      <td>27</td>\n",
      "      <td>0</td>\n",
      "      <td>72</td>\n",
      "      <td>151</td>\n",
      "      <td>105.70</td>\n",
      "      <td>159811</td>\n",
      "      <td>Revenge + Vampire</td>\n",
      "      <td>SPD</td>\n",
      "      <td>CDmg%</td>\n",
      "      <td>HP%</td>\n",
      "    </tr>\n",
      "    <tr>\n",
      "      <th>6</th>\n",
      "      <td>43254</td>\n",
      "      <td>733</td>\n",
      "      <td>1411</td>\n",
      "      <td>210</td>\n",
      "      <td>15</td>\n",
      "      <td>18</td>\n",
      "      <td>53</td>\n",
      "      <td>84</td>\n",
      "      <td>105.65</td>\n",
      "      <td>262919</td>\n",
      "      <td>Despair + Destroy</td>\n",
      "      <td>HP%</td>\n",
      "      <td>HP%</td>\n",
      "      <td>HP%</td>\n",
      "    </tr>\n",
      "    <tr>\n",
      "      <th>7</th>\n",
      "      <td>42841</td>\n",
      "      <td>911</td>\n",
      "      <td>1223</td>\n",
      "      <td>224</td>\n",
      "      <td>43</td>\n",
      "      <td>30</td>\n",
      "      <td>53</td>\n",
      "      <td>50</td>\n",
      "      <td>104.89</td>\n",
      "      <td>232220</td>\n",
      "      <td>Blade + Despair</td>\n",
      "      <td>SPD</td>\n",
      "      <td>HP%</td>\n",
      "      <td>HP%</td>\n",
      "    </tr>\n",
      "    <tr>\n",
      "      <th>8</th>\n",
      "      <td>38485</td>\n",
      "      <td>1087</td>\n",
      "      <td>1100</td>\n",
      "      <td>193</td>\n",
      "      <td>15</td>\n",
      "      <td>35</td>\n",
      "      <td>70</td>\n",
      "      <td>189</td>\n",
      "      <td>104.73</td>\n",
      "      <td>192040</td>\n",
      "      <td>Focus + Rage</td>\n",
      "      <td>SPD</td>\n",
      "      <td>CDmg%</td>\n",
      "      <td>HP%</td>\n",
      "    </tr>\n",
      "    <tr>\n",
      "      <th>9</th>\n",
      "      <td>31112</td>\n",
      "      <td>1255</td>\n",
      "      <td>1314</td>\n",
      "      <td>244</td>\n",
      "      <td>22</td>\n",
      "      <td>16</td>\n",
      "      <td>61</td>\n",
      "      <td>143</td>\n",
      "      <td>104.45</td>\n",
      "      <td>178551</td>\n",
      "      <td>Destroy + Swift</td>\n",
      "      <td>SPD</td>\n",
      "      <td>CDmg%</td>\n",
      "      <td>HP%</td>\n",
      "    </tr>\n",
      "  </tbody>\n",
      "</table>\n"
     ]
    }
   ],
   "source": [
    "print(df_stars6.drop(['Acquired', 'Slot1', 'Slot3', 'Slot5', 'Level', 'Stars', 'Skillups'], axis=1).reset_index(drop=True).sort_values(['Eff'], ascending=False).head(10).to_html())"
   ]
  },
  {
   "cell_type": "markdown",
   "metadata": {},
   "source": [
    "# Most common Builds"
   ]
  },
  {
   "cell_type": "code",
   "execution_count": 19,
   "metadata": {},
   "outputs": [
    {
     "name": "stdout",
     "output_type": "stream",
     "text": [
      "   Slot2   Slot4 Slot6  Count\n",
      "22   SPD     HP%   HP%    234\n",
      "10   HP%     HP%   HP%     96\n",
      "16   SPD   CDmg%   HP%     49\n",
      "6    HP%   CDmg%   HP%     44\n",
      "19   SPD    DEF%   HP%      8\n",
      "21   SPD     HP%  DEF%      5\n",
      "8    HP%    DEF%   HP%      3\n",
      "3   ATK%     HP%   HP%      2\n",
      "4    HP%    ATK%   HP%      2\n",
      "7    HP%  CRate%   HP%      2\n",
      "17   SPD  CRate%   HP%      2\n",
      "18   SPD    DEF%  DEF%      2\n",
      "20   SPD     HP%  ATK%      2\n"
     ]
    },
    {
     "data": {
      "image/png": "[encoded data removed]",
      "text/plain": [
       "<Figure size 720x360 with 1 Axes>"
      ]
     },
     "metadata": {},
     "output_type": "display_data"
    }
   ],
   "source": [
    "fig = plt.figure(figsize=(10, 5))\n",
    "\n",
    "builds_count = df_stars6.groupby([\"Slot2\", \"Slot4\", \"Slot6\"]).size().reset_index(name='Count')\n",
    "builds_count = builds_count[builds_count['Count'] > 1].sort_values([\"Count\"], ascending=False) # single builds to drop\n",
    "print(builds_count)\n",
    "builds_count_to_plot = builds_count.set_index([\"Slot2\", \"Slot4\", \"Slot6\"]).T\n",
    "\n",
    "builds_common = sns.barplot(data=builds_count_to_plot)\n",
    "_ = builds_common.set_xticklabels(builds_common.get_xticklabels(), rotation=45, horizontalalignment='right')\n",
    "plt.tick_params(labelcolor='white')\n",
    "plt.savefig(monster + \"_build_common.png\", transparent=True, bbox_inches = \"tight\")"
   ]
  },
  {
   "cell_type": "markdown",
   "metadata": {},
   "source": [
    "# Builds for most common set"
   ]
  },
  {
   "cell_type": "code",
   "execution_count": 20,
   "metadata": {},
   "outputs": [
    {
     "name": "stdout",
     "output_type": "stream",
     "text": [
      "  Slot2  Slot4 Slot6  Count\n",
      "9   SPD    HP%   HP%     36\n",
      "2   HP%    HP%   HP%     12\n",
      "1   HP%  CDmg%   HP%      4\n",
      "3   SPD  CDmg%   HP%      3\n"
     ]
    },
    {
     "data": {
      "image/png": "[encoded data removed]",
      "text/plain": [
       "<Figure size 720x360 with 1 Axes>"
      ]
     },
     "metadata": {},
     "output_type": "display_data"
    }
   ],
   "source": [
    "fig = plt.figure(figsize=(10, 5))\n",
    "builds_count = df_stars6[df_stars6[\"Sets\"] == most_common_set].groupby([\"Slot2\", \"Slot4\", \"Slot6\"]).size().reset_index(name='Count')\n",
    "builds_count = builds_count[builds_count['Count'] > 2].sort_values([\"Count\"], ascending=False) # single builds to drop\n",
    "print(builds_count)\n",
    "builds_count_to_plot = builds_count.set_index([\"Slot2\", \"Slot4\", \"Slot6\"]).T\n",
    "\n",
    "builds_common = sns.barplot(data=builds_count_to_plot)\n",
    "ax = builds_common.set_xticklabels(builds_common.get_xticklabels(), rotation=45, horizontalalignment='right')\n",
    "builds_common.tick_params(labelcolor='white')\n",
    "plt.savefig(monster + \"_build_common_set.png\", transparent=True, bbox_inches = \"tight\")"
   ]
  },
  {
   "cell_type": "markdown",
   "metadata": {},
   "source": [
    "# Most frequent slot 2"
   ]
  },
  {
   "cell_type": "code",
   "execution_count": 21,
   "metadata": {},
   "outputs": [
    {
     "data": {
      "image/png": "[encoded data removed]",
      "text/plain": [
       "<Figure size 720x360 with 1 Axes>"
      ]
     },
     "metadata": {},
     "output_type": "display_data"
    }
   ],
   "source": [
    "fig = plt.figure(figsize=(10, 5))\n",
    "\n",
    "counts_slot2 = df_stars6[\"Slot2\"].value_counts()\n",
    "counts_slot2 = counts_slot2[counts_slot2 > 2]\n",
    "x, y = counts_slot2.index, counts_slot2.values\n",
    "slot2 = sns.barplot(x=x, y=y)\n",
    "_ = slot2.set_xticklabels(slot2.get_xticklabels(), rotation=45, horizontalalignment='right')\n",
    "plt.tick_params(labelcolor='white')\n",
    "plt.savefig(monster + \"_slot_2.png\", transparent=True, bbox_inches = \"tight\")"
   ]
  },
  {
   "cell_type": "markdown",
   "metadata": {},
   "source": [
    "# Most frequent slot 4"
   ]
  },
  {
   "cell_type": "code",
   "execution_count": 22,
   "metadata": {},
   "outputs": [
    {
     "data": {
      "image/png": "[encoded data removed]",
      "text/plain": [
       "<Figure size 720x360 with 1 Axes>"
      ]
     },
     "metadata": {},
     "output_type": "display_data"
    }
   ],
   "source": [
    "fig = plt.figure(figsize=(10, 5))\n",
    "\n",
    "counts_slot4 = df_stars6[\"Slot4\"].value_counts()\n",
    "counts_slot4 = counts_slot4[counts_slot4 > 2]\n",
    "x, y = counts_slot4.index, counts_slot4.values\n",
    "slot4 = sns.barplot(x=x, y=y)\n",
    "_ = slot4.set_xticklabels(slot4.get_xticklabels(), rotation=45, horizontalalignment='right')\n",
    "plt.tick_params(labelcolor='white')\n",
    "plt.savefig(monster + \"_slot_4.png\", transparent=True, bbox_inches = \"tight\")"
   ]
  },
  {
   "cell_type": "markdown",
   "metadata": {},
   "source": [
    "# Most frequent slot 6"
   ]
  },
  {
   "cell_type": "code",
   "execution_count": 23,
   "metadata": {},
   "outputs": [
    {
     "data": {
      "image/png": "[encoded data removed]",
      "text/plain": [
       "<Figure size 720x360 with 1 Axes>"
      ]
     },
     "metadata": {},
     "output_type": "display_data"
    }
   ],
   "source": [
    "fig = plt.figure(figsize=(10, 5))\n",
    "\n",
    "counts_slot6 = df_stars6[\"Slot6\"].value_counts()\n",
    "counts_slot6 = counts_slot6[counts_slot6 > 2]\n",
    "x, y = counts_slot6.index, counts_slot6.values\n",
    "slot6 = sns.barplot(x=x, y=y)\n",
    "_ = slot6.set_xticklabels(slot6.get_xticklabels(), rotation=45, horizontalalignment='right')\n",
    "plt.tick_params(labelcolor='white')\n",
    "plt.savefig(monster + \"_slot_6.png\", transparent=True, bbox_inches = \"tight\")"
   ]
  }
 ],
 "metadata": {
  "kernelspec": {
   "display_name": "Python 3",
   "language": "python",
   "name": "python3"
  },
  "language_info": {
   "codemirror_mode": {
    "name": "ipython",
    "version": 3
   },
   "file_extension": ".py",
   "mimetype": "text/x-python",
   "name": "python",
   "nbconvert_exporter": "python",
   "pygments_lexer": "ipython3",
   "version": "3.7.6"
  }
 },
 "nbformat": 4,
 "nbformat_minor": 4
}
