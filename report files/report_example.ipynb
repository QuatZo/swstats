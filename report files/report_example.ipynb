{
 "cells": [
  {
   "cell_type": "markdown",
   "metadata": {},
   "source": [
    "# Setting Up"
   ]
  },
  {
   "cell_type": "code",
   "execution_count": 1,
   "metadata": {
    "scrolled": false
   },
   "outputs": [
    {
     "name": "stdout",
     "output_type": "stream",
     "text": [
      "Index(['Level', 'Stars', 'HP', 'Attack', 'Defense', 'Speed', 'Res', 'Acc',\n",
      "       'CRate', 'CDmg', 'Eff', 'Eff.HP', 'Sets', 'Skillups', 'Acquired',\n",
      "       'Slot1', 'Slot2', 'Slot3', 'Slot4', 'Slot5', 'Slot6'],\n",
      "      dtype='object')\n"
     ]
    },
    {
     "data": {
      "text/html": [
       "<div>\n",
       "<style scoped>\n",
       "    .dataframe tbody tr th:only-of-type {\n",
       "        vertical-align: middle;\n",
       "    }\n",
       "\n",
       "    .dataframe tbody tr th {\n",
       "        vertical-align: top;\n",
       "    }\n",
       "\n",
       "    .dataframe thead th {\n",
       "        text-align: right;\n",
       "    }\n",
       "</style>\n",
       "<table border=\"1\" class=\"dataframe\">\n",
       "  <thead>\n",
       "    <tr style=\"text-align: right;\">\n",
       "      <th></th>\n",
       "      <th>Level</th>\n",
       "      <th>Stars</th>\n",
       "      <th>HP</th>\n",
       "      <th>Attack</th>\n",
       "      <th>Defense</th>\n",
       "      <th>Speed</th>\n",
       "      <th>Res</th>\n",
       "      <th>Acc</th>\n",
       "      <th>CRate</th>\n",
       "      <th>CDmg</th>\n",
       "      <th>...</th>\n",
       "      <th>Eff.HP</th>\n",
       "      <th>Sets</th>\n",
       "      <th>Skillups</th>\n",
       "      <th>Acquired</th>\n",
       "      <th>Slot1</th>\n",
       "      <th>Slot2</th>\n",
       "      <th>Slot3</th>\n",
       "      <th>Slot4</th>\n",
       "      <th>Slot5</th>\n",
       "      <th>Slot6</th>\n",
       "    </tr>\n",
       "  </thead>\n",
       "  <tbody>\n",
       "    <tr>\n",
       "      <th>486</th>\n",
       "      <td>40</td>\n",
       "      <td>6</td>\n",
       "      <td>34570</td>\n",
       "      <td>1108</td>\n",
       "      <td>1901</td>\n",
       "      <td>229</td>\n",
       "      <td>45</td>\n",
       "      <td>6</td>\n",
       "      <td>44</td>\n",
       "      <td>50</td>\n",
       "      <td>...</td>\n",
       "      <td>269421</td>\n",
       "      <td>Blade + Nemesis + Shield</td>\n",
       "      <td>[1, 1, 1]</td>\n",
       "      <td>2016-05-06</td>\n",
       "      <td>ATK+</td>\n",
       "      <td>SPD</td>\n",
       "      <td>DEF+</td>\n",
       "      <td>DEF%</td>\n",
       "      <td>HP+</td>\n",
       "      <td>HP%</td>\n",
       "    </tr>\n",
       "    <tr>\n",
       "      <th>422</th>\n",
       "      <td>40</td>\n",
       "      <td>6</td>\n",
       "      <td>33332</td>\n",
       "      <td>1006</td>\n",
       "      <td>1714</td>\n",
       "      <td>237</td>\n",
       "      <td>21</td>\n",
       "      <td>50</td>\n",
       "      <td>50</td>\n",
       "      <td>56</td>\n",
       "      <td>...</td>\n",
       "      <td>237957</td>\n",
       "      <td>Energy + Guard + Will</td>\n",
       "      <td>[1, 1, 1]</td>\n",
       "      <td>2015-09-13</td>\n",
       "      <td>ATK+</td>\n",
       "      <td>SPD</td>\n",
       "      <td>DEF+</td>\n",
       "      <td>HP%</td>\n",
       "      <td>HP+</td>\n",
       "      <td>DEF%</td>\n",
       "    </tr>\n",
       "    <tr>\n",
       "      <th>351</th>\n",
       "      <td>40</td>\n",
       "      <td>6</td>\n",
       "      <td>41991</td>\n",
       "      <td>731</td>\n",
       "      <td>1759</td>\n",
       "      <td>222</td>\n",
       "      <td>33</td>\n",
       "      <td>32</td>\n",
       "      <td>25</td>\n",
       "      <td>50</td>\n",
       "      <td>...</td>\n",
       "      <td>306387</td>\n",
       "      <td>Revenge + Violent</td>\n",
       "      <td>[5, 3, 3]</td>\n",
       "      <td>2015-11-08</td>\n",
       "      <td>ATK+</td>\n",
       "      <td>HP%</td>\n",
       "      <td>DEF+</td>\n",
       "      <td>HP%</td>\n",
       "      <td>HP+</td>\n",
       "      <td>HP%</td>\n",
       "    </tr>\n",
       "    <tr>\n",
       "      <th>487</th>\n",
       "      <td>40</td>\n",
       "      <td>6</td>\n",
       "      <td>32863</td>\n",
       "      <td>994</td>\n",
       "      <td>1644</td>\n",
       "      <td>273</td>\n",
       "      <td>32</td>\n",
       "      <td>27</td>\n",
       "      <td>21</td>\n",
       "      <td>65</td>\n",
       "      <td>...</td>\n",
       "      <td>226558</td>\n",
       "      <td>Guard + Violent</td>\n",
       "      <td>[1, 2, 3]</td>\n",
       "      <td>2015-03-22</td>\n",
       "      <td>ATK+</td>\n",
       "      <td>SPD</td>\n",
       "      <td>DEF+</td>\n",
       "      <td>HP%</td>\n",
       "      <td>HP+</td>\n",
       "      <td>HP%</td>\n",
       "    </tr>\n",
       "    <tr>\n",
       "      <th>240</th>\n",
       "      <td>40</td>\n",
       "      <td>6</td>\n",
       "      <td>35191</td>\n",
       "      <td>689</td>\n",
       "      <td>1862</td>\n",
       "      <td>209</td>\n",
       "      <td>57</td>\n",
       "      <td>59</td>\n",
       "      <td>24</td>\n",
       "      <td>50</td>\n",
       "      <td>...</td>\n",
       "      <td>269457</td>\n",
       "      <td>Nemesis + Nemesis + Revenge</td>\n",
       "      <td>[1, 1, 1]</td>\n",
       "      <td>2016-10-17</td>\n",
       "      <td>ATK+</td>\n",
       "      <td>HP%</td>\n",
       "      <td>DEF+</td>\n",
       "      <td>DEF%</td>\n",
       "      <td>HP+</td>\n",
       "      <td>HP%</td>\n",
       "    </tr>\n",
       "    <tr>\n",
       "      <th>...</th>\n",
       "      <td>...</td>\n",
       "      <td>...</td>\n",
       "      <td>...</td>\n",
       "      <td>...</td>\n",
       "      <td>...</td>\n",
       "      <td>...</td>\n",
       "      <td>...</td>\n",
       "      <td>...</td>\n",
       "      <td>...</td>\n",
       "      <td>...</td>\n",
       "      <td>...</td>\n",
       "      <td>...</td>\n",
       "      <td>...</td>\n",
       "      <td>...</td>\n",
       "      <td>...</td>\n",
       "      <td>...</td>\n",
       "      <td>...</td>\n",
       "      <td>...</td>\n",
       "      <td>...</td>\n",
       "      <td>...</td>\n",
       "      <td>...</td>\n",
       "    </tr>\n",
       "    <tr>\n",
       "      <th>14</th>\n",
       "      <td>35</td>\n",
       "      <td>5</td>\n",
       "      <td>14634</td>\n",
       "      <td>549</td>\n",
       "      <td>727</td>\n",
       "      <td>152</td>\n",
       "      <td>19</td>\n",
       "      <td>9</td>\n",
       "      <td>40</td>\n",
       "      <td>68</td>\n",
       "      <td>...</td>\n",
       "      <td>53919</td>\n",
       "      <td>Energy + Swift</td>\n",
       "      <td>[1, 1, 1]</td>\n",
       "      <td>2019-08-05</td>\n",
       "      <td>ATK+</td>\n",
       "      <td>DEF%</td>\n",
       "      <td>DEF+</td>\n",
       "      <td>CRate%</td>\n",
       "      <td>HP+</td>\n",
       "      <td>HP+</td>\n",
       "    </tr>\n",
       "    <tr>\n",
       "      <th>518</th>\n",
       "      <td>40</td>\n",
       "      <td>6</td>\n",
       "      <td>20982</td>\n",
       "      <td>854</td>\n",
       "      <td>1151</td>\n",
       "      <td>189</td>\n",
       "      <td>24</td>\n",
       "      <td>18</td>\n",
       "      <td>24</td>\n",
       "      <td>56</td>\n",
       "      <td>...</td>\n",
       "      <td>108445</td>\n",
       "      <td>Energy + Swift</td>\n",
       "      <td>[3, 2, 3]</td>\n",
       "      <td>2020-01-19</td>\n",
       "      <td>ATK+</td>\n",
       "      <td>SPD</td>\n",
       "      <td>DEF+</td>\n",
       "      <td>DEF+</td>\n",
       "      <td>HP+</td>\n",
       "      <td>HP%</td>\n",
       "    </tr>\n",
       "    <tr>\n",
       "      <th>17</th>\n",
       "      <td>35</td>\n",
       "      <td>5</td>\n",
       "      <td>15458</td>\n",
       "      <td>541</td>\n",
       "      <td>709</td>\n",
       "      <td>116</td>\n",
       "      <td>71</td>\n",
       "      <td>9</td>\n",
       "      <td>40</td>\n",
       "      <td>50</td>\n",
       "      <td>...</td>\n",
       "      <td>55981</td>\n",
       "      <td>Blade + Endure</td>\n",
       "      <td>[1, 1, 1]</td>\n",
       "      <td>2019-06-30</td>\n",
       "      <td>ATK+</td>\n",
       "      <td>HP%</td>\n",
       "      <td>DEF+</td>\n",
       "      <td>HP+</td>\n",
       "      <td>HP+</td>\n",
       "      <td>RES%</td>\n",
       "    </tr>\n",
       "    <tr>\n",
       "      <th>22</th>\n",
       "      <td>35</td>\n",
       "      <td>5</td>\n",
       "      <td>16396</td>\n",
       "      <td>504</td>\n",
       "      <td>674</td>\n",
       "      <td>129</td>\n",
       "      <td>32</td>\n",
       "      <td>9</td>\n",
       "      <td>29</td>\n",
       "      <td>55</td>\n",
       "      <td>...</td>\n",
       "      <td>57369</td>\n",
       "      <td>Energy + Violent</td>\n",
       "      <td>[1, 1, 1]</td>\n",
       "      <td>2015-03-09</td>\n",
       "      <td>ATK+</td>\n",
       "      <td>HP%</td>\n",
       "      <td>DEF+</td>\n",
       "      <td>HP%</td>\n",
       "      <td>HP+</td>\n",
       "      <td>HP%</td>\n",
       "    </tr>\n",
       "    <tr>\n",
       "      <th>570</th>\n",
       "      <td>40</td>\n",
       "      <td>6</td>\n",
       "      <td>12980</td>\n",
       "      <td>955</td>\n",
       "      <td>1167</td>\n",
       "      <td>137</td>\n",
       "      <td>36</td>\n",
       "      <td>9</td>\n",
       "      <td>23</td>\n",
       "      <td>59</td>\n",
       "      <td>...</td>\n",
       "      <td>67814</td>\n",
       "      <td>Guard + Swift</td>\n",
       "      <td>[1, 1, 1]</td>\n",
       "      <td>2018-03-05</td>\n",
       "      <td>ATK+</td>\n",
       "      <td>HP+</td>\n",
       "      <td>DEF+</td>\n",
       "      <td>ATK%</td>\n",
       "      <td>HP+</td>\n",
       "      <td>DEF%</td>\n",
       "    </tr>\n",
       "  </tbody>\n",
       "</table>\n",
       "<p>550 rows × 21 columns</p>\n",
       "</div>"
      ],
      "text/plain": [
       "     Level  Stars     HP  Attack  Defense  Speed  Res  Acc  CRate  CDmg  ...  \\\n",
       "486     40      6  34570    1108     1901    229   45    6     44    50  ...   \n",
       "422     40      6  33332    1006     1714    237   21   50     50    56  ...   \n",
       "351     40      6  41991     731     1759    222   33   32     25    50  ...   \n",
       "487     40      6  32863     994     1644    273   32   27     21    65  ...   \n",
       "240     40      6  35191     689     1862    209   57   59     24    50  ...   \n",
       "..     ...    ...    ...     ...      ...    ...  ...  ...    ...   ...  ...   \n",
       "14      35      5  14634     549      727    152   19    9     40    68  ...   \n",
       "518     40      6  20982     854     1151    189   24   18     24    56  ...   \n",
       "17      35      5  15458     541      709    116   71    9     40    50  ...   \n",
       "22      35      5  16396     504      674    129   32    9     29    55  ...   \n",
       "570     40      6  12980     955     1167    137   36    9     23    59  ...   \n",
       "\n",
       "     Eff.HP                         Sets   Skillups    Acquired Slot1 Slot2  \\\n",
       "486  269421     Blade + Nemesis + Shield  [1, 1, 1]  2016-05-06  ATK+   SPD   \n",
       "422  237957        Energy + Guard + Will  [1, 1, 1]  2015-09-13  ATK+   SPD   \n",
       "351  306387            Revenge + Violent  [5, 3, 3]  2015-11-08  ATK+   HP%   \n",
       "487  226558              Guard + Violent  [1, 2, 3]  2015-03-22  ATK+   SPD   \n",
       "240  269457  Nemesis + Nemesis + Revenge  [1, 1, 1]  2016-10-17  ATK+   HP%   \n",
       "..      ...                          ...        ...         ...   ...   ...   \n",
       "14    53919               Energy + Swift  [1, 1, 1]  2019-08-05  ATK+  DEF%   \n",
       "518  108445               Energy + Swift  [3, 2, 3]  2020-01-19  ATK+   SPD   \n",
       "17    55981               Blade + Endure  [1, 1, 1]  2019-06-30  ATK+   HP%   \n",
       "22    57369             Energy + Violent  [1, 1, 1]  2015-03-09  ATK+   HP%   \n",
       "570   67814                Guard + Swift  [1, 1, 1]  2018-03-05  ATK+   HP+   \n",
       "\n",
       "    Slot3   Slot4 Slot5 Slot6  \n",
       "486  DEF+    DEF%   HP+   HP%  \n",
       "422  DEF+     HP%   HP+  DEF%  \n",
       "351  DEF+     HP%   HP+   HP%  \n",
       "487  DEF+     HP%   HP+   HP%  \n",
       "240  DEF+    DEF%   HP+   HP%  \n",
       "..    ...     ...   ...   ...  \n",
       "14   DEF+  CRate%   HP+   HP+  \n",
       "518  DEF+    DEF+   HP+   HP%  \n",
       "17   DEF+     HP+   HP+  RES%  \n",
       "22   DEF+     HP%   HP+   HP%  \n",
       "570  DEF+    ATK%   HP+  DEF%  \n",
       "\n",
       "[550 rows x 21 columns]"
      ]
     },
     "execution_count": 1,
     "metadata": {},
     "output_type": "execute_result"
    }
   ],
   "source": [
    "import pandas as pd\n",
    "import numpy as np\n",
    "import matplotlib.pyplot as plt\n",
    "import matplotlib\n",
    "import seaborn as sns\n",
    "import scipy as stats\n",
    "\n",
    "sns.set(color_codes=True)\n",
    "sns.set_style(\"dark\")\n",
    "sns.set_context(\"poster\")\n",
    "matplotlib.rcParams['text.color'] = 'white'\n",
    "\n",
    "monster = \"belladeon\"\n",
    "filename = monster + \"_20200623.csv\"\n",
    "\n",
    "max_skills = [3, 3, 3]\n",
    "\n",
    "df = pd.read_csv(filename)\n",
    "df_full = pd.read_csv(filename)\n",
    "df_full = df_full[df_full[\"Stars\"] == 6]\n",
    "print(df.columns)\n",
    "runes_cols = [\"Slot\" + str(i) for i in range(1 ,7)]\n",
    "df.dropna(subset=runes_cols, how='any', inplace=True) # delete without runes\n",
    "df.sort_values([\"Eff\"], ascending=False, inplace=True)\n",
    "df"
   ]
  },
  {
   "cell_type": "markdown",
   "metadata": {},
   "source": [
    "# Stars Distribution, picking 6*"
   ]
  },
  {
   "cell_type": "code",
   "execution_count": 2,
   "metadata": {},
   "outputs": [
    {
     "name": "stdout",
     "output_type": "stream",
     "text": [
      "(499, 21)\n"
     ]
    },
    {
     "data": {
      "image/png": "[encoded data removed]",
      "text/plain": [
       "<Figure size 720x720 with 1 Axes>"
      ]
     },
     "metadata": {},
     "output_type": "display_data"
    }
   ],
   "source": [
    "fig = plt.figure(figsize=(10, 10))\n",
    "stars = df[\"Stars\"].value_counts()\n",
    "plt.pie(stars, labels=stars.index, autopct='%1.1f%%', colors=['g', 'r', 'b'])\n",
    "plt.savefig(monster + \"_pie_6stars.png\", transparent=True, bbox_inches = \"tight\")\n",
    "df_stars6 = df[df[\"Stars\"] == 6] # pick only 6*\n",
    "print(df_stars6.shape)"
   ]
  },
  {
   "cell_type": "markdown",
   "metadata": {},
   "source": [
    "# Runes "
   ]
  },
  {
   "cell_type": "code",
   "execution_count": 3,
   "metadata": {},
   "outputs": [
    {
     "data": {
      "image/png": "[encoded data removed]",
      "text/plain": [
       "<Figure size 720x720 with 1 Axes>"
      ]
     },
     "metadata": {},
     "output_type": "display_data"
    }
   ],
   "source": [
    "fig = plt.figure(figsize=(10, 10))\n",
    "df_runes = {\n",
    "    'Without\\nRunes': df_full.shape[0] - df_stars6.shape[0],\n",
    "    'With\\nRunes': df_stars6.shape[0],\n",
    "}\n",
    "plt.pie(df_runes.values(), labels=df_runes.keys(), autopct='%1.1f%%', colors=['r', 'g'])\n",
    "plt.savefig(monster + \"_pie_runes.png\", transparent=True, bbox_inches = \"tight\")\n",
    "plt.show()"
   ]
  },
  {
   "cell_type": "markdown",
   "metadata": {},
   "source": [
    "# Skilled Up"
   ]
  },
  {
   "cell_type": "code",
   "execution_count": 4,
   "metadata": {},
   "outputs": [
    {
     "name": "stdout",
     "output_type": "stream",
     "text": [
      "{'None': 429, 'All': 45, '2nd & 3rd': 8}\n"
     ]
    },
    {
     "data": {
      "image/png": "[encoded data removed]",
      "text/plain": [
       "<Figure size 720x720 with 1 Axes>"
      ]
     },
     "metadata": {},
     "output_type": "display_data"
    }
   ],
   "source": [
    "skills_count = {}\n",
    "\n",
    "for value, count in df_stars6['Skillups'].value_counts().items():\n",
    "    skillups = eval(value)\n",
    "    if skillups == max_skills:\n",
    "        skills_count['All'] = count\n",
    "    elif skillups[:2] == max_skills[:2] and count > 5:\n",
    "        skills_count['1st & 2nd'] = count\n",
    "    elif [skillups[0], skillups[2]] == [max_skills[0], max_skills[2]] and count > 5:\n",
    "        skills_count['1st & 3rd'] = count\n",
    "    elif skillups[1:] == max_skills[1:] and count > 5:\n",
    "        skills_count['2nd & 3rd'] = count\n",
    "    elif skillups[0] == max_skills[0] and count > 5:\n",
    "        skills_count['Only 1st'] = count\n",
    "    elif skillups[1] == max_skills[1] and count > 5:\n",
    "        skills_count['Only 2nd'] = count\n",
    "    elif skillups[2] == max_skills[2] and count > 5:\n",
    "        skills_count['Only 3rd'] = count\n",
    "    else:\n",
    "        if 'None' not in skills_count.keys():\n",
    "            skills_count['None'] = 0\n",
    "        skills_count['None'] += count\n",
    "\n",
    "print(skills_count)\n",
    "fig = plt.figure(figsize=(10, 10))\n",
    "plt.pie(list(skills_count.values()), labels=skills_count.keys(), autopct='%1.1f%%', colors=['r', 'g', 'b'])\n",
    "plt.savefig(monster + \"_pie_skillups.png\", transparent=True, bbox_inches = \"tight\")\n",
    "plt.show()"
   ]
  },
  {
   "cell_type": "markdown",
   "metadata": {},
   "source": [
    "# Eff. HP Distribution"
   ]
  },
  {
   "cell_type": "code",
   "execution_count": 5,
   "metadata": {},
   "outputs": [
    {
     "data": {
      "image/png": "[encoded data removed]",
      "text/plain": [
       "<Figure size 720x360 with 1 Axes>"
      ]
     },
     "metadata": {},
     "output_type": "display_data"
    }
   ],
   "source": [
    "fig = plt.figure(figsize=(10, 5))\n",
    "sns.distplot(df_stars6[\"Eff.HP\"], bins=20, kde=False, rug=True).set_xlabel(None)\n",
    "plt.tick_params(labelcolor='white')\n",
    "plt.savefig(monster + \"_dist_effhp.png\", transparent=True, bbox_inches = \"tight\")"
   ]
  },
  {
   "cell_type": "markdown",
   "metadata": {},
   "source": [
    "# HP Distribution"
   ]
  },
  {
   "cell_type": "code",
   "execution_count": 6,
   "metadata": {},
   "outputs": [
    {
     "data": {
      "image/png": "[encoded data removed]",
      "text/plain": [
       "<Figure size 720x360 with 1 Axes>"
      ]
     },
     "metadata": {},
     "output_type": "display_data"
    }
   ],
   "source": [
    "fig = plt.figure(figsize=(10, 5))\n",
    "sns.distplot(df_stars6[\"HP\"], bins=20, kde=False, rug=True).set_xlabel(None)\n",
    "plt.tick_params(labelcolor='white')\n",
    "plt.savefig(monster + \"_dist_hp.png\", transparent=True, bbox_inches = \"tight\")"
   ]
  },
  {
   "cell_type": "markdown",
   "metadata": {},
   "source": [
    "# Attack Distribution"
   ]
  },
  {
   "cell_type": "code",
   "execution_count": 7,
   "metadata": {},
   "outputs": [
    {
     "data": {
      "image/png": "[encoded data removed]",
      "text/plain": [
       "<Figure size 720x360 with 1 Axes>"
      ]
     },
     "metadata": {},
     "output_type": "display_data"
    }
   ],
   "source": [
    "fig = plt.figure(figsize=(10, 5))\n",
    "sns.distplot(df_stars6[\"Attack\"], bins=20, kde=False, rug=True).set_xlabel(None)\n",
    "plt.tick_params(labelcolor='white')\n",
    "plt.savefig(monster + \"_dist_attack.png\", transparent=True, bbox_inches = \"tight\")"
   ]
  },
  {
   "cell_type": "markdown",
   "metadata": {},
   "source": [
    "# Critical Rate Distribution"
   ]
  },
  {
   "cell_type": "code",
   "execution_count": 8,
   "metadata": {},
   "outputs": [
    {
     "data": {
      "image/png": "[encoded data removed]",
      "text/plain": [
       "<Figure size 720x360 with 1 Axes>"
      ]
     },
     "metadata": {},
     "output_type": "display_data"
    }
   ],
   "source": [
    "fig = plt.figure(figsize=(10, 5))\n",
    "sns.distplot(df_stars6[\"CRate\"], bins=20, kde=False, rug=True).set_xlabel(None)\n",
    "plt.tick_params(labelcolor='white')\n",
    "plt.savefig(monster + \"_dist_critrate.png\", transparent=True, bbox_inches = \"tight\")"
   ]
  },
  {
   "cell_type": "markdown",
   "metadata": {},
   "source": [
    "# Critical Damag Distribution"
   ]
  },
  {
   "cell_type": "code",
   "execution_count": 9,
   "metadata": {},
   "outputs": [
    {
     "data": {
      "image/png": "[encoded data removed]",
      "text/plain": [
       "<Figure size 720x360 with 1 Axes>"
      ]
     },
     "metadata": {},
     "output_type": "display_data"
    }
   ],
   "source": [
    "fig = plt.figure(figsize=(10, 5))\n",
    "sns.distplot(df_stars6[\"CDmg\"], bins=20, kde=False, rug=True).set_xlabel(None)\n",
    "plt.tick_params(labelcolor='white')\n",
    "plt.savefig(monster + \"_dist_critdmg.png\", transparent=True, bbox_inches = \"tight\")"
   ]
  },
  {
   "cell_type": "markdown",
   "metadata": {},
   "source": [
    "# Defense Distribution"
   ]
  },
  {
   "cell_type": "code",
   "execution_count": 10,
   "metadata": {},
   "outputs": [
    {
     "data": {
      "image/png": "[encoded data removed]",
      "text/plain": [
       "<Figure size 720x360 with 1 Axes>"
      ]
     },
     "metadata": {},
     "output_type": "display_data"
    }
   ],
   "source": [
    "fig = plt.figure(figsize=(10, 5))\n",
    "sns.distplot(df_stars6[\"Defense\"], bins=20, kde=False, rug=True).set_xlabel(None)\n",
    "plt.tick_params(labelcolor='white')\n",
    "plt.savefig(monster + \"_dist_defense.png\", transparent=True, bbox_inches = \"tight\")"
   ]
  },
  {
   "cell_type": "markdown",
   "metadata": {},
   "source": [
    "# Avg. Rune Distribution"
   ]
  },
  {
   "cell_type": "code",
   "execution_count": 11,
   "metadata": {},
   "outputs": [
    {
     "data": {
      "image/png": "[encoded data removed]",
      "text/plain": [
       "<Figure size 720x360 with 1 Axes>"
      ]
     },
     "metadata": {},
     "output_type": "display_data"
    }
   ],
   "source": [
    "fig = plt.figure(figsize=(10, 5))\n",
    "sns.distplot(df_stars6[\"Eff\"], bins=20, kde=False, rug=True).set_xlabel(None)\n",
    "plt.tick_params(labelcolor='white')\n",
    "plt.savefig(monster + \"_dist_rune_eff.png\", transparent=True, bbox_inches = \"tight\")"
   ]
  },
  {
   "cell_type": "markdown",
   "metadata": {},
   "source": [
    "# Accuracy Distribution"
   ]
  },
  {
   "cell_type": "code",
   "execution_count": 21,
   "metadata": {},
   "outputs": [
    {
     "data": {
      "image/png": "[encoded data removed]",
      "text/plain": [
       "<Figure size 720x360 with 1 Axes>"
      ]
     },
     "metadata": {},
     "output_type": "display_data"
    }
   ],
   "source": [
    "fig = plt.figure(figsize=(10, 5))\n",
    "sns.distplot(df_stars6[\"Acc\"], bins=20, kde=False, rug=True).set_xlabel(None)\n",
    "plt.tick_params(labelcolor='white')\n",
    "plt.savefig(monster + \"_dist_acc.png\", transparent=True, bbox_inches = \"tight\")"
   ]
  },
  {
   "cell_type": "markdown",
   "metadata": {},
   "source": [
    "# Resistance Distribution"
   ]
  },
  {
   "cell_type": "code",
   "execution_count": 22,
   "metadata": {},
   "outputs": [
    {
     "data": {
      "image/png": "[encoded data removed]",
      "text/plain": [
       "<Figure size 720x360 with 1 Axes>"
      ]
     },
     "metadata": {},
     "output_type": "display_data"
    }
   ],
   "source": [
    "fig = plt.figure(figsize=(10, 5))\n",
    "sns.distplot(df_stars6[\"Res\"], bins=20, kde=False, rug=True).set_xlabel(None)\n",
    "plt.tick_params(labelcolor='white')\n",
    "plt.savefig(monster + \"_dist_res.png\", transparent=True, bbox_inches = \"tight\")"
   ]
  },
  {
   "cell_type": "markdown",
   "metadata": {},
   "source": [
    "# Sets"
   ]
  },
  {
   "cell_type": "code",
   "execution_count": 12,
   "metadata": {},
   "outputs": [
    {
     "name": "stdout",
     "output_type": "stream",
     "text": [
      "Focus + Violent               81\n",
      "Energy + Violent              76\n",
      "Energy + Swift                61\n",
      "Revenge + Violent             51\n",
      "Violent                       43\n",
      "Focus + Swift                 33\n",
      "Shield + Violent              21\n",
      "Swift                         13\n",
      "Nemesis + Violent             12\n",
      "Guard + Violent               10\n",
      "Endure + Violent               8\n",
      "Shield + Swift                 6\n",
      "Energy                         6\n",
      "Revenge + Swift                5\n",
      "Blade + Swift                  5\n",
      "Energy + Focus                 4\n",
      "Focus                          4\n",
      "Guard + Swift                  3\n",
      "Nemesis + Swift                3\n",
      "Broken                         3\n",
      "Blade + Violent                3\n",
      "Fight + Violent                2\n",
      "Nemesis + Nemesis + Shield     2\n",
      "Nemesis + Shield               2\n",
      "Nemesis                        2\n",
      "Violent + Will                 2\n",
      "Enhance + Swift                2\n",
      "Name: Sets, dtype: int64\n"
     ]
    },
    {
     "data": {
      "image/png": "[encoded data removed]",
      "text/plain": [
       "<Figure size 1440x360 with 1 Axes>"
      ]
     },
     "metadata": {},
     "output_type": "display_data"
    }
   ],
   "source": [
    "fig = plt.figure(figsize=(20, 5))\n",
    "counts = df_stars6[\"Sets\"].value_counts()\n",
    "counts = counts[counts > 1]\n",
    "print(counts)\n",
    "x, y = counts.index, counts.values\n",
    "sets = sns.barplot(x=x, y=y)\n",
    "_ = sets.set_xticklabels(sets.get_xticklabels(), rotation=45, horizontalalignment='right')\n",
    "plt.tick_params(labelcolor='white')\n",
    "plt.savefig(monster + \"_dist_sets.png\", transparent=True, bbox_inches = \"tight\")"
   ]
  },
  {
   "cell_type": "markdown",
   "metadata": {},
   "source": [
    "# 4-Rune Sets"
   ]
  },
  {
   "cell_type": "code",
   "execution_count": 13,
   "metadata": {},
   "outputs": [
    {
     "data": {
      "image/png": "[encoded data removed]",
      "text/plain": [
       "<Figure size 1440x360 with 1 Axes>"
      ]
     },
     "metadata": {},
     "output_type": "display_data"
    }
   ],
   "source": [
    "sets_4 = ['Violent', 'Swift', 'Rage', 'Fatal', 'Despair', 'Vampire']\n",
    "fig = plt.figure(figsize=(20, 5))\n",
    "counts = df_stars6[\"Sets\"].value_counts()\n",
    "set_sum = dict()\n",
    "for set_4 in sets_4:\n",
    "    indexes = [val for val in counts.index if set_4 in val]\n",
    "    set_count = counts.loc[indexes]\n",
    "    set_sum[set_4] = set_count.sum()\n",
    "set_sum = {k: v for k, v in sorted(set_sum.items(), key=lambda item: item[1], reverse=True)}\n",
    "x, y = list(set_sum.keys()), list(set_sum.values())\n",
    "sets = sns.barplot(x=x, y=y)\n",
    "_ = sets.set_xticklabels(sets.get_xticklabels(), rotation=45, horizontalalignment='right')\n",
    "plt.tick_params(labelcolor='white')\n",
    "plt.savefig(monster + \"_dist_4sets.png\", transparent=True, bbox_inches = \"tight\")"
   ]
  },
  {
   "cell_type": "markdown",
   "metadata": {},
   "source": [
    "# Speed Distribution"
   ]
  },
  {
   "cell_type": "code",
   "execution_count": 14,
   "metadata": {},
   "outputs": [
    {
     "data": {
      "image/png": "[encoded data removed]",
      "text/plain": [
       "<Figure size 720x360 with 1 Axes>"
      ]
     },
     "metadata": {},
     "output_type": "display_data"
    }
   ],
   "source": [
    "fig = plt.figure(figsize=(10, 5))\n",
    "sns.distplot(df_stars6[\"Speed\"], bins=20, kde=False, rug=True).set_xlabel(None)\n",
    "plt.tick_params(labelcolor='white')\n",
    "plt.savefig(monster + \"_dist_speed.png\", transparent=True,  bbox_inches = \"tight\")"
   ]
  },
  {
   "cell_type": "markdown",
   "metadata": {},
   "source": [
    "# Best by Category"
   ]
  },
  {
   "cell_type": "code",
   "execution_count": 15,
   "metadata": {},
   "outputs": [
    {
     "data": {
      "text/html": [
       "<div>\n",
       "<style scoped>\n",
       "    .dataframe tbody tr th:only-of-type {\n",
       "        vertical-align: middle;\n",
       "    }\n",
       "\n",
       "    .dataframe tbody tr th {\n",
       "        vertical-align: top;\n",
       "    }\n",
       "\n",
       "    .dataframe thead th {\n",
       "        text-align: right;\n",
       "    }\n",
       "</style>\n",
       "<table border=\"1\" class=\"dataframe\">\n",
       "  <thead>\n",
       "    <tr style=\"text-align: right;\">\n",
       "      <th></th>\n",
       "      <th>HP</th>\n",
       "      <th>Attack</th>\n",
       "      <th>Defense</th>\n",
       "      <th>Speed</th>\n",
       "      <th>Res</th>\n",
       "      <th>Acc</th>\n",
       "      <th>CRate</th>\n",
       "      <th>CDmg</th>\n",
       "      <th>Eff</th>\n",
       "      <th>Eff.HP</th>\n",
       "    </tr>\n",
       "    <tr>\n",
       "      <th>ID</th>\n",
       "      <th></th>\n",
       "      <th></th>\n",
       "      <th></th>\n",
       "      <th></th>\n",
       "      <th></th>\n",
       "      <th></th>\n",
       "      <th></th>\n",
       "      <th></th>\n",
       "      <th></th>\n",
       "      <th></th>\n",
       "    </tr>\n",
       "  </thead>\n",
       "  <tbody>\n",
       "    <tr>\n",
       "      <th>1</th>\n",
       "      <td>41991</td>\n",
       "      <td>1687</td>\n",
       "      <td>2316</td>\n",
       "      <td>276</td>\n",
       "      <td>109</td>\n",
       "      <td>114</td>\n",
       "      <td>65</td>\n",
       "      <td>103</td>\n",
       "      <td>106</td>\n",
       "      <td>306387</td>\n",
       "    </tr>\n",
       "  </tbody>\n",
       "</table>\n",
       "</div>"
      ],
      "text/plain": [
       "       HP Attack Defense Speed  Res  Acc CRate CDmg  Eff  Eff.HP\n",
       "ID                                                              \n",
       "1   41991   1687    2316   276  109  114    65  103  106  306387"
      ]
     },
     "execution_count": 15,
     "metadata": {},
     "output_type": "execute_result"
    }
   ],
   "source": [
    "cols = ['HP', 'Attack', 'Defense', 'Speed', 'Res', 'Acc', 'CRate', 'CDmg', 'Eff', 'Eff.HP']\n",
    "df_best = pd.DataFrame(columns=[\"ID\"] + cols)\n",
    "df_best.set_index(\"ID\", drop=True, inplace=True)\n",
    "\n",
    "best = list()\n",
    "for column in cols:\n",
    "    best.append(int(round(df.sort_values([column], ascending=False)[column].head(1).values[0])))\n",
    "    \n",
    "df_best.loc[1] = best\n",
    "df_best"
   ]
  },
  {
   "cell_type": "markdown",
   "metadata": {},
   "source": [
    "# Best 10 Builds by Avg Eff"
   ]
  },
  {
   "cell_type": "code",
   "execution_count": 16,
   "metadata": {},
   "outputs": [
    {
     "name": "stdout",
     "output_type": "stream",
     "text": [
      "<table border=\"1\" class=\"dataframe\">\n",
      "  <thead>\n",
      "    <tr style=\"text-align: right;\">\n",
      "      <th></th>\n",
      "      <th>HP</th>\n",
      "      <th>Attack</th>\n",
      "      <th>Defense</th>\n",
      "      <th>Speed</th>\n",
      "      <th>Res</th>\n",
      "      <th>Acc</th>\n",
      "      <th>CRate</th>\n",
      "      <th>CDmg</th>\n",
      "      <th>Eff</th>\n",
      "      <th>Eff.HP</th>\n",
      "      <th>Sets</th>\n",
      "      <th>Slot2</th>\n",
      "      <th>Slot4</th>\n",
      "      <th>Slot6</th>\n",
      "    </tr>\n",
      "  </thead>\n",
      "  <tbody>\n",
      "    <tr>\n",
      "      <th>0</th>\n",
      "      <td>34570</td>\n",
      "      <td>1108</td>\n",
      "      <td>1901</td>\n",
      "      <td>229</td>\n",
      "      <td>45</td>\n",
      "      <td>6</td>\n",
      "      <td>44</td>\n",
      "      <td>50</td>\n",
      "      <td>106.45</td>\n",
      "      <td>269421</td>\n",
      "      <td>Blade + Nemesis + Shield</td>\n",
      "      <td>SPD</td>\n",
      "      <td>DEF%</td>\n",
      "      <td>HP%</td>\n",
      "    </tr>\n",
      "    <tr>\n",
      "      <th>1</th>\n",
      "      <td>33332</td>\n",
      "      <td>1006</td>\n",
      "      <td>1714</td>\n",
      "      <td>237</td>\n",
      "      <td>21</td>\n",
      "      <td>50</td>\n",
      "      <td>50</td>\n",
      "      <td>56</td>\n",
      "      <td>102.19</td>\n",
      "      <td>237957</td>\n",
      "      <td>Energy + Guard + Will</td>\n",
      "      <td>SPD</td>\n",
      "      <td>HP%</td>\n",
      "      <td>DEF%</td>\n",
      "    </tr>\n",
      "    <tr>\n",
      "      <th>2</th>\n",
      "      <td>41991</td>\n",
      "      <td>731</td>\n",
      "      <td>1759</td>\n",
      "      <td>222</td>\n",
      "      <td>33</td>\n",
      "      <td>32</td>\n",
      "      <td>25</td>\n",
      "      <td>50</td>\n",
      "      <td>100.78</td>\n",
      "      <td>306387</td>\n",
      "      <td>Revenge + Violent</td>\n",
      "      <td>HP%</td>\n",
      "      <td>HP%</td>\n",
      "      <td>HP%</td>\n",
      "    </tr>\n",
      "    <tr>\n",
      "      <th>3</th>\n",
      "      <td>32863</td>\n",
      "      <td>994</td>\n",
      "      <td>1644</td>\n",
      "      <td>273</td>\n",
      "      <td>32</td>\n",
      "      <td>27</td>\n",
      "      <td>21</td>\n",
      "      <td>65</td>\n",
      "      <td>100.28</td>\n",
      "      <td>226558</td>\n",
      "      <td>Guard + Violent</td>\n",
      "      <td>SPD</td>\n",
      "      <td>HP%</td>\n",
      "      <td>HP%</td>\n",
      "    </tr>\n",
      "    <tr>\n",
      "      <th>4</th>\n",
      "      <td>35191</td>\n",
      "      <td>689</td>\n",
      "      <td>1862</td>\n",
      "      <td>209</td>\n",
      "      <td>57</td>\n",
      "      <td>59</td>\n",
      "      <td>24</td>\n",
      "      <td>50</td>\n",
      "      <td>97.94</td>\n",
      "      <td>269457</td>\n",
      "      <td>Nemesis + Nemesis + Revenge</td>\n",
      "      <td>HP%</td>\n",
      "      <td>DEF%</td>\n",
      "      <td>HP%</td>\n",
      "    </tr>\n",
      "    <tr>\n",
      "      <th>5</th>\n",
      "      <td>36627</td>\n",
      "      <td>851</td>\n",
      "      <td>1834</td>\n",
      "      <td>227</td>\n",
      "      <td>57</td>\n",
      "      <td>29</td>\n",
      "      <td>19</td>\n",
      "      <td>54</td>\n",
      "      <td>97.89</td>\n",
      "      <td>276863</td>\n",
      "      <td>Energy + Shield + Will</td>\n",
      "      <td>HP%</td>\n",
      "      <td>HP%</td>\n",
      "      <td>DEF%</td>\n",
      "    </tr>\n",
      "    <tr>\n",
      "      <th>6</th>\n",
      "      <td>34471</td>\n",
      "      <td>775</td>\n",
      "      <td>1714</td>\n",
      "      <td>276</td>\n",
      "      <td>29</td>\n",
      "      <td>37</td>\n",
      "      <td>33</td>\n",
      "      <td>76</td>\n",
      "      <td>97.73</td>\n",
      "      <td>246088</td>\n",
      "      <td>Blade + Swift</td>\n",
      "      <td>SPD</td>\n",
      "      <td>HP%</td>\n",
      "      <td>HP%</td>\n",
      "    </tr>\n",
      "    <tr>\n",
      "      <th>7</th>\n",
      "      <td>27504</td>\n",
      "      <td>948</td>\n",
      "      <td>1849</td>\n",
      "      <td>242</td>\n",
      "      <td>44</td>\n",
      "      <td>48</td>\n",
      "      <td>37</td>\n",
      "      <td>62</td>\n",
      "      <td>97.67</td>\n",
      "      <td>209346</td>\n",
      "      <td>Blade + Nemesis + Revenge</td>\n",
      "      <td>SPD</td>\n",
      "      <td>DEF%</td>\n",
      "      <td>HP%</td>\n",
      "    </tr>\n",
      "    <tr>\n",
      "      <th>8</th>\n",
      "      <td>30607</td>\n",
      "      <td>845</td>\n",
      "      <td>1684</td>\n",
      "      <td>241</td>\n",
      "      <td>38</td>\n",
      "      <td>33</td>\n",
      "      <td>31</td>\n",
      "      <td>72</td>\n",
      "      <td>97.30</td>\n",
      "      <td>215289</td>\n",
      "      <td>Nemesis + Shield</td>\n",
      "      <td>SPD</td>\n",
      "      <td>HP%</td>\n",
      "      <td>DEF%</td>\n",
      "    </tr>\n",
      "    <tr>\n",
      "      <th>9</th>\n",
      "      <td>34786</td>\n",
      "      <td>1004</td>\n",
      "      <td>1768</td>\n",
      "      <td>240</td>\n",
      "      <td>15</td>\n",
      "      <td>32</td>\n",
      "      <td>23</td>\n",
      "      <td>74</td>\n",
      "      <td>97.18</td>\n",
      "      <td>254912</td>\n",
      "      <td>Focus + Swift</td>\n",
      "      <td>SPD</td>\n",
      "      <td>HP%</td>\n",
      "      <td>HP%</td>\n",
      "    </tr>\n",
      "  </tbody>\n",
      "</table>\n"
     ]
    }
   ],
   "source": [
    "print(df_stars6.drop(['Acquired', 'Slot1', 'Slot3', 'Slot5', 'Level', 'Stars', 'Skillups'], axis=1).reset_index(drop=True).sort_values(['Eff'], ascending=False).head(10).to_html())"
   ]
  },
  {
   "cell_type": "markdown",
   "metadata": {},
   "source": [
    "# Most common Builds"
   ]
  },
  {
   "cell_type": "code",
   "execution_count": 17,
   "metadata": {},
   "outputs": [
    {
     "name": "stdout",
     "output_type": "stream",
     "text": [
      "   Slot2 Slot4 Slot6  Count\n",
      "35   SPD   HP%   HP%    229\n",
      "34   SPD   HP%  DEF%     72\n",
      "29   SPD  DEF%   HP%     66\n",
      "32   SPD   HP%  ACC%     34\n",
      "18   HP%   HP%   HP%     14\n",
      "28   SPD  DEF%  DEF%     13\n",
      "9   DEF%   HP%   HP%      8\n",
      "15   HP%  DEF%   HP%      8\n",
      "8   DEF%   HP%  DEF%      6\n",
      "25   SPD  DEF%  ACC%      4\n",
      "17   HP%   HP%  DEF%      4\n",
      "6   DEF%  DEF%   HP%      4\n",
      "37   SPD   HP+   HP%      3\n",
      "23   SPD  ATK%   HP%      3\n",
      "14   HP%  DEF%  DEF%      3\n",
      "30   SPD  DEF%  RES%      2\n",
      "33   SPD   HP%  ATK%      2\n",
      "16   HP%   HP%  ACC%      2\n",
      "36   SPD   HP%   HP+      2\n",
      "4   DEF%  DEF%  ATK%      2\n"
     ]
    },
    {
     "data": {
      "image/png": "[encoded data removed]",
      "text/plain": [
       "<Figure size 720x360 with 1 Axes>"
      ]
     },
     "metadata": {},
     "output_type": "display_data"
    }
   ],
   "source": [
    "fig = plt.figure(figsize=(10, 5))\n",
    "\n",
    "builds_count = df_stars6.groupby([\"Slot2\", \"Slot4\", \"Slot6\"]).size().reset_index(name='Count')\n",
    "builds_count = builds_count[builds_count['Count'] > 1].sort_values([\"Count\"], ascending=False) # single builds to drop\n",
    "print(builds_count)\n",
    "builds_count_to_plot = builds_count.set_index([\"Slot2\", \"Slot4\", \"Slot6\"]).T\n",
    "\n",
    "builds_common = sns.barplot(data=builds_count_to_plot)\n",
    "_ = builds_common.set_xticklabels(builds_common.get_xticklabels(), rotation=45, horizontalalignment='right')\n",
    "plt.tick_params(labelcolor='white')\n",
    "plt.savefig(monster + \"_build_common.png\", transparent=True, bbox_inches = \"tight\")"
   ]
  },
  {
   "cell_type": "markdown",
   "metadata": {},
   "source": [
    "# Most frequent slot 2"
   ]
  },
  {
   "cell_type": "code",
   "execution_count": 18,
   "metadata": {},
   "outputs": [
    {
     "data": {
      "image/png": "[encoded data removed]",
      "text/plain": [
       "<Figure size 720x360 with 1 Axes>"
      ]
     },
     "metadata": {},
     "output_type": "display_data"
    }
   ],
   "source": [
    "fig = plt.figure(figsize=(10, 5))\n",
    "\n",
    "counts_slot2 = df_stars6[\"Slot2\"].value_counts()\n",
    "counts_slot2 = counts_slot2[counts_slot2 > 2]\n",
    "x, y = counts_slot2.index, counts_slot2.values\n",
    "slot2 = sns.barplot(x=x, y=y)\n",
    "_ = slot2.set_xticklabels(slot2.get_xticklabels(), rotation=45, horizontalalignment='right')\n",
    "plt.tick_params(labelcolor='white')\n",
    "plt.savefig(monster + \"_slot_2.png\", transparent=True, bbox_inches = \"tight\")"
   ]
  },
  {
   "cell_type": "markdown",
   "metadata": {},
   "source": [
    "# Most frequent slot 4"
   ]
  },
  {
   "cell_type": "code",
   "execution_count": 19,
   "metadata": {},
   "outputs": [
    {
     "data": {
      "image/png": "[encoded data removed]",
      "text/plain": [
       "<Figure size 720x360 with 1 Axes>"
      ]
     },
     "metadata": {},
     "output_type": "display_data"
    }
   ],
   "source": [
    "fig = plt.figure(figsize=(10, 5))\n",
    "\n",
    "counts_slot4 = df_stars6[\"Slot4\"].value_counts()\n",
    "counts_slot4 = counts_slot4[counts_slot4 > 2]\n",
    "x, y = counts_slot4.index, counts_slot4.values\n",
    "slot4 = sns.barplot(x=x, y=y)\n",
    "_ = slot4.set_xticklabels(slot4.get_xticklabels(), rotation=45, horizontalalignment='right')\n",
    "plt.tick_params(labelcolor='white')\n",
    "plt.savefig(monster + \"_slot_4.png\", transparent=True, bbox_inches = \"tight\")"
   ]
  },
  {
   "cell_type": "markdown",
   "metadata": {},
   "source": [
    "# Most frequent slot 6"
   ]
  },
  {
   "cell_type": "code",
   "execution_count": 20,
   "metadata": {},
   "outputs": [
    {
     "data": {
      "image/png": "[encoded data removed]",
      "text/plain": [
       "<Figure size 720x360 with 1 Axes>"
      ]
     },
     "metadata": {},
     "output_type": "display_data"
    }
   ],
   "source": [
    "fig = plt.figure(figsize=(10, 5))\n",
    "\n",
    "counts_slot6 = df_stars6[\"Slot6\"].value_counts()\n",
    "counts_slot6 = counts_slot6[counts_slot6 > 2]\n",
    "x, y = counts_slot6.index, counts_slot6.values\n",
    "slot6 = sns.barplot(x=x, y=y)\n",
    "_ = slot6.set_xticklabels(slot6.get_xticklabels(), rotation=45, horizontalalignment='right')\n",
    "plt.tick_params(labelcolor='white')\n",
    "plt.savefig(monster + \"_slot_6.png\", transparent=True, bbox_inches = \"tight\")"
   ]
  }
 ],
 "metadata": {
  "kernelspec": {
   "display_name": "Python 3",
   "language": "python",
   "name": "python3"
  },
  "language_info": {
   "codemirror_mode": {
    "name": "ipython",
    "version": 3
   },
   "file_extension": ".py",
   "mimetype": "text/x-python",
   "name": "python",
   "nbconvert_exporter": "python",
   "pygments_lexer": "ipython3",
   "version": "3.7.6"
  }
 },
 "nbformat": 4,
 "nbformat_minor": 4
}
