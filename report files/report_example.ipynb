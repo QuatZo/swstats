{
 "cells": [
  {
   "cell_type": "markdown",
   "metadata": {},
   "source": [
    "# Setting Up"
   ]
  },
  {
   "cell_type": "code",
   "execution_count": 1,
   "metadata": {
    "scrolled": false
   },
   "outputs": [
    {
     "name": "stdout",
     "output_type": "stream",
     "text": [
      "Index(['Level', 'Stars', 'HP', 'Attack', 'Defense', 'Speed', 'Res', 'Acc',\n",
      "       'CRate', 'CDmg', 'Eff', 'Eff.HP', 'Sets', 'Skillups', 'Acquired',\n",
      "       'Slot1', 'Slot2', 'Slot3', 'Slot4', 'Slot5', 'Slot6',\n",
      "       'Artifact Element', 'Artifact Element Substats', 'Artifact Type',\n",
      "       'Artifact Type Substats'],\n",
      "      dtype='object')\n"
     ]
    },
    {
     "data": {
      "text/html": [
       "<div>\n",
       "<style scoped>\n",
       "    .dataframe tbody tr th:only-of-type {\n",
       "        vertical-align: middle;\n",
       "    }\n",
       "\n",
       "    .dataframe tbody tr th {\n",
       "        vertical-align: top;\n",
       "    }\n",
       "\n",
       "    .dataframe thead th {\n",
       "        text-align: right;\n",
       "    }\n",
       "</style>\n",
       "<table border=\"1\" class=\"dataframe\">\n",
       "  <thead>\n",
       "    <tr style=\"text-align: right;\">\n",
       "      <th></th>\n",
       "      <th>Level</th>\n",
       "      <th>Stars</th>\n",
       "      <th>HP</th>\n",
       "      <th>Attack</th>\n",
       "      <th>Defense</th>\n",
       "      <th>Speed</th>\n",
       "      <th>Res</th>\n",
       "      <th>Acc</th>\n",
       "      <th>CRate</th>\n",
       "      <th>CDmg</th>\n",
       "      <th>...</th>\n",
       "      <th>Eff.HP</th>\n",
       "      <th>Sets</th>\n",
       "      <th>Skillups</th>\n",
       "      <th>Acquired</th>\n",
       "      <th>Slot1</th>\n",
       "      <th>Slot2</th>\n",
       "      <th>Slot3</th>\n",
       "      <th>Slot4</th>\n",
       "      <th>Slot5</th>\n",
       "      <th>Slot6</th>\n",
       "    </tr>\n",
       "  </thead>\n",
       "  <tbody>\n",
       "    <tr>\n",
       "      <th>1</th>\n",
       "      <td>40</td>\n",
       "      <td>6</td>\n",
       "      <td>21724</td>\n",
       "      <td>894</td>\n",
       "      <td>2119</td>\n",
       "      <td>114</td>\n",
       "      <td>15</td>\n",
       "      <td>10</td>\n",
       "      <td>102</td>\n",
       "      <td>194</td>\n",
       "      <td>...</td>\n",
       "      <td>185881</td>\n",
       "      <td>Guard + Shield + Will</td>\n",
       "      <td>[7, 5, 5]</td>\n",
       "      <td>2018-08-03</td>\n",
       "      <td>ATK+</td>\n",
       "      <td>DEF%</td>\n",
       "      <td>DEF+</td>\n",
       "      <td>CDmg%</td>\n",
       "      <td>HP+</td>\n",
       "      <td>DEF%</td>\n",
       "    </tr>\n",
       "    <tr>\n",
       "      <th>2</th>\n",
       "      <td>40</td>\n",
       "      <td>6</td>\n",
       "      <td>18490</td>\n",
       "      <td>888</td>\n",
       "      <td>2130</td>\n",
       "      <td>164</td>\n",
       "      <td>15</td>\n",
       "      <td>13</td>\n",
       "      <td>97</td>\n",
       "      <td>168</td>\n",
       "      <td>...</td>\n",
       "      <td>158922</td>\n",
       "      <td>Guard + Will</td>\n",
       "      <td>[6, 5, 5]</td>\n",
       "      <td>2017-11-16</td>\n",
       "      <td>ATK+</td>\n",
       "      <td>DEF%</td>\n",
       "      <td>DEF+</td>\n",
       "      <td>CDmg%</td>\n",
       "      <td>HP+</td>\n",
       "      <td>DEF%</td>\n",
       "    </tr>\n",
       "    <tr>\n",
       "      <th>3</th>\n",
       "      <td>40</td>\n",
       "      <td>6</td>\n",
       "      <td>17925</td>\n",
       "      <td>962</td>\n",
       "      <td>2274</td>\n",
       "      <td>118</td>\n",
       "      <td>30</td>\n",
       "      <td>7</td>\n",
       "      <td>84</td>\n",
       "      <td>220</td>\n",
       "      <td>...</td>\n",
       "      <td>163100</td>\n",
       "      <td>Blade + Guard + Will</td>\n",
       "      <td>[7, 5, 5]</td>\n",
       "      <td>2016-06-20</td>\n",
       "      <td>ATK+</td>\n",
       "      <td>DEF%</td>\n",
       "      <td>DEF+</td>\n",
       "      <td>CDmg%</td>\n",
       "      <td>HP+</td>\n",
       "      <td>DEF%</td>\n",
       "    </tr>\n",
       "    <tr>\n",
       "      <th>4</th>\n",
       "      <td>40</td>\n",
       "      <td>6</td>\n",
       "      <td>15910</td>\n",
       "      <td>737</td>\n",
       "      <td>2192</td>\n",
       "      <td>118</td>\n",
       "      <td>24</td>\n",
       "      <td>15</td>\n",
       "      <td>100</td>\n",
       "      <td>261</td>\n",
       "      <td>...</td>\n",
       "      <td>140198</td>\n",
       "      <td>Rage + Will</td>\n",
       "      <td>[7, 5, 5]</td>\n",
       "      <td>2017-06-05</td>\n",
       "      <td>ATK+</td>\n",
       "      <td>DEF%</td>\n",
       "      <td>DEF+</td>\n",
       "      <td>CDmg%</td>\n",
       "      <td>HP+</td>\n",
       "      <td>DEF%</td>\n",
       "    </tr>\n",
       "    <tr>\n",
       "      <th>5</th>\n",
       "      <td>40</td>\n",
       "      <td>6</td>\n",
       "      <td>20146</td>\n",
       "      <td>788</td>\n",
       "      <td>2328</td>\n",
       "      <td>98</td>\n",
       "      <td>21</td>\n",
       "      <td>16</td>\n",
       "      <td>80</td>\n",
       "      <td>252</td>\n",
       "      <td>...</td>\n",
       "      <td>187116</td>\n",
       "      <td>Guard + Rage</td>\n",
       "      <td>[7, 5, 5]</td>\n",
       "      <td>2019-02-15</td>\n",
       "      <td>ATK+</td>\n",
       "      <td>DEF%</td>\n",
       "      <td>DEF+</td>\n",
       "      <td>CDmg%</td>\n",
       "      <td>HP+</td>\n",
       "      <td>DEF%</td>\n",
       "    </tr>\n",
       "    <tr>\n",
       "      <th>...</th>\n",
       "      <td>...</td>\n",
       "      <td>...</td>\n",
       "      <td>...</td>\n",
       "      <td>...</td>\n",
       "      <td>...</td>\n",
       "      <td>...</td>\n",
       "      <td>...</td>\n",
       "      <td>...</td>\n",
       "      <td>...</td>\n",
       "      <td>...</td>\n",
       "      <td>...</td>\n",
       "      <td>...</td>\n",
       "      <td>...</td>\n",
       "      <td>...</td>\n",
       "      <td>...</td>\n",
       "      <td>...</td>\n",
       "      <td>...</td>\n",
       "      <td>...</td>\n",
       "      <td>...</td>\n",
       "      <td>...</td>\n",
       "      <td>...</td>\n",
       "    </tr>\n",
       "    <tr>\n",
       "      <th>610</th>\n",
       "      <td>35</td>\n",
       "      <td>5</td>\n",
       "      <td>14511</td>\n",
       "      <td>461</td>\n",
       "      <td>962</td>\n",
       "      <td>111</td>\n",
       "      <td>23</td>\n",
       "      <td>21</td>\n",
       "      <td>48</td>\n",
       "      <td>74</td>\n",
       "      <td>...</td>\n",
       "      <td>65401</td>\n",
       "      <td>Energy + Fight + Revenge</td>\n",
       "      <td>[7, 5, 5]</td>\n",
       "      <td>2017-07-22</td>\n",
       "      <td>ATK+</td>\n",
       "      <td>HP%</td>\n",
       "      <td>DEF+</td>\n",
       "      <td>DEF%</td>\n",
       "      <td>HP+</td>\n",
       "      <td>DEF%</td>\n",
       "    </tr>\n",
       "    <tr>\n",
       "      <th>615</th>\n",
       "      <td>35</td>\n",
       "      <td>5</td>\n",
       "      <td>10976</td>\n",
       "      <td>516</td>\n",
       "      <td>1145</td>\n",
       "      <td>112</td>\n",
       "      <td>22</td>\n",
       "      <td>23</td>\n",
       "      <td>40</td>\n",
       "      <td>59</td>\n",
       "      <td>...</td>\n",
       "      <td>56498</td>\n",
       "      <td>Guard + Guard + Guard</td>\n",
       "      <td>[7, 5, 5]</td>\n",
       "      <td>2018-06-25</td>\n",
       "      <td>ATK+</td>\n",
       "      <td>DEF%</td>\n",
       "      <td>DEF+</td>\n",
       "      <td>DEF%</td>\n",
       "      <td>HP+</td>\n",
       "      <td>HP%</td>\n",
       "    </tr>\n",
       "    <tr>\n",
       "      <th>616</th>\n",
       "      <td>35</td>\n",
       "      <td>5</td>\n",
       "      <td>17809</td>\n",
       "      <td>526</td>\n",
       "      <td>766</td>\n",
       "      <td>103</td>\n",
       "      <td>26</td>\n",
       "      <td>14</td>\n",
       "      <td>37</td>\n",
       "      <td>54</td>\n",
       "      <td>...</td>\n",
       "      <td>68048</td>\n",
       "      <td>Energy + Guard + Will</td>\n",
       "      <td>[5, 5, 5]</td>\n",
       "      <td>2020-04-04</td>\n",
       "      <td>ATK+</td>\n",
       "      <td>DEF%</td>\n",
       "      <td>DEF+</td>\n",
       "      <td>HP%</td>\n",
       "      <td>HP+</td>\n",
       "      <td>HP%</td>\n",
       "    </tr>\n",
       "    <tr>\n",
       "      <th>619</th>\n",
       "      <td>27</td>\n",
       "      <td>4</td>\n",
       "      <td>6802</td>\n",
       "      <td>336</td>\n",
       "      <td>404</td>\n",
       "      <td>103</td>\n",
       "      <td>25</td>\n",
       "      <td>7</td>\n",
       "      <td>46</td>\n",
       "      <td>58</td>\n",
       "      <td>...</td>\n",
       "      <td>17372</td>\n",
       "      <td>Nemesis</td>\n",
       "      <td>[1, 1, 1]</td>\n",
       "      <td>2020-04-16</td>\n",
       "      <td>ATK+</td>\n",
       "      <td>DEF%</td>\n",
       "      <td>DEF+</td>\n",
       "      <td>HP%</td>\n",
       "      <td>HP+</td>\n",
       "      <td>ATK+</td>\n",
       "    </tr>\n",
       "    <tr>\n",
       "      <th>620</th>\n",
       "      <td>30</td>\n",
       "      <td>4</td>\n",
       "      <td>7525</td>\n",
       "      <td>455</td>\n",
       "      <td>425</td>\n",
       "      <td>106</td>\n",
       "      <td>15</td>\n",
       "      <td>9</td>\n",
       "      <td>34</td>\n",
       "      <td>103</td>\n",
       "      <td>...</td>\n",
       "      <td>19771</td>\n",
       "      <td>Rage + Will</td>\n",
       "      <td>[2, 2, 4]</td>\n",
       "      <td>2016-06-07</td>\n",
       "      <td>ATK+</td>\n",
       "      <td>DEF%</td>\n",
       "      <td>DEF+</td>\n",
       "      <td>DEF%</td>\n",
       "      <td>HP+</td>\n",
       "      <td>ATK+</td>\n",
       "    </tr>\n",
       "  </tbody>\n",
       "</table>\n",
       "<p>594 rows × 21 columns</p>\n",
       "</div>"
      ],
      "text/plain": [
       "     Level  Stars     HP  Attack  Defense  Speed  Res  Acc  CRate  CDmg  ...  \\\n",
       "1       40      6  21724     894     2119    114   15   10    102   194  ...   \n",
       "2       40      6  18490     888     2130    164   15   13     97   168  ...   \n",
       "3       40      6  17925     962     2274    118   30    7     84   220  ...   \n",
       "4       40      6  15910     737     2192    118   24   15    100   261  ...   \n",
       "5       40      6  20146     788     2328     98   21   16     80   252  ...   \n",
       "..     ...    ...    ...     ...      ...    ...  ...  ...    ...   ...  ...   \n",
       "610     35      5  14511     461      962    111   23   21     48    74  ...   \n",
       "615     35      5  10976     516     1145    112   22   23     40    59  ...   \n",
       "616     35      5  17809     526      766    103   26   14     37    54  ...   \n",
       "619     27      4   6802     336      404    103   25    7     46    58  ...   \n",
       "620     30      4   7525     455      425    106   15    9     34   103  ...   \n",
       "\n",
       "     Eff.HP                      Sets   Skillups    Acquired Slot1 Slot2  \\\n",
       "1    185881     Guard + Shield + Will  [7, 5, 5]  2018-08-03  ATK+  DEF%   \n",
       "2    158922              Guard + Will  [6, 5, 5]  2017-11-16  ATK+  DEF%   \n",
       "3    163100      Blade + Guard + Will  [7, 5, 5]  2016-06-20  ATK+  DEF%   \n",
       "4    140198               Rage + Will  [7, 5, 5]  2017-06-05  ATK+  DEF%   \n",
       "5    187116              Guard + Rage  [7, 5, 5]  2019-02-15  ATK+  DEF%   \n",
       "..      ...                       ...        ...         ...   ...   ...   \n",
       "610   65401  Energy + Fight + Revenge  [7, 5, 5]  2017-07-22  ATK+   HP%   \n",
       "615   56498     Guard + Guard + Guard  [7, 5, 5]  2018-06-25  ATK+  DEF%   \n",
       "616   68048     Energy + Guard + Will  [5, 5, 5]  2020-04-04  ATK+  DEF%   \n",
       "619   17372                   Nemesis  [1, 1, 1]  2020-04-16  ATK+  DEF%   \n",
       "620   19771               Rage + Will  [2, 2, 4]  2016-06-07  ATK+  DEF%   \n",
       "\n",
       "    Slot3  Slot4 Slot5 Slot6  \n",
       "1    DEF+  CDmg%   HP+  DEF%  \n",
       "2    DEF+  CDmg%   HP+  DEF%  \n",
       "3    DEF+  CDmg%   HP+  DEF%  \n",
       "4    DEF+  CDmg%   HP+  DEF%  \n",
       "5    DEF+  CDmg%   HP+  DEF%  \n",
       "..    ...    ...   ...   ...  \n",
       "610  DEF+   DEF%   HP+  DEF%  \n",
       "615  DEF+   DEF%   HP+   HP%  \n",
       "616  DEF+    HP%   HP+   HP%  \n",
       "619  DEF+    HP%   HP+  ATK+  \n",
       "620  DEF+   DEF%   HP+  ATK+  \n",
       "\n",
       "[594 rows x 21 columns]"
      ]
     },
     "execution_count": 1,
     "metadata": {},
     "output_type": "execute_result"
    }
   ],
   "source": [
    "import pandas as pd\n",
    "import numpy as np\n",
    "import matplotlib.pyplot as plt\n",
    "import matplotlib\n",
    "import seaborn as sns\n",
    "import scipy as stats\n",
    "\n",
    "sns.set(color_codes=True)\n",
    "sns.set_style(\"dark\")\n",
    "sns.set_context(\"poster\")\n",
    "matplotlib.rcParams['text.color'] = 'white'\n",
    "\n",
    "monster = \"bulldozer\"\n",
    "filename = monster + \"_20200928.csv\"\n",
    "\n",
    "max_skills = [7, 5, 5]\n",
    "\n",
    "df = pd.read_csv(filename)\n",
    "df_full = pd.read_csv(filename)\n",
    "df_full = df_full[df_full[\"Stars\"] == 6]\n",
    "print(df.columns)\n",
    "runes_cols = [\"Slot\" + str(i) for i in range(1 ,7)]\n",
    "df.dropna(subset=runes_cols, how='any', inplace=True) # delete without runes\n",
    "df.sort_values([\"Eff\"], ascending=False, inplace=True)\n",
    "df.drop(['Artifact Element', 'Artifact Element Substats', 'Artifact Type', 'Artifact Type Substats'], axis=1, inplace=True) # temporary\n",
    "df"
   ]
  },
  {
   "cell_type": "markdown",
   "metadata": {},
   "source": [
    "# Stars Distribution, picking 6*"
   ]
  },
  {
   "cell_type": "code",
   "execution_count": 2,
   "metadata": {},
   "outputs": [
    {
     "name": "stdout",
     "output_type": "stream",
     "text": [
      "(537, 21)\n"
     ]
    },
    {
     "data": {
      "image/png": "[encoded data removed]",
      "text/plain": [
       "<Figure size 720x720 with 1 Axes>"
      ]
     },
     "metadata": {},
     "output_type": "display_data"
    }
   ],
   "source": [
    "fig = plt.figure(figsize=(10, 10))\n",
    "stars = df[\"Stars\"].value_counts()\n",
    "plt.pie(stars, labels=stars.index, autopct='%1.1f%%', colors=['g', 'r', 'b'])\n",
    "plt.savefig(monster + \"_pie_6stars.png\", transparent=True, bbox_inches = \"tight\")\n",
    "df_stars6 = df[df[\"Stars\"] == 6] # pick only 6*\n",
    "print(df_stars6.shape)"
   ]
  },
  {
   "cell_type": "markdown",
   "metadata": {},
   "source": [
    "# Runes "
   ]
  },
  {
   "cell_type": "code",
   "execution_count": 3,
   "metadata": {},
   "outputs": [
    {
     "data": {
      "image/png": "[encoded data removed]",
      "text/plain": [
       "<Figure size 720x720 with 1 Axes>"
      ]
     },
     "metadata": {},
     "output_type": "display_data"
    }
   ],
   "source": [
    "fig = plt.figure(figsize=(10, 10))\n",
    "df_runes = {\n",
    "    'Without\\nRunes': df_full.shape[0] - df_stars6.shape[0],\n",
    "    'With\\nRunes': df_stars6.shape[0],\n",
    "}\n",
    "plt.pie(df_runes.values(), labels=df_runes.keys(), autopct='%1.1f%%', colors=['r', 'g'])\n",
    "plt.savefig(monster + \"_pie_runes.png\", transparent=True, bbox_inches = \"tight\")\n",
    "plt.show()"
   ]
  },
  {
   "cell_type": "markdown",
   "metadata": {},
   "source": [
    "# Skilled Up"
   ]
  },
  {
   "cell_type": "code",
   "execution_count": 24,
   "metadata": {},
   "outputs": [
    {
     "name": "stdout",
     "output_type": "stream",
     "text": [
      "{'All': 490, '2nd & 3rd': 7, '1st & 3rd': 6, 'None': 23}\n"
     ]
    },
    {
     "data": {
      "image/png": "[encoded data removed]",
      "text/plain": [
       "<Figure size 720x720 with 1 Axes>"
      ]
     },
     "metadata": {},
     "output_type": "display_data"
    }
   ],
   "source": [
    "skills_count = {}\n",
    "\n",
    "for value, count in df_stars6['Skillups'].value_counts().items():\n",
    "    skillups = eval(value)\n",
    "    if skillups == max_skills:\n",
    "        skills_count['All'] = count\n",
    "    elif skillups[:2] == max_skills[:2] and count > 5:\n",
    "        skills_count['1st & 2nd'] = count\n",
    "    elif [skillups[0], skillups[2]] == [max_skills[0], max_skills[2]] and count > 5:\n",
    "        skills_count['1st & 3rd'] = count\n",
    "    elif skillups[1:] == max_skills[1:] and count > 5:\n",
    "        skills_count['2nd & 3rd'] = count\n",
    "    elif skillups[0] == max_skills[0] and count > 5:\n",
    "        skills_count['Only 1st'] = count\n",
    "    elif skillups[1] == max_skills[1] and count > 5:\n",
    "        skills_count['Only 2nd'] = count\n",
    "    elif skillups[2] == max_skills[2] and count > 5:\n",
    "        skills_count['Only 3rd'] = count\n",
    "    else:\n",
    "        if 'None' not in skills_count.keys():\n",
    "            skills_count['None'] = 0\n",
    "        skills_count['None'] += count\n",
    "\n",
    "print(skills_count)\n",
    "fig = plt.figure(figsize=(10, 10))\n",
    "plt.pie(list(skills_count.values()), labels=skills_count.keys(), autopct='%1.1f%%', colors=['g', 'b', 'orange', 'r'])\n",
    "plt.savefig(monster + \"_pie_skillups.png\", transparent=True, bbox_inches = \"tight\")\n",
    "plt.show()"
   ]
  },
  {
   "cell_type": "markdown",
   "metadata": {},
   "source": [
    "# Eff. HP Distribution"
   ]
  },
  {
   "cell_type": "code",
   "execution_count": 5,
   "metadata": {},
   "outputs": [
    {
     "data": {
      "image/png": "[encoded data removed]",
      "text/plain": [
       "<Figure size 720x360 with 1 Axes>"
      ]
     },
     "metadata": {},
     "output_type": "display_data"
    }
   ],
   "source": [
    "fig = plt.figure(figsize=(10, 5))\n",
    "sns.distplot(df_stars6[\"Eff.HP\"], bins=20, kde=False, rug=True).set_xlabel(None)\n",
    "plt.tick_params(labelcolor='white')\n",
    "plt.savefig(monster + \"_dist_effhp.png\", transparent=True, bbox_inches = \"tight\")"
   ]
  },
  {
   "cell_type": "markdown",
   "metadata": {},
   "source": [
    "# HP Distribution"
   ]
  },
  {
   "cell_type": "code",
   "execution_count": 6,
   "metadata": {},
   "outputs": [
    {
     "data": {
      "image/png": "[encoded data removed]",
      "text/plain": [
       "<Figure size 720x360 with 1 Axes>"
      ]
     },
     "metadata": {},
     "output_type": "display_data"
    }
   ],
   "source": [
    "fig = plt.figure(figsize=(10, 5))\n",
    "sns.distplot(df_stars6[\"HP\"], bins=20, kde=False, rug=True).set_xlabel(None)\n",
    "plt.tick_params(labelcolor='white')\n",
    "plt.savefig(monster + \"_dist_hp.png\", transparent=True, bbox_inches = \"tight\")"
   ]
  },
  {
   "cell_type": "markdown",
   "metadata": {},
   "source": [
    "# Attack Distribution"
   ]
  },
  {
   "cell_type": "code",
   "execution_count": 7,
   "metadata": {},
   "outputs": [
    {
     "data": {
      "image/png": "[encoded data removed]",
      "text/plain": [
       "<Figure size 720x360 with 1 Axes>"
      ]
     },
     "metadata": {},
     "output_type": "display_data"
    }
   ],
   "source": [
    "fig = plt.figure(figsize=(10, 5))\n",
    "sns.distplot(df_stars6[\"Attack\"], bins=20, kde=False, rug=True).set_xlabel(None)\n",
    "plt.tick_params(labelcolor='white')\n",
    "plt.savefig(monster + \"_dist_attack.png\", transparent=True, bbox_inches = \"tight\")"
   ]
  },
  {
   "cell_type": "markdown",
   "metadata": {},
   "source": [
    "# Critical Rate Distribution"
   ]
  },
  {
   "cell_type": "code",
   "execution_count": 8,
   "metadata": {},
   "outputs": [
    {
     "data": {
      "image/png": "[encoded data removed]",
      "text/plain": [
       "<Figure size 720x360 with 1 Axes>"
      ]
     },
     "metadata": {},
     "output_type": "display_data"
    }
   ],
   "source": [
    "fig = plt.figure(figsize=(10, 5))\n",
    "sns.distplot(df_stars6[\"CRate\"], bins=20, kde=False, rug=True).set_xlabel(None)\n",
    "plt.tick_params(labelcolor='white')\n",
    "plt.savefig(monster + \"_dist_critrate.png\", transparent=True, bbox_inches = \"tight\")"
   ]
  },
  {
   "cell_type": "markdown",
   "metadata": {},
   "source": [
    "# Critical Damag Distribution"
   ]
  },
  {
   "cell_type": "code",
   "execution_count": 9,
   "metadata": {},
   "outputs": [
    {
     "data": {
      "image/png": "[encoded data removed]",
      "text/plain": [
       "<Figure size 720x360 with 1 Axes>"
      ]
     },
     "metadata": {},
     "output_type": "display_data"
    }
   ],
   "source": [
    "fig = plt.figure(figsize=(10, 5))\n",
    "sns.distplot(df_stars6[\"CDmg\"], bins=20, kde=False, rug=True).set_xlabel(None)\n",
    "plt.tick_params(labelcolor='white')\n",
    "plt.savefig(monster + \"_dist_critdmg.png\", transparent=True, bbox_inches = \"tight\")"
   ]
  },
  {
   "cell_type": "markdown",
   "metadata": {},
   "source": [
    "# Defense Distribution"
   ]
  },
  {
   "cell_type": "code",
   "execution_count": 10,
   "metadata": {},
   "outputs": [
    {
     "data": {
      "image/png": "[encoded data removed]",
      "text/plain": [
       "<Figure size 720x360 with 1 Axes>"
      ]
     },
     "metadata": {},
     "output_type": "display_data"
    }
   ],
   "source": [
    "fig = plt.figure(figsize=(10, 5))\n",
    "sns.distplot(df_stars6[\"Defense\"], bins=20, kde=False, rug=True).set_xlabel(None)\n",
    "plt.tick_params(labelcolor='white')\n",
    "plt.savefig(monster + \"_dist_defense.png\", transparent=True, bbox_inches = \"tight\")"
   ]
  },
  {
   "cell_type": "markdown",
   "metadata": {},
   "source": [
    "# Avg. Rune Distribution"
   ]
  },
  {
   "cell_type": "code",
   "execution_count": 11,
   "metadata": {},
   "outputs": [
    {
     "data": {
      "image/png": "[encoded data removed]",
      "text/plain": [
       "<Figure size 720x360 with 1 Axes>"
      ]
     },
     "metadata": {},
     "output_type": "display_data"
    }
   ],
   "source": [
    "fig = plt.figure(figsize=(10, 5))\n",
    "sns.distplot(df_stars6[\"Eff\"], bins=20, kde=False, rug=True).set_xlabel(None)\n",
    "plt.tick_params(labelcolor='white')\n",
    "plt.savefig(monster + \"_dist_rune_eff.png\", transparent=True, bbox_inches = \"tight\")"
   ]
  },
  {
   "cell_type": "markdown",
   "metadata": {},
   "source": [
    "# Accuracy Distribution"
   ]
  },
  {
   "cell_type": "code",
   "execution_count": 12,
   "metadata": {},
   "outputs": [
    {
     "data": {
      "image/png": "[encoded data removed]",
      "text/plain": [
       "<Figure size 720x360 with 1 Axes>"
      ]
     },
     "metadata": {},
     "output_type": "display_data"
    }
   ],
   "source": [
    "fig = plt.figure(figsize=(10, 5))\n",
    "sns.distplot(df_stars6[\"Acc\"], bins=20, kde=False, rug=True).set_xlabel(None)\n",
    "plt.tick_params(labelcolor='white')\n",
    "plt.savefig(monster + \"_dist_acc.png\", transparent=True, bbox_inches = \"tight\")"
   ]
  },
  {
   "cell_type": "markdown",
   "metadata": {},
   "source": [
    "# Resistance Distribution"
   ]
  },
  {
   "cell_type": "code",
   "execution_count": 13,
   "metadata": {},
   "outputs": [
    {
     "data": {
      "image/png": "[encoded data removed]",
      "text/plain": [
       "<Figure size 720x360 with 1 Axes>"
      ]
     },
     "metadata": {},
     "output_type": "display_data"
    }
   ],
   "source": [
    "fig = plt.figure(figsize=(10, 5))\n",
    "sns.distplot(df_stars6[\"Res\"], bins=20, kde=False, rug=True).set_xlabel(None)\n",
    "plt.tick_params(labelcolor='white')\n",
    "plt.savefig(monster + \"_dist_res.png\", transparent=True, bbox_inches = \"tight\")"
   ]
  },
  {
   "cell_type": "markdown",
   "metadata": {},
   "source": [
    "# Sets"
   ]
  },
  {
   "cell_type": "code",
   "execution_count": 14,
   "metadata": {},
   "outputs": [
    {
     "name": "stdout",
     "output_type": "stream",
     "text": [
      "Rage + Will                     123\n",
      "Guard + Will                     69\n",
      "Blade + Guard + Will             43\n",
      "Guard + Guard + Will             39\n",
      "Will                             39\n",
      "Blade + Will                     22\n",
      "Rage                             18\n",
      "Blade + Rage                     13\n",
      "Guard + Rage                     10\n",
      "Guard + Revenge + Will            8\n",
      "Guard + Shield + Will             8\n",
      "Violent + Will                    8\n",
      "Energy + Guard + Will             7\n",
      "Shield + Will                     7\n",
      "Blade + Guard + Guard             7\n",
      "Guard + Guard                     6\n",
      "Blade + Guard                     5\n",
      "Revenge + Will                    5\n",
      "Blade + Blade + Guard             4\n",
      "Determination + Guard + Will      4\n",
      "Guard                             4\n",
      "Focus + Rage                      4\n",
      "Name: Sets, dtype: int64\n"
     ]
    },
    {
     "data": {
      "image/png": "[encoded data removed]",
      "text/plain": [
       "<Figure size 1440x360 with 1 Axes>"
      ]
     },
     "metadata": {},
     "output_type": "display_data"
    }
   ],
   "source": [
    "fig = plt.figure(figsize=(20, 5))\n",
    "counts = df_stars6[\"Sets\"].value_counts()\n",
    "counts = counts[counts > 3]\n",
    "print(counts)\n",
    "x, y = counts.index, counts.values\n",
    "sets = sns.barplot(x=x, y=y)\n",
    "_ = sets.set_xticklabels(sets.get_xticklabels(), rotation=45, horizontalalignment='right')\n",
    "plt.tick_params(labelcolor='white')\n",
    "plt.savefig(monster + \"_dist_sets.png\", transparent=True, bbox_inches = \"tight\")"
   ]
  },
  {
   "cell_type": "markdown",
   "metadata": {},
   "source": [
    "# 4-Rune Sets"
   ]
  },
  {
   "cell_type": "code",
   "execution_count": 15,
   "metadata": {},
   "outputs": [
    {
     "data": {
      "image/png": "[encoded data removed]",
      "text/plain": [
       "<Figure size 1440x360 with 1 Axes>"
      ]
     },
     "metadata": {},
     "output_type": "display_data"
    }
   ],
   "source": [
    "sets_4 = ['Violent', 'Swift', 'Rage', 'Fatal', 'Despair', 'Vampire']\n",
    "fig = plt.figure(figsize=(20, 5))\n",
    "counts = df_stars6[\"Sets\"].value_counts()\n",
    "set_sum = dict()\n",
    "for set_4 in sets_4:\n",
    "    indexes = [val for val in counts.index if set_4 in val]\n",
    "    set_count = counts.loc[indexes]\n",
    "    set_sum[set_4] = set_count.sum()\n",
    "set_sum = {k: v for k, v in sorted(set_sum.items(), key=lambda item: item[1], reverse=True)}\n",
    "x, y = list(set_sum.keys()), list(set_sum.values())\n",
    "sets = sns.barplot(x=x, y=y)\n",
    "_ = sets.set_xticklabels(sets.get_xticklabels(), rotation=45, horizontalalignment='right')\n",
    "plt.tick_params(labelcolor='white')\n",
    "plt.savefig(monster + \"_dist_4sets.png\", transparent=True, bbox_inches = \"tight\")"
   ]
  },
  {
   "cell_type": "markdown",
   "metadata": {},
   "source": [
    "# Speed Distribution"
   ]
  },
  {
   "cell_type": "code",
   "execution_count": 16,
   "metadata": {},
   "outputs": [
    {
     "data": {
      "image/png": "[encoded data removed]",
      "text/plain": [
       "<Figure size 720x360 with 1 Axes>"
      ]
     },
     "metadata": {},
     "output_type": "display_data"
    }
   ],
   "source": [
    "fig = plt.figure(figsize=(10, 5))\n",
    "sns.distplot(df_stars6[\"Speed\"], bins=20, kde=False, rug=True).set_xlabel(None)\n",
    "plt.tick_params(labelcolor='white')\n",
    "plt.savefig(monster + \"_dist_speed.png\", transparent=True,  bbox_inches = \"tight\")"
   ]
  },
  {
   "cell_type": "markdown",
   "metadata": {},
   "source": [
    "# Average & Best by Category"
   ]
  },
  {
   "cell_type": "code",
   "execution_count": 66,
   "metadata": {},
   "outputs": [
    {
     "data": {
      "text/html": [
       "<div>\n",
       "<style scoped>\n",
       "    .dataframe tbody tr th:only-of-type {\n",
       "        vertical-align: middle;\n",
       "    }\n",
       "\n",
       "    .dataframe tbody tr th {\n",
       "        vertical-align: top;\n",
       "    }\n",
       "\n",
       "    .dataframe thead th {\n",
       "        text-align: right;\n",
       "    }\n",
       "</style>\n",
       "<table border=\"1\" class=\"dataframe\">\n",
       "  <thead>\n",
       "    <tr style=\"text-align: right;\">\n",
       "      <th></th>\n",
       "      <th>HP</th>\n",
       "      <th>Attack</th>\n",
       "      <th>Defense</th>\n",
       "      <th>Speed</th>\n",
       "      <th>Res</th>\n",
       "      <th>Acc</th>\n",
       "      <th>CRate</th>\n",
       "      <th>CDmg</th>\n",
       "      <th>Eff</th>\n",
       "      <th>Eff.HP</th>\n",
       "    </tr>\n",
       "  </thead>\n",
       "  <tbody>\n",
       "    <tr>\n",
       "      <th>mean</th>\n",
       "      <td>16641.743017</td>\n",
       "      <td>780.49162</td>\n",
       "      <td>2000.52514</td>\n",
       "      <td>129.197393</td>\n",
       "      <td>27.888268</td>\n",
       "      <td>14.690875</td>\n",
       "      <td>81.054004</td>\n",
       "      <td>191.068901</td>\n",
       "      <td>87.719069</td>\n",
       "      <td>135680.914339</td>\n",
       "    </tr>\n",
       "    <tr>\n",
       "      <th>max</th>\n",
       "      <td>25061.000000</td>\n",
       "      <td>1072.00000</td>\n",
       "      <td>2601.00000</td>\n",
       "      <td>201.000000</td>\n",
       "      <td>78.000000</td>\n",
       "      <td>57.000000</td>\n",
       "      <td>114.000000</td>\n",
       "      <td>282.000000</td>\n",
       "      <td>105.400000</td>\n",
       "      <td>207943.000000</td>\n",
       "    </tr>\n",
       "  </tbody>\n",
       "</table>\n",
       "</div>"
      ],
      "text/plain": [
       "                HP      Attack     Defense       Speed        Res        Acc  \\\n",
       "mean  16641.743017   780.49162  2000.52514  129.197393  27.888268  14.690875   \n",
       "max   25061.000000  1072.00000  2601.00000  201.000000  78.000000  57.000000   \n",
       "\n",
       "           CRate        CDmg         Eff         Eff.HP  \n",
       "mean   81.054004  191.068901   87.719069  135680.914339  \n",
       "max   114.000000  282.000000  105.400000  207943.000000  "
      ]
     },
     "metadata": {},
     "output_type": "display_data"
    }
   ],
   "source": [
    "cols = ['HP', 'Attack', 'Defense', 'Speed', 'Res', 'Acc', 'CRate', 'CDmg', 'Eff', 'Eff.HP']\n",
    "df_best = pd.DataFrame(columns=[\"ID\"] + cols)\n",
    "df_best.set_index(\"ID\", drop=True, inplace=True)\n",
    "\n",
    "display(df_stars6[cols].describe().loc[['mean', 'max']])"
   ]
  },
  {
   "cell_type": "markdown",
   "metadata": {},
   "source": [
    "# Best 10 Builds by Avg Eff"
   ]
  },
  {
   "cell_type": "code",
   "execution_count": 18,
   "metadata": {},
   "outputs": [
    {
     "name": "stdout",
     "output_type": "stream",
     "text": [
      "<table border=\"1\" class=\"dataframe\">\n",
      "  <thead>\n",
      "    <tr style=\"text-align: right;\">\n",
      "      <th></th>\n",
      "      <th>HP</th>\n",
      "      <th>Attack</th>\n",
      "      <th>Defense</th>\n",
      "      <th>Speed</th>\n",
      "      <th>Res</th>\n",
      "      <th>Acc</th>\n",
      "      <th>CRate</th>\n",
      "      <th>CDmg</th>\n",
      "      <th>Eff</th>\n",
      "      <th>Eff.HP</th>\n",
      "      <th>Sets</th>\n",
      "      <th>Slot2</th>\n",
      "      <th>Slot4</th>\n",
      "      <th>Slot6</th>\n",
      "    </tr>\n",
      "  </thead>\n",
      "  <tbody>\n",
      "    <tr>\n",
      "      <th>0</th>\n",
      "      <td>21724</td>\n",
      "      <td>894</td>\n",
      "      <td>2119</td>\n",
      "      <td>114</td>\n",
      "      <td>15</td>\n",
      "      <td>10</td>\n",
      "      <td>102</td>\n",
      "      <td>194</td>\n",
      "      <td>105.40</td>\n",
      "      <td>185881</td>\n",
      "      <td>Guard + Shield + Will</td>\n",
      "      <td>DEF%</td>\n",
      "      <td>CDmg%</td>\n",
      "      <td>DEF%</td>\n",
      "    </tr>\n",
      "    <tr>\n",
      "      <th>1</th>\n",
      "      <td>18490</td>\n",
      "      <td>888</td>\n",
      "      <td>2130</td>\n",
      "      <td>164</td>\n",
      "      <td>15</td>\n",
      "      <td>13</td>\n",
      "      <td>97</td>\n",
      "      <td>168</td>\n",
      "      <td>104.91</td>\n",
      "      <td>158922</td>\n",
      "      <td>Guard + Will</td>\n",
      "      <td>DEF%</td>\n",
      "      <td>CDmg%</td>\n",
      "      <td>DEF%</td>\n",
      "    </tr>\n",
      "    <tr>\n",
      "      <th>2</th>\n",
      "      <td>17925</td>\n",
      "      <td>962</td>\n",
      "      <td>2274</td>\n",
      "      <td>118</td>\n",
      "      <td>30</td>\n",
      "      <td>7</td>\n",
      "      <td>84</td>\n",
      "      <td>220</td>\n",
      "      <td>103.86</td>\n",
      "      <td>163100</td>\n",
      "      <td>Blade + Guard + Will</td>\n",
      "      <td>DEF%</td>\n",
      "      <td>CDmg%</td>\n",
      "      <td>DEF%</td>\n",
      "    </tr>\n",
      "    <tr>\n",
      "      <th>3</th>\n",
      "      <td>15910</td>\n",
      "      <td>737</td>\n",
      "      <td>2192</td>\n",
      "      <td>118</td>\n",
      "      <td>24</td>\n",
      "      <td>15</td>\n",
      "      <td>100</td>\n",
      "      <td>261</td>\n",
      "      <td>103.01</td>\n",
      "      <td>140198</td>\n",
      "      <td>Rage + Will</td>\n",
      "      <td>DEF%</td>\n",
      "      <td>CDmg%</td>\n",
      "      <td>DEF%</td>\n",
      "    </tr>\n",
      "    <tr>\n",
      "      <th>4</th>\n",
      "      <td>20146</td>\n",
      "      <td>788</td>\n",
      "      <td>2328</td>\n",
      "      <td>98</td>\n",
      "      <td>21</td>\n",
      "      <td>16</td>\n",
      "      <td>80</td>\n",
      "      <td>252</td>\n",
      "      <td>102.84</td>\n",
      "      <td>187116</td>\n",
      "      <td>Guard + Rage</td>\n",
      "      <td>DEF%</td>\n",
      "      <td>CDmg%</td>\n",
      "      <td>DEF%</td>\n",
      "    </tr>\n",
      "    <tr>\n",
      "      <th>5</th>\n",
      "      <td>23151</td>\n",
      "      <td>935</td>\n",
      "      <td>2165</td>\n",
      "      <td>162</td>\n",
      "      <td>27</td>\n",
      "      <td>16</td>\n",
      "      <td>87</td>\n",
      "      <td>177</td>\n",
      "      <td>102.69</td>\n",
      "      <td>201819</td>\n",
      "      <td>Blade + Guard + Guard</td>\n",
      "      <td>DEF%</td>\n",
      "      <td>CDmg%</td>\n",
      "      <td>DEF%</td>\n",
      "    </tr>\n",
      "    <tr>\n",
      "      <th>6</th>\n",
      "      <td>15325</td>\n",
      "      <td>904</td>\n",
      "      <td>2251</td>\n",
      "      <td>161</td>\n",
      "      <td>15</td>\n",
      "      <td>0</td>\n",
      "      <td>103</td>\n",
      "      <td>197</td>\n",
      "      <td>102.09</td>\n",
      "      <td>138208</td>\n",
      "      <td>Blade + Guard + Will</td>\n",
      "      <td>DEF%</td>\n",
      "      <td>CDmg%</td>\n",
      "      <td>DEF%</td>\n",
      "    </tr>\n",
      "    <tr>\n",
      "      <th>7</th>\n",
      "      <td>21166</td>\n",
      "      <td>1004</td>\n",
      "      <td>2066</td>\n",
      "      <td>165</td>\n",
      "      <td>22</td>\n",
      "      <td>8</td>\n",
      "      <td>68</td>\n",
      "      <td>206</td>\n",
      "      <td>102.03</td>\n",
      "      <td>177181</td>\n",
      "      <td>Rage + Will</td>\n",
      "      <td>DEF%</td>\n",
      "      <td>CDmg%</td>\n",
      "      <td>DEF%</td>\n",
      "    </tr>\n",
      "    <tr>\n",
      "      <th>8</th>\n",
      "      <td>17702</td>\n",
      "      <td>1028</td>\n",
      "      <td>2004</td>\n",
      "      <td>143</td>\n",
      "      <td>19</td>\n",
      "      <td>4</td>\n",
      "      <td>82</td>\n",
      "      <td>201</td>\n",
      "      <td>101.45</td>\n",
      "      <td>144342</td>\n",
      "      <td>Vampire + Will</td>\n",
      "      <td>DEF%</td>\n",
      "      <td>CDmg%</td>\n",
      "      <td>DEF%</td>\n",
      "    </tr>\n",
      "    <tr>\n",
      "      <th>9</th>\n",
      "      <td>19089</td>\n",
      "      <td>687</td>\n",
      "      <td>2234</td>\n",
      "      <td>132</td>\n",
      "      <td>15</td>\n",
      "      <td>13</td>\n",
      "      <td>92</td>\n",
      "      <td>237</td>\n",
      "      <td>101.40</td>\n",
      "      <td>171018</td>\n",
      "      <td>Blade + Guard + Will</td>\n",
      "      <td>DEF%</td>\n",
      "      <td>CDmg%</td>\n",
      "      <td>DEF%</td>\n",
      "    </tr>\n",
      "  </tbody>\n",
      "</table>\n"
     ]
    }
   ],
   "source": [
    "print(df_stars6.drop(['Acquired', 'Slot1', 'Slot3', 'Slot5', 'Level', 'Stars', 'Skillups'], axis=1).reset_index(drop=True).sort_values(['Eff'], ascending=False).head(10).to_html())"
   ]
  },
  {
   "cell_type": "markdown",
   "metadata": {},
   "source": [
    "# Most common Builds"
   ]
  },
  {
   "cell_type": "code",
   "execution_count": 19,
   "metadata": {},
   "outputs": [
    {
     "name": "stdout",
     "output_type": "stream",
     "text": [
      "{'build': ['DEF%/CDmg%/DEF%', 'DEF%/DEF%/DEF%'], 'count': [520, 10]}\n"
     ]
    },
    {
     "data": {
      "image/png": "[encoded data removed]",
      "text/plain": [
       "<Figure size 720x360 with 1 Axes>"
      ]
     },
     "metadata": {},
     "output_type": "display_data"
    }
   ],
   "source": [
    "fig = plt.figure(figsize=(10, 5))\n",
    "\n",
    "builds_count = df_stars6.groupby([\"Slot2\", \"Slot4\", \"Slot6\"]).size().reset_index(name='Count')\n",
    "builds_count = builds_count.sort_values([\"Count\"], ascending=False) # single builds to drop\n",
    "\n",
    "builds_count_proper = dict()\n",
    "for row in builds_count.values.tolist():\n",
    "    set_temp = row[:3]\n",
    "    set_temp.sort()\n",
    "    set_temp_txt = '/'.join(set_temp)\n",
    "    if set_temp_txt not in builds_count_proper:\n",
    "        builds_count_proper[set_temp_txt] = {\n",
    "            'build': '/'.join(row[:3]),\n",
    "            'count': 0,\n",
    "        }\n",
    "    builds_count_proper[set_temp_txt]['count'] += row[3]\n",
    "\n",
    "builds_count_final = list()\n",
    "for b in builds_count_proper.values():\n",
    "    if b['count'] < 5:\n",
    "        continue\n",
    "    builds_count_final.append(b)\n",
    "    \n",
    "builds_count = sorted(builds_count_final, key=lambda k: k['count'], reverse=True)\n",
    "builds_count = {k: [dic[k] for dic in builds_count] for k in builds_count[0]}\n",
    "print(builds_count)\n",
    "\n",
    "builds_common = sns.barplot(x=builds_count['build'], y=builds_count['count'])\n",
    "_ = builds_common.set_xticklabels(builds_common.get_xticklabels(), rotation=45, horizontalalignment='right')\n",
    "plt.tick_params(labelcolor='white')\n",
    "plt.savefig(monster + \"_build_common.png\", transparent=True, bbox_inches = \"tight\")"
   ]
  },
  {
   "cell_type": "markdown",
   "metadata": {},
   "source": [
    "# Most frequent slot 2"
   ]
  },
  {
   "cell_type": "code",
   "execution_count": 20,
   "metadata": {},
   "outputs": [
    {
     "data": {
      "image/png": "[encoded data removed]",
      "text/plain": [
       "<Figure size 720x360 with 1 Axes>"
      ]
     },
     "metadata": {},
     "output_type": "display_data"
    }
   ],
   "source": [
    "fig = plt.figure(figsize=(10, 5))\n",
    "\n",
    "counts_slot2 = df_stars6[\"Slot2\"].value_counts()\n",
    "counts_slot2 = counts_slot2[counts_slot2 > 2]\n",
    "x, y = counts_slot2.index, counts_slot2.values\n",
    "slot2 = sns.barplot(x=x, y=y)\n",
    "_ = slot2.set_xticklabels(slot2.get_xticklabels(), rotation=45, horizontalalignment='right')\n",
    "plt.tick_params(labelcolor='white')\n",
    "plt.savefig(monster + \"_slot_2.png\", transparent=True, bbox_inches = \"tight\")"
   ]
  },
  {
   "cell_type": "markdown",
   "metadata": {},
   "source": [
    "# Most frequent slot 4"
   ]
  },
  {
   "cell_type": "code",
   "execution_count": 21,
   "metadata": {},
   "outputs": [
    {
     "data": {
      "image/png": "[encoded data removed]",
      "text/plain": [
       "<Figure size 720x360 with 1 Axes>"
      ]
     },
     "metadata": {},
     "output_type": "display_data"
    }
   ],
   "source": [
    "fig = plt.figure(figsize=(10, 5))\n",
    "\n",
    "counts_slot4 = df_stars6[\"Slot4\"].value_counts()\n",
    "counts_slot4 = counts_slot4[counts_slot4 > 2]\n",
    "x, y = counts_slot4.index, counts_slot4.values\n",
    "slot4 = sns.barplot(x=x, y=y)\n",
    "_ = slot4.set_xticklabels(slot4.get_xticklabels(), rotation=45, horizontalalignment='right')\n",
    "plt.tick_params(labelcolor='white')\n",
    "plt.savefig(monster + \"_slot_4.png\", transparent=True, bbox_inches = \"tight\")"
   ]
  },
  {
   "cell_type": "markdown",
   "metadata": {},
   "source": [
    "# Most frequent slot 6"
   ]
  },
  {
   "cell_type": "code",
   "execution_count": 22,
   "metadata": {},
   "outputs": [
    {
     "data": {
      "image/png": "[encoded data removed]",
      "text/plain": [
       "<Figure size 720x360 with 1 Axes>"
      ]
     },
     "metadata": {},
     "output_type": "display_data"
    }
   ],
   "source": [
    "fig = plt.figure(figsize=(10, 5))\n",
    "\n",
    "counts_slot6 = df_stars6[\"Slot6\"].value_counts()\n",
    "counts_slot6 = counts_slot6[counts_slot6 > 2]\n",
    "x, y = counts_slot6.index, counts_slot6.values\n",
    "slot6 = sns.barplot(x=x, y=y)\n",
    "_ = slot6.set_xticklabels(slot6.get_xticklabels(), rotation=45, horizontalalignment='right')\n",
    "plt.tick_params(labelcolor='white')\n",
    "plt.savefig(monster + \"_slot_6.png\", transparent=True, bbox_inches = \"tight\")"
   ]
  },
  {
   "cell_type": "markdown",
   "metadata": {},
   "source": [
    "# Chosen Skill Damage (Ignore Def)"
   ]
  },
  {
   "cell_type": "code",
   "execution_count": 64,
   "metadata": {},
   "outputs": [
    {
     "name": "stdout",
     "output_type": "stream",
     "text": [
      "27378.686105263158\n",
      "20662.95948564149\n"
     ]
    },
    {
     "data": {
      "image/png": "[encoded data removed]",
      "text/plain": [
       "<Figure size 720x360 with 1 Axes>"
      ]
     },
     "metadata": {},
     "output_type": "display_data"
    }
   ],
   "source": [
    "# BULLDOZER:\n",
    "#     IGNORE DEF\n",
    "#     21% DEF LEADER SKILL\n",
    "#     GUILD BATTLE\n",
    "#     MAX DEFENSE & CRIT DMG TOWER\n",
    "#     MAX DEFENSE & CRIT DMG FLAG\n",
    "#     SKILLUP BONUS BASED ON ACTUAL SKILLUPS\n",
    "#     DEFENSE BUFF\n",
    "#     100% CRIT RATE\n",
    "def calc_ignore_defense_dmg(stat, skillups, crit_dmg):\n",
    "    crit_dmg = crit_dmg / 100\n",
    "    skillups_bonus = [0, .05, .15, .25, .25] # different for every monster\n",
    "    skillups = eval(skillups)\n",
    "    skillup_bonus = skillups_bonus[skillups[2] - 1] # different for every monster, 2 -> skill #3\n",
    "    dmg_reduction = 1000 / 1140\n",
    "    \n",
    "    leader_skill = .21 # different for every monster\n",
    "    base_stat = 615 # different for every monster\n",
    "    buff = .7 # different for every buff\n",
    "    \n",
    "    total_stat = (stat + leader_skill * base_stat) * (buff + 1) # (stat + leader_skill * base_stat) * buff \n",
    "    \n",
    "    # stat * multiplier * (100% + glory tower defense + guild flag defense + glory tower cdmg + guild flag cdmg + crit dmg + skillups) * damage reduction\n",
    "    dmg = total_stat * 1.6 * (1 + .2 + .2 + .25 + .25  + crit_dmg + skillup_bonus) * dmg_reduction\n",
    "    return dmg\n",
    "\n",
    "dmg = [calc_ignore_defense_dmg(stat, skillups, crit_dmg) for stat, skillups, crit_dmg in zip(df_stars6[\"Defense\"], df_stars6[\"Skillups\"], df_stars6[\"CDmg\"])]\n",
    "print(max(dmg))\n",
    "print(sum(dmg) / len(dmg))\n",
    "fig = plt.figure(figsize=(10, 5))\n",
    "sns.distplot(dmg, bins=20, kde=False, rug=True).set_xlabel(None)\n",
    "plt.tick_params(labelcolor='white')\n",
    "plt.savefig(monster + \"_dist_dmg.png\", transparent=True,  bbox_inches = \"tight\")"
   ]
  }
 ],
 "metadata": {
  "kernelspec": {
   "display_name": "Python 3",
   "language": "python",
   "name": "python3"
  },
  "language_info": {
   "codemirror_mode": {
    "name": "ipython",
    "version": 3
   },
   "file_extension": ".py",
   "mimetype": "text/x-python",
   "name": "python",
   "nbconvert_exporter": "python",
   "pygments_lexer": "ipython3",
   "version": "3.7.6"
  }
 },
 "nbformat": 4,
 "nbformat_minor": 4
}
