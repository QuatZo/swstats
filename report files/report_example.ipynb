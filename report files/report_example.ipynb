{
 "cells": [
  {
   "cell_type": "markdown",
   "metadata": {},
   "source": [
    "# Setting Up"
   ]
  },
  {
   "cell_type": "code",
   "execution_count": 1,
   "metadata": {
    "scrolled": false
   },
   "outputs": [
    {
     "name": "stdout",
     "output_type": "stream",
     "text": [
      "Index(['Level', 'Stars', 'HP', 'Attack', 'Defense', 'Speed', 'Res', 'Acc',\n",
      "       'CRate', 'CDmg', 'Eff', 'Eff.HP', 'Sets', 'Skillups', 'Acquired',\n",
      "       'Slot1', 'Slot2', 'Slot3', 'Slot4', 'Slot5', 'Slot6'],\n",
      "      dtype='object')\n"
     ]
    },
    {
     "data": {
      "text/html": [
       "<div>\n",
       "<style scoped>\n",
       "    .dataframe tbody tr th:only-of-type {\n",
       "        vertical-align: middle;\n",
       "    }\n",
       "\n",
       "    .dataframe tbody tr th {\n",
       "        vertical-align: top;\n",
       "    }\n",
       "\n",
       "    .dataframe thead th {\n",
       "        text-align: right;\n",
       "    }\n",
       "</style>\n",
       "<table border=\"1\" class=\"dataframe\">\n",
       "  <thead>\n",
       "    <tr style=\"text-align: right;\">\n",
       "      <th></th>\n",
       "      <th>Level</th>\n",
       "      <th>Stars</th>\n",
       "      <th>HP</th>\n",
       "      <th>Attack</th>\n",
       "      <th>Defense</th>\n",
       "      <th>Speed</th>\n",
       "      <th>Res</th>\n",
       "      <th>Acc</th>\n",
       "      <th>CRate</th>\n",
       "      <th>CDmg</th>\n",
       "      <th>...</th>\n",
       "      <th>Eff.HP</th>\n",
       "      <th>Sets</th>\n",
       "      <th>Skillups</th>\n",
       "      <th>Acquired</th>\n",
       "      <th>Slot1</th>\n",
       "      <th>Slot2</th>\n",
       "      <th>Slot3</th>\n",
       "      <th>Slot4</th>\n",
       "      <th>Slot5</th>\n",
       "      <th>Slot6</th>\n",
       "    </tr>\n",
       "  </thead>\n",
       "  <tbody>\n",
       "    <tr>\n",
       "      <th>0</th>\n",
       "      <td>40</td>\n",
       "      <td>6</td>\n",
       "      <td>34336</td>\n",
       "      <td>2139</td>\n",
       "      <td>1507</td>\n",
       "      <td>232</td>\n",
       "      <td>15</td>\n",
       "      <td>87</td>\n",
       "      <td>21</td>\n",
       "      <td>50</td>\n",
       "      <td>...</td>\n",
       "      <td>220248</td>\n",
       "      <td>Violent + Will</td>\n",
       "      <td>[4, 5, 5]</td>\n",
       "      <td>2018-03-20</td>\n",
       "      <td>ATK+</td>\n",
       "      <td>SPD</td>\n",
       "      <td>DEF+</td>\n",
       "      <td>ATK%</td>\n",
       "      <td>HP+</td>\n",
       "      <td>HP%</td>\n",
       "    </tr>\n",
       "    <tr>\n",
       "      <th>1</th>\n",
       "      <td>40</td>\n",
       "      <td>6</td>\n",
       "      <td>38585</td>\n",
       "      <td>1819</td>\n",
       "      <td>1532</td>\n",
       "      <td>245</td>\n",
       "      <td>15</td>\n",
       "      <td>67</td>\n",
       "      <td>26</td>\n",
       "      <td>50</td>\n",
       "      <td>...</td>\n",
       "      <td>250879</td>\n",
       "      <td>Violent + Will</td>\n",
       "      <td>[4, 5, 5]</td>\n",
       "      <td>2017-02-28</td>\n",
       "      <td>ATK+</td>\n",
       "      <td>SPD</td>\n",
       "      <td>DEF+</td>\n",
       "      <td>HP%</td>\n",
       "      <td>HP+</td>\n",
       "      <td>HP%</td>\n",
       "    </tr>\n",
       "    <tr>\n",
       "      <th>2</th>\n",
       "      <td>40</td>\n",
       "      <td>6</td>\n",
       "      <td>33768</td>\n",
       "      <td>2563</td>\n",
       "      <td>1378</td>\n",
       "      <td>208</td>\n",
       "      <td>19</td>\n",
       "      <td>84</td>\n",
       "      <td>41</td>\n",
       "      <td>50</td>\n",
       "      <td>...</td>\n",
       "      <td>201359</td>\n",
       "      <td>Violent + Will</td>\n",
       "      <td>[4, 5, 5]</td>\n",
       "      <td>2017-08-06</td>\n",
       "      <td>ATK+</td>\n",
       "      <td>ATK%</td>\n",
       "      <td>DEF+</td>\n",
       "      <td>ATK%</td>\n",
       "      <td>HP+</td>\n",
       "      <td>HP%</td>\n",
       "    </tr>\n",
       "    <tr>\n",
       "      <th>3</th>\n",
       "      <td>40</td>\n",
       "      <td>6</td>\n",
       "      <td>36232</td>\n",
       "      <td>2011</td>\n",
       "      <td>1470</td>\n",
       "      <td>209</td>\n",
       "      <td>15</td>\n",
       "      <td>50</td>\n",
       "      <td>82</td>\n",
       "      <td>50</td>\n",
       "      <td>...</td>\n",
       "      <td>227718</td>\n",
       "      <td>Tolerance + Violent</td>\n",
       "      <td>[4, 5, 5]</td>\n",
       "      <td>2017-03-16</td>\n",
       "      <td>ATK+</td>\n",
       "      <td>SPD</td>\n",
       "      <td>DEF+</td>\n",
       "      <td>HP%</td>\n",
       "      <td>HP+</td>\n",
       "      <td>HP%</td>\n",
       "    </tr>\n",
       "    <tr>\n",
       "      <th>4</th>\n",
       "      <td>40</td>\n",
       "      <td>6</td>\n",
       "      <td>32464</td>\n",
       "      <td>1813</td>\n",
       "      <td>1360</td>\n",
       "      <td>234</td>\n",
       "      <td>15</td>\n",
       "      <td>60</td>\n",
       "      <td>101</td>\n",
       "      <td>64</td>\n",
       "      <td>...</td>\n",
       "      <td>191538</td>\n",
       "      <td>Violent + Will</td>\n",
       "      <td>[4, 5, 5]</td>\n",
       "      <td>2019-06-04</td>\n",
       "      <td>ATK+</td>\n",
       "      <td>SPD</td>\n",
       "      <td>DEF+</td>\n",
       "      <td>CRate%</td>\n",
       "      <td>HP+</td>\n",
       "      <td>HP%</td>\n",
       "    </tr>\n",
       "    <tr>\n",
       "      <th>...</th>\n",
       "      <td>...</td>\n",
       "      <td>...</td>\n",
       "      <td>...</td>\n",
       "      <td>...</td>\n",
       "      <td>...</td>\n",
       "      <td>...</td>\n",
       "      <td>...</td>\n",
       "      <td>...</td>\n",
       "      <td>...</td>\n",
       "      <td>...</td>\n",
       "      <td>...</td>\n",
       "      <td>...</td>\n",
       "      <td>...</td>\n",
       "      <td>...</td>\n",
       "      <td>...</td>\n",
       "      <td>...</td>\n",
       "      <td>...</td>\n",
       "      <td>...</td>\n",
       "      <td>...</td>\n",
       "      <td>...</td>\n",
       "      <td>...</td>\n",
       "    </tr>\n",
       "    <tr>\n",
       "      <th>638</th>\n",
       "      <td>40</td>\n",
       "      <td>6</td>\n",
       "      <td>16238</td>\n",
       "      <td>1711</td>\n",
       "      <td>794</td>\n",
       "      <td>183</td>\n",
       "      <td>22</td>\n",
       "      <td>51</td>\n",
       "      <td>30</td>\n",
       "      <td>67</td>\n",
       "      <td>...</td>\n",
       "      <td>63636</td>\n",
       "      <td>Focus + Violent</td>\n",
       "      <td>[4, 5, 5]</td>\n",
       "      <td>2015-02-08</td>\n",
       "      <td>ATK+</td>\n",
       "      <td>SPD</td>\n",
       "      <td>DEF+</td>\n",
       "      <td>ATK%</td>\n",
       "      <td>HP+</td>\n",
       "      <td>ATK%</td>\n",
       "    </tr>\n",
       "    <tr>\n",
       "      <th>639</th>\n",
       "      <td>40</td>\n",
       "      <td>6</td>\n",
       "      <td>18703</td>\n",
       "      <td>1865</td>\n",
       "      <td>911</td>\n",
       "      <td>119</td>\n",
       "      <td>37</td>\n",
       "      <td>39</td>\n",
       "      <td>79</td>\n",
       "      <td>59</td>\n",
       "      <td>...</td>\n",
       "      <td>80955</td>\n",
       "      <td>Energy + Violent</td>\n",
       "      <td>[4, 5, 5]</td>\n",
       "      <td>2015-11-13</td>\n",
       "      <td>ATK+</td>\n",
       "      <td>ATK%</td>\n",
       "      <td>DEF+</td>\n",
       "      <td>CRate%</td>\n",
       "      <td>HP+</td>\n",
       "      <td>ATK%</td>\n",
       "    </tr>\n",
       "    <tr>\n",
       "      <th>640</th>\n",
       "      <td>40</td>\n",
       "      <td>6</td>\n",
       "      <td>14680</td>\n",
       "      <td>1828</td>\n",
       "      <td>764</td>\n",
       "      <td>169</td>\n",
       "      <td>34</td>\n",
       "      <td>84</td>\n",
       "      <td>33</td>\n",
       "      <td>57</td>\n",
       "      <td>...</td>\n",
       "      <td>55989</td>\n",
       "      <td>Focus + Violent</td>\n",
       "      <td>[4, 5, 5]</td>\n",
       "      <td>2016-07-04</td>\n",
       "      <td>ATK+</td>\n",
       "      <td>SPD</td>\n",
       "      <td>DEF+</td>\n",
       "      <td>ATK%</td>\n",
       "      <td>HP+</td>\n",
       "      <td>ATK%</td>\n",
       "    </tr>\n",
       "    <tr>\n",
       "      <th>641</th>\n",
       "      <td>40</td>\n",
       "      <td>6</td>\n",
       "      <td>16603</td>\n",
       "      <td>1387</td>\n",
       "      <td>740</td>\n",
       "      <td>139</td>\n",
       "      <td>29</td>\n",
       "      <td>35</td>\n",
       "      <td>56</td>\n",
       "      <td>82</td>\n",
       "      <td>...</td>\n",
       "      <td>61929</td>\n",
       "      <td>Fatal + Revenge</td>\n",
       "      <td>[1, 1, 1]</td>\n",
       "      <td>2020-02-19</td>\n",
       "      <td>ATK+</td>\n",
       "      <td>SPD</td>\n",
       "      <td>DEF+</td>\n",
       "      <td>CRate%</td>\n",
       "      <td>HP+</td>\n",
       "      <td>ATK%</td>\n",
       "    </tr>\n",
       "    <tr>\n",
       "      <th>642</th>\n",
       "      <td>35</td>\n",
       "      <td>5</td>\n",
       "      <td>12891</td>\n",
       "      <td>821</td>\n",
       "      <td>862</td>\n",
       "      <td>104</td>\n",
       "      <td>23</td>\n",
       "      <td>46</td>\n",
       "      <td>19</td>\n",
       "      <td>96</td>\n",
       "      <td>...</td>\n",
       "      <td>53588</td>\n",
       "      <td>Energy + Violent</td>\n",
       "      <td>[1, 1, 1]</td>\n",
       "      <td>2019-09-06</td>\n",
       "      <td>ATK+</td>\n",
       "      <td>ATK%</td>\n",
       "      <td>DEF+</td>\n",
       "      <td>CDmg%</td>\n",
       "      <td>HP+</td>\n",
       "      <td>DEF+</td>\n",
       "    </tr>\n",
       "  </tbody>\n",
       "</table>\n",
       "<p>623 rows × 21 columns</p>\n",
       "</div>"
      ],
      "text/plain": [
       "     Level  Stars     HP  Attack  Defense  Speed  Res  Acc  CRate  CDmg  ...  \\\n",
       "0       40      6  34336    2139     1507    232   15   87     21    50  ...   \n",
       "1       40      6  38585    1819     1532    245   15   67     26    50  ...   \n",
       "2       40      6  33768    2563     1378    208   19   84     41    50  ...   \n",
       "3       40      6  36232    2011     1470    209   15   50     82    50  ...   \n",
       "4       40      6  32464    1813     1360    234   15   60    101    64  ...   \n",
       "..     ...    ...    ...     ...      ...    ...  ...  ...    ...   ...  ...   \n",
       "638     40      6  16238    1711      794    183   22   51     30    67  ...   \n",
       "639     40      6  18703    1865      911    119   37   39     79    59  ...   \n",
       "640     40      6  14680    1828      764    169   34   84     33    57  ...   \n",
       "641     40      6  16603    1387      740    139   29   35     56    82  ...   \n",
       "642     35      5  12891     821      862    104   23   46     19    96  ...   \n",
       "\n",
       "     Eff.HP                 Sets   Skillups    Acquired Slot1 Slot2 Slot3  \\\n",
       "0    220248       Violent + Will  [4, 5, 5]  2018-03-20  ATK+   SPD  DEF+   \n",
       "1    250879       Violent + Will  [4, 5, 5]  2017-02-28  ATK+   SPD  DEF+   \n",
       "2    201359       Violent + Will  [4, 5, 5]  2017-08-06  ATK+  ATK%  DEF+   \n",
       "3    227718  Tolerance + Violent  [4, 5, 5]  2017-03-16  ATK+   SPD  DEF+   \n",
       "4    191538       Violent + Will  [4, 5, 5]  2019-06-04  ATK+   SPD  DEF+   \n",
       "..      ...                  ...        ...         ...   ...   ...   ...   \n",
       "638   63636      Focus + Violent  [4, 5, 5]  2015-02-08  ATK+   SPD  DEF+   \n",
       "639   80955     Energy + Violent  [4, 5, 5]  2015-11-13  ATK+  ATK%  DEF+   \n",
       "640   55989      Focus + Violent  [4, 5, 5]  2016-07-04  ATK+   SPD  DEF+   \n",
       "641   61929      Fatal + Revenge  [1, 1, 1]  2020-02-19  ATK+   SPD  DEF+   \n",
       "642   53588     Energy + Violent  [1, 1, 1]  2019-09-06  ATK+  ATK%  DEF+   \n",
       "\n",
       "      Slot4 Slot5 Slot6  \n",
       "0      ATK%   HP+   HP%  \n",
       "1       HP%   HP+   HP%  \n",
       "2      ATK%   HP+   HP%  \n",
       "3       HP%   HP+   HP%  \n",
       "4    CRate%   HP+   HP%  \n",
       "..      ...   ...   ...  \n",
       "638    ATK%   HP+  ATK%  \n",
       "639  CRate%   HP+  ATK%  \n",
       "640    ATK%   HP+  ATK%  \n",
       "641  CRate%   HP+  ATK%  \n",
       "642   CDmg%   HP+  DEF+  \n",
       "\n",
       "[623 rows x 21 columns]"
      ]
     },
     "execution_count": 1,
     "metadata": {},
     "output_type": "execute_result"
    }
   ],
   "source": [
    "import pandas as pd\n",
    "import numpy as np\n",
    "import matplotlib.pyplot as plt\n",
    "import matplotlib\n",
    "import seaborn as sns\n",
    "import scipy as stats\n",
    "\n",
    "sns.set(color_codes=True)\n",
    "sns.set_style(\"dark\")\n",
    "sns.set_context(\"poster\")\n",
    "matplotlib.rcParams['text.color'] = 'white'\n",
    "\n",
    "monster = \"seara\"\n",
    "filename = monster + \"_20200907.csv\"\n",
    "\n",
    "max_skills = [4, 5, 5]\n",
    "\n",
    "df = pd.read_csv(filename)\n",
    "df_full = pd.read_csv(filename)\n",
    "df_full = df_full[df_full[\"Stars\"] == 6]\n",
    "print(df.columns)\n",
    "runes_cols = [\"Slot\" + str(i) for i in range(1 ,7)]\n",
    "df.dropna(subset=runes_cols, how='any', inplace=True) # delete without runes\n",
    "df.sort_values([\"Eff\"], ascending=False, inplace=True)\n",
    "df"
   ]
  },
  {
   "cell_type": "markdown",
   "metadata": {},
   "source": [
    "# Stars Distribution, picking 6*"
   ]
  },
  {
   "cell_type": "code",
   "execution_count": 2,
   "metadata": {},
   "outputs": [
    {
     "name": "stdout",
     "output_type": "stream",
     "text": [
      "(608, 21)\n"
     ]
    },
    {
     "data": {
      "image/png": "[encoded data removed]",
      "text/plain": [
       "<Figure size 720x720 with 1 Axes>"
      ]
     },
     "metadata": {},
     "output_type": "display_data"
    }
   ],
   "source": [
    "fig = plt.figure(figsize=(10, 10))\n",
    "stars = df[\"Stars\"].value_counts()\n",
    "plt.pie(stars, labels=stars.index, autopct='%1.1f%%', colors=['g', 'r', 'b'])\n",
    "plt.savefig(monster + \"_pie_6stars.png\", transparent=True, bbox_inches = \"tight\")\n",
    "df_stars6 = df[df[\"Stars\"] == 6] # pick only 6*\n",
    "print(df_stars6.shape)"
   ]
  },
  {
   "cell_type": "markdown",
   "metadata": {},
   "source": [
    "# Runes "
   ]
  },
  {
   "cell_type": "code",
   "execution_count": 3,
   "metadata": {},
   "outputs": [
    {
     "data": {
      "image/png": "[encoded data removed]",
      "text/plain": [
       "<Figure size 720x720 with 1 Axes>"
      ]
     },
     "metadata": {},
     "output_type": "display_data"
    }
   ],
   "source": [
    "fig = plt.figure(figsize=(10, 10))\n",
    "df_runes = {\n",
    "    'Without\\nRunes': df_full.shape[0] - df_stars6.shape[0],\n",
    "    'With\\nRunes': df_stars6.shape[0],\n",
    "}\n",
    "plt.pie(df_runes.values(), labels=df_runes.keys(), autopct='%1.1f%%', colors=['r', 'g'])\n",
    "plt.savefig(monster + \"_pie_runes.png\", transparent=True, bbox_inches = \"tight\")\n",
    "plt.show()"
   ]
  },
  {
   "cell_type": "markdown",
   "metadata": {},
   "source": [
    "# Skilled Up"
   ]
  },
  {
   "cell_type": "code",
   "execution_count": 4,
   "metadata": {},
   "outputs": [
    {
     "name": "stdout",
     "output_type": "stream",
     "text": [
      "{'All': 523, 'None': 55, '2nd & 3rd': 11}\n"
     ]
    },
    {
     "data": {
      "image/png": "[encoded data removed]",
      "text/plain": [
       "<Figure size 720x720 with 1 Axes>"
      ]
     },
     "metadata": {},
     "output_type": "display_data"
    }
   ],
   "source": [
    "skills_count = {}\n",
    "\n",
    "for value, count in df_stars6['Skillups'].value_counts().items():\n",
    "    skillups = eval(value)\n",
    "    if skillups == max_skills:\n",
    "        skills_count['All'] = count\n",
    "    elif skillups[:2] == max_skills[:2] and count > 5:\n",
    "        skills_count['1st & 2nd'] = count\n",
    "    elif [skillups[0], skillups[2]] == [max_skills[0], max_skills[2]] and count > 5:\n",
    "        skills_count['1st & 3rd'] = count\n",
    "    elif skillups[1:] == max_skills[1:] and count > 5:\n",
    "        skills_count['2nd & 3rd'] = count\n",
    "    elif skillups[0] == max_skills[0] and count > 5:\n",
    "        skills_count['Only 1st'] = count\n",
    "    elif skillups[1] == max_skills[1] and count > 5:\n",
    "        skills_count['Only 2nd'] = count\n",
    "    elif skillups[2] == max_skills[2] and count > 5:\n",
    "        skills_count['Only 3rd'] = count\n",
    "    else:\n",
    "        if 'None' not in skills_count.keys():\n",
    "            skills_count['None'] = 0\n",
    "        skills_count['None'] += count\n",
    "\n",
    "print(skills_count)\n",
    "fig = plt.figure(figsize=(10, 10))\n",
    "plt.pie(list(skills_count.values()), labels=skills_count.keys(), autopct='%1.1f%%', colors=['g', 'r', 'b'])\n",
    "plt.savefig(monster + \"_pie_skillups.png\", transparent=True, bbox_inches = \"tight\")\n",
    "plt.show()"
   ]
  },
  {
   "cell_type": "markdown",
   "metadata": {},
   "source": [
    "# Eff. HP Distribution"
   ]
  },
  {
   "cell_type": "code",
   "execution_count": 5,
   "metadata": {},
   "outputs": [
    {
     "data": {
      "image/png": "[encoded data removed]",
      "text/plain": [
       "<Figure size 720x360 with 1 Axes>"
      ]
     },
     "metadata": {},
     "output_type": "display_data"
    }
   ],
   "source": [
    "fig = plt.figure(figsize=(10, 5))\n",
    "sns.distplot(df_stars6[\"Eff.HP\"], bins=20, kde=False, rug=True).set_xlabel(None)\n",
    "plt.tick_params(labelcolor='white')\n",
    "plt.savefig(monster + \"_dist_effhp.png\", transparent=True, bbox_inches = \"tight\")"
   ]
  },
  {
   "cell_type": "markdown",
   "metadata": {},
   "source": [
    "# HP Distribution"
   ]
  },
  {
   "cell_type": "code",
   "execution_count": 6,
   "metadata": {},
   "outputs": [
    {
     "data": {
      "image/png": "[encoded data removed]",
      "text/plain": [
       "<Figure size 720x360 with 1 Axes>"
      ]
     },
     "metadata": {},
     "output_type": "display_data"
    }
   ],
   "source": [
    "fig = plt.figure(figsize=(10, 5))\n",
    "sns.distplot(df_stars6[\"HP\"], bins=20, kde=False, rug=True).set_xlabel(None)\n",
    "plt.tick_params(labelcolor='white')\n",
    "plt.savefig(monster + \"_dist_hp.png\", transparent=True, bbox_inches = \"tight\")"
   ]
  },
  {
   "cell_type": "markdown",
   "metadata": {},
   "source": [
    "# Attack Distribution"
   ]
  },
  {
   "cell_type": "code",
   "execution_count": 7,
   "metadata": {},
   "outputs": [
    {
     "data": {
      "image/png": "[encoded data removed]",
      "text/plain": [
       "<Figure size 720x360 with 1 Axes>"
      ]
     },
     "metadata": {},
     "output_type": "display_data"
    }
   ],
   "source": [
    "fig = plt.figure(figsize=(10, 5))\n",
    "sns.distplot(df_stars6[\"Attack\"], bins=20, kde=False, rug=True).set_xlabel(None)\n",
    "plt.tick_params(labelcolor='white')\n",
    "plt.savefig(monster + \"_dist_attack.png\", transparent=True, bbox_inches = \"tight\")"
   ]
  },
  {
   "cell_type": "markdown",
   "metadata": {},
   "source": [
    "# Critical Rate Distribution"
   ]
  },
  {
   "cell_type": "code",
   "execution_count": 8,
   "metadata": {},
   "outputs": [
    {
     "data": {
      "image/png": "[encoded data removed]",
      "text/plain": [
       "<Figure size 720x360 with 1 Axes>"
      ]
     },
     "metadata": {},
     "output_type": "display_data"
    }
   ],
   "source": [
    "fig = plt.figure(figsize=(10, 5))\n",
    "sns.distplot(df_stars6[\"CRate\"], bins=20, kde=False, rug=True).set_xlabel(None)\n",
    "plt.tick_params(labelcolor='white')\n",
    "plt.savefig(monster + \"_dist_critrate.png\", transparent=True, bbox_inches = \"tight\")"
   ]
  },
  {
   "cell_type": "markdown",
   "metadata": {},
   "source": [
    "# Critical Damag Distribution"
   ]
  },
  {
   "cell_type": "code",
   "execution_count": 9,
   "metadata": {},
   "outputs": [
    {
     "data": {
      "image/png": "[encoded data removed]",
      "text/plain": [
       "<Figure size 720x360 with 1 Axes>"
      ]
     },
     "metadata": {},
     "output_type": "display_data"
    }
   ],
   "source": [
    "fig = plt.figure(figsize=(10, 5))\n",
    "sns.distplot(df_stars6[\"CDmg\"], bins=20, kde=False, rug=True).set_xlabel(None)\n",
    "plt.tick_params(labelcolor='white')\n",
    "plt.savefig(monster + \"_dist_critdmg.png\", transparent=True, bbox_inches = \"tight\")"
   ]
  },
  {
   "cell_type": "markdown",
   "metadata": {},
   "source": [
    "# Defense Distribution"
   ]
  },
  {
   "cell_type": "code",
   "execution_count": 10,
   "metadata": {},
   "outputs": [
    {
     "data": {
      "image/png": "[encoded data removed]",
      "text/plain": [
       "<Figure size 720x360 with 1 Axes>"
      ]
     },
     "metadata": {},
     "output_type": "display_data"
    }
   ],
   "source": [
    "fig = plt.figure(figsize=(10, 5))\n",
    "sns.distplot(df_stars6[\"Defense\"], bins=20, kde=False, rug=True).set_xlabel(None)\n",
    "plt.tick_params(labelcolor='white')\n",
    "plt.savefig(monster + \"_dist_defense.png\", transparent=True, bbox_inches = \"tight\")"
   ]
  },
  {
   "cell_type": "markdown",
   "metadata": {},
   "source": [
    "# Avg. Rune Distribution"
   ]
  },
  {
   "cell_type": "code",
   "execution_count": 11,
   "metadata": {},
   "outputs": [
    {
     "data": {
      "image/png": "[encoded data removed]",
      "text/plain": [
       "<Figure size 720x360 with 1 Axes>"
      ]
     },
     "metadata": {},
     "output_type": "display_data"
    }
   ],
   "source": [
    "fig = plt.figure(figsize=(10, 5))\n",
    "sns.distplot(df_stars6[\"Eff\"], bins=20, kde=False, rug=True).set_xlabel(None)\n",
    "plt.tick_params(labelcolor='white')\n",
    "plt.savefig(monster + \"_dist_rune_eff.png\", transparent=True, bbox_inches = \"tight\")"
   ]
  },
  {
   "cell_type": "markdown",
   "metadata": {},
   "source": [
    "# Accuracy Distribution"
   ]
  },
  {
   "cell_type": "code",
   "execution_count": 12,
   "metadata": {},
   "outputs": [
    {
     "data": {
      "image/png": "[encoded data removed]",
      "text/plain": [
       "<Figure size 720x360 with 1 Axes>"
      ]
     },
     "metadata": {},
     "output_type": "display_data"
    }
   ],
   "source": [
    "fig = plt.figure(figsize=(10, 5))\n",
    "sns.distplot(df_stars6[\"Acc\"], bins=20, kde=False, rug=True).set_xlabel(None)\n",
    "plt.tick_params(labelcolor='white')\n",
    "plt.savefig(monster + \"_dist_acc.png\", transparent=True, bbox_inches = \"tight\")"
   ]
  },
  {
   "cell_type": "markdown",
   "metadata": {},
   "source": [
    "# Resistance Distribution"
   ]
  },
  {
   "cell_type": "code",
   "execution_count": 13,
   "metadata": {},
   "outputs": [
    {
     "data": {
      "image/png": "[encoded data removed]",
      "text/plain": [
       "<Figure size 720x360 with 1 Axes>"
      ]
     },
     "metadata": {},
     "output_type": "display_data"
    }
   ],
   "source": [
    "fig = plt.figure(figsize=(10, 5))\n",
    "sns.distplot(df_stars6[\"Res\"], bins=20, kde=False, rug=True).set_xlabel(None)\n",
    "plt.tick_params(labelcolor='white')\n",
    "plt.savefig(monster + \"_dist_res.png\", transparent=True, bbox_inches = \"tight\")"
   ]
  },
  {
   "cell_type": "markdown",
   "metadata": {},
   "source": [
    "# Sets"
   ]
  },
  {
   "cell_type": "code",
   "execution_count": 14,
   "metadata": {},
   "outputs": [
    {
     "name": "stdout",
     "output_type": "stream",
     "text": [
      "Violent + Will       401\n",
      "Focus + Violent       42\n",
      "Violent               33\n",
      "Blade + Violent       25\n",
      "Revenge + Violent     24\n",
      "Energy + Violent      15\n",
      "Fatal + Will           6\n",
      "Endure + Violent       4\n",
      "Fatal + Focus          4\n",
      "Name: Sets, dtype: int64\n"
     ]
    },
    {
     "data": {
      "image/png": "[encoded data removed]",
      "text/plain": [
       "<Figure size 1440x360 with 1 Axes>"
      ]
     },
     "metadata": {},
     "output_type": "display_data"
    }
   ],
   "source": [
    "fig = plt.figure(figsize=(20, 5))\n",
    "counts = df_stars6[\"Sets\"].value_counts()\n",
    "counts = counts[counts > 3]\n",
    "print(counts)\n",
    "x, y = counts.index, counts.values\n",
    "sets = sns.barplot(x=x, y=y)\n",
    "_ = sets.set_xticklabels(sets.get_xticklabels(), rotation=45, horizontalalignment='right')\n",
    "plt.tick_params(labelcolor='white')\n",
    "plt.savefig(monster + \"_dist_sets.png\", transparent=True, bbox_inches = \"tight\")"
   ]
  },
  {
   "cell_type": "markdown",
   "metadata": {},
   "source": [
    "# 4-Rune Sets"
   ]
  },
  {
   "cell_type": "code",
   "execution_count": 15,
   "metadata": {},
   "outputs": [
    {
     "data": {
      "image/png": "[encoded data removed]",
      "text/plain": [
       "<Figure size 1440x360 with 1 Axes>"
      ]
     },
     "metadata": {},
     "output_type": "display_data"
    }
   ],
   "source": [
    "sets_4 = ['Violent', 'Swift', 'Rage', 'Fatal', 'Despair', 'Vampire']\n",
    "fig = plt.figure(figsize=(20, 5))\n",
    "counts = df_stars6[\"Sets\"].value_counts()\n",
    "set_sum = dict()\n",
    "for set_4 in sets_4:\n",
    "    indexes = [val for val in counts.index if set_4 in val]\n",
    "    set_count = counts.loc[indexes]\n",
    "    set_sum[set_4] = set_count.sum()\n",
    "set_sum = {k: v for k, v in sorted(set_sum.items(), key=lambda item: item[1], reverse=True)}\n",
    "x, y = list(set_sum.keys()), list(set_sum.values())\n",
    "sets = sns.barplot(x=x, y=y)\n",
    "_ = sets.set_xticklabels(sets.get_xticklabels(), rotation=45, horizontalalignment='right')\n",
    "plt.tick_params(labelcolor='white')\n",
    "plt.savefig(monster + \"_dist_4sets.png\", transparent=True, bbox_inches = \"tight\")"
   ]
  },
  {
   "cell_type": "markdown",
   "metadata": {},
   "source": [
    "# Speed Distribution"
   ]
  },
  {
   "cell_type": "code",
   "execution_count": 16,
   "metadata": {},
   "outputs": [
    {
     "data": {
      "image/png": "[encoded data removed]",
      "text/plain": [
       "<Figure size 720x360 with 1 Axes>"
      ]
     },
     "metadata": {},
     "output_type": "display_data"
    }
   ],
   "source": [
    "fig = plt.figure(figsize=(10, 5))\n",
    "sns.distplot(df_stars6[\"Speed\"], bins=20, kde=False, rug=True).set_xlabel(None)\n",
    "plt.tick_params(labelcolor='white')\n",
    "plt.savefig(monster + \"_dist_speed.png\", transparent=True,  bbox_inches = \"tight\")"
   ]
  },
  {
   "cell_type": "markdown",
   "metadata": {},
   "source": [
    "# Average & Best by Category"
   ]
  },
  {
   "cell_type": "code",
   "execution_count": 17,
   "metadata": {},
   "outputs": [
    {
     "data": {
      "text/html": [
       "<div>\n",
       "<style scoped>\n",
       "    .dataframe tbody tr th:only-of-type {\n",
       "        vertical-align: middle;\n",
       "    }\n",
       "\n",
       "    .dataframe tbody tr th {\n",
       "        vertical-align: top;\n",
       "    }\n",
       "\n",
       "    .dataframe thead th {\n",
       "        text-align: right;\n",
       "    }\n",
       "</style>\n",
       "<table border=\"1\" class=\"dataframe\">\n",
       "  <thead>\n",
       "    <tr style=\"text-align: right;\">\n",
       "      <th></th>\n",
       "      <th>HP</th>\n",
       "      <th>Attack</th>\n",
       "      <th>Defense</th>\n",
       "      <th>Speed</th>\n",
       "      <th>Res</th>\n",
       "      <th>Acc</th>\n",
       "      <th>CRate</th>\n",
       "      <th>CDmg</th>\n",
       "      <th>Eff</th>\n",
       "      <th>Eff.HP</th>\n",
       "    </tr>\n",
       "  </thead>\n",
       "  <tbody>\n",
       "    <tr>\n",
       "      <th>count</th>\n",
       "      <td>608.000000</td>\n",
       "      <td>608.000000</td>\n",
       "      <td>608.000000</td>\n",
       "      <td>608.000000</td>\n",
       "      <td>608.000000</td>\n",
       "      <td>608.000000</td>\n",
       "      <td>608.000000</td>\n",
       "      <td>608.000000</td>\n",
       "      <td>608.000000</td>\n",
       "      <td>608.000000</td>\n",
       "    </tr>\n",
       "    <tr>\n",
       "      <th>mean</th>\n",
       "      <td>25205.993421</td>\n",
       "      <td>2097.314145</td>\n",
       "      <td>1009.327303</td>\n",
       "      <td>203.965461</td>\n",
       "      <td>25.340461</td>\n",
       "      <td>65.682566</td>\n",
       "      <td>47.131579</td>\n",
       "      <td>62.404605</td>\n",
       "      <td>90.909934</td>\n",
       "      <td>119322.907895</td>\n",
       "    </tr>\n",
       "    <tr>\n",
       "      <th>std</th>\n",
       "      <td>5796.273609</td>\n",
       "      <td>338.357709</td>\n",
       "      <td>166.907899</td>\n",
       "      <td>27.474723</td>\n",
       "      <td>11.077273</td>\n",
       "      <td>14.523612</td>\n",
       "      <td>23.910441</td>\n",
       "      <td>15.376573</td>\n",
       "      <td>11.763889</td>\n",
       "      <td>36334.020757</td>\n",
       "    </tr>\n",
       "    <tr>\n",
       "      <th>min</th>\n",
       "      <td>11184.000000</td>\n",
       "      <td>1009.000000</td>\n",
       "      <td>603.000000</td>\n",
       "      <td>106.000000</td>\n",
       "      <td>15.000000</td>\n",
       "      <td>25.000000</td>\n",
       "      <td>15.000000</td>\n",
       "      <td>50.000000</td>\n",
       "      <td>54.810000</td>\n",
       "      <td>37481.000000</td>\n",
       "    </tr>\n",
       "    <tr>\n",
       "      <th>25%</th>\n",
       "      <td>20477.750000</td>\n",
       "      <td>1898.750000</td>\n",
       "      <td>874.750000</td>\n",
       "      <td>190.000000</td>\n",
       "      <td>15.000000</td>\n",
       "      <td>56.000000</td>\n",
       "      <td>28.000000</td>\n",
       "      <td>50.000000</td>\n",
       "      <td>82.437500</td>\n",
       "      <td>90813.750000</td>\n",
       "    </tr>\n",
       "    <tr>\n",
       "      <th>50%</th>\n",
       "      <td>25938.000000</td>\n",
       "      <td>2081.000000</td>\n",
       "      <td>985.000000</td>\n",
       "      <td>208.000000</td>\n",
       "      <td>22.000000</td>\n",
       "      <td>66.000000</td>\n",
       "      <td>41.000000</td>\n",
       "      <td>58.500000</td>\n",
       "      <td>92.655000</td>\n",
       "      <td>117426.500000</td>\n",
       "    </tr>\n",
       "    <tr>\n",
       "      <th>75%</th>\n",
       "      <td>29584.250000</td>\n",
       "      <td>2315.500000</td>\n",
       "      <td>1120.000000</td>\n",
       "      <td>223.000000</td>\n",
       "      <td>31.000000</td>\n",
       "      <td>76.000000</td>\n",
       "      <td>62.000000</td>\n",
       "      <td>67.250000</td>\n",
       "      <td>99.830000</td>\n",
       "      <td>145431.000000</td>\n",
       "    </tr>\n",
       "    <tr>\n",
       "      <th>max</th>\n",
       "      <td>42724.000000</td>\n",
       "      <td>3208.000000</td>\n",
       "      <td>1661.000000</td>\n",
       "      <td>270.000000</td>\n",
       "      <td>82.000000</td>\n",
       "      <td>101.000000</td>\n",
       "      <td>122.000000</td>\n",
       "      <td>176.000000</td>\n",
       "      <td>118.330000</td>\n",
       "      <td>250879.000000</td>\n",
       "    </tr>\n",
       "  </tbody>\n",
       "</table>\n",
       "</div>"
      ],
      "text/plain": [
       "                 HP       Attack      Defense       Speed         Res  \\\n",
       "count    608.000000   608.000000   608.000000  608.000000  608.000000   \n",
       "mean   25205.993421  2097.314145  1009.327303  203.965461   25.340461   \n",
       "std     5796.273609   338.357709   166.907899   27.474723   11.077273   \n",
       "min    11184.000000  1009.000000   603.000000  106.000000   15.000000   \n",
       "25%    20477.750000  1898.750000   874.750000  190.000000   15.000000   \n",
       "50%    25938.000000  2081.000000   985.000000  208.000000   22.000000   \n",
       "75%    29584.250000  2315.500000  1120.000000  223.000000   31.000000   \n",
       "max    42724.000000  3208.000000  1661.000000  270.000000   82.000000   \n",
       "\n",
       "              Acc       CRate        CDmg         Eff         Eff.HP  \n",
       "count  608.000000  608.000000  608.000000  608.000000     608.000000  \n",
       "mean    65.682566   47.131579   62.404605   90.909934  119322.907895  \n",
       "std     14.523612   23.910441   15.376573   11.763889   36334.020757  \n",
       "min     25.000000   15.000000   50.000000   54.810000   37481.000000  \n",
       "25%     56.000000   28.000000   50.000000   82.437500   90813.750000  \n",
       "50%     66.000000   41.000000   58.500000   92.655000  117426.500000  \n",
       "75%     76.000000   62.000000   67.250000   99.830000  145431.000000  \n",
       "max    101.000000  122.000000  176.000000  118.330000  250879.000000  "
      ]
     },
     "metadata": {},
     "output_type": "display_data"
    }
   ],
   "source": [
    "cols = ['HP', 'Attack', 'Defense', 'Speed', 'Res', 'Acc', 'CRate', 'CDmg', 'Eff', 'Eff.HP']\n",
    "df_best = pd.DataFrame(columns=[\"ID\"] + cols)\n",
    "df_best.set_index(\"ID\", drop=True, inplace=True)\n",
    "\n",
    "display(df_stars6[cols].describe())"
   ]
  },
  {
   "cell_type": "markdown",
   "metadata": {},
   "source": [
    "# Best 10 Builds by Avg Eff"
   ]
  },
  {
   "cell_type": "code",
   "execution_count": 18,
   "metadata": {},
   "outputs": [
    {
     "name": "stdout",
     "output_type": "stream",
     "text": [
      "<table border=\"1\" class=\"dataframe\">\n",
      "  <thead>\n",
      "    <tr style=\"text-align: right;\">\n",
      "      <th></th>\n",
      "      <th>HP</th>\n",
      "      <th>Attack</th>\n",
      "      <th>Defense</th>\n",
      "      <th>Speed</th>\n",
      "      <th>Res</th>\n",
      "      <th>Acc</th>\n",
      "      <th>CRate</th>\n",
      "      <th>CDmg</th>\n",
      "      <th>Eff</th>\n",
      "      <th>Eff.HP</th>\n",
      "      <th>Sets</th>\n",
      "      <th>Slot2</th>\n",
      "      <th>Slot4</th>\n",
      "      <th>Slot6</th>\n",
      "    </tr>\n",
      "  </thead>\n",
      "  <tbody>\n",
      "    <tr>\n",
      "      <th>0</th>\n",
      "      <td>34336</td>\n",
      "      <td>2139</td>\n",
      "      <td>1507</td>\n",
      "      <td>232</td>\n",
      "      <td>15</td>\n",
      "      <td>87</td>\n",
      "      <td>21</td>\n",
      "      <td>50</td>\n",
      "      <td>118.33</td>\n",
      "      <td>220248</td>\n",
      "      <td>Violent + Will</td>\n",
      "      <td>SPD</td>\n",
      "      <td>ATK%</td>\n",
      "      <td>HP%</td>\n",
      "    </tr>\n",
      "    <tr>\n",
      "      <th>1</th>\n",
      "      <td>38585</td>\n",
      "      <td>1819</td>\n",
      "      <td>1532</td>\n",
      "      <td>245</td>\n",
      "      <td>15</td>\n",
      "      <td>67</td>\n",
      "      <td>26</td>\n",
      "      <td>50</td>\n",
      "      <td>116.26</td>\n",
      "      <td>250879</td>\n",
      "      <td>Violent + Will</td>\n",
      "      <td>SPD</td>\n",
      "      <td>HP%</td>\n",
      "      <td>HP%</td>\n",
      "    </tr>\n",
      "    <tr>\n",
      "      <th>2</th>\n",
      "      <td>33768</td>\n",
      "      <td>2563</td>\n",
      "      <td>1378</td>\n",
      "      <td>208</td>\n",
      "      <td>19</td>\n",
      "      <td>84</td>\n",
      "      <td>41</td>\n",
      "      <td>50</td>\n",
      "      <td>115.87</td>\n",
      "      <td>201359</td>\n",
      "      <td>Violent + Will</td>\n",
      "      <td>ATK%</td>\n",
      "      <td>ATK%</td>\n",
      "      <td>HP%</td>\n",
      "    </tr>\n",
      "    <tr>\n",
      "      <th>3</th>\n",
      "      <td>36232</td>\n",
      "      <td>2011</td>\n",
      "      <td>1470</td>\n",
      "      <td>209</td>\n",
      "      <td>15</td>\n",
      "      <td>50</td>\n",
      "      <td>82</td>\n",
      "      <td>50</td>\n",
      "      <td>115.25</td>\n",
      "      <td>227718</td>\n",
      "      <td>Tolerance + Violent</td>\n",
      "      <td>SPD</td>\n",
      "      <td>HP%</td>\n",
      "      <td>HP%</td>\n",
      "    </tr>\n",
      "    <tr>\n",
      "      <th>4</th>\n",
      "      <td>32464</td>\n",
      "      <td>1813</td>\n",
      "      <td>1360</td>\n",
      "      <td>234</td>\n",
      "      <td>15</td>\n",
      "      <td>60</td>\n",
      "      <td>101</td>\n",
      "      <td>64</td>\n",
      "      <td>115.01</td>\n",
      "      <td>191538</td>\n",
      "      <td>Violent + Will</td>\n",
      "      <td>SPD</td>\n",
      "      <td>CRate%</td>\n",
      "      <td>HP%</td>\n",
      "    </tr>\n",
      "    <tr>\n",
      "      <th>5</th>\n",
      "      <td>33884</td>\n",
      "      <td>1875</td>\n",
      "      <td>1232</td>\n",
      "      <td>249</td>\n",
      "      <td>15</td>\n",
      "      <td>59</td>\n",
      "      <td>88</td>\n",
      "      <td>50</td>\n",
      "      <td>114.95</td>\n",
      "      <td>184735</td>\n",
      "      <td>Violent + Will</td>\n",
      "      <td>SPD</td>\n",
      "      <td>CRate%</td>\n",
      "      <td>HP%</td>\n",
      "    </tr>\n",
      "    <tr>\n",
      "      <th>6</th>\n",
      "      <td>31873</td>\n",
      "      <td>2508</td>\n",
      "      <td>1157</td>\n",
      "      <td>230</td>\n",
      "      <td>15</td>\n",
      "      <td>52</td>\n",
      "      <td>30</td>\n",
      "      <td>50</td>\n",
      "      <td>113.85</td>\n",
      "      <td>165404</td>\n",
      "      <td>Violent + Will</td>\n",
      "      <td>SPD</td>\n",
      "      <td>ATK%</td>\n",
      "      <td>ATK%</td>\n",
      "    </tr>\n",
      "    <tr>\n",
      "      <th>7</th>\n",
      "      <td>28113</td>\n",
      "      <td>2645</td>\n",
      "      <td>1323</td>\n",
      "      <td>186</td>\n",
      "      <td>15</td>\n",
      "      <td>78</td>\n",
      "      <td>45</td>\n",
      "      <td>130</td>\n",
      "      <td>113.31</td>\n",
      "      <td>162226</td>\n",
      "      <td>Violent + Will</td>\n",
      "      <td>ATK%</td>\n",
      "      <td>CDmg%</td>\n",
      "      <td>ATK%</td>\n",
      "    </tr>\n",
      "    <tr>\n",
      "      <th>8</th>\n",
      "      <td>27029</td>\n",
      "      <td>2387</td>\n",
      "      <td>1354</td>\n",
      "      <td>215</td>\n",
      "      <td>15</td>\n",
      "      <td>80</td>\n",
      "      <td>69</td>\n",
      "      <td>50</td>\n",
      "      <td>112.92</td>\n",
      "      <td>158903</td>\n",
      "      <td>Violent + Will</td>\n",
      "      <td>SPD</td>\n",
      "      <td>ATK%</td>\n",
      "      <td>DEF%</td>\n",
      "    </tr>\n",
      "    <tr>\n",
      "      <th>9</th>\n",
      "      <td>33741</td>\n",
      "      <td>2011</td>\n",
      "      <td>1169</td>\n",
      "      <td>230</td>\n",
      "      <td>15</td>\n",
      "      <td>76</td>\n",
      "      <td>85</td>\n",
      "      <td>50</td>\n",
      "      <td>112.64</td>\n",
      "      <td>176516</td>\n",
      "      <td>Violent + Will</td>\n",
      "      <td>SPD</td>\n",
      "      <td>CRate%</td>\n",
      "      <td>HP%</td>\n",
      "    </tr>\n",
      "  </tbody>\n",
      "</table>\n"
     ]
    }
   ],
   "source": [
    "print(df_stars6.drop(['Acquired', 'Slot1', 'Slot3', 'Slot5', 'Level', 'Stars', 'Skillups'], axis=1).reset_index(drop=True).sort_values(['Eff'], ascending=False).head(10).to_html())"
   ]
  },
  {
   "cell_type": "markdown",
   "metadata": {},
   "source": [
    "# Most common Builds"
   ]
  },
  {
   "cell_type": "code",
   "execution_count": 31,
   "metadata": {},
   "outputs": [
    {
     "name": "stdout",
     "output_type": "stream",
     "text": [
      "{'build': ['SPD/ATK%/HP%', 'SPD/ATK%/ATK%', 'HP%/ATK%/ATK%', 'SPD/CRate%/HP%', 'ATK%/ATK%/ATK%', 'HP%/ATK%/HP%', 'SPD/CRate%/ATK%', 'SPD/HP%/HP%', 'ATK%/CRate%/HP%', 'SPD/CDmg%/ATK%'], 'count': [191, 148, 55, 52, 45, 29, 22, 18, 11, 5]}\n"
     ]
    },
    {
     "data": {
      "image/png": "[encoded data removed]",
      "text/plain": [
       "<Figure size 720x360 with 1 Axes>"
      ]
     },
     "metadata": {},
     "output_type": "display_data"
    }
   ],
   "source": [
    "fig = plt.figure(figsize=(10, 5))\n",
    "\n",
    "builds_count = df_stars6.groupby([\"Slot2\", \"Slot4\", \"Slot6\"]).size().reset_index(name='Count')\n",
    "builds_count = builds_count.sort_values([\"Count\"], ascending=False) # single builds to drop\n",
    "builds_count_to_plot = builds_count.set_index([\"Slot2\", \"Slot4\", \"Slot6\"]).T\n",
    "\n",
    "builds_count_proper = dict()\n",
    "for row in builds_count.values.tolist():\n",
    "    set_temp = row[:3]\n",
    "    set_temp.sort()\n",
    "    set_temp_txt = '/'.join(set_temp)\n",
    "    if set_temp_txt not in builds_count_proper:\n",
    "        builds_count_proper[set_temp_txt] = {\n",
    "            'build': '/'.join(row[:3]),\n",
    "            'count': 0,\n",
    "        }\n",
    "    builds_count_proper[set_temp_txt]['count'] += row[3]\n",
    "\n",
    "builds_count_final = list()\n",
    "for b in builds_count_proper.values():\n",
    "    if b['count'] < 5:\n",
    "        continue\n",
    "    builds_count_final.append(b)\n",
    "    \n",
    "builds_count = sorted(builds_count_final, key=lambda k: k['count'], reverse=True)\n",
    "builds_count = {k: [dic[k] for dic in builds_count] for k in builds_count[0]}\n",
    "print(builds_count)\n",
    "\n",
    "builds_common = sns.barplot(x=builds_count['build'], y=builds_count['count'])\n",
    "_ = builds_common.set_xticklabels(builds_common.get_xticklabels(), rotation=45, horizontalalignment='right')\n",
    "plt.tick_params(labelcolor='white')\n",
    "plt.savefig(monster + \"_build_common.png\", transparent=True, bbox_inches = \"tight\")"
   ]
  },
  {
   "cell_type": "markdown",
   "metadata": {},
   "source": [
    "# Most frequent slot 2"
   ]
  },
  {
   "cell_type": "code",
   "execution_count": 20,
   "metadata": {},
   "outputs": [
    {
     "data": {
      "image/png": "[encoded data removed]",
      "text/plain": [
       "<Figure size 720x360 with 1 Axes>"
      ]
     },
     "metadata": {},
     "output_type": "display_data"
    }
   ],
   "source": [
    "fig = plt.figure(figsize=(10, 5))\n",
    "\n",
    "counts_slot2 = df_stars6[\"Slot2\"].value_counts()\n",
    "counts_slot2 = counts_slot2[counts_slot2 > 2]\n",
    "x, y = counts_slot2.index, counts_slot2.values\n",
    "slot2 = sns.barplot(x=x, y=y)\n",
    "_ = slot2.set_xticklabels(slot2.get_xticklabels(), rotation=45, horizontalalignment='right')\n",
    "plt.tick_params(labelcolor='white')\n",
    "plt.savefig(monster + \"_slot_2.png\", transparent=True, bbox_inches = \"tight\")"
   ]
  },
  {
   "cell_type": "markdown",
   "metadata": {},
   "source": [
    "# Most frequent slot 4"
   ]
  },
  {
   "cell_type": "code",
   "execution_count": 21,
   "metadata": {},
   "outputs": [
    {
     "data": {
      "image/png": "[encoded data removed]",
      "text/plain": [
       "<Figure size 720x360 with 1 Axes>"
      ]
     },
     "metadata": {},
     "output_type": "display_data"
    }
   ],
   "source": [
    "fig = plt.figure(figsize=(10, 5))\n",
    "\n",
    "counts_slot4 = df_stars6[\"Slot4\"].value_counts()\n",
    "counts_slot4 = counts_slot4[counts_slot4 > 2]\n",
    "x, y = counts_slot4.index, counts_slot4.values\n",
    "slot4 = sns.barplot(x=x, y=y)\n",
    "_ = slot4.set_xticklabels(slot4.get_xticklabels(), rotation=45, horizontalalignment='right')\n",
    "plt.tick_params(labelcolor='white')\n",
    "plt.savefig(monster + \"_slot_4.png\", transparent=True, bbox_inches = \"tight\")"
   ]
  },
  {
   "cell_type": "markdown",
   "metadata": {},
   "source": [
    "# Most frequent slot 6"
   ]
  },
  {
   "cell_type": "code",
   "execution_count": 22,
   "metadata": {},
   "outputs": [
    {
     "data": {
      "image/png": "[encoded data removed]",
      "text/plain": [
       "<Figure size 720x360 with 1 Axes>"
      ]
     },
     "metadata": {},
     "output_type": "display_data"
    }
   ],
   "source": [
    "fig = plt.figure(figsize=(10, 5))\n",
    "\n",
    "counts_slot6 = df_stars6[\"Slot6\"].value_counts()\n",
    "counts_slot6 = counts_slot6[counts_slot6 > 2]\n",
    "x, y = counts_slot6.index, counts_slot6.values\n",
    "slot6 = sns.barplot(x=x, y=y)\n",
    "_ = slot6.set_xticklabels(slot6.get_xticklabels(), rotation=45, horizontalalignment='right')\n",
    "plt.tick_params(labelcolor='white')\n",
    "plt.savefig(monster + \"_slot_6.png\", transparent=True, bbox_inches = \"tight\")"
   ]
  }
 ],
 "metadata": {
  "kernelspec": {
   "display_name": "Python 3",
   "language": "python",
   "name": "python3"
  },
  "language_info": {
   "codemirror_mode": {
    "name": "ipython",
    "version": 3
   },
   "file_extension": ".py",
   "mimetype": "text/x-python",
   "name": "python",
   "nbconvert_exporter": "python",
   "pygments_lexer": "ipython3",
   "version": "3.7.6"
  }
 },
 "nbformat": 4,
 "nbformat_minor": 4
}
