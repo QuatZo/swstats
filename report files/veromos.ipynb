{
 "cells": [
  {
   "cell_type": "markdown",
   "metadata": {},
   "source": [
    "# Setting Up"
   ]
  },
  {
   "cell_type": "code",
   "execution_count": 1,
   "metadata": {
    "scrolled": false
   },
   "outputs": [
    {
     "name": "stdout",
     "output_type": "stream",
     "text": [
      "Index(['Level', 'Stars', 'HP', 'Attack', 'Defense', 'Speed', 'Resistance',\n",
      "       'Accuracy', 'Crit Rate', 'Crit Dmg', 'Avg Eff', 'Eff. HP',\n",
      "       'Eff. HP D-B', 'Sets', 'Skilled Up', 'Acquired', 'Locked',\n",
      "       'Transmogrified', 'Rune #1', 'Rune #2', 'Rune #3', 'Rune #4', 'Rune #5',\n",
      "       'Rune #6'],\n",
      "      dtype='object')\n"
     ]
    },
    {
     "data": {
      "text/html": [
       "<div>\n",
       "<style scoped>\n",
       "    .dataframe tbody tr th:only-of-type {\n",
       "        vertical-align: middle;\n",
       "    }\n",
       "\n",
       "    .dataframe tbody tr th {\n",
       "        vertical-align: top;\n",
       "    }\n",
       "\n",
       "    .dataframe thead th {\n",
       "        text-align: right;\n",
       "    }\n",
       "</style>\n",
       "<table border=\"1\" class=\"dataframe\">\n",
       "  <thead>\n",
       "    <tr style=\"text-align: right;\">\n",
       "      <th></th>\n",
       "      <th>Level</th>\n",
       "      <th>Stars</th>\n",
       "      <th>HP</th>\n",
       "      <th>Attack</th>\n",
       "      <th>Defense</th>\n",
       "      <th>Speed</th>\n",
       "      <th>Resistance</th>\n",
       "      <th>Accuracy</th>\n",
       "      <th>Crit Rate</th>\n",
       "      <th>Crit Dmg</th>\n",
       "      <th>...</th>\n",
       "      <th>Skilled Up</th>\n",
       "      <th>Acquired</th>\n",
       "      <th>Locked</th>\n",
       "      <th>Transmogrified</th>\n",
       "      <th>Rune #1</th>\n",
       "      <th>Rune #2</th>\n",
       "      <th>Rune #3</th>\n",
       "      <th>Rune #4</th>\n",
       "      <th>Rune #5</th>\n",
       "      <th>Rune #6</th>\n",
       "    </tr>\n",
       "    <tr>\n",
       "      <th>ID</th>\n",
       "      <th></th>\n",
       "      <th></th>\n",
       "      <th></th>\n",
       "      <th></th>\n",
       "      <th></th>\n",
       "      <th></th>\n",
       "      <th></th>\n",
       "      <th></th>\n",
       "      <th></th>\n",
       "      <th></th>\n",
       "      <th></th>\n",
       "      <th></th>\n",
       "      <th></th>\n",
       "      <th></th>\n",
       "      <th></th>\n",
       "      <th></th>\n",
       "      <th></th>\n",
       "      <th></th>\n",
       "      <th></th>\n",
       "      <th></th>\n",
       "      <th></th>\n",
       "    </tr>\n",
       "  </thead>\n",
       "  <tbody>\n",
       "    <tr>\n",
       "      <th>3386040667</th>\n",
       "      <td>40</td>\n",
       "      <td>6</td>\n",
       "      <td>32598</td>\n",
       "      <td>1186</td>\n",
       "      <td>1647</td>\n",
       "      <td>206</td>\n",
       "      <td>82</td>\n",
       "      <td>72</td>\n",
       "      <td>30</td>\n",
       "      <td>50</td>\n",
       "      <td>...</td>\n",
       "      <td>Yes</td>\n",
       "      <td>2015-05-05 04:05:12</td>\n",
       "      <td>No</td>\n",
       "      <td>No</td>\n",
       "      <td>ATK+</td>\n",
       "      <td>SPD</td>\n",
       "      <td>DEF+</td>\n",
       "      <td>HP%</td>\n",
       "      <td>HP+</td>\n",
       "      <td>HP%</td>\n",
       "    </tr>\n",
       "    <tr>\n",
       "      <th>4439203906</th>\n",
       "      <td>40</td>\n",
       "      <td>6</td>\n",
       "      <td>35382</td>\n",
       "      <td>1283</td>\n",
       "      <td>1949</td>\n",
       "      <td>173</td>\n",
       "      <td>50</td>\n",
       "      <td>50</td>\n",
       "      <td>44</td>\n",
       "      <td>85</td>\n",
       "      <td>...</td>\n",
       "      <td>Yes</td>\n",
       "      <td>2015-08-24 01:59:13</td>\n",
       "      <td>No</td>\n",
       "      <td>No</td>\n",
       "      <td>ATK+</td>\n",
       "      <td>HP%</td>\n",
       "      <td>DEF+</td>\n",
       "      <td>DEF%</td>\n",
       "      <td>HP+</td>\n",
       "      <td>HP%</td>\n",
       "    </tr>\n",
       "    <tr>\n",
       "      <th>10064983880</th>\n",
       "      <td>40</td>\n",
       "      <td>6</td>\n",
       "      <td>33944</td>\n",
       "      <td>1034</td>\n",
       "      <td>1786</td>\n",
       "      <td>225</td>\n",
       "      <td>15</td>\n",
       "      <td>41</td>\n",
       "      <td>25</td>\n",
       "      <td>61</td>\n",
       "      <td>...</td>\n",
       "      <td>Yes</td>\n",
       "      <td>2017-09-12 01:07:12</td>\n",
       "      <td>No</td>\n",
       "      <td>No</td>\n",
       "      <td>ATK+</td>\n",
       "      <td>SPD</td>\n",
       "      <td>DEF+</td>\n",
       "      <td>HP%</td>\n",
       "      <td>HP+</td>\n",
       "      <td>HP%</td>\n",
       "    </tr>\n",
       "    <tr>\n",
       "      <th>3218843946</th>\n",
       "      <td>40</td>\n",
       "      <td>6</td>\n",
       "      <td>25681</td>\n",
       "      <td>1460</td>\n",
       "      <td>1836</td>\n",
       "      <td>211</td>\n",
       "      <td>53</td>\n",
       "      <td>58</td>\n",
       "      <td>42</td>\n",
       "      <td>67</td>\n",
       "      <td>...</td>\n",
       "      <td>Yes</td>\n",
       "      <td>2015-04-18 15:23:54</td>\n",
       "      <td>No</td>\n",
       "      <td>Yes</td>\n",
       "      <td>ATK+</td>\n",
       "      <td>SPD</td>\n",
       "      <td>DEF+</td>\n",
       "      <td>DEF%</td>\n",
       "      <td>HP+</td>\n",
       "      <td>HP%</td>\n",
       "    </tr>\n",
       "    <tr>\n",
       "      <th>2931314989</th>\n",
       "      <td>40</td>\n",
       "      <td>6</td>\n",
       "      <td>24433</td>\n",
       "      <td>1706</td>\n",
       "      <td>1305</td>\n",
       "      <td>200</td>\n",
       "      <td>21</td>\n",
       "      <td>33</td>\n",
       "      <td>62</td>\n",
       "      <td>156</td>\n",
       "      <td>...</td>\n",
       "      <td>Yes</td>\n",
       "      <td>2015-03-18 04:08:17</td>\n",
       "      <td>No</td>\n",
       "      <td>Yes</td>\n",
       "      <td>ATK+</td>\n",
       "      <td>SPD</td>\n",
       "      <td>DEF+</td>\n",
       "      <td>CDmg%</td>\n",
       "      <td>HP+</td>\n",
       "      <td>HP%</td>\n",
       "    </tr>\n",
       "    <tr>\n",
       "      <th>...</th>\n",
       "      <td>...</td>\n",
       "      <td>...</td>\n",
       "      <td>...</td>\n",
       "      <td>...</td>\n",
       "      <td>...</td>\n",
       "      <td>...</td>\n",
       "      <td>...</td>\n",
       "      <td>...</td>\n",
       "      <td>...</td>\n",
       "      <td>...</td>\n",
       "      <td>...</td>\n",
       "      <td>...</td>\n",
       "      <td>...</td>\n",
       "      <td>...</td>\n",
       "      <td>...</td>\n",
       "      <td>...</td>\n",
       "      <td>...</td>\n",
       "      <td>...</td>\n",
       "      <td>...</td>\n",
       "      <td>...</td>\n",
       "      <td>...</td>\n",
       "    </tr>\n",
       "    <tr>\n",
       "      <th>8883389749</th>\n",
       "      <td>40</td>\n",
       "      <td>6</td>\n",
       "      <td>19017</td>\n",
       "      <td>978</td>\n",
       "      <td>1113</td>\n",
       "      <td>144</td>\n",
       "      <td>23</td>\n",
       "      <td>25</td>\n",
       "      <td>21</td>\n",
       "      <td>67</td>\n",
       "      <td>...</td>\n",
       "      <td>No</td>\n",
       "      <td>2017-03-26 01:00:01</td>\n",
       "      <td>No</td>\n",
       "      <td>No</td>\n",
       "      <td>ATK+</td>\n",
       "      <td>HP%</td>\n",
       "      <td>DEF+</td>\n",
       "      <td>DEF%</td>\n",
       "      <td>HP+</td>\n",
       "      <td>HP%</td>\n",
       "    </tr>\n",
       "    <tr>\n",
       "      <th>11110474284</th>\n",
       "      <td>40</td>\n",
       "      <td>6</td>\n",
       "      <td>13700</td>\n",
       "      <td>1264</td>\n",
       "      <td>1056</td>\n",
       "      <td>124</td>\n",
       "      <td>29</td>\n",
       "      <td>38</td>\n",
       "      <td>15</td>\n",
       "      <td>71</td>\n",
       "      <td>...</td>\n",
       "      <td>Yes</td>\n",
       "      <td>2018-02-27 17:09:49</td>\n",
       "      <td>No</td>\n",
       "      <td>No</td>\n",
       "      <td>ATK+</td>\n",
       "      <td>ATK+</td>\n",
       "      <td>DEF+</td>\n",
       "      <td>HP+</td>\n",
       "      <td>HP+</td>\n",
       "      <td>ATK%</td>\n",
       "    </tr>\n",
       "    <tr>\n",
       "      <th>4805461383</th>\n",
       "      <td>40</td>\n",
       "      <td>6</td>\n",
       "      <td>21391</td>\n",
       "      <td>1008</td>\n",
       "      <td>1126</td>\n",
       "      <td>118</td>\n",
       "      <td>28</td>\n",
       "      <td>38</td>\n",
       "      <td>18</td>\n",
       "      <td>53</td>\n",
       "      <td>...</td>\n",
       "      <td>Yes</td>\n",
       "      <td>2015-10-10 19:00:57</td>\n",
       "      <td>No</td>\n",
       "      <td>No</td>\n",
       "      <td>ATK+</td>\n",
       "      <td>HP%</td>\n",
       "      <td>DEF+</td>\n",
       "      <td>HP%</td>\n",
       "      <td>HP+</td>\n",
       "      <td>HP%</td>\n",
       "    </tr>\n",
       "    <tr>\n",
       "      <th>14357848586</th>\n",
       "      <td>40</td>\n",
       "      <td>6</td>\n",
       "      <td>17913</td>\n",
       "      <td>911</td>\n",
       "      <td>947</td>\n",
       "      <td>163</td>\n",
       "      <td>26</td>\n",
       "      <td>36</td>\n",
       "      <td>20</td>\n",
       "      <td>84</td>\n",
       "      <td>...</td>\n",
       "      <td>Yes</td>\n",
       "      <td>2019-10-16 00:33:07</td>\n",
       "      <td>No</td>\n",
       "      <td>No</td>\n",
       "      <td>ATK+</td>\n",
       "      <td>SPD</td>\n",
       "      <td>DEF+</td>\n",
       "      <td>HP%</td>\n",
       "      <td>HP+</td>\n",
       "      <td>HP%</td>\n",
       "    </tr>\n",
       "    <tr>\n",
       "      <th>13647761327</th>\n",
       "      <td>35</td>\n",
       "      <td>5</td>\n",
       "      <td>14965</td>\n",
       "      <td>759</td>\n",
       "      <td>663</td>\n",
       "      <td>153</td>\n",
       "      <td>27</td>\n",
       "      <td>46</td>\n",
       "      <td>25</td>\n",
       "      <td>55</td>\n",
       "      <td>...</td>\n",
       "      <td>No</td>\n",
       "      <td>2019-06-16 02:09:09</td>\n",
       "      <td>No</td>\n",
       "      <td>No</td>\n",
       "      <td>ATK+</td>\n",
       "      <td>SPD</td>\n",
       "      <td>DEF+</td>\n",
       "      <td>HP%</td>\n",
       "      <td>HP+</td>\n",
       "      <td>HP%</td>\n",
       "    </tr>\n",
       "  </tbody>\n",
       "</table>\n",
       "<p>452 rows × 24 columns</p>\n",
       "</div>"
      ],
      "text/plain": [
       "             Level  Stars     HP  Attack  Defense  Speed  Resistance  \\\n",
       "ID                                                                     \n",
       "3386040667      40      6  32598    1186     1647    206          82   \n",
       "4439203906      40      6  35382    1283     1949    173          50   \n",
       "10064983880     40      6  33944    1034     1786    225          15   \n",
       "3218843946      40      6  25681    1460     1836    211          53   \n",
       "2931314989      40      6  24433    1706     1305    200          21   \n",
       "...            ...    ...    ...     ...      ...    ...         ...   \n",
       "8883389749      40      6  19017     978     1113    144          23   \n",
       "11110474284     40      6  13700    1264     1056    124          29   \n",
       "4805461383      40      6  21391    1008     1126    118          28   \n",
       "14357848586     40      6  17913     911      947    163          26   \n",
       "13647761327     35      5  14965     759      663    153          27   \n",
       "\n",
       "             Accuracy  Crit Rate  Crit Dmg  ...  Skilled Up  \\\n",
       "ID                                          ...               \n",
       "3386040667         72         30        50  ...         Yes   \n",
       "4439203906         50         44        85  ...         Yes   \n",
       "10064983880        41         25        61  ...         Yes   \n",
       "3218843946         58         42        67  ...         Yes   \n",
       "2931314989         33         62       156  ...         Yes   \n",
       "...               ...        ...       ...  ...         ...   \n",
       "8883389749         25         21        67  ...          No   \n",
       "11110474284        38         15        71  ...         Yes   \n",
       "4805461383         38         18        53  ...         Yes   \n",
       "14357848586        36         20        84  ...         Yes   \n",
       "13647761327        46         25        55  ...          No   \n",
       "\n",
       "                        Acquired  Locked Transmogrified Rune #1 Rune #2  \\\n",
       "ID                                                                        \n",
       "3386040667   2015-05-05 04:05:12      No             No    ATK+     SPD   \n",
       "4439203906   2015-08-24 01:59:13      No             No    ATK+     HP%   \n",
       "10064983880  2017-09-12 01:07:12      No             No    ATK+     SPD   \n",
       "3218843946   2015-04-18 15:23:54      No            Yes    ATK+     SPD   \n",
       "2931314989   2015-03-18 04:08:17      No            Yes    ATK+     SPD   \n",
       "...                          ...     ...            ...     ...     ...   \n",
       "8883389749   2017-03-26 01:00:01      No             No    ATK+     HP%   \n",
       "11110474284  2018-02-27 17:09:49      No             No    ATK+    ATK+   \n",
       "4805461383   2015-10-10 19:00:57      No             No    ATK+     HP%   \n",
       "14357848586  2019-10-16 00:33:07      No             No    ATK+     SPD   \n",
       "13647761327  2019-06-16 02:09:09      No             No    ATK+     SPD   \n",
       "\n",
       "            Rune #3 Rune #4 Rune #5 Rune #6  \n",
       "ID                                           \n",
       "3386040667     DEF+     HP%     HP+     HP%  \n",
       "4439203906     DEF+    DEF%     HP+     HP%  \n",
       "10064983880    DEF+     HP%     HP+     HP%  \n",
       "3218843946     DEF+    DEF%     HP+     HP%  \n",
       "2931314989     DEF+   CDmg%     HP+     HP%  \n",
       "...             ...     ...     ...     ...  \n",
       "8883389749     DEF+    DEF%     HP+     HP%  \n",
       "11110474284    DEF+     HP+     HP+    ATK%  \n",
       "4805461383     DEF+     HP%     HP+     HP%  \n",
       "14357848586    DEF+     HP%     HP+     HP%  \n",
       "13647761327    DEF+     HP%     HP+     HP%  \n",
       "\n",
       "[452 rows x 24 columns]"
      ]
     },
     "execution_count": 1,
     "metadata": {},
     "output_type": "execute_result"
    }
   ],
   "source": [
    "import pandas as pd\n",
    "import numpy as np\n",
    "import matplotlib.pyplot as plt\n",
    "import matplotlib\n",
    "import seaborn as sns\n",
    "import scipy as stats\n",
    "\n",
    "sns.set(color_codes=True)\n",
    "sns.set_style(\"dark\")\n",
    "sns.set_context(\"poster\")\n",
    "matplotlib.rcParams['text.color'] = 'white'\n",
    "\n",
    "monster = \"veromos\"\n",
    "filename = monster + \"_20200415.csv\"\n",
    "multipliers = [1.2 * 3, 4.0, 3.0] # ATK\n",
    "BASE_STATS = {\n",
    "    'HP': 9225,\n",
    "    'ATTACK': 769,\n",
    "    'DEFENSE': 758,\n",
    "    'SPEED': 100,\n",
    "    'CRIT_RATE': .15,\n",
    "    'CRIT_DMG': .5,\n",
    "    'ACCURACY%': 25,\n",
    "    'RESISTANCE%': 15,\n",
    "}\n",
    "\n",
    "TOWERS = {\n",
    "    'CRIT_DMG': .25,\n",
    "    'SPEED': .15,\n",
    "    'ATTACK': .20,\n",
    "    'ATTACK_ELEMENT': .21,\n",
    "    'DEFENSE': .20,\n",
    "    'HP': .20,\n",
    "}\n",
    "\n",
    "BUFFS = {\n",
    "    'ATTACK': 1.5,\n",
    "    'SPEED': .3,\n",
    "    'CRIT_RATE': .3,\n",
    "    'DEFENSE': 1.5,\n",
    "}\n",
    "\n",
    "df = pd.read_csv(filename, index_col=\"ID\")\n",
    "df_full = pd.read_csv(filename, index_col=\"ID\")\n",
    "print(df.columns)\n",
    "runes_cols = [\"Rune #\" + str(i) for i in range(1 ,7)]\n",
    "df.dropna(subset=runes_cols, how='any', inplace=True) # delete without runes\n",
    "df.sort_values([\"Avg Eff\"], ascending=False, inplace=True)\n",
    "df"
   ]
  },
  {
   "cell_type": "markdown",
   "metadata": {},
   "source": [
    "# Stars Distribution, picking 6*"
   ]
  },
  {
   "cell_type": "code",
   "execution_count": 2,
   "metadata": {},
   "outputs": [
    {
     "name": "stdout",
     "output_type": "stream",
     "text": [
      "(415, 24)\n"
     ]
    },
    {
     "data": {
      "image/png": "[encoded data removed]",
      "text/plain": [
       "<Figure size 720x720 with 1 Axes>"
      ]
     },
     "metadata": {},
     "output_type": "display_data"
    }
   ],
   "source": [
    "fig = plt.figure(figsize=(10, 10))\n",
    "stars = df[\"Stars\"].value_counts()\n",
    "plt.pie(stars, labels=stars.index, autopct='%1.1f%%', colors=['g', 'r', 'b'])\n",
    "plt.savefig(monster + \"_pie_6stars.png\", transparent=True, bbox_inches = \"tight\")\n",
    "df_stars6 = df[df[\"Stars\"] == 6] # pick only 6*\n",
    "print(df_stars6.shape)"
   ]
  },
  {
   "cell_type": "markdown",
   "metadata": {},
   "source": [
    "# Skilled Up"
   ]
  },
  {
   "cell_type": "code",
   "execution_count": 3,
   "metadata": {},
   "outputs": [
    {
     "data": {
      "image/png": "[encoded data removed]",
      "text/plain": [
       "<Figure size 720x720 with 1 Axes>"
      ]
     },
     "metadata": {},
     "output_type": "display_data"
    }
   ],
   "source": [
    "fig = plt.figure(figsize=(10, 10))\n",
    "stars = df_stars6[\"Skilled Up\"].value_counts()\n",
    "plt.pie(stars, labels=stars.index, autopct='%1.1f%%', colors=['g', 'r'])\n",
    "plt.savefig(monster + \"_pie_skillups.png\", transparent=True, bbox_inches = \"tight\")\n",
    "plt.show()"
   ]
  },
  {
   "cell_type": "markdown",
   "metadata": {},
   "source": [
    "# Runes "
   ]
  },
  {
   "cell_type": "code",
   "execution_count": 4,
   "metadata": {},
   "outputs": [
    {
     "data": {
      "image/png": "[encoded data removed]",
      "text/plain": [
       "<Figure size 720x720 with 1 Axes>"
      ]
     },
     "metadata": {},
     "output_type": "display_data"
    }
   ],
   "source": [
    "fig = plt.figure(figsize=(10, 10))\n",
    "df_runes = {\n",
    "    'Without Runes': df_full.shape[0] - df.shape[0],\n",
    "    'With Runes': df.shape[0],\n",
    "}\n",
    "plt.pie(df_runes.values(), labels=df_runes.keys(), autopct='%1.1f%%', colors=['r', 'g'])\n",
    "plt.savefig(monster + \"_pie_runes.png\", transparent=True, bbox_inches = \"tight\")\n",
    "plt.show()"
   ]
  },
  {
   "cell_type": "markdown",
   "metadata": {},
   "source": [
    "# Build Type"
   ]
  },
  {
   "cell_type": "code",
   "execution_count": 5,
   "metadata": {},
   "outputs": [
    {
     "data": {
      "text/plain": [
       "<Figure size 720x720 with 0 Axes>"
      ]
     },
     "metadata": {},
     "output_type": "display_data"
    },
    {
     "data": {
      "image/png": "[encoded data removed]",
      "text/plain": [
       "<Figure size 720x720 with 1 Axes>"
      ]
     },
     "metadata": {},
     "output_type": "display_data"
    }
   ],
   "source": [
    "fig = plt.figure(figsize=(10, 10))\n",
    "fig = plt.figure(figsize=(10, 10))\n",
    "dmg_dealer_df = df_stars6[(df_stars6[\"Crit Rate\"] >= 100) & (df_stars6[\"Crit Dmg\"] >= 150)] # shows mons with 100%+ crit rate & 150%+ crit damage\n",
    "pseudo_dmg_dealer_df = df_stars6[(df_stars6[\"Attack\"] > BASE_STATS['ATTACK'] * 2) & (df_stars6[\"Crit Rate\"] >= 100) & (df_stars6[\"Crit Dmg\"] < 150)]\n",
    "pie_dmg_or_tanky = {\n",
    "    'Damage Dealer \\n[100% crit rate,\\n 150% + crit dmg]': dmg_dealer_df.shape[0],\n",
    "    'Squishy \\n[+100% base attack,\\nLow Crit Dmg]': pseudo_dmg_dealer_df.shape[0],\n",
    "    'Other': df_stars6.shape[0] - pseudo_dmg_dealer_df.shape[0] - dmg_dealer_df.shape[0],\n",
    "}\n",
    "plt.pie(pie_dmg_or_tanky.values(), labels=pie_dmg_or_tanky.keys(), autopct='%1.1f%%', colors=['g', 'r', 'b'])\n",
    "plt.savefig(monster + \"_pie_is_tanky.png\", transparent=True, bbox_inches = \"tight\")\n",
    "plt.show()"
   ]
  },
  {
   "cell_type": "markdown",
   "metadata": {},
   "source": [
    "# Crit Rate"
   ]
  },
  {
   "cell_type": "code",
   "execution_count": 6,
   "metadata": {},
   "outputs": [
    {
     "data": {
      "image/png": "[encoded data removed]",
      "text/plain": [
       "<Figure size 720x720 with 1 Axes>"
      ]
     },
     "metadata": {},
     "output_type": "display_data"
    }
   ],
   "source": [
    "fig = plt.figure(figsize=(10, 10))\n",
    "df_crit_rate_yes = df_stars6[df_stars6[\"Crit Rate\"] >= 100]\n",
    "df_crit_rate = {\n",
    "    '100%': df_crit_rate_yes.shape[0],\n",
    "    'Under 100%': df_stars6.shape[0] - df_crit_rate_yes.shape[0],\n",
    "}\n",
    "plt.pie(df_crit_rate.values(), labels=df_crit_rate.keys(), autopct='%1.1f%%', colors=['g', 'r'])\n",
    "plt.savefig(monster + \"_pie_crit_rate.png\", transparent=True, bbox_inches = \"tight\")\n",
    "plt.show()"
   ]
  },
  {
   "cell_type": "markdown",
   "metadata": {},
   "source": [
    "# Transmog"
   ]
  },
  {
   "cell_type": "code",
   "execution_count": 7,
   "metadata": {},
   "outputs": [
    {
     "data": {
      "image/png": "[encoded data removed]",
      "text/plain": [
       "<Figure size 720x720 with 1 Axes>"
      ]
     },
     "metadata": {},
     "output_type": "display_data"
    }
   ],
   "source": [
    "fig = plt.figure(figsize=(10, 10))\n",
    "stars = df_stars6[\"Transmogrified\"].value_counts()\n",
    "plt.pie(stars, labels=stars.index, autopct='%1.1f%%', colors=['r', 'g'])\n",
    "plt.savefig(monster + \"_pie_transmog.png\", transparent=True, bbox_inches = \"tight\")\n",
    "plt.show()"
   ]
  },
  {
   "cell_type": "markdown",
   "metadata": {},
   "source": [
    "# Eff. HP Distribution"
   ]
  },
  {
   "cell_type": "code",
   "execution_count": 8,
   "metadata": {},
   "outputs": [
    {
     "data": {
      "image/png": "[encoded data removed]",
      "text/plain": [
       "<Figure size 720x360 with 1 Axes>"
      ]
     },
     "metadata": {},
     "output_type": "display_data"
    }
   ],
   "source": [
    "fig = plt.figure(figsize=(10, 5))\n",
    "sns.distplot(df_stars6[\"Eff. HP\"], bins=20, kde=False, rug=True).set_xlabel(None)\n",
    "plt.tick_params(labelcolor='white')\n",
    "plt.savefig(monster + \"_dist_effhp.png\", transparent=True, bbox_inches = \"tight\")"
   ]
  },
  {
   "cell_type": "markdown",
   "metadata": {},
   "source": [
    "# Total Attack Distribution"
   ]
  },
  {
   "cell_type": "code",
   "execution_count": 9,
   "metadata": {},
   "outputs": [
    {
     "data": {
      "image/png": "[encoded data removed]",
      "text/plain": [
       "<Figure size 720x360 with 1 Axes>"
      ]
     },
     "metadata": {},
     "output_type": "display_data"
    }
   ],
   "source": [
    "fig = plt.figure(figsize=(10, 5))\n",
    "sns.distplot(df_stars6[\"Attack\"], bins=20, kde=False, rug=True).set_xlabel(None)\n",
    "plt.tick_params(labelcolor='white')\n",
    "plt.savefig(monster + \"_dist_attack.png\", transparent=True, bbox_inches = \"tight\")"
   ]
  },
  {
   "cell_type": "markdown",
   "metadata": {},
   "source": [
    "# Avg. Rune Distribution"
   ]
  },
  {
   "cell_type": "code",
   "execution_count": 10,
   "metadata": {},
   "outputs": [
    {
     "data": {
      "image/png": "[encoded data removed]",
      "text/plain": [
       "<Figure size 720x360 with 1 Axes>"
      ]
     },
     "metadata": {},
     "output_type": "display_data"
    }
   ],
   "source": [
    "fig = plt.figure(figsize=(10, 5))\n",
    "sns.distplot(df_stars6[\"Avg Eff\"], bins=20, kde=False, rug=True).set_xlabel(None)\n",
    "plt.tick_params(labelcolor='white')\n",
    "plt.savefig(monster + \"_dist_rune_eff.png\", transparent=True, bbox_inches = \"tight\")"
   ]
  },
  {
   "cell_type": "markdown",
   "metadata": {},
   "source": [
    "# Sets"
   ]
  },
  {
   "cell_type": "code",
   "execution_count": 11,
   "metadata": {},
   "outputs": [
    {
     "name": "stdout",
     "output_type": "stream",
     "text": [
      "Energy + Violent     112\n",
      "Focus + Violent       49\n",
      "Violent               45\n",
      "Energy + Swift        39\n",
      "Nemesis + Violent     28\n",
      "Revenge + Violent     22\n",
      "Blade + Violent       15\n",
      "Shield + Violent      13\n",
      "Guard + Violent        9\n",
      "Despair + Energy       8\n",
      "Swift                  8\n",
      "Violent + Will         7\n",
      "Focus + Swift          6\n",
      "Name: Sets, dtype: int64\n"
     ]
    },
    {
     "data": {
      "image/png": "[encoded data removed]",
      "text/plain": [
       "<Figure size 1440x360 with 1 Axes>"
      ]
     },
     "metadata": {},
     "output_type": "display_data"
    }
   ],
   "source": [
    "fig = plt.figure(figsize=(20, 5))\n",
    "counts = df_stars6[\"Sets\"].value_counts()\n",
    "counts = counts[counts > 2]\n",
    "print(counts)\n",
    "x, y = counts.index, counts.values\n",
    "sets = sns.barplot(x=x, y=y)\n",
    "_ = sets.set_xticklabels(sets.get_xticklabels(), rotation=45, horizontalalignment='right')\n",
    "plt.tick_params(labelcolor='white')\n",
    "plt.savefig(monster + \"_dist_sets.png\", transparent=True, bbox_inches = \"tight\")"
   ]
  },
  {
   "cell_type": "markdown",
   "metadata": {},
   "source": [
    "# Eff. HP Distribution for most common set"
   ]
  },
  {
   "cell_type": "code",
   "execution_count": 12,
   "metadata": {},
   "outputs": [
    {
     "name": "stdout",
     "output_type": "stream",
     "text": [
      "Energy + Violent\n"
     ]
    },
    {
     "data": {
      "image/png": "[encoded data removed]",
      "text/plain": [
       "<Figure size 720x360 with 1 Axes>"
      ]
     },
     "metadata": {},
     "output_type": "display_data"
    }
   ],
   "source": [
    "most_common_set = counts.index[0]\n",
    "print(most_common_set)\n",
    "\n",
    "fig = plt.figure(figsize=(10, 5))\n",
    "sns.distplot(df_stars6[\"Eff. HP\"][df_stars6[\"Sets\"] == most_common_set], bins=20, kde=False, rug=True).set_xlabel(None)\n",
    "plt.tick_params(labelcolor='white')\n",
    "plt.savefig(monster + \"_dist_common_set_effhp.png\", transparent=True, bbox_inches = \"tight\")"
   ]
  },
  {
   "cell_type": "markdown",
   "metadata": {},
   "source": [
    "# Speed Distribution"
   ]
  },
  {
   "cell_type": "code",
   "execution_count": 13,
   "metadata": {},
   "outputs": [
    {
     "data": {
      "image/png": "[encoded data removed]",
      "text/plain": [
       "<Figure size 720x360 with 1 Axes>"
      ]
     },
     "metadata": {},
     "output_type": "display_data"
    }
   ],
   "source": [
    "fig = plt.figure(figsize=(10, 5))\n",
    "sns.distplot(df_stars6[\"Speed\"], bins=20, kde=False, rug=True).set_xlabel(None)\n",
    "plt.tick_params(labelcolor='white')\n",
    "plt.savefig(monster + \"_dist_speed.png\", transparent=True,  bbox_inches = \"tight\")"
   ]
  },
  {
   "cell_type": "markdown",
   "metadata": {},
   "source": [
    "# Speed Distribution for TOP 10% Eff. HP"
   ]
  },
  {
   "cell_type": "code",
   "execution_count": 14,
   "metadata": {},
   "outputs": [
    {
     "data": {
      "image/png": "[encoded data removed]",
      "text/plain": [
       "<Figure size 720x360 with 1 Axes>"
      ]
     },
     "metadata": {},
     "output_type": "display_data"
    }
   ],
   "source": [
    "fig = plt.figure(figsize=(10, 5))\n",
    "sns.distplot(df_stars6[\"Speed\"].head(int(df_stars6.shape[0] * .1)), bins=20, kde=False, rug=True).set_xlabel(None)\n",
    "plt.tick_params(labelcolor='white')\n",
    "plt.savefig(monster + \"_dist_speed_top10_percent.png\", transparent=True,  bbox_inches = \"tight\")"
   ]
  },
  {
   "cell_type": "markdown",
   "metadata": {},
   "source": [
    "# Speed - Eff. HP Relation for TOP 10% Eff. HP"
   ]
  },
  {
   "cell_type": "code",
   "execution_count": 15,
   "metadata": {},
   "outputs": [
    {
     "data": {
      "text/plain": [
       "<Figure size 720x360 with 0 Axes>"
      ]
     },
     "metadata": {},
     "output_type": "display_data"
    },
    {
     "data": {
      "image/png": "[encoded data removed]",
      "text/plain": [
       "<Figure size 360x360 with 1 Axes>"
      ]
     },
     "metadata": {},
     "output_type": "display_data"
    }
   ],
   "source": [
    "fig = plt.figure(figsize=(10, 5))\n",
    "sns.lmplot(x=\"Speed\", y=\"Eff. HP\", data=df_stars6.head(int(df_stars6.shape[0] * .1)))\n",
    "plt.tick_params(labelcolor='white')\n",
    "plt.savefig(monster + \"_rel_spd_dmg_top10_percent.png\", transparent=True,  bbox_inches = \"tight\")"
   ]
  },
  {
   "cell_type": "markdown",
   "metadata": {},
   "source": [
    "# Attack - Eff. HP Relation for TOP 10% Eff. HP"
   ]
  },
  {
   "cell_type": "code",
   "execution_count": 16,
   "metadata": {},
   "outputs": [
    {
     "data": {
      "text/plain": [
       "<Figure size 720x360 with 0 Axes>"
      ]
     },
     "metadata": {},
     "output_type": "display_data"
    },
    {
     "data": {
      "image/png": "[encoded data removed]",
      "text/plain": [
       "<Figure size 360x360 with 1 Axes>"
      ]
     },
     "metadata": {},
     "output_type": "display_data"
    }
   ],
   "source": [
    "fig = plt.figure(figsize=(10, 5))\n",
    "sns.lmplot(x=\"Attack\", y=\"Eff. HP\", data=df_stars6.sort_values(['Attack'], ascending=False).head(int(df_stars6.shape[0] * .1)))\n",
    "plt.tick_params(labelcolor='white')\n",
    "plt.savefig(monster + \"_rel_atk_dmg_top10_percent.png\", transparent=True,  bbox_inches = \"tight\")"
   ]
  },
  {
   "cell_type": "markdown",
   "metadata": {},
   "source": [
    "# Best by Category"
   ]
  },
  {
   "cell_type": "code",
   "execution_count": 17,
   "metadata": {},
   "outputs": [
    {
     "data": {
      "text/html": [
       "<div>\n",
       "<style scoped>\n",
       "    .dataframe tbody tr th:only-of-type {\n",
       "        vertical-align: middle;\n",
       "    }\n",
       "\n",
       "    .dataframe tbody tr th {\n",
       "        vertical-align: top;\n",
       "    }\n",
       "\n",
       "    .dataframe thead th {\n",
       "        text-align: right;\n",
       "    }\n",
       "</style>\n",
       "<table border=\"1\" class=\"dataframe\">\n",
       "  <thead>\n",
       "    <tr style=\"text-align: right;\">\n",
       "      <th></th>\n",
       "      <th>HP</th>\n",
       "      <th>Attack</th>\n",
       "      <th>Defense</th>\n",
       "      <th>Speed</th>\n",
       "      <th>Resistance</th>\n",
       "      <th>Accuracy</th>\n",
       "      <th>Crit Rate</th>\n",
       "      <th>Crit Dmg</th>\n",
       "      <th>Avg Eff</th>\n",
       "      <th>Eff. HP</th>\n",
       "      <th>Eff. HP D-B</th>\n",
       "    </tr>\n",
       "    <tr>\n",
       "      <th>ID</th>\n",
       "      <th></th>\n",
       "      <th></th>\n",
       "      <th></th>\n",
       "      <th></th>\n",
       "      <th></th>\n",
       "      <th></th>\n",
       "      <th></th>\n",
       "      <th></th>\n",
       "      <th></th>\n",
       "      <th></th>\n",
       "      <th></th>\n",
       "    </tr>\n",
       "  </thead>\n",
       "  <tbody>\n",
       "    <tr>\n",
       "      <th>1</th>\n",
       "      <td>35986</td>\n",
       "      <td>2068</td>\n",
       "      <td>2173</td>\n",
       "      <td>245</td>\n",
       "      <td>90</td>\n",
       "      <td>117</td>\n",
       "      <td>99</td>\n",
       "      <td>196</td>\n",
       "      <td>101</td>\n",
       "      <td>281694</td>\n",
       "      <td>112743</td>\n",
       "    </tr>\n",
       "  </tbody>\n",
       "</table>\n",
       "</div>"
      ],
      "text/plain": [
       "       HP Attack Defense Speed Resistance Accuracy Crit Rate Crit Dmg Avg Eff  \\\n",
       "ID                                                                              \n",
       "1   35986   2068    2173   245         90      117        99      196     101   \n",
       "\n",
       "   Eff. HP Eff. HP D-B  \n",
       "ID                      \n",
       "1   281694      112743  "
      ]
     },
     "execution_count": 17,
     "metadata": {},
     "output_type": "execute_result"
    }
   ],
   "source": [
    "cols = ['HP', 'Attack', 'Defense', 'Speed', 'Resistance', 'Accuracy', 'Crit Rate', 'Crit Dmg', 'Avg Eff', 'Eff. HP', 'Eff. HP D-B']\n",
    "df_best = pd.DataFrame(columns=[\"ID\"] + cols)\n",
    "df_best.set_index(\"ID\", drop=True, inplace=True)\n",
    "\n",
    "best = list()\n",
    "for column in cols:\n",
    "    best.append(int(round(df.sort_values([column], ascending=False)[column].head(1).values[0])))\n",
    "    \n",
    "df_best.loc[1] = best\n",
    "df_best"
   ]
  },
  {
   "cell_type": "markdown",
   "metadata": {},
   "source": [
    "# Best 10 Builds by Avg Eff"
   ]
  },
  {
   "cell_type": "code",
   "execution_count": 18,
   "metadata": {},
   "outputs": [
    {
     "name": "stdout",
     "output_type": "stream",
     "text": [
      "<table border=\"1\" class=\"dataframe\">\n",
      "  <thead>\n",
      "    <tr style=\"text-align: right;\">\n",
      "      <th></th>\n",
      "      <th>HP</th>\n",
      "      <th>Attack</th>\n",
      "      <th>Defense</th>\n",
      "      <th>Speed</th>\n",
      "      <th>Res</th>\n",
      "      <th>Acc</th>\n",
      "      <th>Crit Rate</th>\n",
      "      <th>Crit Dmg</th>\n",
      "      <th>Avg Eff</th>\n",
      "      <th>Eff. HP</th>\n",
      "      <th>Eff. HP D-B</th>\n",
      "      <th>Sets</th>\n",
      "      <th>Rune #2</th>\n",
      "      <th>Rune #4</th>\n",
      "      <th>Rune #6</th>\n",
      "    </tr>\n",
      "  </thead>\n",
      "  <tbody>\n",
      "    <tr>\n",
      "      <th>0</th>\n",
      "      <td>32598</td>\n",
      "      <td>1186</td>\n",
      "      <td>1647</td>\n",
      "      <td>206</td>\n",
      "      <td>82</td>\n",
      "      <td>72</td>\n",
      "      <td>30</td>\n",
      "      <td>50</td>\n",
      "      <td>101.17</td>\n",
      "      <td>225073</td>\n",
      "      <td>93535</td>\n",
      "      <td>Endure + Focus</td>\n",
      "      <td>SPD</td>\n",
      "      <td>HP%</td>\n",
      "      <td>HP%</td>\n",
      "    </tr>\n",
      "    <tr>\n",
      "      <th>1</th>\n",
      "      <td>35382</td>\n",
      "      <td>1283</td>\n",
      "      <td>1949</td>\n",
      "      <td>173</td>\n",
      "      <td>50</td>\n",
      "      <td>50</td>\n",
      "      <td>44</td>\n",
      "      <td>85</td>\n",
      "      <td>100.59</td>\n",
      "      <td>281694</td>\n",
      "      <td>112743</td>\n",
      "      <td>Energy + Focus + Guard</td>\n",
      "      <td>HP%</td>\n",
      "      <td>DEF%</td>\n",
      "      <td>HP%</td>\n",
      "    </tr>\n",
      "    <tr>\n",
      "      <th>2</th>\n",
      "      <td>33944</td>\n",
      "      <td>1034</td>\n",
      "      <td>1786</td>\n",
      "      <td>225</td>\n",
      "      <td>15</td>\n",
      "      <td>41</td>\n",
      "      <td>25</td>\n",
      "      <td>61</td>\n",
      "      <td>99.33</td>\n",
      "      <td>250880</td>\n",
      "      <td>102351</td>\n",
      "      <td>Despair + Energy</td>\n",
      "      <td>SPD</td>\n",
      "      <td>HP%</td>\n",
      "      <td>HP%</td>\n",
      "    </tr>\n",
      "    <tr>\n",
      "      <th>3</th>\n",
      "      <td>25681</td>\n",
      "      <td>1460</td>\n",
      "      <td>1836</td>\n",
      "      <td>211</td>\n",
      "      <td>53</td>\n",
      "      <td>58</td>\n",
      "      <td>42</td>\n",
      "      <td>67</td>\n",
      "      <td>98.78</td>\n",
      "      <td>194302</td>\n",
      "      <td>78784</td>\n",
      "      <td>Focus + Violent</td>\n",
      "      <td>SPD</td>\n",
      "      <td>DEF%</td>\n",
      "      <td>HP%</td>\n",
      "    </tr>\n",
      "    <tr>\n",
      "      <th>4</th>\n",
      "      <td>24433</td>\n",
      "      <td>1706</td>\n",
      "      <td>1305</td>\n",
      "      <td>200</td>\n",
      "      <td>21</td>\n",
      "      <td>33</td>\n",
      "      <td>62</td>\n",
      "      <td>156</td>\n",
      "      <td>98.37</td>\n",
      "      <td>139451</td>\n",
      "      <td>61333</td>\n",
      "      <td>Nemesis + Nemesis</td>\n",
      "      <td>SPD</td>\n",
      "      <td>CDmg%</td>\n",
      "      <td>HP%</td>\n",
      "    </tr>\n",
      "    <tr>\n",
      "      <th>5</th>\n",
      "      <td>26941</td>\n",
      "      <td>1157</td>\n",
      "      <td>1289</td>\n",
      "      <td>220</td>\n",
      "      <td>24</td>\n",
      "      <td>78</td>\n",
      "      <td>88</td>\n",
      "      <td>67</td>\n",
      "      <td>97.73</td>\n",
      "      <td>152257</td>\n",
      "      <td>67176</td>\n",
      "      <td>Focus + Nemesis</td>\n",
      "      <td>SPD</td>\n",
      "      <td>CRate%</td>\n",
      "      <td>HP%</td>\n",
      "    </tr>\n",
      "    <tr>\n",
      "      <th>6</th>\n",
      "      <td>25142</td>\n",
      "      <td>1692</td>\n",
      "      <td>1146</td>\n",
      "      <td>205</td>\n",
      "      <td>15</td>\n",
      "      <td>25</td>\n",
      "      <td>71</td>\n",
      "      <td>160</td>\n",
      "      <td>97.61</td>\n",
      "      <td>129506</td>\n",
      "      <td>58915</td>\n",
      "      <td>Nemesis + Violent</td>\n",
      "      <td>SPD</td>\n",
      "      <td>CDmg%</td>\n",
      "      <td>HP%</td>\n",
      "    </tr>\n",
      "    <tr>\n",
      "      <th>7</th>\n",
      "      <td>27439</td>\n",
      "      <td>1060</td>\n",
      "      <td>2018</td>\n",
      "      <td>216</td>\n",
      "      <td>46</td>\n",
      "      <td>29</td>\n",
      "      <td>69</td>\n",
      "      <td>61</td>\n",
      "      <td>97.17</td>\n",
      "      <td>225082</td>\n",
      "      <td>89421</td>\n",
      "      <td>Destroy + Swift</td>\n",
      "      <td>SPD</td>\n",
      "      <td>HP%</td>\n",
      "      <td>DEF%</td>\n",
      "    </tr>\n",
      "    <tr>\n",
      "      <th>8</th>\n",
      "      <td>26030</td>\n",
      "      <td>1530</td>\n",
      "      <td>1153</td>\n",
      "      <td>200</td>\n",
      "      <td>26</td>\n",
      "      <td>41</td>\n",
      "      <td>48</td>\n",
      "      <td>179</td>\n",
      "      <td>96.12</td>\n",
      "      <td>134718</td>\n",
      "      <td>61187</td>\n",
      "      <td>Destroy + Energy + Will</td>\n",
      "      <td>SPD</td>\n",
      "      <td>CDmg%</td>\n",
      "      <td>HP%</td>\n",
      "    </tr>\n",
      "    <tr>\n",
      "      <th>9</th>\n",
      "      <td>25618</td>\n",
      "      <td>1214</td>\n",
      "      <td>1712</td>\n",
      "      <td>245</td>\n",
      "      <td>59</td>\n",
      "      <td>46</td>\n",
      "      <td>15</td>\n",
      "      <td>68</td>\n",
      "      <td>95.70</td>\n",
      "      <td>182708</td>\n",
      "      <td>75255</td>\n",
      "      <td>Violent</td>\n",
      "      <td>SPD</td>\n",
      "      <td>DEF%</td>\n",
      "      <td>HP%</td>\n",
      "    </tr>\n",
      "  </tbody>\n",
      "</table>\n"
     ]
    }
   ],
   "source": [
    "print(df_stars6.drop(['Acquired', 'Locked', 'Rune #1', 'Rune #3', 'Rune #5', 'Level', 'Stars', 'Transmogrified', 'Skilled Up'], axis=1).reset_index(drop=True).rename(columns={'Resistance': 'Res', 'Accuracy': 'Acc'}).sort_values(['Avg Eff'], ascending=False).head(10).to_html())"
   ]
  },
  {
   "cell_type": "markdown",
   "metadata": {},
   "source": [
    "# Most common Builds"
   ]
  },
  {
   "cell_type": "code",
   "execution_count": 19,
   "metadata": {},
   "outputs": [
    {
     "name": "stdout",
     "output_type": "stream",
     "text": [
      "   Rune #2 Rune #4 Rune #6  Count\n",
      "39     SPD     HP%     HP%    253\n",
      "37     SPD     HP%    DEF%     27\n",
      "32     SPD    DEF%     HP%     25\n",
      "18     HP%     HP%     HP%     15\n",
      "27     SPD   CDmg%     HP%     11\n",
      "35     SPD     HP%    ATK%      9\n",
      "24     SPD    ATK%     HP%      7\n",
      "40     SPD     HP%     HP+      6\n"
     ]
    },
    {
     "data": {
      "image/png": "[encoded data removed]",
      "text/plain": [
       "<Figure size 720x360 with 1 Axes>"
      ]
     },
     "metadata": {},
     "output_type": "display_data"
    }
   ],
   "source": [
    "fig = plt.figure(figsize=(10, 5))\n",
    "\n",
    "builds_count = df_stars6.groupby([\"Rune #2\", \"Rune #4\", \"Rune #6\"]).size().reset_index(name='Count')\n",
    "builds_count = builds_count[builds_count['Count'] > 2].sort_values([\"Count\"], ascending=False) # single builds to drop\n",
    "print(builds_count)\n",
    "builds_count_to_plot = builds_count.set_index([\"Rune #2\", \"Rune #4\", \"Rune #6\"]).T\n",
    "\n",
    "builds_common = sns.barplot(data=builds_count_to_plot)\n",
    "_ = builds_common.set_xticklabels(builds_common.get_xticklabels(), rotation=45, horizontalalignment='right')\n",
    "plt.tick_params(labelcolor='white')\n",
    "plt.savefig(monster + \"_build_common.png\", transparent=True, bbox_inches = \"tight\")"
   ]
  },
  {
   "cell_type": "markdown",
   "metadata": {},
   "source": [
    "# Builds for most common set"
   ]
  },
  {
   "cell_type": "code",
   "execution_count": 20,
   "metadata": {},
   "outputs": [
    {
     "name": "stdout",
     "output_type": "stream",
     "text": [
      "   Rune #2 Rune #4 Rune #6  Count\n",
      "19     SPD     HP%     HP%     77\n",
      "17     SPD     HP%    DEF%      6\n",
      "8      SPD    ATK%     HP%      3\n",
      "9      SPD   CDmg%     HP%      3\n",
      "12     SPD    DEF%     HP%      3\n",
      "15     SPD     HP%    ATK%      3\n"
     ]
    },
    {
     "data": {
      "image/png": "[encoded data removed]",
      "text/plain": [
       "<Figure size 720x360 with 1 Axes>"
      ]
     },
     "metadata": {},
     "output_type": "display_data"
    }
   ],
   "source": [
    "fig = plt.figure(figsize=(10, 5))\n",
    "builds_count = df_stars6[df_stars6[\"Sets\"] == most_common_set].groupby([\"Rune #2\", \"Rune #4\", \"Rune #6\"]).size().reset_index(name='Count')\n",
    "builds_count = builds_count[builds_count['Count'] > 2].sort_values([\"Count\"], ascending=False) # single builds to drop\n",
    "print(builds_count)\n",
    "builds_count_to_plot = builds_count.set_index([\"Rune #2\", \"Rune #4\", \"Rune #6\"]).T\n",
    "\n",
    "builds_common = sns.barplot(data=builds_count_to_plot)\n",
    "ax = builds_common.set_xticklabels(builds_common.get_xticklabels(), rotation=45, horizontalalignment='right')\n",
    "builds_common.tick_params(labelcolor='white')\n",
    "plt.savefig(monster + \"_build_common_set.png\", transparent=True, bbox_inches = \"tight\")"
   ]
  },
  {
   "cell_type": "markdown",
   "metadata": {},
   "source": [
    "# Most frequent slot 2"
   ]
  },
  {
   "cell_type": "code",
   "execution_count": 21,
   "metadata": {},
   "outputs": [
    {
     "data": {
      "image/png": "[encoded data removed]",
      "text/plain": [
       "<Figure size 720x360 with 1 Axes>"
      ]
     },
     "metadata": {},
     "output_type": "display_data"
    }
   ],
   "source": [
    "fig = plt.figure(figsize=(10, 5))\n",
    "\n",
    "counts_slot2 = df_stars6[\"Rune #2\"].value_counts()\n",
    "counts_slot2 = counts_slot2[counts_slot2 > 2]\n",
    "x, y = counts_slot2.index, counts_slot2.values\n",
    "slot2 = sns.barplot(x=x, y=y)\n",
    "_ = slot2.set_xticklabels(slot2.get_xticklabels(), rotation=45, horizontalalignment='right')\n",
    "plt.tick_params(labelcolor='white')\n",
    "plt.savefig(monster + \"_slot_2.png\", transparent=True, bbox_inches = \"tight\")"
   ]
  },
  {
   "cell_type": "markdown",
   "metadata": {},
   "source": [
    "# Most frequent slot 4"
   ]
  },
  {
   "cell_type": "code",
   "execution_count": 22,
   "metadata": {},
   "outputs": [
    {
     "data": {
      "image/png": "[encoded data removed]",
      "text/plain": [
       "<Figure size 720x360 with 1 Axes>"
      ]
     },
     "metadata": {},
     "output_type": "display_data"
    }
   ],
   "source": [
    "fig = plt.figure(figsize=(10, 5))\n",
    "\n",
    "counts_slot4 = df_stars6[\"Rune #4\"].value_counts()\n",
    "counts_slot4 = counts_slot4[counts_slot4 > 2]\n",
    "x, y = counts_slot4.index, counts_slot4.values\n",
    "slot4 = sns.barplot(x=x, y=y)\n",
    "_ = slot4.set_xticklabels(slot4.get_xticklabels(), rotation=45, horizontalalignment='right')\n",
    "plt.tick_params(labelcolor='white')\n",
    "plt.savefig(monster + \"_slot_4.png\", transparent=True, bbox_inches = \"tight\")"
   ]
  },
  {
   "cell_type": "markdown",
   "metadata": {},
   "source": [
    "# Most frequent slot 6"
   ]
  },
  {
   "cell_type": "code",
   "execution_count": 23,
   "metadata": {},
   "outputs": [
    {
     "data": {
      "image/png": "[encoded data removed]",
      "text/plain": [
       "<Figure size 720x360 with 1 Axes>"
      ]
     },
     "metadata": {},
     "output_type": "display_data"
    }
   ],
   "source": [
    "fig = plt.figure(figsize=(10, 5))\n",
    "\n",
    "counts_slot6 = df_stars6[\"Rune #6\"].value_counts()\n",
    "counts_slot6 = counts_slot6[counts_slot6 > 2]\n",
    "x, y = counts_slot6.index, counts_slot6.values\n",
    "slot6 = sns.barplot(x=x, y=y)\n",
    "_ = slot6.set_xticklabels(slot6.get_xticklabels(), rotation=45, horizontalalignment='right')\n",
    "plt.tick_params(labelcolor='white')\n",
    "plt.savefig(monster + \"_slot_6.png\", transparent=True, bbox_inches = \"tight\")"
   ]
  }
 ],
 "metadata": {
  "kernelspec": {
   "display_name": "Python 3",
   "language": "python",
   "name": "python3"
  },
  "language_info": {
   "codemirror_mode": {
    "name": "ipython",
    "version": 3
   },
   "file_extension": ".py",
   "mimetype": "text/x-python",
   "name": "python",
   "nbconvert_exporter": "python",
   "pygments_lexer": "ipython3",
   "version": "3.7.3"
  }
 },
 "nbformat": 4,
 "nbformat_minor": 4
}
